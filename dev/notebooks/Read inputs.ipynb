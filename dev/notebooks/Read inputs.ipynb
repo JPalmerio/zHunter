{
 "cells": [
  {
   "cell_type": "code",
   "execution_count": 1,
   "id": "e00cd74e",
   "metadata": {},
   "outputs": [],
   "source": [
    "import zhunter.io as io\n",
    "from specutils import Spectrum1D\n",
    "from pathlib import Path\n",
    "import pandas as pd\n",
    "import numpy as np\n",
    "import astropy.units as u\n",
    "from astropy.nddata import StdDevUncertainty\n",
    "from astropy.io import fits\n",
    "from astropy.table import Table"
   ]
  },
  {
   "cell_type": "code",
   "execution_count": 2,
   "id": "352e3be9",
   "metadata": {},
   "outputs": [],
   "source": [
    "import logging\n",
    "import sys\n",
    "log = logging.getLogger(__name__)\n",
    "logging.basicConfig(stream=sys.stdout, level=logging.DEBUG,\n",
    "                    format='%(asctime)s %(levelname)s [%(name)s] %(message)s')\n",
    "logging.getLogger(\"matplotlib\").setLevel(logging.WARNING)\n",
    "logging.getLogger(\"PIL\").setLevel(logging.WARNING)"
   ]
  },
  {
   "cell_type": "code",
   "execution_count": 12,
   "id": "a03ae80b",
   "metadata": {},
   "outputs": [
    {
     "data": {
      "text/plain": [
       "[PosixPath('/Users/palmerio/Code_projects/zHunter/dev/data/test_input_files/UVES_nocolname_1D.csv.gz'),\n",
       " PosixPath('/Users/palmerio/Code_projects/zHunter/dev/data/test_input_files/XSHOOTER_bintable_1D.fits'),\n",
       " PosixPath('/Users/palmerio/Code_projects/zHunter/dev/data/test_input_files/UVES_nocolname_1D.csv'),\n",
       " PosixPath('/Users/palmerio/Code_projects/zHunter/dev/data/test_input_files/UVES_eso_archive_1D.fits.gz'),\n",
       " PosixPath('/Users/palmerio/Code_projects/zHunter/dev/data/test_input_files/XSHOOTER_esoreflex_1D.fits.gz'),\n",
       " PosixPath('/Users/palmerio/Code_projects/zHunter/dev/data/test_input_files/FORS_1D.fits'),\n",
       " PosixPath('/Users/palmerio/Code_projects/zHunter/dev/data/test_input_files/GRB050730_UVES_1D.txt.gz'),\n",
       " PosixPath('/Users/palmerio/Code_projects/zHunter/dev/data/tellurics/synth_tellurics_350_1100nm.csv.gz'),\n",
       " PosixPath('/Users/palmerio/Code_projects/zHunter/dev/data/tellurics/mk_trans_zm_50_20.dat.gz')]"
      ]
     },
     "execution_count": 12,
     "metadata": {},
     "output_type": "execute_result"
    }
   ],
   "source": [
    "TEST_FILES_DIR = Path('/Users/palmerio/Code_projects/zHunter/dev/data/test_input_files/')\n",
    "TELL_FILES_DIR = Path('/Users/palmerio/Code_projects/zHunter/dev/data/tellurics/')\n",
    "fnames_1D = [f for f in TEST_FILES_DIR.iterdir() if '1D' in f.stem] + [f for f in TELL_FILES_DIR.iterdir()]\n",
    "fnames_2D = [f for f in TEST_FILES_DIR.iterdir() if '2D' in f.stem]\n",
    "fnames_1D"
   ]
  },
  {
   "cell_type": "code",
   "execution_count": 13,
   "id": "3afc0cd1",
   "metadata": {
    "scrolled": true
   },
   "outputs": [
    {
     "name": "stdout",
     "output_type": "stream",
     "text": [
      "2023-03-07 12:01:31,840 INFO [__main__] ##################################################\n",
      "2023-03-07 12:01:31,841 INFO [__main__] Reading file UVES_nocolname_1D.csv.gz\n",
      "2023-03-07 12:01:31,842 INFO [__main__] ##################################################\n",
      "2023-03-07 12:01:32,316 WARNING [astropy] VerifyWarning: Error validating header for HDU #0 (note: Astropy uses zero-based indexing).\n",
      "    Header size is not multiple of 2880: 8892831\n",
      "There may be extra bytes after the last HDU or the file is corrupted.\n",
      "2023-03-07 12:01:32,318 DEBUG [zhunter.io] Attempting to read file: /Users/palmerio/Code_projects/zHunter/dev/data/test_input_files/UVES_nocolname_1D.csv.gz\n",
      "2023-03-07 12:01:32,319 DEBUG [zhunter.io] Reading with pandas read_csv function\n",
      "2023-03-07 12:01:32,502 DEBUG [zhunter.io] Found the following columns: ['3045.9663085938', '137.3661800257', '70.5860344038']\n",
      "2023-03-07 12:01:32,503 DEBUG [zhunter.io] Did not find any name matching ['WAVE', 'AWAV', 'WVLG', 'LAM'] in ['3045.9663085938', '137.3661800257', '70.5860344038']\n",
      "2023-03-07 12:01:32,503 DEBUG [zhunter.io] Did not find any name matching ['FLUX'] in ['3045.9663085938', '137.3661800257', '70.5860344038']\n",
      "2023-03-07 12:01:32,504 DEBUG [zhunter.io] Did not find any name matching ['ERR', 'NOISE', 'SIGMA', 'UNC'] in ['3045.9663085938', '137.3661800257', '70.5860344038']\n",
      "2023-03-07 12:01:32,504 INFO [zhunter.io] Could not find any reasonable column names for file /Users/palmerio/Code_projects/zHunter/dev/data/test_input_files/UVES_nocolname_1D.csv.gz. Trying to extract data assuming default format wave, flux, uncertainty.\n"
     ]
    },
    {
     "name": "stderr",
     "output_type": "stream",
     "text": [
      "WARNING: VerifyWarning: Error validating header for HDU #0 (note: Astropy uses zero-based indexing).\n",
      "    Header size is not multiple of 2880: 8892831\n",
      "There may be extra bytes after the last HDU or the file is corrupted. [astropy.io.fits.hdu.hdulist]\n"
     ]
    },
    {
     "name": "stdout",
     "output_type": "stream",
     "text": [
      "2023-03-07 12:01:32,697 DEBUG [zhunter.io] No unit could be parsed from column name 'wave'\n",
      "2023-03-07 12:01:32,697 DEBUG [zhunter.io] No unit could be parsed from column name 'flux'\n",
      "2023-03-07 12:01:32,698 INFO [zhunter.io] No units specified for wave, assuming Angstrom.\n",
      "2023-03-07 12:01:32,699 INFO [zhunter.io] No units specified for flux, assuming ADU.\n",
      "2023-03-07 12:01:32,711 INFO [__main__] ##################################################\n",
      "2023-03-07 12:01:32,711 INFO [__main__] Reading file XSHOOTER_bintable_1D.fits\n",
      "2023-03-07 12:01:32,712 INFO [__main__] ##################################################\n",
      "Filename: /Users/palmerio/Code_projects/zHunter/dev/data/test_input_files/XSHOOTER_bintable_1D.fits\n",
      "No.    Name      Ver    Type      Cards   Dimensions   Format\n",
      "  0  PRIMARY       1 PrimaryHDU       4   ()      \n",
      "  1                1 BinTableHDU     14   24318R x 3C   [D, D, D]   \n",
      "2023-03-07 12:01:32,717 DEBUG [zhunter.io] Attempting to read file: /Users/palmerio/Code_projects/zHunter/dev/data/test_input_files/XSHOOTER_bintable_1D.fits\n",
      "2023-03-07 12:01:32,719 INFO [zhunter.io] Data is not in PRIMARY HDU, searching for binary tables...\n",
      "2023-03-07 12:01:32,752 DEBUG [zhunter.io] Found the following columns: ['wave', 'flux', 'err'] in HDU: \n",
      "2023-03-07 12:01:32,753 DEBUG [zhunter.io] Found HDU:  which contains a binary table with wave and flux keys: wave, flux\n",
      "2023-03-07 12:01:32,759 INFO [__main__] ##################################################\n",
      "2023-03-07 12:01:32,759 INFO [__main__] Reading file UVES_nocolname_1D.csv\n",
      "2023-03-07 12:01:32,760 INFO [__main__] ##################################################\n",
      "2023-03-07 12:01:32,762 DEBUG [zhunter.io] Attempting to read file: /Users/palmerio/Code_projects/zHunter/dev/data/test_input_files/UVES_nocolname_1D.csv\n",
      "2023-03-07 12:01:32,763 DEBUG [zhunter.io] Reading with pandas read_csv function\n",
      "2023-03-07 12:01:32,879 DEBUG [zhunter.io] Found the following columns: ['3045.9663085938', '137.3661800257', '70.5860344038']\n",
      "2023-03-07 12:01:32,880 DEBUG [zhunter.io] Did not find any name matching ['WAVE', 'AWAV', 'WVLG', 'LAM'] in ['3045.9663085938', '137.3661800257', '70.5860344038']\n",
      "2023-03-07 12:01:32,881 DEBUG [zhunter.io] Did not find any name matching ['FLUX'] in ['3045.9663085938', '137.3661800257', '70.5860344038']\n",
      "2023-03-07 12:01:32,881 DEBUG [zhunter.io] Did not find any name matching ['ERR', 'NOISE', 'SIGMA', 'UNC'] in ['3045.9663085938', '137.3661800257', '70.5860344038']\n",
      "2023-03-07 12:01:32,882 INFO [zhunter.io] Could not find any reasonable column names for file /Users/palmerio/Code_projects/zHunter/dev/data/test_input_files/UVES_nocolname_1D.csv. Trying to extract data assuming default format wave, flux, uncertainty.\n",
      "2023-03-07 12:01:32,989 DEBUG [zhunter.io] No unit could be parsed from column name 'wave'\n",
      "2023-03-07 12:01:32,990 DEBUG [zhunter.io] No unit could be parsed from column name 'flux'\n",
      "2023-03-07 12:01:32,991 INFO [zhunter.io] No units specified for wave, assuming Angstrom.\n",
      "2023-03-07 12:01:32,992 INFO [zhunter.io] No units specified for flux, assuming ADU.\n",
      "2023-03-07 12:01:33,004 INFO [__main__] ##################################################\n",
      "2023-03-07 12:01:33,005 INFO [__main__] Reading file UVES_eso_archive_1D.fits.gz\n",
      "2023-03-07 12:01:33,006 INFO [__main__] ##################################################\n",
      "Filename: /Users/palmerio/Code_projects/zHunter/dev/data/test_input_files/UVES_eso_archive_1D.fits.gz\n",
      "No.    Name      Ver    Type      Cards   Dimensions   Format\n",
      "  0  PRIMARY       1 PrimaryHDU     949   ()      \n",
      "  1  SPECTRUM      1 BinTableHDU     71   1R x 6C   [81811D, 81811E, 81811E, 81811E, 81811E, 81811E]   \n",
      "2023-03-07 12:01:33,035 DEBUG [zhunter.io] Attempting to read file: /Users/palmerio/Code_projects/zHunter/dev/data/test_input_files/UVES_eso_archive_1D.fits.gz\n",
      "2023-03-07 12:01:33,043 INFO [zhunter.io] Data is not in PRIMARY HDU, searching for binary tables...\n",
      "2023-03-07 12:01:33,088 DEBUG [zhunter.io] Found the following columns: ['WAVE', 'FLUX_REDUCED', 'ERR_REDUCED', 'BGFLUX_REDUCED', 'FLUX', 'ERR'] in HDU: SPECTRUM\n",
      "2023-03-07 12:01:33,089 WARNING [zhunter.io] More than one column name: ['FLUX_REDUCED', 'BGFLUX_REDUCED', 'FLUX'] matched the possible names: ['FLUX']. Using shortest name: FLUX\n",
      "2023-03-07 12:01:33,090 WARNING [zhunter.io] More than one column name: ['ERR_REDUCED', 'ERR'] matched the possible names: ['ERR', 'NOISE', 'SIGMA', 'UNC']. Using shortest name: ERR\n",
      "2023-03-07 12:01:33,092 DEBUG [zhunter.io] Found HDU: SPECTRUM which contains a binary table with wave and flux keys: WAVE, FLUX\n",
      "2023-03-07 12:01:33,100 INFO [__main__] ##################################################\n",
      "2023-03-07 12:01:33,101 INFO [__main__] Reading file XSHOOTER_esoreflex_1D.fits.gz\n",
      "2023-03-07 12:01:33,101 INFO [__main__] ##################################################\n",
      "Filename: /Users/palmerio/Code_projects/zHunter/dev/data/test_input_files/XSHOOTER_esoreflex_1D.fits.gz\n",
      "No.    Name      Ver    Type      Cards   Dimensions   Format\n",
      "  0  FLUX          1 PrimaryHDU     523   (12854,)   float32   \n",
      "  1  ERRS          1 ImageHDU        23   (12854,)   float32   \n",
      "  2  QUAL          1 ImageHDU        23   (12854,)   int32   \n",
      "2023-03-07 12:01:33,115 DEBUG [zhunter.io] Attempting to read file: /Users/palmerio/Code_projects/zHunter/dev/data/test_input_files/XSHOOTER_esoreflex_1D.fits.gz\n",
      "2023-03-07 12:01:33,124 DEBUG [zhunter.io] Using BUNIT: erg/s/cm2/Angstrom for flux units\n",
      "2023-03-07 12:01:33,127 WARNING [astropy] UnitsWarning: 'erg/s/cm2/Angstrom' contains multiple slashes, which is discouraged by the FITS standard\n",
      "2023-03-07 12:01:33,128 DEBUG [zhunter.io] Using the FITS CDELT value.\n",
      "2023-03-07 12:01:33,129 DEBUG [zhunter.io] PIX=1.0 VAL=298.92 DELT=0.02\n",
      "2023-03-07 12:01:33,138 INFO [__main__] ##################################################\n",
      "2023-03-07 12:01:33,139 INFO [__main__] Reading file FORS_1D.fits\n",
      "2023-03-07 12:01:33,139 INFO [__main__] ##################################################\n",
      "Filename: /Users/palmerio/Code_projects/zHunter/dev/data/test_input_files/FORS_1D.fits\n",
      "No.    Name      Ver    Type      Cards   Dimensions   Format\n",
      "  0  PRIMARY       1 PrimaryHDU     251   (2048,)   float32   \n",
      "2023-03-07 12:01:33,144 DEBUG [zhunter.io] Attempting to read file: /Users/palmerio/Code_projects/zHunter/dev/data/test_input_files/FORS_1D.fits\n",
      "2023-03-07 12:01:33,170 DEBUG [zhunter.io] Using BUNIT: erg/cm2/s/A for flux units\n",
      "2023-03-07 12:01:33,173 WARNING [astropy] UnitsWarning: 'erg/cm2/s/A' contains multiple slashes, which is discouraged by the FITS standard\n",
      "2023-03-07 12:01:33,174 INFO [zhunter.io] No unit found in header for wavelength (axis 1), assuming Angstrom\n",
      "2023-03-07 12:01:33,175 DEBUG [zhunter.io] Using the FITS CD matrix.\n",
      "2023-03-07 12:01:33,176 DEBUG [zhunter.io] PIX=1.0 VAL=2998.5678710938 DELT=3.2480805084422\n",
      "2023-03-07 12:01:33,180 INFO [__main__] ##################################################\n",
      "2023-03-07 12:01:33,181 INFO [__main__] Reading file GRB050730_UVES_1D.txt.gz\n",
      "2023-03-07 12:01:33,182 INFO [__main__] ##################################################\n"
     ]
    },
    {
     "name": "stderr",
     "output_type": "stream",
     "text": [
      "WARNING: UnitsWarning: 'erg/s/cm2/Angstrom' contains multiple slashes, which is discouraged by the FITS standard [astropy.units.format.generic]\n",
      "WARNING: UnitsWarning: 'erg/cm2/s/A' contains multiple slashes, which is discouraged by the FITS standard [astropy.units.format.generic]\n"
     ]
    },
    {
     "name": "stdout",
     "output_type": "stream",
     "text": [
      "2023-03-07 12:01:33,346 WARNING [astropy] VerifyWarning: Error validating header for HDU #0 (note: Astropy uses zero-based indexing).\n",
      "    Header size is not multiple of 2880: 3210335\n",
      "There may be extra bytes after the last HDU or the file is corrupted.\n",
      "2023-03-07 12:01:33,348 DEBUG [zhunter.io] Attempting to read file: /Users/palmerio/Code_projects/zHunter/dev/data/test_input_files/GRB050730_UVES_1D.txt.gz\n",
      "2023-03-07 12:01:33,348 DEBUG [zhunter.io] Reading with pandas read_csv function\n",
      "2023-03-07 12:01:33,424 DEBUG [zhunter.io] Found the following columns: ['6650.32321600311', '0.0', '0.0020367487']\n",
      "2023-03-07 12:01:33,425 DEBUG [zhunter.io] Did not find any name matching ['WAVE', 'AWAV', 'WVLG', 'LAM'] in ['6650.32321600311', '0.0', '0.0020367487']\n",
      "2023-03-07 12:01:33,425 DEBUG [zhunter.io] Did not find any name matching ['FLUX'] in ['6650.32321600311', '0.0', '0.0020367487']\n",
      "2023-03-07 12:01:33,426 DEBUG [zhunter.io] Did not find any name matching ['ERR', 'NOISE', 'SIGMA', 'UNC'] in ['6650.32321600311', '0.0', '0.0020367487']\n",
      "2023-03-07 12:01:33,427 INFO [zhunter.io] Could not find any reasonable column names for file /Users/palmerio/Code_projects/zHunter/dev/data/test_input_files/GRB050730_UVES_1D.txt.gz. Trying to extract data assuming default format wave, flux, uncertainty.\n",
      "2023-03-07 12:01:33,503 DEBUG [zhunter.io] No unit could be parsed from column name 'wave'\n",
      "2023-03-07 12:01:33,504 DEBUG [zhunter.io] No unit could be parsed from column name 'flux'\n",
      "2023-03-07 12:01:33,505 INFO [zhunter.io] No units specified for wave, assuming Angstrom.\n",
      "2023-03-07 12:01:33,506 INFO [zhunter.io] No units specified for flux, assuming ADU.\n",
      "2023-03-07 12:01:33,511 INFO [__main__] ##################################################\n",
      "2023-03-07 12:01:33,512 INFO [__main__] Reading file synth_tellurics_350_1100nm.csv.gz\n",
      "2023-03-07 12:01:33,512 INFO [__main__] ##################################################\n"
     ]
    },
    {
     "name": "stderr",
     "output_type": "stream",
     "text": [
      "WARNING: VerifyWarning: Error validating header for HDU #0 (note: Astropy uses zero-based indexing).\n",
      "    Header size is not multiple of 2880: 3210335\n",
      "There may be extra bytes after the last HDU or the file is corrupted. [astropy.io.fits.hdu.hdulist]\n"
     ]
    },
    {
     "name": "stdout",
     "output_type": "stream",
     "text": [
      "2023-03-07 12:01:34,528 WARNING [astropy] VerifyWarning: Error validating header for HDU #0 (note: Astropy uses zero-based indexing).\n",
      "    Header size is not multiple of 2880: 19504975\n",
      "There may be extra bytes after the last HDU or the file is corrupted.\n",
      "2023-03-07 12:01:34,530 DEBUG [zhunter.io] Attempting to read file: /Users/palmerio/Code_projects/zHunter/dev/data/tellurics/synth_tellurics_350_1100nm.csv.gz\n",
      "2023-03-07 12:01:34,531 DEBUG [zhunter.io] Reading with pandas read_csv function\n"
     ]
    },
    {
     "name": "stderr",
     "output_type": "stream",
     "text": [
      "WARNING: VerifyWarning: Error validating header for HDU #0 (note: Astropy uses zero-based indexing).\n",
      "    Header size is not multiple of 2880: 19504975\n",
      "There may be extra bytes after the last HDU or the file is corrupted. [astropy.io.fits.hdu.hdulist]\n"
     ]
    },
    {
     "name": "stdout",
     "output_type": "stream",
     "text": [
      "2023-03-07 12:01:34,853 DEBUG [zhunter.io] Found the following columns: ['wave(AA)', 'flux_norm']\n",
      "2023-03-07 12:01:34,854 DEBUG [zhunter.io] Did not find any name matching ['ERR', 'NOISE', 'SIGMA', 'UNC'] in ['wave(AA)', 'flux_norm']\n",
      "2023-03-07 12:01:34,855 DEBUG [zhunter.io] Parsed unit AA from column name 'wave(AA)'\n",
      "2023-03-07 12:01:34,856 DEBUG [zhunter.io] No unit could be parsed from column name 'flux_norm'\n",
      "2023-03-07 12:01:34,857 INFO [zhunter.io] No units specified for flux, assuming ADU.\n",
      "2023-03-07 12:01:34,886 WARNING [zhunter.io] No error/uncertainty found in file /Users/palmerio/Code_projects/zHunter/dev/data/tellurics/synth_tellurics_350_1100nm.csv.gz.\n",
      "2023-03-07 12:01:34,888 INFO [__main__] ##################################################\n",
      "2023-03-07 12:01:34,889 INFO [__main__] Reading file mk_trans_zm_50_20.dat.gz\n",
      "2023-03-07 12:01:34,890 INFO [__main__] ##################################################\n",
      "2023-03-07 12:01:35,169 WARNING [astropy] VerifyWarning: Error validating header for HDU #0 (note: Astropy uses zero-based indexing).\n",
      "    Header size is not multiple of 2880: 5157328\n",
      "There may be extra bytes after the last HDU or the file is corrupted.\n",
      "2023-03-07 12:01:35,171 DEBUG [zhunter.io] Attempting to read file: /Users/palmerio/Code_projects/zHunter/dev/data/tellurics/mk_trans_zm_50_20.dat.gz\n",
      "2023-03-07 12:01:35,172 DEBUG [zhunter.io] Reading with pandas read_csv function\n",
      "2023-03-07 12:01:35,334 DEBUG [zhunter.io] Could not read file with ',' separator\n"
     ]
    },
    {
     "name": "stderr",
     "output_type": "stream",
     "text": [
      "WARNING: VerifyWarning: Error validating header for HDU #0 (note: Astropy uses zero-based indexing).\n",
      "    Header size is not multiple of 2880: 5157328\n",
      "There may be extra bytes after the last HDU or the file is corrupted. [astropy.io.fits.hdu.hdulist]\n"
     ]
    },
    {
     "name": "stdout",
     "output_type": "stream",
     "text": [
      "2023-03-07 12:01:35,430 DEBUG [zhunter.io] Found the following columns: ['.900000', '0.993189']\n",
      "2023-03-07 12:01:35,431 DEBUG [zhunter.io] Did not find any name matching ['WAVE', 'AWAV', 'WVLG', 'LAM'] in ['.900000', '0.993189']\n",
      "2023-03-07 12:01:35,431 DEBUG [zhunter.io] Did not find any name matching ['FLUX'] in ['.900000', '0.993189']\n",
      "2023-03-07 12:01:35,432 DEBUG [zhunter.io] Did not find any name matching ['ERR', 'NOISE', 'SIGMA', 'UNC'] in ['.900000', '0.993189']\n",
      "2023-03-07 12:01:35,432 INFO [zhunter.io] Could not find any reasonable column names for file /Users/palmerio/Code_projects/zHunter/dev/data/tellurics/mk_trans_zm_50_20.dat.gz. Trying to extract data assuming default format wave, flux, uncertainty.\n",
      "2023-03-07 12:01:35,546 DEBUG [zhunter.io] No unit could be parsed from column name 'wave'\n",
      "2023-03-07 12:01:35,547 DEBUG [zhunter.io] No unit could be parsed from column name 'flux'\n",
      "2023-03-07 12:01:35,551 INFO [zhunter.io] No units specified for wave, assuming Angstrom.\n",
      "2023-03-07 12:01:35,552 INFO [zhunter.io] No units specified for flux, assuming ADU.\n",
      "2023-03-07 12:01:35,559 WARNING [zhunter.io] No error/uncertainty found in file /Users/palmerio/Code_projects/zHunter/dev/data/tellurics/mk_trans_zm_50_20.dat.gz.\n"
     ]
    }
   ],
   "source": [
    "for f in fnames_1D:\n",
    "    log.info(50*\"#\")\n",
    "    log.info(f\"Reading file {f.name}\")\n",
    "    log.info(50*\"#\")\n",
    "    try:\n",
    "        fits.open(f).info()\n",
    "    except:\n",
    "        pass\n",
    "    x = io.read_1D_spectrum(f)"
   ]
  },
  {
   "cell_type": "code",
   "execution_count": 11,
   "id": "a6d200b0",
   "metadata": {},
   "outputs": [
    {
     "name": "stdout",
     "output_type": "stream",
     "text": [
      "2023-03-07 11:57:35,061 INFO [__main__] ##################################################\n",
      "2023-03-07 11:57:35,062 INFO [__main__] Reading file XSHOOTER_esoreflex_2D.fits.gz\n",
      "2023-03-07 11:57:35,063 INFO [__main__] ##################################################\n",
      "Filename: /Users/palmerio/Code_projects/zHunter/dev/data/test_input_files/XSHOOTER_esoreflex_2D.fits.gz\n",
      "No.    Name      Ver    Type      Cards   Dimensions   Format\n",
      "  0  FLUX          1 PrimaryHDU     627   (24318, 101)   float64   \n",
      "  1  ERRS          1 ImageHDU        31   (24318, 101)   float64   \n",
      "  2  QUAL          1 ImageHDU        30   (24318, 101)   int64   \n",
      "2023-03-07 11:57:35,317 DEBUG [zhunter.io] Attempting to read file: /Users/palmerio/Code_projects/zHunter/dev/data/test_input_files/XSHOOTER_esoreflex_2D.fits.gz\n",
      "2023-03-07 11:57:36,046 WARNING [astropy] UnitsWarning: 'erg/s/cm2/Angstrom' contains multiple slashes, which is discouraged by the FITS standard\n",
      "2023-03-07 11:57:36,060 DEBUG [zhunter.io] Using the FITS CD matrix.\n",
      "2023-03-07 11:57:36,061 DEBUG [zhunter.io] PIX=1.0 VAL=-10.58000019073486 DELT=0.159999847412109\n",
      "2023-03-07 11:57:36,062 DEBUG [zhunter.io] Using the FITS CD matrix.\n",
      "2023-03-07 11:57:36,063 DEBUG [zhunter.io] PIX=1.0 VAL=533.66 DELT=0.0199999999999818\n",
      "2023-03-07 11:57:36,071 INFO [__main__] ##################################################\n",
      "2023-03-07 11:57:36,072 INFO [__main__] Reading file XSHOOTER_esoreflex_2D.fits\n",
      "2023-03-07 11:57:36,073 INFO [__main__] ##################################################\n",
      "Filename: /Users/palmerio/Code_projects/zHunter/dev/data/test_input_files/XSHOOTER_esoreflex_2D.fits\n",
      "No.    Name      Ver    Type      Cards   Dimensions   Format\n",
      "  0  FLUX          1 PrimaryHDU     627   (24318, 101)   float64   \n",
      "  1  ERRS          1 ImageHDU        31   (24318, 101)   float64   \n",
      "  2  QUAL          1 ImageHDU        30   (24318, 101)   int64   \n",
      "2023-03-07 11:57:36,084 DEBUG [zhunter.io] Attempting to read file: /Users/palmerio/Code_projects/zHunter/dev/data/test_input_files/XSHOOTER_esoreflex_2D.fits\n",
      "2023-03-07 11:57:36,245 DEBUG [zhunter.io] Using the FITS CD matrix.\n",
      "2023-03-07 11:57:36,246 DEBUG [zhunter.io] PIX=1.0 VAL=-10.58000019073486 DELT=0.159999847412109\n"
     ]
    },
    {
     "name": "stderr",
     "output_type": "stream",
     "text": [
      "WARNING: UnitsWarning: 'erg/s/cm2/Angstrom' contains multiple slashes, which is discouraged by the FITS standard [astropy.units.format.generic]\n"
     ]
    },
    {
     "name": "stdout",
     "output_type": "stream",
     "text": [
      "2023-03-07 11:57:36,246 DEBUG [zhunter.io] Using the FITS CD matrix.\n",
      "2023-03-07 11:57:36,247 DEBUG [zhunter.io] PIX=1.0 VAL=533.66 DELT=0.0199999999999818\n"
     ]
    }
   ],
   "source": [
    "for f in fnames_2D:\n",
    "    log.info(50*\"#\")\n",
    "    log.info(f\"Reading file {f.name}\")\n",
    "    log.info(50*\"#\")\n",
    "    try:\n",
    "        fits.open(f).info()\n",
    "    except:\n",
    "        pass\n",
    "    io.read_fits_2D_spectrum(f)"
   ]
  },
  {
   "cell_type": "code",
   "execution_count": 6,
   "id": "5e2d79ae",
   "metadata": {},
   "outputs": [
    {
     "name": "stdout",
     "output_type": "stream",
     "text": [
      "2023-02-22 16:08:45,858 DEBUG [zhunter.io] Did not find any name matching ['ERR', 'NOISE', 'SIGMA', 'UNC'] in ['wave(AA)', 'flux_norm']\n",
      "2023-02-22 16:08:45,858 DEBUG [zhunter.io] Parsed unit AA from column name 'wave(AA)'\n",
      "2023-02-22 16:08:45,859 DEBUG [zhunter.io] No unit could be parsed from column name 'flux_norm'\n",
      "2023-02-22 16:08:45,860 INFO [zhunter.io] No units specified for flux, assuming pixels.\n",
      "2023-02-22 16:08:45,865 WARNING [zhunter.io] No error/uncertainty found in file /Users/palmerio/Code_projects/zHunter/src/zhunter/data/sky_background/sky_bkg_norm_nir_9000_23000.csv.gz.\n"
     ]
    },
    {
     "data": {
      "text/plain": [
       "<Spectrum1D(flux=<Quantity [1.03266118, 1.05143248, 1.06894035, ..., 1.        , 1.        ,\n",
       "           1.        ] pix>, spectral_axis=<SpectralAxis [ 9000. ,  9000.2,  9000.4, ..., 22999.4, 22999.6, 22999.8] Angstrom>)>"
      ]
     },
     "execution_count": 6,
     "metadata": {},
     "output_type": "execute_result"
    }
   ],
   "source": [
    "fname = '/Users/palmerio/Code_projects/zHunter/src/zhunter/data/tellurics/synth_tellurics_350_1100nm.csv.gz'\n",
    "fname_sky_bkg = Path('/Users/palmerio/Code_projects/zHunter/src/zhunter/data/sky_background/sky_bkg_norm_nir_9000_23000.csv.gz')\n",
    "\n",
    "df = io.read_generic_1D_spectrum(fname_sky_bkg)\n",
    "df"
   ]
  },
  {
   "cell_type": "code",
   "execution_count": 5,
   "id": "77a41021",
   "metadata": {},
   "outputs": [
    {
     "name": "stdout",
     "output_type": "stream",
     "text": [
      "2023-02-22 17:25:37,679 INFO [zhunter.io] Data is not in PRIMARY HDU, searching for binary tables...\n"
     ]
    },
    {
     "ename": "Exception",
     "evalue": "Unknown FITS file format",
     "output_type": "error",
     "traceback": [
      "\u001b[0;31m---------------------------------------------------------------------------\u001b[0m",
      "\u001b[0;31mException\u001b[0m                                 Traceback (most recent call last)",
      "Cell \u001b[0;32mIn[5], line 3\u001b[0m\n\u001b[1;32m      1\u001b[0m fname \u001b[38;5;241m=\u001b[39m \u001b[38;5;124m'\u001b[39m\u001b[38;5;124m/Users/palmerio/Code_projects/zHunter/src/zhunter/example_data/MISTRAL_YSO_Spectre_20210906_222456UT_reduced_science_0.fits\u001b[39m\u001b[38;5;124m'\u001b[39m\n\u001b[0;32m----> 3\u001b[0m aa \u001b[38;5;241m=\u001b[39m \u001b[43mio\u001b[49m\u001b[38;5;241;43m.\u001b[39;49m\u001b[43mread_fits_1D_spectrum\u001b[49m\u001b[43m(\u001b[49m\u001b[43mfname\u001b[49m\u001b[43m)\u001b[49m\n",
      "File \u001b[0;32m~/Code_projects/zHunter/src/zhunter/io.py:412\u001b[0m, in \u001b[0;36mread_fits_1D_spectrum\u001b[0;34m(fname)\u001b[0m\n\u001b[1;32m    408\u001b[0m     \u001b[38;5;28;01mreturn\u001b[39;00m spectrum\n\u001b[1;32m    409\u001b[0m \u001b[38;5;28;01melse\u001b[39;00m:\n\u001b[1;32m    410\u001b[0m     \u001b[38;5;66;03m# If didn't return a spectrum with Primary\u001b[39;00m\n\u001b[1;32m    411\u001b[0m     \u001b[38;5;66;03m# Or didn't find any binary table with the right columns\u001b[39;00m\n\u001b[0;32m--> 412\u001b[0m     \u001b[38;5;28;01mraise\u001b[39;00m \u001b[38;5;167;01mException\u001b[39;00m(\u001b[38;5;124m\"\u001b[39m\u001b[38;5;124mUnknown FITS file format\u001b[39m\u001b[38;5;124m\"\u001b[39m)\n",
      "\u001b[0;31mException\u001b[0m: Unknown FITS file format"
     ]
    }
   ],
   "source": [
    "fname = '/Users/palmerio/Code_projects/zHunter/src/zhunter/example_data/MISTRAL_YSO_Spectre_20210906_222456UT_reduced_science_0.fits'\n",
    "\n",
    "aa = io.read_fits_1D_spectrum(fname)"
   ]
  },
  {
   "cell_type": "code",
   "execution_count": 4,
   "id": "73d4c8f2",
   "metadata": {},
   "outputs": [
    {
     "name": "stdout",
     "output_type": "stream",
     "text": [
      "Filename: /Users/palmerio/Code_projects/zHunter/src/zhunter/example_data/MISTRAL_YSO_Spectre_20210906_222456UT_reduced_science_0.fits\n",
      "No.    Name      Ver    Type      Cards   Dimensions   Format\n",
      "  0  PRIMARY       1 PrimaryHDU       4   ()      \n",
      "  1                1 ImageHDU       124   (2000,)   float64   \n",
      "  2                1 ImageHDU       124   (2000,)   float64   \n",
      "  3                1 ImageHDU       124   (2000,)   float64   \n",
      "  4                1 ImageHDU       320   (2000,)   float64   \n",
      "  5                1 ImageHDU       320   (2000,)   float64   \n",
      "  6                1 ImageHDU       320   (2000,)   float64   \n"
     ]
    }
   ],
   "source": [
    "hdul = fits.open(fname)\n",
    "hdul.info()"
   ]
  },
  {
   "cell_type": "code",
   "execution_count": 125,
   "id": "12ba7977",
   "metadata": {
    "scrolled": true
   },
   "outputs": [
    {
     "data": {
      "text/html": [
       "<div><i>Table length=49</i>\n",
       "<table id=\"table6422424496\" class=\"table-striped table-bordered table-condensed\">\n",
       "<thead><tr><th>name</th><th>wave</th><th>freq</th></tr></thead>\n",
       "<thead><tr><th>str10</th><th>float64</th><th>str2</th></tr></thead>\n",
       "<tr><td>SiII_1197*</td><td>1197.3938</td><td>-</td></tr>\n",
       "<tr><td>SiII_1194*</td><td>1194.5002</td><td>-</td></tr>\n",
       "<tr><td>SiII_1309*</td><td>1309.2757</td><td>7</td></tr>\n",
       "<tr><td>SiII_1533*</td><td>1533.4316</td><td>12</td></tr>\n",
       "<tr><td>SiII_1264*</td><td>1264.7377</td><td>-</td></tr>\n",
       "<tr><td>SiII_1265*</td><td>1265.02</td><td>-</td></tr>\n",
       "<tr><td>SiII_1817*</td><td>1816.9</td><td>2</td></tr>\n",
       "<tr><td>SiII_1818*</td><td>1817.5</td><td>2</td></tr>\n",
       "<tr><td>OI_1305*</td><td>1304.8576</td><td>1</td></tr>\n",
       "<tr><td>OI_1306*</td><td>1306.0286</td><td>1</td></tr>\n",
       "<tr><td>CII_1335*</td><td>1335.7077</td><td>9</td></tr>\n",
       "<tr><td>NiII_2166*</td><td>2166.2</td><td>6</td></tr>\n",
       "<tr><td>NiII_2170*</td><td>2169.8</td><td>2</td></tr>\n",
       "<tr><td>NiII_2175*</td><td>2175.4</td><td>2</td></tr>\n",
       "<tr><td>NiII_2217*</td><td>2217.2</td><td>4</td></tr>\n",
       "<tr><td>NiII_2317*</td><td>2316.7</td><td>4</td></tr>\n",
       "<tr><td>FeII_1613*</td><td>1612.8</td><td>3</td></tr>\n",
       "<tr><td>FeII_1619*</td><td>1618.5</td><td>3</td></tr>\n",
       "<tr><td>FeII_1622*</td><td>1621.7</td><td>3</td></tr>\n",
       "<tr><td>...</td><td>...</td><td>...</td></tr>\n",
       "<tr><td>FeII_2366*</td><td>2365.6</td><td>4</td></tr>\n",
       "<tr><td>FeII_2382*</td><td>2381.5</td><td>4</td></tr>\n",
       "<tr><td>FeII_2384*</td><td>2383.8</td><td>4</td></tr>\n",
       "<tr><td>FeII_2389*</td><td>2389.35664</td><td>3</td></tr>\n",
       "<tr><td>FeII_2396*</td><td>2396.35462</td><td>7</td></tr>\n",
       "<tr><td>FeII_2400*</td><td>2400.0</td><td>4</td></tr>\n",
       "<tr><td>FeII_2406*</td><td>2405.6</td><td>8</td></tr>\n",
       "<tr><td>FeII_2407*</td><td>2407.4</td><td>3</td></tr>\n",
       "<tr><td>FeII_2411*</td><td>2411.3</td><td>7</td></tr>\n",
       "<tr><td>FeII_2412*</td><td>2411.8</td><td>3</td></tr>\n",
       "<tr><td>FeII_2414*</td><td>2414.1</td><td>3</td></tr>\n",
       "<tr><td>FeII_2608*</td><td>2607.9</td><td>4</td></tr>\n",
       "<tr><td>FeII_2613*</td><td>2612.7</td><td>5</td></tr>\n",
       "<tr><td>FeII_2615*</td><td>2614.6</td><td>2</td></tr>\n",
       "<tr><td>FeII_2618*</td><td>2618.4</td><td>2</td></tr>\n",
       "<tr><td>FeII_2623*</td><td>2622.5</td><td>3</td></tr>\n",
       "<tr><td>FeII_2627*</td><td>2626.5</td><td>3</td></tr>\n",
       "<tr><td>FeII_2629*</td><td>2629.1</td><td>2</td></tr>\n",
       "<tr><td>FeII_2632*</td><td>2631.9</td><td>1</td></tr>\n",
       "</table></div>"
      ],
      "text/plain": [
       "<Table length=49>\n",
       "   name       wave    freq\n",
       "  str10     float64   str2\n",
       "---------- ---------- ----\n",
       "SiII_1197*  1197.3938    -\n",
       "SiII_1194*  1194.5002    -\n",
       "SiII_1309*  1309.2757    7\n",
       "SiII_1533*  1533.4316   12\n",
       "SiII_1264*  1264.7377    -\n",
       "SiII_1265*    1265.02    -\n",
       "SiII_1817*     1816.9    2\n",
       "SiII_1818*     1817.5    2\n",
       "  OI_1305*  1304.8576    1\n",
       "  OI_1306*  1306.0286    1\n",
       " CII_1335*  1335.7077    9\n",
       "NiII_2166*     2166.2    6\n",
       "NiII_2170*     2169.8    2\n",
       "NiII_2175*     2175.4    2\n",
       "NiII_2217*     2217.2    4\n",
       "NiII_2317*     2316.7    4\n",
       "FeII_1613*     1612.8    3\n",
       "FeII_1619*     1618.5    3\n",
       "FeII_1622*     1621.7    3\n",
       "       ...        ...  ...\n",
       "FeII_2366*     2365.6    4\n",
       "FeII_2382*     2381.5    4\n",
       "FeII_2384*     2383.8    4\n",
       "FeII_2389* 2389.35664    3\n",
       "FeII_2396* 2396.35462    7\n",
       "FeII_2400*     2400.0    4\n",
       "FeII_2406*     2405.6    8\n",
       "FeII_2407*     2407.4    3\n",
       "FeII_2411*     2411.3    7\n",
       "FeII_2412*     2411.8    3\n",
       "FeII_2414*     2414.1    3\n",
       "FeII_2608*     2607.9    4\n",
       "FeII_2613*     2612.7    5\n",
       "FeII_2615*     2614.6    2\n",
       "FeII_2618*     2618.4    2\n",
       "FeII_2623*     2622.5    3\n",
       "FeII_2627*     2626.5    3\n",
       "FeII_2629*     2629.1    2\n",
       "FeII_2632*     2631.9    1"
      ]
     },
     "execution_count": 125,
     "metadata": {},
     "output_type": "execute_result"
    }
   ],
   "source": [
    "from astropy.io.ascii import read as ascii_read\n",
    "from zhunter.io import convert_line_name_to_latex, convert_to_ecsv\n",
    "# fname = Path(\"/Users/palmerio/Code_projects/zHunter/src/zhunter/data/lines/basic_line_list.ecsv\")\n",
    "fname = Path(\"/Users/palmerio/Code_projects/zHunter/src/zhunter/data/lines/fine_structure.csv\")\n",
    "tab = ascii_read(fname)\n",
    "tab"
   ]
  },
  {
   "cell_type": "code",
   "execution_count": 11,
   "id": "a2f75bb2",
   "metadata": {},
   "outputs": [
    {
     "name": "stdout",
     "output_type": "stream",
     "text": [
      "2023-02-23 15:24:47,580 INFO [zhunter.io] Converting file /Users/palmerio/Code_projects/zHunter/src/zhunter/data/lines/fine_structure.csv to ecsv format\n"
     ]
    }
   ],
   "source": [
    "convert_to_ecsv(fname, delimiter=' ', units=['', 'AA', ''])\n"
   ]
  },
  {
   "cell_type": "code",
   "execution_count": 4,
   "id": "1e4cdea2",
   "metadata": {},
   "outputs": [
    {
     "name": "stdout",
     "output_type": "stream",
     "text": [
      "2023-02-23 15:21:57,809 ERROR [zhunter.io] Could not parse line name Ly_limit to convert to latex\n"
     ]
    }
   ],
   "source": [
    "latex_name = []\n",
    "for lname in tab['name']:\n",
    "    latex_name.append(convert_line_name_to_latex(lname))\n"
   ]
  },
  {
   "cell_type": "code",
   "execution_count": 7,
   "id": "37822357",
   "metadata": {},
   "outputs": [],
   "source": [
    "tab.write(fname.with_suffix('.ecsv'), overwrite=True)"
   ]
  },
  {
   "cell_type": "code",
   "execution_count": 45,
   "id": "3f15fb27",
   "metadata": {},
   "outputs": [],
   "source": [
    "from zhunter import DIRS"
   ]
  },
  {
   "cell_type": "code",
   "execution_count": 46,
   "id": "2ec80a33",
   "metadata": {},
   "outputs": [],
   "source": [
    "fnames = {}\n",
    "fnames[\"emission_lines\"] = DIRS[\"DATA\"] / \"lines/emission_lines.ecsv\"\n",
    "fnames[\"absorption_lines\"] = DIRS[\"DATA\"] / \"lines/basic_line_list.ecsv\"\n",
    "fnames[\"fine_structure_lines\"] = DIRS[\"DATA\"] / \"lines/fine_structure.ecsv\"\n",
    "fnames[\"line_ratio\"] = DIRS[\"DATA\"] / \"lines/line_ratio.csv\""
   ]
  },
  {
   "cell_type": "code",
   "execution_count": 126,
   "id": "95e58a74",
   "metadata": {},
   "outputs": [],
   "source": [
    "abs_lines = ascii_read(fnames[\"absorption_lines\"])\n",
    "\n",
    "em_lines = ascii_read(fnames[\"emission_lines\"])\n",
    "\n",
    "fs_lines = ascii_read(fnames[\"fine_structure_lines\"])\n"
   ]
  },
  {
   "cell_type": "code",
   "execution_count": 133,
   "id": "2757e236",
   "metadata": {},
   "outputs": [
    {
     "data": {
      "text/plain": [
       "astropy.table.table.Table"
      ]
     },
     "execution_count": 133,
     "metadata": {},
     "output_type": "execute_result"
    }
   ],
   "source": []
  },
  {
   "cell_type": "code",
   "execution_count": 63,
   "id": "159f7248",
   "metadata": {},
   "outputs": [],
   "source": [
    "lname = 'OI_1302'"
   ]
  },
  {
   "cell_type": "code",
   "execution_count": 64,
   "id": "71c00394",
   "metadata": {},
   "outputs": [
    {
     "data": {
      "text/plain": [
       "[11]"
      ]
     },
     "execution_count": 64,
     "metadata": {},
     "output_type": "execute_result"
    }
   ],
   "source": [
    "# for name in abs_lines['name']:\n",
    "cond = [i for i, name in enumerate(abs_lines[\"name\"]) if lname in name]\n",
    "cond"
   ]
  },
  {
   "cell_type": "code",
   "execution_count": 88,
   "id": "dd688693",
   "metadata": {},
   "outputs": [
    {
     "data": {
      "text/latex": [
       "$1302.1685 \\; \\mathrm{\\mathring{A}}$"
      ],
      "text/plain": [
       "<Quantity 1302.1685 Angstrom>"
      ]
     },
     "execution_count": 88,
     "metadata": {},
     "output_type": "execute_result"
    }
   ],
   "source": [
    "Quantity(abs_lines[cond]['wave'])[0]"
   ]
  },
  {
   "cell_type": "code",
   "execution_count": 105,
   "id": "dfe1eb59",
   "metadata": {},
   "outputs": [
    {
     "data": {
      "text/plain": [
       "astropy.units.quantity.Quantity"
      ]
     },
     "execution_count": 105,
     "metadata": {},
     "output_type": "execute_result"
    }
   ],
   "source": [
    "wave = np.linspace(0,10,10) * u.AA\n",
    "type(wave)"
   ]
  },
  {
   "cell_type": "code",
   "execution_count": 111,
   "id": "bfe4ca29",
   "metadata": {},
   "outputs": [
    {
     "data": {
      "text/latex": [
       "$4 \\; \\mathrm{}$"
      ],
      "text/plain": [
       "<Quantity 4.>"
      ]
     },
     "execution_count": 111,
     "metadata": {},
     "output_type": "execute_result"
    }
   ],
   "source": [
    "l1 = Quantity('3')\n",
    "l2 = Quantity('4')\n",
    "ls = Quantity([l1,l2])\n",
    "ls.max()"
   ]
  },
  {
   "cell_type": "code",
   "execution_count": 116,
   "id": "c700f2cf",
   "metadata": {},
   "outputs": [
    {
     "data": {
      "text/plain": [
       "['wave(AA)', 'flux_norm']"
      ]
     },
     "execution_count": 116,
     "metadata": {},
     "output_type": "execute_result"
    }
   ],
   "source": [
    "list(tell.columns)"
   ]
  },
  {
   "cell_type": "code",
   "execution_count": 119,
   "id": "ac37e221",
   "metadata": {
    "scrolled": true
   },
   "outputs": [
    {
     "data": {
      "text/html": [
       "<div><i>Table length=749989</i>\n",
       "<table id=\"table6414709136\" class=\"table-striped table-bordered table-condensed\">\n",
       "<thead><tr><th>wave(AA)</th><th>flux_norm</th></tr></thead>\n",
       "<thead><tr><th>float64</th><th>float64</th></tr></thead>\n",
       "<tr><td>3500.11</td><td>1.0</td></tr>\n",
       "<tr><td>3500.12</td><td>1.0</td></tr>\n",
       "<tr><td>3500.1299999999997</td><td>1.0</td></tr>\n",
       "<tr><td>3500.1400000000003</td><td>1.0</td></tr>\n",
       "<tr><td>3500.1499999999996</td><td>1.0</td></tr>\n",
       "<tr><td>3500.1600000000003</td><td>1.0</td></tr>\n",
       "<tr><td>3500.17</td><td>1.0</td></tr>\n",
       "<tr><td>3500.18</td><td>1.0</td></tr>\n",
       "<tr><td>3500.19</td><td>1.0</td></tr>\n",
       "<tr><td>3500.2</td><td>1.0</td></tr>\n",
       "<tr><td>3500.21</td><td>1.0</td></tr>\n",
       "<tr><td>3500.22</td><td>1.0</td></tr>\n",
       "<tr><td>3500.2300000000005</td><td>1.0</td></tr>\n",
       "<tr><td>3500.24</td><td>1.0</td></tr>\n",
       "<tr><td>3500.25</td><td>1.0</td></tr>\n",
       "<tr><td>3500.26</td><td>1.0</td></tr>\n",
       "<tr><td>3500.27</td><td>1.0</td></tr>\n",
       "<tr><td>3500.28</td><td>1.0</td></tr>\n",
       "<tr><td>3500.29</td><td>1.0</td></tr>\n",
       "<tr><td>...</td><td>...</td></tr>\n",
       "<tr><td>10999.8099998</td><td>0.997218446805</td></tr>\n",
       "<tr><td>10999.8199998</td><td>0.998049906367</td></tr>\n",
       "<tr><td>10999.8299998</td><td>0.998780308928</td></tr>\n",
       "<tr><td>10999.839999799999</td><td>0.999429358199</td></tr>\n",
       "<tr><td>10999.8499998</td><td>1.0</td></tr>\n",
       "<tr><td>10999.8599998</td><td>1.0</td></tr>\n",
       "<tr><td>10999.869999800001</td><td>1.0</td></tr>\n",
       "<tr><td>10999.8799998</td><td>1.0</td></tr>\n",
       "<tr><td>10999.8899998</td><td>1.0</td></tr>\n",
       "<tr><td>10999.8999998</td><td>1.0</td></tr>\n",
       "<tr><td>10999.9099998</td><td>1.0</td></tr>\n",
       "<tr><td>10999.9199998</td><td>1.0</td></tr>\n",
       "<tr><td>10999.929999799999</td><td>1.0</td></tr>\n",
       "<tr><td>10999.939999799999</td><td>1.0</td></tr>\n",
       "<tr><td>10999.949999800001</td><td>1.0</td></tr>\n",
       "<tr><td>10999.959999800001</td><td>1.0</td></tr>\n",
       "<tr><td>10999.9699998</td><td>1.0</td></tr>\n",
       "<tr><td>10999.9799998</td><td>1.0</td></tr>\n",
       "<tr><td>10999.9899998</td><td>0.0</td></tr>\n",
       "</table></div>"
      ],
      "text/plain": [
       "<Table length=749989>\n",
       "     wave(AA)        flux_norm   \n",
       "     float64          float64    \n",
       "------------------ --------------\n",
       "           3500.11            1.0\n",
       "           3500.12            1.0\n",
       "3500.1299999999997            1.0\n",
       "3500.1400000000003            1.0\n",
       "3500.1499999999996            1.0\n",
       "3500.1600000000003            1.0\n",
       "           3500.17            1.0\n",
       "           3500.18            1.0\n",
       "           3500.19            1.0\n",
       "            3500.2            1.0\n",
       "           3500.21            1.0\n",
       "           3500.22            1.0\n",
       "3500.2300000000005            1.0\n",
       "           3500.24            1.0\n",
       "           3500.25            1.0\n",
       "           3500.26            1.0\n",
       "           3500.27            1.0\n",
       "           3500.28            1.0\n",
       "           3500.29            1.0\n",
       "               ...            ...\n",
       "     10999.8099998 0.997218446805\n",
       "     10999.8199998 0.998049906367\n",
       "     10999.8299998 0.998780308928\n",
       "10999.839999799999 0.999429358199\n",
       "     10999.8499998            1.0\n",
       "     10999.8599998            1.0\n",
       "10999.869999800001            1.0\n",
       "     10999.8799998            1.0\n",
       "     10999.8899998            1.0\n",
       "     10999.8999998            1.0\n",
       "     10999.9099998            1.0\n",
       "     10999.9199998            1.0\n",
       "10999.929999799999            1.0\n",
       "10999.939999799999            1.0\n",
       "10999.949999800001            1.0\n",
       "10999.959999800001            1.0\n",
       "     10999.9699998            1.0\n",
       "     10999.9799998            1.0\n",
       "     10999.9899998            0.0"
      ]
     },
     "execution_count": 119,
     "metadata": {},
     "output_type": "execute_result"
    }
   ],
   "source": [
    "fname = Path(\"/Users/palmerio/Code_projects/zHunter/src/zhunter/data/tellurics/synth_tellurics_350_1100nm.csv.gz\")\n",
    "\n",
    "tell = ascii_read(fname)\n",
    "tell"
   ]
  },
  {
   "cell_type": "code",
   "execution_count": 123,
   "id": "b30cb5ff",
   "metadata": {},
   "outputs": [],
   "source": [
    "tell['wave(AA)'].unit = u.AA"
   ]
  },
  {
   "cell_type": "code",
   "execution_count": 124,
   "id": "583f2498",
   "metadata": {},
   "outputs": [
    {
     "data": {
      "text/plain": [
       "<Spectrum1D(flux=<Quantity [1., 1., 1., ..., 1., 1., 0.]>, spectral_axis=<SpectralAxis [ 3500.11     ,  3500.12     ,  3500.13     , ..., 10999.9699998,\n",
       "   10999.9799998, 10999.9899998] Angstrom>)>"
      ]
     },
     "execution_count": 124,
     "metadata": {},
     "output_type": "execute_result"
    }
   ],
   "source": [
    "Spectrum1D(\n",
    "    spectral_axis=Quantity(tell['wave(AA)']),\n",
    "    flux=Quantity(tell['flux_norm']))"
   ]
  },
  {
   "cell_type": "code",
   "execution_count": null,
   "id": "5ed18bf3",
   "metadata": {},
   "outputs": [],
   "source": []
  }
 ],
 "metadata": {
  "kernelspec": {
   "display_name": "Python 3 (ipykernel)",
   "language": "python",
   "name": "python3"
  },
  "language_info": {
   "codemirror_mode": {
    "name": "ipython",
    "version": 3
   },
   "file_extension": ".py",
   "mimetype": "text/x-python",
   "name": "python",
   "nbconvert_exporter": "python",
   "pygments_lexer": "ipython3",
   "version": "3.9.16"
  }
 },
 "nbformat": 4,
 "nbformat_minor": 5
}
