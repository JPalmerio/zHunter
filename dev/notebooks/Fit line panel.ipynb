{
 "cells": [
  {
   "cell_type": "code",
   "execution_count": 1,
   "id": "6db5d715",
   "metadata": {},
   "outputs": [],
   "source": [
    "%gui qt6\n",
    "\n",
    "# Qt6 stuff\n",
    "from PyQt6.QtWidgets import QApplication\n",
    "from PyQt6 import QtWidgets\n",
    "from PyQt6 import QtGui\n",
    "from PyQt6 import QtCore\n",
    "from PyQt6.QtCore import pyqtSignal\n",
    "\n",
    "# Plotting stuff\n",
    "import pyqtgraph as pg\n",
    "import matplotlib.pyplot as plt\n",
    "import cmasher as cmr\n",
    "\n",
    "# Science stuff\n",
    "import numpy as np\n",
    "import pandas as pd\n",
    "from spectres import spectres\n",
    "\n",
    "# Astropy stuff\n",
    "from astropy.io import fits\n",
    "from astropy.table import Table\n",
    "import astropy.units as u\n",
    "from astropy.units.quantity import Quantity\n",
    "from astropy.io.ascii import read as ascii_read\n",
    "from astropy.nddata import StdDevUncertainty"
   ]
  },
  {
   "cell_type": "code",
   "execution_count": 2,
   "id": "0f9475f9",
   "metadata": {},
   "outputs": [],
   "source": [
    "# zHunter stuff\n",
    "from zhunter import DIRS\n",
    "from zhunter import io\n",
    "from zhunter.misc import set_up_linked_vb, get_vb_containing\n",
    "from zhunter.colors import get_gradient\n",
    "from zhunter.spectroscopic_system import SpecSystemModel, SpecSystem\n",
    "from zhunter.MainGraphicsWidget import MainGraphicsWidget\n",
    "from zhunter.data_handler import DataHandler"
   ]
  },
  {
   "cell_type": "code",
   "execution_count": 3,
   "id": "d14e51d4",
   "metadata": {},
   "outputs": [],
   "source": [
    "# General stuff\n",
    "import logging\n",
    "import sys\n",
    "from pathlib import Path\n",
    "from itertools import cycle"
   ]
  },
  {
   "cell_type": "code",
   "execution_count": 4,
   "id": "96336952",
   "metadata": {},
   "outputs": [],
   "source": [
    "# astropalmerio stuff\n",
    "import astropalmerio.spectra as sp\n",
    "import astropalmerio.galaxies as gal\n",
    "import astropalmerio.mc as mc\n"
   ]
  },
  {
   "cell_type": "code",
   "execution_count": 5,
   "id": "e869d375",
   "metadata": {},
   "outputs": [],
   "source": [
    "from astropalmerio.spectra import ergscm2AA\n",
    "from astropalmerio.spectra import EmissionLine\n",
    "from specutils import Spectrum1D"
   ]
  },
  {
   "cell_type": "code",
   "execution_count": 6,
   "id": "c276abf6",
   "metadata": {},
   "outputs": [],
   "source": [
    "# start qt event loop\n",
    "_instance = QApplication.instance()\n",
    "if not _instance:\n",
    "    _instance = QApplication([])\n",
    "app = _instance"
   ]
  },
  {
   "cell_type": "code",
   "execution_count": 7,
   "id": "d018f2d0",
   "metadata": {},
   "outputs": [],
   "source": [
    "# Logging\n",
    "log = logging.getLogger(__name__)\n",
    "logging.basicConfig(stream=sys.stdout, level=logging.DEBUG,\n",
    "                    format='%(asctime)s %(levelname)s [%(name)s] %(message)s')\n",
    "logging.getLogger(\"matplotlib\").setLevel(logging.WARNING)\n",
    "logging.getLogger(\"PIL\").setLevel(logging.WARNING)\n",
    "logging.getLogger(\"PyQt6.uic\").setLevel(logging.WARNING)\n"
   ]
  },
  {
   "cell_type": "code",
   "execution_count": 8,
   "id": "20e4d5ed",
   "metadata": {},
   "outputs": [],
   "source": [
    "## Colors\n",
    "from zhunter.colors import COLORS\n",
    "color_style = 'kraken9'\n",
    "colors = COLORS[color_style]"
   ]
  },
  {
   "cell_type": "markdown",
   "id": "f37e4fe4",
   "metadata": {},
   "source": [
    "## The data"
   ]
  },
  {
   "cell_type": "code",
   "execution_count": 9,
   "id": "47305812",
   "metadata": {
    "scrolled": true
   },
   "outputs": [
    {
     "name": "stdout",
     "output_type": "stream",
     "text": [
      "2023-03-22 16:52:32,017 DEBUG [zhunter.misc] Flux and uncertainty need to be rescaled (exponent: -1), rescaling them.\n",
      "2023-03-22 16:52:32,039 DEBUG [zhunter.misc] Flux and uncertainty need to be rescaled (exponent: -1), rescaling them.\n"
     ]
    }
   ],
   "source": [
    "# The fake data\n",
    "N_data = 10000\n",
    "N_spat = 40\n",
    "wvlg = np.linspace(300, 900, N_data)\n",
    "spat = np.linspace(-5, 5, N_spat)\n",
    "flux = np.ones((wvlg.shape[0], spat.shape[0])) * np.exp(-(spat)**2/0.1)\n",
    "# add noise\n",
    "flux += np.random.normal(0, 0.1, size=(wvlg.shape[0], spat.shape[0]))\n",
    "# add an emission line\n",
    "flux[:,int(N_spat/2)] += sp.gaussian_fct(wvlg, mean=656.28, stddev=0.5, amplitude=3)\n",
    "flux = flux.T\n",
    "unc = flux*0.1\n",
    "wvlg_tell = wvlg\n",
    "wvlg_sky_bkg = wvlg\n",
    "tellurics = 1 - np.exp(-(wvlg-600)**2/(30)**2)\n",
    "sky_bkg = np.exp(-(wvlg-800)**2/(10)**2)\n",
    "\n",
    "data = DataHandler()\n",
    "data.load_2D(wvlg*u.nm, spat*u.arcsec, flux*ergscm2AA, unc*ergscm2AA)\n",
    "data.load_1D(wvlg*u.nm, np.sum(flux[17:23], axis=0)*ergscm2AA, np.sqrt(unc[17:23]**2).sum(axis=0)*ergscm2AA)\n"
   ]
  },
  {
   "cell_type": "markdown",
   "id": "22ca67ee",
   "metadata": {},
   "source": [
    "## The display"
   ]
  },
  {
   "cell_type": "code",
   "execution_count": 10,
   "id": "643d34e6",
   "metadata": {},
   "outputs": [],
   "source": [
    "from zhunter.LineFitGraphicsWidget import LineFitGraphicsWidget\n",
    "from zhunter.fit_plot import LineFitPlot"
   ]
  },
  {
   "cell_type": "code",
   "execution_count": 11,
   "id": "ae922237",
   "metadata": {},
   "outputs": [
    {
     "name": "stdout",
     "output_type": "stream",
     "text": [
      "2023-03-22 16:52:32,060 DEBUG [zhunter.io] Reading line list ../../src/zhunter/data/lines/emission_lines.ecsv\n"
     ]
    }
   ],
   "source": [
    "lines = io.read_line_list('../../src/zhunter/data/lines/emission_lines.ecsv')\n"
   ]
  },
  {
   "cell_type": "code",
   "execution_count": 12,
   "id": "43d0519a",
   "metadata": {},
   "outputs": [
    {
     "name": "stdout",
     "output_type": "stream",
     "text": [
      "2023-03-22 16:52:32,192 DEBUG [zhunter.fit_plot] Initialized with lines:\n",
      "    name      awav              latex_str           \n",
      "           Angstrom                                \n",
      "---------- -------- -------------------------------\n",
      "  Ly_alpha 1215.111                      Ly$\\alpha$\n",
      "  OII_3726 3726.032   [O\\,\\textsc{ii}]$\\lambda3726$\n",
      "  OII_3729 3728.815   [O\\,\\textsc{ii}]$\\lambda3729$\n",
      "NeIII_3869  3868.76 [Ne\\,\\textsc{iii}]$\\lambda3869$\n",
      "  HeI_3889 3888.647     He\\,\\textsc{i}$\\lambda3889$\n",
      "   H_delta 4101.742                       H$\\delta$\n",
      "   H_gamma 4340.471                       H$\\gamma$\n",
      " OIII_4363  4363.21  [O\\,\\textsc{iii}]$\\lambda4363$\n",
      "    H_beta 4861.333                        H$\\beta$\n",
      "OIIIa_4959 4958.911  [O\\,\\textsc{iii}]$\\lambda4959$\n",
      "OIIIb_5007 5006.843  [O\\,\\textsc{iii}]$\\lambda5007$\n",
      "  HeI_5876 5875.624     He\\,\\textsc{i}$\\lambda5876$\n",
      "   OI_6300 6300.304    [O\\,\\textsc{i}]$\\lambda6300$\n",
      "  NII_6548  6548.05   [N\\,\\textsc{ii}]$\\lambda6548$\n",
      "   H_alpha 6562.819                       H$\\alpha$\n",
      "  NII_6584  6583.46   [N\\,\\textsc{ii}]$\\lambda6584$\n",
      "  SII_6717  6716.44   [S\\,\\textsc{ii}]$\\lambda6717$\n",
      "  SII_6731  6730.81   [S\\,\\textsc{ii}]$\\lambda6731$\n",
      " ArIII7135  7135.79 [Ar\\,\\textsc{iii}]$\\lambda7135$\n",
      "  Pa_alpha  18751.3                      Pa$\\alpha$\n"
     ]
    }
   ],
   "source": [
    "fitPlot = LineFitPlot(lines=lines, z=0.0, data=data, mode='2D', colors=colors,)"
   ]
  },
  {
   "cell_type": "code",
   "execution_count": 13,
   "id": "dd3142a0",
   "metadata": {},
   "outputs": [],
   "source": [
    "fitPlot.show()"
   ]
  },
  {
   "cell_type": "code",
   "execution_count": 14,
   "id": "c354002f",
   "metadata": {},
   "outputs": [],
   "source": [
    "fitPlot.linefitLayout.ci.setBorder((100, 50, 100)) # this is to see where the Items' bounds are"
   ]
  },
  {
   "cell_type": "code",
   "execution_count": 15,
   "id": "3ce1e910",
   "metadata": {
    "scrolled": true
   },
   "outputs": [
    {
     "name": "stdout",
     "output_type": "stream",
     "text": [
      "2023-03-22 16:52:32,302 INFO [zhunter.fit_plot] Creating EmissionLine object with name H_alpha and redshift 0.0\n",
      "2023-03-22 16:52:32,304 INFO [zhunter.MainGraphicsWidget] Setting up a new plot called 'H alpha' in '2D' mode, without Region Of Interest \n",
      "2023-03-22 16:52:32,519 INFO [zhunter.MainGraphicsWidget] Drawing 2D data\n",
      "2023-03-22 16:52:32,552 DEBUG [zhunter.MainGraphicsWidget] Drawing 1D data\n"
     ]
    }
   ],
   "source": [
    "\n",
    "fitPlot.visualize_spec()"
   ]
  },
  {
   "cell_type": "code",
   "execution_count": 16,
   "id": "56ea3b8c",
   "metadata": {
    "scrolled": true
   },
   "outputs": [
    {
     "name": "stdout",
     "output_type": "stream",
     "text": [
      "2023-03-22 16:52:32,562 INFO [zhunter.MainGraphicsWidget] Drawing 2D data\n",
      "2023-03-22 16:52:32,587 DEBUG [zhunter.MainGraphicsWidget] Drawing 1D data\n",
      "2023-03-22 16:52:36,886 DEBUG [zhunter.MainGraphicsWidget] Key: C, Mouse position: [401,295]\n",
      "2023-03-22 16:52:37,389 DEBUG [zhunter.MainGraphicsWidget] Key: C, Mouse position: [445,295]\n",
      "2023-03-22 16:52:37,391 DEBUG [zhunter.LineFitGraphicsWidget] Updated fit bounds to (<Quantity 648.80119252 nm>, <Quantity 652.20713252 nm>)\n",
      "2023-03-22 16:52:37,968 DEBUG [zhunter.MainGraphicsWidget] Key: C, Mouse position: [532,297]\n",
      "2023-03-22 16:52:38,389 DEBUG [zhunter.MainGraphicsWidget] Key: C, Mouse position: [592,297]\n",
      "2023-03-22 16:52:38,391 DEBUG [zhunter.LineFitGraphicsWidget] Updated fit bounds to (<Quantity 648.80119252 nm>, <Quantity 663.58606843 nm>)\n",
      "2023-03-22 16:52:47,102 INFO [zhunter.fit_plot] Starting continuum fitting.\n",
      "2023-03-22 16:52:47,104 DEBUG [astropalmerio.spectra.emission_lines] Attempting to extract the following bounds: (648.8011925245378 nm, 663.5860684319908 nm)\n",
      "2023-03-22 16:52:47,105 DEBUG [zhunter.fit_plot] About to fit continuum over the following regions: [(<Quantity 648.80119252 nm>, <Quantity 652.20713252 nm>), (<Quantity 658.9416048 nm>, <Quantity 663.58606843 nm>)]\n",
      "2023-03-22 16:52:47,167 DEBUG [zhunter.fit_plot] Displaying fitted continuum.\n",
      "2023-03-22 16:52:48,187 INFO [zhunter.fit_plot] Starting Gaussian line fitting.\n",
      "2023-03-22 16:52:48,190 DEBUG [astropalmerio.spectra.emission_lines] About to fit with bounds: (<Quantity 648.80119252 nm>, <Quantity 663.58606843 nm>) and initial guess: Model: Gaussian1D\n",
      "Inputs: ('x',)\n",
      "Outputs: ('y',)\n",
      "Model set size: 1\n",
      "Parameters:\n",
      "        amplitude            mean       stddev\n",
      "      0.1 ergscm2AA           nm          nm  \n",
      "    ----------------- ----------------- ------\n",
      "    32.17351110366258 656.1956195619562    0.1 and additional arguments: {'exclude_regions': None}\n",
      "2023-03-22 16:52:48,202 DEBUG [astropalmerio.spectra.emission_lines] Best fit: Model: Gaussian1D\n",
      "Inputs: ('x',)\n",
      "Outputs: ('y',)\n",
      "Model set size: 1\n",
      "Parameters:\n",
      "        amplitude             mean             stddev      \n",
      "      0.1 ergscm2AA            nm                nm        \n",
      "    ------------------ ----------------- ------------------\n",
      "    29.192738096118266 656.2996868494599 0.4590846661287186\n"
     ]
    }
   ],
   "source": [
    "fitPlot.linefitLayout.draw_data()"
   ]
  },
  {
   "cell_type": "code",
   "execution_count": 22,
   "id": "29e18d2d",
   "metadata": {},
   "outputs": [],
   "source": [
    "fitPlot.txe_fit_info.setText(fit_summary)"
   ]
  },
  {
   "cell_type": "code",
   "execution_count": 22,
   "id": "f02e818f",
   "metadata": {
    "scrolled": false
   },
   "outputs": [
    {
     "data": {
      "text/plain": [
       "dict_keys(['continuum', 'bounds', 'initial_guess', 'results', 'model', 'flux', 'residuals'])"
      ]
     },
     "execution_count": 22,
     "metadata": {},
     "output_type": "execute_result"
    }
   ],
   "source": [
    "fitPlot.line.fit.keys()"
   ]
  },
  {
   "cell_type": "code",
   "execution_count": 38,
   "id": "06fc6ad7",
   "metadata": {},
   "outputs": [
    {
     "data": {
      "text/latex": [
       "$33.118115 \\; \\mathrm{0.1\\,\\mathrm{erg\\,s^{-1}\\,cm^{-2}\\,\\mathring{A}^{-1}}}$"
      ],
      "text/plain": [
       "<Quantity 33.11811521 0.1 ergscm2AA>"
      ]
     },
     "execution_count": 38,
     "metadata": {},
     "output_type": "execute_result"
    }
   ],
   "source": [
    "fitPlot.line.fit['initial_guess']['amplitude']"
   ]
  },
  {
   "cell_type": "code",
   "execution_count": 44,
   "id": "859ddd7b",
   "metadata": {},
   "outputs": [
    {
     "data": {
      "text/plain": [
       "'4.757e+12 Jy'"
      ]
     },
     "execution_count": 44,
     "metadata": {},
     "output_type": "execute_result"
    }
   ],
   "source": [
    "f\"{fitPlot.line.fit['initial_guess']['amplitude'].to(u.Jy, equivalencies=u.spectral_density(fitPlot.line.fit['initial_guess']['mean'])):.3e}\"\n"
   ]
  },
  {
   "cell_type": "code",
   "execution_count": 26,
   "id": "f6b8e15a",
   "metadata": {},
   "outputs": [
    {
     "data": {
      "text/plain": [
       "{'rest_awav': <Quantity 6562.819 Angstrom>,\n",
       " 'z_guess': <Quantity 0.>,\n",
       " 'obs_awav_guess': <Quantity 6562.819 Angstrom>,\n",
       " 'detected': True,\n",
       " 'obs_awav_fit': <Quantity 656.26492838 nm>,\n",
       " 'FWHM_lam_fit': <Quantity 1.16210167 nm>,\n",
       " 'FWHM_vel_fit': <Quantity 530.8668804 km / s>,\n",
       " 'flux_fit': <Quantity 36.24626585 0.1 ergscm2AA nm>,\n",
       " 'z_fit': <Quantity -2.58602597e-05>}"
      ]
     },
     "execution_count": 26,
     "metadata": {},
     "output_type": "execute_result"
    }
   ],
   "source": [
    "fitPlot.line.properties"
   ]
  },
  {
   "cell_type": "code",
   "execution_count": 17,
   "id": "5bb6f871",
   "metadata": {},
   "outputs": [],
   "source": [
    "self = fitPlot.line\n"
   ]
  },
  {
   "cell_type": "code",
   "execution_count": 19,
   "id": "3e6479d3",
   "metadata": {},
   "outputs": [],
   "source": [
    "self.derive_properties_from_fit()"
   ]
  },
  {
   "cell_type": "code",
   "execution_count": 20,
   "id": "cf41d1d7",
   "metadata": {},
   "outputs": [],
   "source": [
    "fit_summary = (\n",
    "            \"Fit summary\\n\"\n",
    "            + \"-------------\\n\"\n",
    "            + f\"Line name: {self.name}\\n\"\n",
    "            + f\"Fit bounds: ({self.fit['bounds'][0]:.3f}, {self.fit['bounds'][1]:.3f})\\n\"\n",
    "            + f\"Redshift: {self.properties['z_fit']:.5f}\\n\"\n",
    "\n",
    "        )"
   ]
  },
  {
   "cell_type": "code",
   "execution_count": 21,
   "id": "4ca0324c",
   "metadata": {},
   "outputs": [
    {
     "data": {
      "text/plain": [
       "'Fit summary\\n-------------\\nLine name: H_alpha\\nFit bounds: (648.801 nm, 663.586 nm)\\nRedshift: 0.00003\\n'"
      ]
     },
     "execution_count": 21,
     "metadata": {},
     "output_type": "execute_result"
    }
   ],
   "source": [
    "fit_summary"
   ]
  },
  {
   "cell_type": "code",
   "execution_count": null,
   "id": "b09e6b3b",
   "metadata": {},
   "outputs": [],
   "source": []
  }
 ],
 "metadata": {
  "kernelspec": {
   "display_name": "Python 3 (ipykernel)",
   "language": "python",
   "name": "python3"
  },
  "language_info": {
   "codemirror_mode": {
    "name": "ipython",
    "version": 3
   },
   "file_extension": ".py",
   "mimetype": "text/x-python",
   "name": "python",
   "nbconvert_exporter": "python",
   "pygments_lexer": "ipython3",
   "version": "3.9.16"
  }
 },
 "nbformat": 4,
 "nbformat_minor": 5
}
