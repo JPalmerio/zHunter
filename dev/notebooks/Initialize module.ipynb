{
 "cells": [
  {
   "cell_type": "code",
   "execution_count": 1,
   "id": "8a8afe57",
   "metadata": {},
   "outputs": [],
   "source": [
    "import zhunter.initialize as init"
   ]
  },
  {
   "cell_type": "code",
   "execution_count": 2,
   "id": "b7c5f442",
   "metadata": {},
   "outputs": [],
   "source": [
    "import logging\n",
    "import sys\n",
    "log = logging.getLogger(__name__)\n",
    "logging.basicConfig(stream=sys.stdout, level=logging.DEBUG,\n",
    "                    format='%(asctime)s %(levelname)s [%(name)s] %(message)s')\n",
    "logging.getLogger(\"matplotlib\").setLevel(logging.WARNING)\n",
    "logging.getLogger(\"PIL\").setLevel(logging.WARNING)"
   ]
  },
  {
   "cell_type": "code",
   "execution_count": 3,
   "id": "f47682c7",
   "metadata": {},
   "outputs": [
    {
     "name": "stdout",
     "output_type": "stream",
     "text": [
      "2023-06-27 16:49:22,278 DEBUG [zhunter.initialize] Looking for config file\n",
      "2023-06-27 16:49:22,280 DEBUG [zhunter.initialize] Config file found:\n",
      "/Users/palmerio/.config/zhunter/default_config.yaml\n"
     ]
    },
    {
     "data": {
      "text/plain": [
       "PosixPath('/Users/palmerio/.config/zhunter/default_config.yaml')"
      ]
     },
     "execution_count": 3,
     "metadata": {},
     "output_type": "execute_result"
    }
   ],
   "source": [
    "conf_fname = init.get_config_fname()\n",
    "conf_fname"
   ]
  },
  {
   "cell_type": "code",
   "execution_count": 4,
   "id": "ca79d8cc",
   "metadata": {},
   "outputs": [
    {
     "name": "stdout",
     "output_type": "stream",
     "text": [
      "2023-06-27 16:49:22,291 INFO [zhunter.initialize] Loaded configuration from:\n",
      "/Users/palmerio/.config/zhunter/default_config.yaml\n"
     ]
    },
    {
     "data": {
      "text/plain": [
       "{'fnames': {'emission_lines': 'emission_lines.ecsv',\n",
       "  'intervening_lines': 'intervening_lines.ecsv',\n",
       "  'GRB_lines': 'GRB_lines.ecsv'},\n",
       " 'colors': 'kraken17'}"
      ]
     },
     "execution_count": 4,
     "metadata": {},
     "output_type": "execute_result"
    }
   ],
   "source": [
    "config = init.load_config(conf_fname)\n",
    "config"
   ]
  },
  {
   "cell_type": "code",
   "execution_count": 5,
   "id": "8083d79c",
   "metadata": {
    "scrolled": true
   },
   "outputs": [
    {
     "data": {
      "text/plain": [
       "{'style_name': 'kraken17',\n",
       " 'spec': '#EBEBEB',\n",
       " 'unc': '#BC271B',\n",
       " 'specsys': ['#4A9EBC',\n",
       "  '#ECCA54',\n",
       "  '#C72A70',\n",
       "  '#C95D38',\n",
       "  '#92D754',\n",
       "  '#8218BB',\n",
       "  '#66CBA0',\n",
       "  '#B52EB0',\n",
       "  '#2D67EE',\n",
       "  '#7E3817',\n",
       "  '#C0C0C0',\n",
       "  '#808000',\n",
       "  '#49413F',\n",
       "  '#F9B7FF',\n",
       "  '#FFDF00',\n",
       "  '#64E986',\n",
       "  '#16E2F5'],\n",
       " 'sky': '#696969',\n",
       " 'crosshair': 'g',\n",
       " 'background': '#000000',\n",
       " 'foreground': '#C6C6C6',\n",
       " 'roi': 'g',\n",
       " 'continuum': '#ECCA54',\n",
       " 'fit': '#4A9EBC'}"
      ]
     },
     "execution_count": 5,
     "metadata": {},
     "output_type": "execute_result"
    }
   ],
   "source": [
    "# Colors\n",
    "config[\"colors\"] = init.load_colors(style=config[\"colors\"])\n",
    "config[\"colors\"]"
   ]
  },
  {
   "cell_type": "code",
   "execution_count": 8,
   "id": "10062768",
   "metadata": {},
   "outputs": [
    {
     "data": {
      "text/plain": [
       "{'intervening_lines': PosixPath('/Users/palmerio/Code_projects/zHunter/src/zhunter/data/lines/intervening_lines.ecsv'),\n",
       " 'emission_lines': PosixPath('/Users/palmerio/Code_projects/zHunter/src/zhunter/data/lines/emission_lines.ecsv'),\n",
       " 'GRB_lines': PosixPath('/Users/palmerio/Code_projects/zHunter/src/zhunter/data/lines/GRB_lines.ecsv'),\n",
       " 'line_ratio': PosixPath('/Users/palmerio/Code_projects/zHunter/src/zhunter/data/lines/line_ratio.csv'),\n",
       " 'tellurics': PosixPath('/Users/palmerio/Code_projects/zHunter/src/zhunter/data/tellurics/sky_transimission_opt_to_nir.ecsv.gz'),\n",
       " 'sky_bkg': PosixPath('/Users/palmerio/Code_projects/zHunter/src/zhunter/data/sky_background/sky_background_norm_opt_to_nir.ecsv.gz'),\n",
       " 'data': None}"
      ]
     },
     "execution_count": 8,
     "metadata": {},
     "output_type": "execute_result"
    }
   ],
   "source": [
    "# Load the paths to line lists\n",
    "config[\"fnames\"] = init.define_paths(\n",
    "    input_fnames=config[\"fnames\"],\n",
    "    default=\"default\" in conf_fname.stem,\n",
    ")\n",
    "config[\"fnames\"]"
   ]
  },
  {
   "cell_type": "code",
   "execution_count": 9,
   "id": "21811b01",
   "metadata": {
    "scrolled": true
   },
   "outputs": [
    {
     "name": "stdout",
     "output_type": "stream",
     "text": [
      "2023-06-27 16:49:47,497 DEBUG [zhunter.initialize] Reading intervening lines from:\n",
      "/Users/palmerio/Code_projects/zHunter/src/zhunter/data/lines/intervening_lines.ecsv\n",
      "2023-06-27 16:49:47,498 DEBUG [zhunter.io] Reading line list:\n",
      "/Users/palmerio/Code_projects/zHunter/src/zhunter/data/lines/intervening_lines.ecsv\n",
      "2023-06-27 16:49:47,507 DEBUG [zhunter.initialize] Reading emission lines from:\n",
      "/Users/palmerio/Code_projects/zHunter/src/zhunter/data/lines/emission_lines.ecsv\n",
      "2023-06-27 16:49:47,508 DEBUG [zhunter.io] Reading line list:\n",
      "/Users/palmerio/Code_projects/zHunter/src/zhunter/data/lines/emission_lines.ecsv\n",
      "2023-06-27 16:49:47,513 DEBUG [zhunter.initialize] Reading GRB lines from:\n",
      "/Users/palmerio/Code_projects/zHunter/src/zhunter/data/lines/GRB_lines.ecsv\n",
      "2023-06-27 16:49:47,514 DEBUG [zhunter.io] Reading line list:\n",
      "/Users/palmerio/Code_projects/zHunter/src/zhunter/data/lines/GRB_lines.ecsv\n",
      "2023-06-27 16:49:47,519 INFO [zhunter.misc] Calculating line ratios from:\n",
      "/Users/palmerio/Code_projects/zHunter/src/zhunter/data/lines/intervening_lines.ecsv\n",
      "2023-06-27 16:49:47,520 DEBUG [zhunter.io] Reading line list:\n",
      "/Users/palmerio/Code_projects/zHunter/src/zhunter/data/lines/intervening_lines.ecsv\n",
      "2023-06-27 16:49:47,605 INFO [zhunter.misc] Saved line ratios in:\n",
      "/Users/palmerio/Code_projects/zHunter/src/zhunter/data/lines/line_ratio.ecsv\n"
     ]
    },
    {
     "data": {
      "text/plain": [
       "{'intervening': <Table length=130>\n",
       "    name      wave   \n",
       "            Angstrom \n",
       "   str10    float64  \n",
       " --------- ----------\n",
       "  Ly_alpha  1215.6701\n",
       "   Ly_beta  1025.7223\n",
       "  Ly_gamma   972.5368\n",
       "  Ly_delta   949.7431\n",
       "  Ly_limit   911.7633\n",
       "   CI_1560  1560.3092\n",
       "   CI_1657  1656.9284\n",
       "  CII_1334  1334.5323\n",
       " CII_1335*  1335.7077\n",
       "  CIV_1548  1548.2049\n",
       "  CIV_1550 1550.77845\n",
       "   NV_1239   1238.821\n",
       "   NV_1243   1242.804\n",
       "   OI_1302  1302.1685\n",
       "  OI_1305*  1304.8576\n",
       "  OI_1306*  1306.0286\n",
       "  NaI_5892  5891.5833\n",
       "  NaI_5898  5897.5581\n",
       "       ...        ...\n",
       " CoII_1425  1424.7866\n",
       "  NiI_2321  2320.7468\n",
       "  NiI_2312   2311.669\n",
       " NiII_1752  1751.9157\n",
       " NiII_1742  1741.5531\n",
       " NiII_1710  1709.6042\n",
       " NiII_1703  1703.4119\n",
       " NiII_1502   1502.148\n",
       " NiII_1468   1467.756\n",
       " NiII_1467   1467.259\n",
       " NiII_1455   1454.842\n",
       " NiII_1393   1393.324\n",
       " NiII_1370   1370.132\n",
       " NiII_1317   1317.217\n",
       " CuII_1368  1367.9509\n",
       " CuII_1359   1358.773\n",
       "  ZnI_2139  2138.5735\n",
       " ZnII_2063 2062.66045\n",
       " ZnII_2026 2026.13709,\n",
       " 'emission': <Table length=20>\n",
       "    name      awav              latex_str           \n",
       "            Angstrom                                \n",
       "   str10    float64               str31             \n",
       " ---------- -------- -------------------------------\n",
       "   Ly_alpha 1215.111                      Ly$\\alpha$\n",
       "   OII_3726 3726.032   [O\\,\\textsc{ii}]$\\lambda3726$\n",
       "   OII_3729 3728.815   [O\\,\\textsc{ii}]$\\lambda3729$\n",
       " NeIII_3869  3868.76 [Ne\\,\\textsc{iii}]$\\lambda3869$\n",
       "   HeI_3889 3888.647     He\\,\\textsc{i}$\\lambda3889$\n",
       "    H_delta 4101.742                       H$\\delta$\n",
       "    H_gamma 4340.471                       H$\\gamma$\n",
       "  OIII_4363  4363.21  [O\\,\\textsc{iii}]$\\lambda4363$\n",
       "     H_beta 4861.333                        H$\\beta$\n",
       " OIIIa_4959 4958.911  [O\\,\\textsc{iii}]$\\lambda4959$\n",
       " OIIIb_5007 5006.843  [O\\,\\textsc{iii}]$\\lambda5007$\n",
       "   HeI_5876 5875.624     He\\,\\textsc{i}$\\lambda5876$\n",
       "    OI_6300 6300.304    [O\\,\\textsc{i}]$\\lambda6300$\n",
       "   NII_6548  6548.05   [N\\,\\textsc{ii}]$\\lambda6548$\n",
       "    H_alpha 6562.819                       H$\\alpha$\n",
       "   NII_6584  6583.46   [N\\,\\textsc{ii}]$\\lambda6584$\n",
       "   SII_6717  6716.44   [S\\,\\textsc{ii}]$\\lambda6717$\n",
       "   SII_6731  6730.81   [S\\,\\textsc{ii}]$\\lambda6731$\n",
       "  ArIII7135  7135.79 [Ar\\,\\textsc{iii}]$\\lambda7135$\n",
       "   Pa_alpha  18751.3                      Pa$\\alpha$,\n",
       " 'GRB': <Table length=45>\n",
       "        name          wave    freq\n",
       "                    Angstrom      \n",
       "       str17        float64   str1\n",
       " ----------------- ---------- ----\n",
       "        NiII_2166*     2166.2    6\n",
       "        NiII_2170*     2169.8    2\n",
       "        NiII_2175*     2175.4    2\n",
       "        NiII_2217*     2217.2    4\n",
       "        NiII_2317*     2316.7    4\n",
       "        FeII_1613*     1612.8    3\n",
       "        FeII_1619*     1618.5    3\n",
       "        FeII_1622*     1621.7    3\n",
       "        FeII_1629*     1629.2    3\n",
       "        FeII_1634*     1634.4    2\n",
       "        FeII_1636*     1636.3    3\n",
       "        FeII_1637*     1637.4    2\n",
       "        FeII_1702*     1702.0    2\n",
       "        FeII_2328*     2328.1    2\n",
       "        FeII_2334*     2333.5    4\n",
       "        FeII_2339*     2338.7    5\n",
       "        FeII_2345*     2345.0    3\n",
       "        FeII_2349*     2349.0    4\n",
       "               ...        ...  ...\n",
       "        FeII_2407*     2407.4    3\n",
       "        FeII_2411*     2411.3    7\n",
       "        FeII_2412*     2411.8    3\n",
       "        FeII_2414*     2414.1    3\n",
       "        FeII_2608*     2607.9    4\n",
       "        FeII_2613*     2612.7    5\n",
       "        FeII_2615*     2614.6    2\n",
       "        FeII_2618*     2618.4    2\n",
       "        FeII_2623*     2622.5    3\n",
       "        FeII_2627*     2626.5    3\n",
       "        FeII_2629*     2629.1    2\n",
       "        FeII_2632*     2631.9    1\n",
       " FeII_1550_excited 1550.27425    -\n",
       " FeII_1559_excited 1559.08504    -\n",
       " FeII_1560_excited 1560.25209    -\n",
       " FeII_1563_excited 1563.79047    -\n",
       "       FeIII_1895*   1895.473    -\n",
       "       FeIII_1914*   1914.068    -\n",
       "       FeIII_1926*    1926.32    -,\n",
       " 'ratios': <Table length=6942>\n",
       "       ratio                 name        \n",
       "      float64               str21        \n",
       " ------------------ ---------------------\n",
       " 1.0000318790027023    MgI_2026/CoII_2026\n",
       " 1.0000783106584805    AlI_2368/FeII_2368\n",
       " 1.0000879863975727   FeII_1261/SiII_1260\n",
       " 1.0001357805458269   CoII_2026/ZnII_2026\n",
       " 1.0001676638770776    MgI_2026/ZnII_2026\n",
       " 1.0002232083379818 SiII_1265*/SiII_1264*\n",
       " 1.0003130499438753   SiIV_1394/NiII_1393\n",
       "  1.000330232814134 SiII_1818*/SiII_1817*\n",
       " 1.0003387268369115   NiII_1468/NiII_1467\n",
       "    1.0003736669237    OI_1305*/SiII_1304\n",
       " 1.0003882009701373     SiII_1808/SI_1807\n",
       "  1.000714767519818   NiII_1467/CoII_1466\n",
       " 1.0007178142749846    SiII_1260/SII_1259\n",
       " 1.0008058638304493    FeII_1261/SII_1259\n",
       "  1.000880758000387    CII_1335*/CII_1334\n",
       " 1.0008974159325892     OI_1306*/OI_1305*\n",
       " 1.0010141246751108     NaI_5898/NaI_5892\n",
       " 1.0010537364676708   NiII_1468/CoII_1466\n",
       " 1.0010849131697743      SiI_1562/CI_1560\n",
       "                ...                   ...\n",
       " 1.9934313766904517   FeII_2600/SiII_1304\n",
       " 1.9934475851119766   MgII_2796/SiIV_1403\n",
       " 1.9947792207150743  FeII_2383/SiII_1194*\n",
       "  1.994915732557588   FeI_2524/SiII_1265*\n",
       " 1.9952452652965058    SiI_2515/FeII_1261\n",
       "  1.995361014382666   FeI_2524/SiII_1264*\n",
       "  1.995420819739673    SiI_2515/SiII_1260\n",
       " 1.9954345372685545     FeI_2502/SII_1253\n",
       " 1.9957158671716682    MnII_2606/OI_1306*\n",
       " 1.9961046204112791    CoII_1941/Ly_gamma\n",
       " 1.9964059561158771     FeII_2587/SI_1296\n",
       " 1.9968018605119076     FeII_2600/OI_1302\n",
       " 1.9968531612886835     SiI_2515/SII_1259\n",
       "  1.997506854387789    MnII_2606/OI_1305*\n",
       " 1.9975362455156203   FeI_3721/AlIII_1863\n",
       " 1.9982532566291378   MnII_2606/SiII_1304\n",
       " 1.9985640336467576   MgII_2804/SiIV_1403\n",
       " 1.9987229683843952      FeI_2484/NV_1243\n",
       " 1.9989030846919134    TiII_3385/SiI_1693}"
      ]
     },
     "execution_count": 9,
     "metadata": {},
     "output_type": "execute_result"
    }
   ],
   "source": [
    "config[\"lines\"] = init.load_line_lists(fnames=config[\"fnames\"], calc_ratio=True)\n",
    "config[\"lines\"]"
   ]
  },
  {
   "cell_type": "code",
   "execution_count": 12,
   "id": "2faac1a7",
   "metadata": {},
   "outputs": [
    {
     "data": {
      "text/plain": [
       "dict_keys(['fnames', 'colors', 'lines'])"
      ]
     },
     "execution_count": 12,
     "metadata": {},
     "output_type": "execute_result"
    }
   ],
   "source": [
    "config.keys()"
   ]
  },
  {
   "cell_type": "code",
   "execution_count": 13,
   "id": "488cd724",
   "metadata": {},
   "outputs": [
    {
     "data": {
      "text/plain": [
       "dict_keys(['intervening', 'emission', 'GRB', 'ratios'])"
      ]
     },
     "execution_count": 13,
     "metadata": {},
     "output_type": "execute_result"
    }
   ],
   "source": [
    "config['lines'].keys()"
   ]
  },
  {
   "cell_type": "code",
   "execution_count": 18,
   "id": "006792ba",
   "metadata": {},
   "outputs": [
    {
     "data": {
      "text/plain": [
       "{'a': 1, 'b': 5}"
      ]
     },
     "execution_count": 18,
     "metadata": {},
     "output_type": "execute_result"
    }
   ],
   "source": [
    "dic = {'a':1, 'b':5}\n",
    "dic"
   ]
  },
  {
   "cell_type": "code",
   "execution_count": 22,
   "id": "f9674299",
   "metadata": {},
   "outputs": [],
   "source": [
    "d2 = {'a':3, 'c':4}"
   ]
  },
  {
   "cell_type": "code",
   "execution_count": 24,
   "id": "6d9c26fe",
   "metadata": {},
   "outputs": [
    {
     "data": {
      "text/plain": [
       "{'a': 3, 'c': 4}"
      ]
     },
     "execution_count": 24,
     "metadata": {},
     "output_type": "execute_result"
    }
   ],
   "source": [
    "dic = {**{}, **d2}\n",
    "dic"
   ]
  },
  {
   "cell_type": "code",
   "execution_count": null,
   "id": "7fdef475",
   "metadata": {},
   "outputs": [],
   "source": []
  }
 ],
 "metadata": {
  "kernelspec": {
   "display_name": "Python 3 (ipykernel)",
   "language": "python",
   "name": "python3"
  },
  "language_info": {
   "codemirror_mode": {
    "name": "ipython",
    "version": 3
   },
   "file_extension": ".py",
   "mimetype": "text/x-python",
   "name": "python",
   "nbconvert_exporter": "python",
   "pygments_lexer": "ipython3",
   "version": "3.9.16"
  }
 },
 "nbformat": 4,
 "nbformat_minor": 5
}
