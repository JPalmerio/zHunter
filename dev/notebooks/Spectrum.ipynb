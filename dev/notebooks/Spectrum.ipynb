{
 "cells": [
  {
   "cell_type": "code",
   "execution_count": 1,
   "id": "b0568ea3",
   "metadata": {},
   "outputs": [],
   "source": [
    "%gui qt6\n",
    "\n",
    "# Qt6 stuff\n",
    "from PyQt6.QtWidgets import QApplication\n",
    "from PyQt6 import QtWidgets\n",
    "from PyQt6 import QtGui\n",
    "from PyQt6 import QtCore\n",
    "from PyQt6.QtCore import pyqtSignal"
   ]
  },
  {
   "cell_type": "code",
   "execution_count": 2,
   "id": "f133ccf0",
   "metadata": {},
   "outputs": [],
   "source": [
    "# Plotting stuff\n",
    "import pyqtgraph as pg\n",
    "import matplotlib.pyplot as plt\n",
    "import cmasher as cmr\n",
    "\n",
    "# Science stuff\n",
    "import numpy as np\n",
    "import pandas as pd\n",
    "from spectres import spectres\n",
    "\n",
    "# Astropy stuff\n",
    "from astropy.io import fits\n",
    "from astropy.table import Table\n",
    "import astropy.units as u\n",
    "from astropy.units.quantity import Quantity\n",
    "from astropy.io.ascii import read as ascii_read\n",
    "\n",
    "# General stuff\n",
    "import logging\n",
    "import sys\n",
    "from pathlib import Path\n",
    "from itertools import cycle"
   ]
  },
  {
   "cell_type": "code",
   "execution_count": 3,
   "id": "0aef4963",
   "metadata": {},
   "outputs": [],
   "source": [
    "# zHunter stuff\n",
    "import zhunter.initialize as init\n",
    "from zhunter.initialize import DIRS\n",
    "from zhunter import io\n",
    "from zhunter.misc import set_up_linked_vb, get_vb_containing, add_crosshair, generate_fake_1D_spectrum\n",
    "from zhunter.colors import get_gradient\n",
    "from zhunter.spectroscopic_system import SpecSystemModel, SpecSystem\n",
    "from zhunter.MainGraphicsWidget import MainGraphicsWidget\n",
    "from zhunter.data_handler import DataHandler\n",
    "from zhunter.conversions import convert_flux_to_value, convert_wvlg_to_value, convert_to_bins\n"
   ]
  },
  {
   "cell_type": "code",
   "execution_count": 4,
   "id": "13d238c8",
   "metadata": {},
   "outputs": [],
   "source": [
    "# astropalmerio stuff\n",
    "import astropalmerio.spectra as sp\n",
    "import astropalmerio.galaxies as gal\n",
    "import astropalmerio.mc as mc\n",
    "from astropalmerio.spectra import ergscm2AA\n",
    "from astropalmerio.spectra import EmissionLine"
   ]
  },
  {
   "cell_type": "code",
   "execution_count": 5,
   "id": "d703ca5e",
   "metadata": {},
   "outputs": [],
   "source": [
    "from zhunter.colors import COLORS\n",
    "color_style = 'kraken17'\n",
    "colors = COLORS[color_style]"
   ]
  },
  {
   "cell_type": "code",
   "execution_count": 6,
   "id": "4564aa24",
   "metadata": {},
   "outputs": [],
   "source": [
    "log = logging.getLogger(__name__)\n",
    "logging.basicConfig(stream=sys.stdout, level=logging.DEBUG,\n",
    "    format=\"%(asctime)s.%(msecs)03d | %(levelname)-8s | %(funcName)s - %(filename)s:%(lineno)d : %(message)s\",\n",
    "\n",
    "                   )\n",
    "logging.getLogger(\"matplotlib\").setLevel(logging.WARNING)\n",
    "logging.getLogger(\"PIL\").setLevel(logging.WARNING)"
   ]
  },
  {
   "cell_type": "code",
   "execution_count": 7,
   "id": "fe5fc16b",
   "metadata": {},
   "outputs": [],
   "source": [
    "from zhunter.spectrum import OneDSpectrum"
   ]
  },
  {
   "cell_type": "markdown",
   "id": "9c72ae88",
   "metadata": {},
   "source": [
    "# Create Spectrum Object"
   ]
  },
  {
   "cell_type": "code",
   "execution_count": 8,
   "id": "ed1d14e6",
   "metadata": {},
   "outputs": [],
   "source": [
    "spec = OneDSpectrum()\n",
    "# spec = OneDSpectrum(color=colors['specsys'][3])\n",
    "# spec = OneDSpectrum(color='cyan', width=0.8)"
   ]
  },
  {
   "cell_type": "markdown",
   "id": "72b87230",
   "metadata": {},
   "source": [
    "## Load data from a file"
   ]
  },
  {
   "cell_type": "code",
   "execution_count": 9,
   "id": "d1c5a2ef",
   "metadata": {},
   "outputs": [
    {
     "name": "stdout",
     "output_type": "stream",
     "text": [
      "2023-07-28 15:12:12,645.645 | DEBUG    | _set_displayed_data - spectrum.py:246 : Setting the following keys for displaying: ['wvlg', 'flux', 'unc']\n"
     ]
    }
   ],
   "source": [
    "# fname = '/Users/palmerio/Code_projects/zHunter/dev/data/test_input_files/GRB050730_UVES_1D.txt.gz'\n",
    "\n",
    "# spec.load_from_file(fname)\n",
    "\n",
    "# can also load data directly but data must be quantity\n",
    "wvlg, flux, unc = generate_fake_1D_spectrum(\n",
    "    flux_scale=1,\n",
    ")\n",
    "\n",
    "spec.load_from_data(\n",
    "    wvlg=wvlg,\n",
    "    flux=flux,\n",
    "    unc=unc,\n",
    ")"
   ]
  },
  {
   "cell_type": "code",
   "execution_count": 10,
   "id": "641827b9",
   "metadata": {},
   "outputs": [
    {
     "name": "stdout",
     "output_type": "stream",
     "text": [
      "2023-07-28 15:12:12,656.656 | INFO     | info - spectrum.py:320 : Properties of <zhunter.spectrum.OneDSpectrum object at 0x18e197ca0>:\n",
      "{'flux_q025': <Quantity 0.8 erg / (Angstrom cm2 s)>,\n",
      " 'flux_q975': <Quantity 1.196 erg / (Angstrom cm2 s)>,\n",
      " 'flux_unit': Unit(\"erg / (Angstrom cm2 s)\"),\n",
      " 'wvlg_max': <Quantity 700. nm>,\n",
      " 'wvlg_min': <Quantity 550. nm>,\n",
      " 'wvlg_span': <Quantity 150. nm>,\n",
      " 'wvlg_step': <Quantity [0.02, 0.02, 0.02, ..., 0.02, 0.02, 0.02] nm>,\n",
      " 'wvlg_unit': Unit(\"nm\")}\n",
      "Displayed properties of <zhunter.spectrum.OneDSpectrum object at 0x18e197ca0>:\n",
      "{'flux_q025_disp': <Quantity 0.8 erg / (Angstrom cm2 s)>,\n",
      " 'flux_q975_disp': <Quantity 1.196 erg / (Angstrom cm2 s)>,\n",
      " 'wvlg_max_disp': <Quantity 700. nm>,\n",
      " 'wvlg_min_disp': <Quantity 550. nm>,\n",
      " 'wvlg_span_disp': <Quantity 150. nm>,\n",
      " 'wvlg_step_disp': <Quantity [0.02, 0.02, 0.02, ..., 0.02, 0.02, 0.02] nm>}\n"
     ]
    }
   ],
   "source": [
    "spec.info()"
   ]
  },
  {
   "cell_type": "markdown",
   "id": "e32c3ad7",
   "metadata": {},
   "source": [
    "## Change the units\n",
    "In case the spectrum was read with wrong units"
   ]
  },
  {
   "cell_type": "code",
   "execution_count": 11,
   "id": "c4b0d37d",
   "metadata": {},
   "outputs": [
    {
     "name": "stdout",
     "output_type": "stream",
     "text": [
      "2023-07-28 15:12:17,055.055 | WARNING  | _showwarning - logger.py:237 : UnitsWarning: '1e-18 erg/s/cm2/AA' contains multiple slashes, which is discouraged by the FITS standard\n"
     ]
    },
    {
     "name": "stderr",
     "output_type": "stream",
     "text": [
      "WARNING: UnitsWarning: '1e-18 erg/s/cm2/AA' contains multiple slashes, which is discouraged by the FITS standard [astropy.units.format.generic]\n"
     ]
    }
   ],
   "source": [
    "spec.set_flux_unit(u.Unit('1e-18 erg/s/cm2/AA'))\n",
    "# spec.set_wvlg_unit(u.Unit('nm'))"
   ]
  },
  {
   "cell_type": "markdown",
   "id": "74ef76d9",
   "metadata": {},
   "source": [
    "## Visualizing the spectrum"
   ]
  },
  {
   "cell_type": "code",
   "execution_count": 12,
   "id": "01fd3493",
   "metadata": {},
   "outputs": [
    {
     "name": "stdout",
     "output_type": "stream",
     "text": [
      "2023-07-28 15:12:17,888.888 | INFO     | set_up_plot - OneDGraphicsWidget.py:72 : Setting up a new plot called '1D'\n"
     ]
    }
   ],
   "source": [
    "# Classic plotting widget\n",
    "# fig = pg.PlotWidget()\n",
    "# vb = fig.plotItem.vb\n",
    "\n",
    "# or custom plotting widget\n",
    "from zhunter.OneDGraphicsWidget import OneDGraphicsWidget\n",
    "fig = OneDGraphicsWidget()\n",
    "fig.set_up_plot()\n",
    "vb = fig.ax1D.vb\n",
    "\n",
    "fig.show()"
   ]
  },
  {
   "cell_type": "code",
   "execution_count": 13,
   "id": "908fe8ed",
   "metadata": {
    "scrolled": true
   },
   "outputs": [],
   "source": [
    "vb.addItem(spec.PlotItem)\n",
    "vb.addItem(spec.PlotItem_unc)"
   ]
  },
  {
   "cell_type": "code",
   "execution_count": 14,
   "id": "4074d00d",
   "metadata": {},
   "outputs": [
    {
     "name": "stdout",
     "output_type": "stream",
     "text": [
      "2023-07-28 15:12:20,301.301 | INFO     | update_plotted_items - spectrum.py:195 : Updating displayed spectrum\n",
      "2023-07-28 15:12:20,302.302 | DEBUG    | update_plotted_items - spectrum.py:209 : No bounds provided\n"
     ]
    }
   ],
   "source": [
    "spec.update_plotted_items()"
   ]
  },
  {
   "cell_type": "code",
   "execution_count": null,
   "id": "10fc77c1",
   "metadata": {},
   "outputs": [],
   "source": [
    "# Add another spectrum\n",
    "spec2 = OneDSpectrum(color=colors['specsys'][2])"
   ]
  },
  {
   "cell_type": "code",
   "execution_count": 24,
   "id": "4b9cd844",
   "metadata": {},
   "outputs": [
    {
     "name": "stdout",
     "output_type": "stream",
     "text": [
      "2023-07-28 15:20:24,066.066 | DEBUG    | generate_fake_1D_spectrum - misc.py:87 : Adding an emission line with mean: 656.28, stddev: 1, amplitude: 10\n",
      "2023-07-28 15:20:24,069.069 | DEBUG    | _set_displayed_data - spectrum.py:246 : Setting the following keys for displaying: ['wvlg', 'flux', 'unc']\n",
      "2023-07-28 15:20:24,074.074 | INFO     | update_plotted_items - spectrum.py:195 : Updating displayed spectrum\n",
      "2023-07-28 15:20:24,075.075 | DEBUG    | update_plotted_items - spectrum.py:198 : Bounds provided: (<Quantity 640. nm>, <Quantity 680. nm>)\n"
     ]
    }
   ],
   "source": [
    "wvlg, flux, unc = generate_fake_1D_spectrum(\n",
    "    flux_scale=1,\n",
    "    SNR=20,\n",
    "    emission_line={'amplitude':10},\n",
    ")\n",
    "\n",
    "spec2.load_from_data(\n",
    "    wvlg=wvlg,\n",
    "    flux=flux,\n",
    "    unc=unc,\n",
    ")\n",
    "vb.addItem(spec2.PlotItem)\n",
    "vb.addItem(spec2.PlotItem_unc)\n",
    "spec2.update_plotted_items(bounds=(640*u.nm, 680*u.nm))"
   ]
  },
  {
   "cell_type": "markdown",
   "id": "964d3254",
   "metadata": {},
   "source": [
    "## Rebinning"
   ]
  },
  {
   "cell_type": "code",
   "execution_count": 20,
   "id": "e5e3586a",
   "metadata": {},
   "outputs": [
    {
     "name": "stdout",
     "output_type": "stream",
     "text": [
      "2023-07-28 15:15:16,066.066 | WARNING  | convolve_gaussian - spectrum.py:336 : Error/uncertainty propagation is not implemented for convolution.\n",
      "2023-07-28 15:15:16,067.067 | DEBUG    | _set_displayed_data - spectrum.py:246 : Setting the following keys for displaying: ['flux']\n",
      "2023-07-28 15:15:31,498.498 | DEBUG    | keyPressEvent - OneDGraphicsWidget.py:283 : Key: Control, Mouse position: [387,252]\n"
     ]
    }
   ],
   "source": [
    "spec.convolve_gaussian(sigma=3)"
   ]
  },
  {
   "cell_type": "code",
   "execution_count": 21,
   "id": "3487a014",
   "metadata": {},
   "outputs": [
    {
     "name": "stdout",
     "output_type": "stream",
     "text": [
      "2023-07-28 15:15:32,887.887 | INFO     | update_plotted_items - spectrum.py:195 : Updating displayed spectrum\n",
      "2023-07-28 15:15:32,887.887 | DEBUG    | update_plotted_items - spectrum.py:209 : No bounds provided\n",
      "2023-07-28 15:15:41,813.813 | DEBUG    | keyPressEvent - OneDGraphicsWidget.py:283 : Key: Control, Mouse position: [350,214]\n"
     ]
    }
   ],
   "source": [
    "spec.update_plotted_items()"
   ]
  },
  {
   "cell_type": "code",
   "execution_count": 22,
   "id": "f55c9865",
   "metadata": {},
   "outputs": [
    {
     "name": "stdout",
     "output_type": "stream",
     "text": [
      "2023-07-28 15:15:44,899.899 | INFO     | info - spectrum.py:320 : Properties of <zhunter.spectrum.OneDSpectrum object at 0x18e197ca0>:\n",
      "{'flux_q025': <Quantity 0.8 1e-18 erg / (Angstrom cm2 s)>,\n",
      " 'flux_q975': <Quantity 1.196 1e-18 erg / (Angstrom cm2 s)>,\n",
      " 'flux_unit': Unit(\"1e-18 erg / (Angstrom cm2 s)\"),\n",
      " 'wvlg_max': <Quantity 700. nm>,\n",
      " 'wvlg_min': <Quantity 550. nm>,\n",
      " 'wvlg_span': <Quantity 150. nm>,\n",
      " 'wvlg_step': <Quantity [0.02, 0.02, 0.02, ..., 0.02, 0.02, 0.02] nm>,\n",
      " 'wvlg_unit': Unit(\"nm\")}\n",
      "Displayed properties of <zhunter.spectrum.OneDSpectrum object at 0x18e197ca0>:\n",
      "{'flux_q025_disp': <Quantity 0.939 1e-18 erg / (Angstrom cm2 s)>,\n",
      " 'flux_q975_disp': <Quantity 1.059 1e-18 erg / (Angstrom cm2 s)>,\n",
      " 'flux_unit': Unit(\"1e-18 erg / (Angstrom cm2 s)\"),\n",
      " 'gauss_convolution_sigma': 3,\n",
      " 'wvlg_max_disp': <Quantity 700. nm>,\n",
      " 'wvlg_min_disp': <Quantity 550. nm>,\n",
      " 'wvlg_span_disp': <Quantity 150. nm>,\n",
      " 'wvlg_step_disp': <Quantity [0.02, 0.02, 0.02, ..., 0.02, 0.02, 0.02] nm>,\n",
      " 'wvlg_unit': Unit(\"nm\")}\n"
     ]
    }
   ],
   "source": [
    "spec.info()"
   ]
  },
  {
   "cell_type": "code",
   "execution_count": 26,
   "id": "e2d93776",
   "metadata": {},
   "outputs": [],
   "source": [
    "spec2.PlotItem.clear()"
   ]
  },
  {
   "cell_type": "code",
   "execution_count": 38,
   "id": "ec91cdea",
   "metadata": {},
   "outputs": [],
   "source": [
    "from pathlib import Path"
   ]
  },
  {
   "cell_type": "code",
   "execution_count": 43,
   "id": "6d8ccea1",
   "metadata": {},
   "outputs": [
    {
     "data": {
      "text/plain": [
       "itertools.cycle"
      ]
     },
     "execution_count": 43,
     "metadata": {},
     "output_type": "execute_result"
    }
   ],
   "source": [
    "from itertools import cycle\n",
    "type(cycle([1,2,3]))"
   ]
  },
  {
   "cell_type": "code",
   "execution_count": null,
   "id": "3ec44cf4",
   "metadata": {},
   "outputs": [],
   "source": []
  }
 ],
 "metadata": {
  "kernelspec": {
   "display_name": "Python 3 (ipykernel)",
   "language": "python",
   "name": "python3"
  },
  "language_info": {
   "codemirror_mode": {
    "name": "ipython",
    "version": 3
   },
   "file_extension": ".py",
   "mimetype": "text/x-python",
   "name": "python",
   "nbconvert_exporter": "python",
   "pygments_lexer": "ipython3",
   "version": "3.9.16"
  }
 },
 "nbformat": 4,
 "nbformat_minor": 5
}
