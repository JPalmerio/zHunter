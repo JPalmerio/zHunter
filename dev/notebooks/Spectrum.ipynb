{
 "cells": [
  {
   "cell_type": "code",
   "execution_count": 1,
   "id": "b0568ea3",
   "metadata": {},
   "outputs": [],
   "source": [
    "%gui qt6\n",
    "\n",
    "# Qt6 stuff\n",
    "from PyQt6.QtWidgets import QApplication\n",
    "from PyQt6 import QtWidgets\n",
    "from PyQt6 import QtGui\n",
    "from PyQt6 import QtCore\n",
    "from PyQt6.QtCore import pyqtSignal"
   ]
  },
  {
   "cell_type": "code",
   "execution_count": 2,
   "id": "f133ccf0",
   "metadata": {},
   "outputs": [],
   "source": [
    "# Plotting stuff\n",
    "import pyqtgraph as pg\n",
    "import matplotlib.pyplot as plt\n",
    "import cmasher as cmr\n",
    "\n",
    "# Science stuff\n",
    "import numpy as np\n",
    "import pandas as pd\n",
    "from spectres import spectres\n",
    "\n",
    "# Astropy stuff\n",
    "from astropy.io import fits\n",
    "from astropy.table import Table\n",
    "import astropy.units as u\n",
    "from astropy.units.quantity import Quantity\n",
    "from astropy.io.ascii import read as ascii_read\n",
    "\n",
    "# General stuff\n",
    "import logging\n",
    "import sys\n",
    "from pathlib import Path\n",
    "from itertools import cycle"
   ]
  },
  {
   "cell_type": "code",
   "execution_count": 3,
   "id": "0aef4963",
   "metadata": {},
   "outputs": [],
   "source": [
    "# zHunter stuff\n",
    "import zhunter.initialize as init\n",
    "from zhunter.initialize import DIRS\n",
    "from zhunter import io\n",
    "from zhunter.misc import set_up_linked_vb, get_vb_containing, add_crosshair\n",
    "from zhunter.colors import get_gradient\n",
    "from zhunter.spectroscopic_system import SpecSystemModel, SpecSystem\n",
    "from zhunter.MainGraphicsWidget import MainGraphicsWidget\n",
    "from zhunter.data_handler import DataHandler\n",
    "from zhunter.conversions import convert_flux_to_value, convert_wvlg_to_value, convert_to_bins\n"
   ]
  },
  {
   "cell_type": "code",
   "execution_count": 4,
   "id": "13d238c8",
   "metadata": {},
   "outputs": [],
   "source": [
    "# astropalmerio stuff\n",
    "import astropalmerio.spectra as sp\n",
    "import astropalmerio.galaxies as gal\n",
    "import astropalmerio.mc as mc\n",
    "from astropalmerio.spectra import ergscm2AA\n",
    "from astropalmerio.spectra import EmissionLine"
   ]
  },
  {
   "cell_type": "code",
   "execution_count": 5,
   "id": "d703ca5e",
   "metadata": {},
   "outputs": [],
   "source": [
    "from zhunter.colors import COLORS\n",
    "color_style = 'kraken17'\n",
    "colors = COLORS[color_style]"
   ]
  },
  {
   "cell_type": "code",
   "execution_count": 6,
   "id": "4564aa24",
   "metadata": {},
   "outputs": [],
   "source": [
    "log = logging.getLogger(__name__)\n",
    "logging.basicConfig(stream=sys.stdout, level=logging.DEBUG,\n",
    "    format=\"%(asctime)s.%(msecs)03d | %(levelname)-8s | %(funcName)s - %(filename)s:%(lineno)d : %(message)s\",\n",
    "\n",
    "                   )\n",
    "logging.getLogger(\"matplotlib\").setLevel(logging.WARNING)\n",
    "logging.getLogger(\"PIL\").setLevel(logging.WARNING)"
   ]
  },
  {
   "cell_type": "code",
   "execution_count": 7,
   "id": "fe5fc16b",
   "metadata": {},
   "outputs": [],
   "source": [
    "from zhunter.spectrum import OneDSpectrum"
   ]
  },
  {
   "cell_type": "markdown",
   "id": "9c72ae88",
   "metadata": {},
   "source": [
    "# Create Spectrum Object"
   ]
  },
  {
   "cell_type": "code",
   "execution_count": 8,
   "id": "ed1d14e6",
   "metadata": {},
   "outputs": [],
   "source": [
    "spec = OneDSpectrum()\n",
    "# spec = OneDSpectrum(color=colors['specsys'][3])\n",
    "# spec = OneDSpectrum(color='cyan', width=0.8)"
   ]
  },
  {
   "cell_type": "markdown",
   "id": "72b87230",
   "metadata": {},
   "source": [
    "## Load data from a file"
   ]
  },
  {
   "cell_type": "code",
   "execution_count": 9,
   "id": "d1c5a2ef",
   "metadata": {},
   "outputs": [
    {
     "name": "stdout",
     "output_type": "stream",
     "text": [
      "2023-07-22 15:40:03,406.406 | DEBUG    | read_1D_spectrum - io.py:94 : Read 1D spectrum from file:\n",
      "/Users/palmerio/Code_projects/zHunter/dev/data/test_input_files/GRB050730_UVES_1D.txt.gz\n",
      "2023-07-22 15:40:03,407.407 | INFO     | read_generic_1D_spectrum - io.py:146 : Attempting to read file:\n",
      "/Users/palmerio/Code_projects/zHunter/dev/data/test_input_files/GRB050730_UVES_1D.txt.gz\n",
      "2023-07-22 15:40:03,408.408 | DEBUG    | read_generic_1D_spectrum - io.py:165 : Reading with pandas read_csv function\n",
      "2023-07-22 15:40:03,467.467 | DEBUG    | read_generic_1D_spectrum - io.py:189 : Found the following columns: ['6650.32321600311', '0.0', '0.0020367487']\n",
      "2023-07-22 15:40:03,468.468 | DEBUG    | find_column_name - io.py:821 : Did not find any name matching ['WAVE', 'AWAV', 'WVLG', 'LAM'] in ['6650.32321600311', '0.0', '0.0020367487']\n",
      "2023-07-22 15:40:03,469.469 | DEBUG    | find_column_name - io.py:821 : Did not find any name matching ['FLUX', 'SCI'] in ['6650.32321600311', '0.0', '0.0020367487']\n",
      "2023-07-22 15:40:03,470.470 | DEBUG    | find_column_name - io.py:821 : Did not find any name matching ['ERR', 'NOISE', 'SIGMA', 'UNC'] in ['6650.32321600311', '0.0', '0.0020367487']\n",
      "2023-07-22 15:40:03,470.470 | DEBUG    | read_generic_1D_spectrum - io.py:209 : Could not find any reasonable column names for file:\n",
      "/Users/palmerio/Code_projects/zHunter/dev/data/test_input_files/GRB050730_UVES_1D.txt.gz\n",
      " Extracting data assuming default format: wave, flux, uncertainty.\n",
      "2023-07-22 15:40:03,529.529 | DEBUG    | parse_units_from_column_name - io.py:639 : No unit could be parsed from column name 'wave'\n",
      "2023-07-22 15:40:03,530.530 | DEBUG    | parse_units_from_column_name - io.py:639 : No unit could be parsed from column name 'flux'\n",
      "2023-07-22 15:40:03,531.531 | INFO     | read_generic_1D_spectrum - io.py:259 : No units specified for wave, assuming Angstrom.\n",
      "2023-07-22 15:40:03,531.531 | INFO     | read_generic_1D_spectrum - io.py:262 : No units specified for flux, assuming ADU.\n",
      "2023-07-22 15:40:03,533.533 | DEBUG    | _set_displayed_data - spectrum.py:198 : Setting the following keys for displaying: ['wvlg', 'flux', 'unc']\n"
     ]
    }
   ],
   "source": [
    "fname = '/Users/palmerio/Code_projects/zHunter/dev/data/test_input_files/GRB050730_UVES_1D.txt.gz'\n",
    "\n",
    "spec.load_spectrum_from_file(fname)\n",
    "\n",
    "# can also load data directly but data must be quantity\n",
    "# spec.load_spectrum_from_data(\n",
    "#     wvlg=wvlg,\n",
    "#     flux=flux,\n",
    "#     unc=unc,\n",
    "# )"
   ]
  },
  {
   "cell_type": "code",
   "execution_count": 10,
   "id": "e8353f9b",
   "metadata": {},
   "outputs": [
    {
     "name": "stdout",
     "output_type": "stream",
     "text": [
      "2023-07-22 15:40:03,548.548 | INFO     | info - spectrum.py:265 : Properties of <zhunter.spectrum.OneDSpectrum object at 0x18e4743a0>:\n",
      "{'filename': '/Users/palmerio/Code_projects/zHunter/dev/data/test_input_files/GRB050730_UVES_1D.txt.gz',\n",
      " 'flux_q025': <Quantity -0.158 adu>,\n",
      " 'flux_q975': <Quantity 0.962 adu>,\n",
      " 'flux_unit': Unit(\"adu\"),\n",
      " 'wvlg_max': <Quantity 10426.105 Angstrom>,\n",
      " 'wvlg_min': <Quantity 6650.323 Angstrom>,\n",
      " 'wvlg_span': <Quantity 3775.781 Angstrom>,\n",
      " 'wvlg_step': <Quantity [0.04, 0.04, 0.04, ..., 0.05, 0.05, 0.05] Angstrom>,\n",
      " 'wvlg_unit': Unit(\"Angstrom\")}\n",
      "Displayed properties of <zhunter.spectrum.OneDSpectrum object at 0x18e4743a0>:\n",
      "{'flux_q025_disp': <Quantity -0.158 adu>,\n",
      " 'flux_q975_disp': <Quantity 0.962 adu>,\n",
      " 'wvlg_max_disp': <Quantity 10426.105 Angstrom>,\n",
      " 'wvlg_min_disp': <Quantity 6650.323 Angstrom>,\n",
      " 'wvlg_span_disp': <Quantity 3775.781 Angstrom>,\n",
      " 'wvlg_step_disp': <Quantity [0.04, 0.04, 0.04, ..., 0.05, 0.05, 0.05] Angstrom>}\n"
     ]
    }
   ],
   "source": [
    "spec.info()"
   ]
  },
  {
   "cell_type": "markdown",
   "id": "e32c3ad7",
   "metadata": {},
   "source": [
    "## Change the units\n",
    "In case the spectrum was read with wrong units"
   ]
  },
  {
   "cell_type": "code",
   "execution_count": 11,
   "id": "c4b0d37d",
   "metadata": {},
   "outputs": [
    {
     "name": "stdout",
     "output_type": "stream",
     "text": [
      "2023-07-22 15:40:03,560.560 | WARNING  | _showwarning - logger.py:237 : UnitsWarning: '1e-18 erg/s/cm2/AA' contains multiple slashes, which is discouraged by the FITS standard\n"
     ]
    },
    {
     "name": "stderr",
     "output_type": "stream",
     "text": [
      "WARNING: UnitsWarning: '1e-18 erg/s/cm2/AA' contains multiple slashes, which is discouraged by the FITS standard [astropy.units.format.generic]\n"
     ]
    }
   ],
   "source": [
    "spec.set_flux_unit(u.Unit('1e-18 erg/s/cm2/AA'))\n",
    "# spec.set_wvlg_unit(u.Unit('nm'))"
   ]
  },
  {
   "cell_type": "code",
   "execution_count": 12,
   "id": "284e809d",
   "metadata": {},
   "outputs": [
    {
     "name": "stdout",
     "output_type": "stream",
     "text": [
      "2023-07-22 15:40:03,576.576 | INFO     | info - spectrum.py:265 : Properties of <zhunter.spectrum.OneDSpectrum object at 0x18e4743a0>:\n",
      "{'filename': '/Users/palmerio/Code_projects/zHunter/dev/data/test_input_files/GRB050730_UVES_1D.txt.gz',\n",
      " 'flux_q025': <Quantity -0.158 1e-18 erg / (Angstrom cm2 s)>,\n",
      " 'flux_q975': <Quantity 0.962 1e-18 erg / (Angstrom cm2 s)>,\n",
      " 'flux_unit': Unit(\"1e-18 erg / (Angstrom cm2 s)\"),\n",
      " 'wvlg_max': <Quantity 10426.105 Angstrom>,\n",
      " 'wvlg_min': <Quantity 6650.323 Angstrom>,\n",
      " 'wvlg_span': <Quantity 3775.781 Angstrom>,\n",
      " 'wvlg_step': <Quantity [0.04, 0.04, 0.04, ..., 0.05, 0.05, 0.05] Angstrom>,\n",
      " 'wvlg_unit': Unit(\"Angstrom\")}\n",
      "Displayed properties of <zhunter.spectrum.OneDSpectrum object at 0x18e4743a0>:\n",
      "{'flux_q025_disp': <Quantity -0.158 1e-18 erg / (Angstrom cm2 s)>,\n",
      " 'flux_q975_disp': <Quantity 0.962 1e-18 erg / (Angstrom cm2 s)>,\n",
      " 'wvlg_max_disp': <Quantity 10426.105 Angstrom>,\n",
      " 'wvlg_min_disp': <Quantity 6650.323 Angstrom>,\n",
      " 'wvlg_span_disp': <Quantity 3775.781 Angstrom>,\n",
      " 'wvlg_step_disp': <Quantity [0.04, 0.04, 0.04, ..., 0.05, 0.05, 0.05] Angstrom>}\n"
     ]
    }
   ],
   "source": [
    "spec.info()"
   ]
  },
  {
   "cell_type": "markdown",
   "id": "74ef76d9",
   "metadata": {},
   "source": [
    "## Visualizing the spectrum"
   ]
  },
  {
   "cell_type": "code",
   "execution_count": 13,
   "id": "01fd3493",
   "metadata": {},
   "outputs": [
    {
     "name": "stdout",
     "output_type": "stream",
     "text": [
      "2023-07-22 15:40:03,591.591 | INFO     | set_up_plot - OneDGraphicsWidget.py:72 : Setting up a new plot called '1D'\n"
     ]
    }
   ],
   "source": [
    "# Classic plotting widget\n",
    "# fig = pg.PlotWidget()\n",
    "# vb = fig.plotItem.vb\n",
    "\n",
    "# or custom plotting widget\n",
    "from zhunter.OneDGraphicsWidget import OneDGraphicsWidget\n",
    "fig = OneDGraphicsWidget()\n",
    "fig.set_up_plot()\n",
    "vb = fig.ax1D.vb\n",
    "\n",
    "fig.show()"
   ]
  },
  {
   "cell_type": "code",
   "execution_count": 15,
   "id": "908fe8ed",
   "metadata": {
    "scrolled": true
   },
   "outputs": [],
   "source": [
    "vb.addItem(spec.PlotItem)\n",
    "vb.addItem(spec.PlotItem_unc)"
   ]
  },
  {
   "cell_type": "code",
   "execution_count": 16,
   "id": "4074d00d",
   "metadata": {},
   "outputs": [
    {
     "name": "stdout",
     "output_type": "stream",
     "text": [
      "2023-07-22 15:40:21,586.586 | INFO     | update_plotted_items - spectrum.py:145 : Updatind spectrum with bounds: (None, None) and units: (None, None)\n"
     ]
    }
   ],
   "source": [
    "spec.update_plotted_items()"
   ]
  },
  {
   "cell_type": "markdown",
   "id": "964d3254",
   "metadata": {},
   "source": [
    "## Rebinning"
   ]
  },
  {
   "cell_type": "code",
   "execution_count": 17,
   "id": "e5e3586a",
   "metadata": {},
   "outputs": [
    {
     "name": "stdout",
     "output_type": "stream",
     "text": [
      "2023-07-22 15:40:38,587.587 | WARNING  | convolve_gaussian - spectrum.py:314 : Error/uncertainty propagation is not implemented for convolution.\n",
      "2023-07-22 15:40:38,588.588 | DEBUG    | _set_displayed_data - spectrum.py:198 : Setting the following keys for displaying: ['flux']\n",
      "2023-07-22 15:40:43,854.854 | DEBUG    | keyPressEvent - OneDGraphicsWidget.py:283 : Key: Control, Mouse position: [63,351]\n",
      "2023-07-22 15:40:43,855.855 | DEBUG    | keyPressEvent - OneDGraphicsWidget.py:291 : key press didn't occur in any plot\n"
     ]
    }
   ],
   "source": [
    "spec.convolve_gaussian(sigma=10)"
   ]
  },
  {
   "cell_type": "code",
   "execution_count": 18,
   "id": "3487a014",
   "metadata": {},
   "outputs": [
    {
     "name": "stdout",
     "output_type": "stream",
     "text": [
      "2023-07-22 15:40:53,143.143 | INFO     | update_plotted_items - spectrum.py:145 : Updatind spectrum with bounds: (None, None) and units: (None, None)\n"
     ]
    }
   ],
   "source": [
    "spec.update_plotted_items()"
   ]
  },
  {
   "cell_type": "code",
   "execution_count": 19,
   "id": "295d5ddb",
   "metadata": {},
   "outputs": [],
   "source": [
    "from zhunter.spectral_functions import smooth, convolve_spectrum\n",
    "from astropy.convolution import Gaussian1DKernel\n",
    "from scipy.ndimage import gaussian_filter1d"
   ]
  },
  {
   "cell_type": "code",
   "execution_count": 18,
   "id": "91a8a5b0",
   "metadata": {},
   "outputs": [
    {
     "name": "stdout",
     "output_type": "stream",
     "text": [
      "2023-07-21 14:50:47,722.722 | DEBUG    | keyPressEvent - OneDGraphicsWidget.py:283 : Key: A, Mouse position: [563,495]\n",
      "2023-07-21 14:50:47,995.995 | DEBUG    | keyPressEvent - OneDGraphicsWidget.py:283 : Key: A, Mouse position: [563,495]\n",
      "2023-07-21 14:50:50,716.716 | DEBUG    | keyPressEvent - OneDGraphicsWidget.py:283 : Key: A, Mouse position: [777,544]\n",
      "2023-07-21 14:51:04,196.196 | DEBUG    | keyPressEvent - OneDGraphicsWidget.py:283 : Key: A, Mouse position: [793,308]\n",
      "2023-07-21 14:51:04,627.627 | DEBUG    | keyPressEvent - OneDGraphicsWidget.py:283 : Key: A, Mouse position: [793,308]\n",
      "2023-07-21 14:51:05,196.196 | DEBUG    | keyPressEvent - OneDGraphicsWidget.py:283 : Key: A, Mouse position: [793,308]\n",
      "2023-07-21 14:51:06,403.403 | DEBUG    | keyPressEvent - OneDGraphicsWidget.py:283 : Key: A, Mouse position: [793,308]\n",
      "2023-07-21 14:51:07,252.252 | DEBUG    | keyPressEvent - OneDGraphicsWidget.py:283 : Key: A, Mouse position: [793,308]\n",
      "2023-07-21 14:51:08,351.351 | DEBUG    | keyPressEvent - OneDGraphicsWidget.py:283 : Key: A, Mouse position: [793,308]\n",
      "2023-07-21 14:51:09,540.540 | DEBUG    | keyPressEvent - OneDGraphicsWidget.py:283 : Key: A, Mouse position: [793,308]\n",
      "2023-07-21 14:51:15,544.544 | DEBUG    | keyPressEvent - OneDGraphicsWidget.py:283 : Key: Control, Mouse position: [793,308]\n",
      "2023-07-21 14:51:25,843.843 | DEBUG    | keyPressEvent - OneDGraphicsWidget.py:283 : Key: Control, Mouse position: [793,308]\n"
     ]
    }
   ],
   "source": [
    "y = gaussian_filter1d(spec.data['flux'].value, sigma=2)\n",
    "\n",
    "x = convert_to_bins(spec.displayed_data['wvlg'])\n",
    "\n",
    "pi = pg.PlotCurveItem(\n",
    "    x,\n",
    "    y,\n",
    "    stepMode=\"center\",\n",
    "    pen=pg.mkPen(\n",
    "        color='cyan',\n",
    "        width=1,\n",
    "    ),\n",
    ")\n",
    "vb.addItem(pi)\n"
   ]
  },
  {
   "cell_type": "code",
   "execution_count": 23,
   "id": "bc24aa3e",
   "metadata": {},
   "outputs": [
    {
     "name": "stdout",
     "output_type": "stream",
     "text": [
      "2023-07-21 14:55:52,659.659 | DEBUG    | keyPressEvent - OneDGraphicsWidget.py:283 : Key: A, Mouse position: [692,433]\n",
      "2023-07-21 14:55:55,595.595 | DEBUG    | keyPressEvent - OneDGraphicsWidget.py:283 : Key: D, Mouse position: [783,433]\n",
      "2023-07-21 14:55:55,843.843 | DEBUG    | keyPressEvent - OneDGraphicsWidget.py:283 : Key: D, Mouse position: [783,433]\n",
      "2023-07-21 14:55:56,086.086 | DEBUG    | keyPressEvent - OneDGraphicsWidget.py:283 : Key: D, Mouse position: [783,433]\n",
      "2023-07-21 14:55:56,326.326 | DEBUG    | keyPressEvent - OneDGraphicsWidget.py:283 : Key: D, Mouse position: [783,433]\n",
      "2023-07-21 14:55:57,766.766 | DEBUG    | keyPressEvent - OneDGraphicsWidget.py:283 : Key: A, Mouse position: [783,433]\n",
      "2023-07-21 14:55:58,350.350 | DEBUG    | keyPressEvent - OneDGraphicsWidget.py:283 : Key: A, Mouse position: [783,433]\n",
      "2023-07-21 14:55:58,554.554 | DEBUG    | keyPressEvent - OneDGraphicsWidget.py:283 : Key: A, Mouse position: [783,433]\n",
      "2023-07-21 14:55:58,665.665 | DEBUG    | keyPressEvent - OneDGraphicsWidget.py:283 : Key: A, Mouse position: [783,433]\n",
      "2023-07-21 14:55:58,765.765 | DEBUG    | keyPressEvent - OneDGraphicsWidget.py:283 : Key: A, Mouse position: [783,433]\n",
      "2023-07-21 14:55:58,866.866 | DEBUG    | keyPressEvent - OneDGraphicsWidget.py:283 : Key: A, Mouse position: [783,433]\n",
      "2023-07-21 14:55:58,967.967 | DEBUG    | keyPressEvent - OneDGraphicsWidget.py:283 : Key: A, Mouse position: [783,433]\n",
      "2023-07-21 14:55:59,163.163 | DEBUG    | keyPressEvent - OneDGraphicsWidget.py:283 : Key: A, Mouse position: [783,433]\n",
      "2023-07-21 14:55:59,348.348 | DEBUG    | keyPressEvent - OneDGraphicsWidget.py:283 : Key: A, Mouse position: [783,433]\n",
      "2023-07-21 14:55:59,505.505 | DEBUG    | keyPressEvent - OneDGraphicsWidget.py:283 : Key: A, Mouse position: [783,433]\n",
      "2023-07-21 14:55:59,684.684 | DEBUG    | keyPressEvent - OneDGraphicsWidget.py:283 : Key: A, Mouse position: [783,433]\n",
      "2023-07-21 14:55:59,866.866 | DEBUG    | keyPressEvent - OneDGraphicsWidget.py:283 : Key: A, Mouse position: [783,433]\n",
      "2023-07-21 14:56:00,042.042 | DEBUG    | keyPressEvent - OneDGraphicsWidget.py:283 : Key: A, Mouse position: [783,433]\n",
      "2023-07-21 14:56:00,226.226 | DEBUG    | keyPressEvent - OneDGraphicsWidget.py:283 : Key: A, Mouse position: [783,433]\n",
      "2023-07-21 14:56:00,396.396 | DEBUG    | keyPressEvent - OneDGraphicsWidget.py:283 : Key: A, Mouse position: [783,433]\n",
      "2023-07-21 14:56:00,562.562 | DEBUG    | keyPressEvent - OneDGraphicsWidget.py:283 : Key: A, Mouse position: [783,433]\n",
      "2023-07-21 14:56:01,831.831 | DEBUG    | keyPressEvent - OneDGraphicsWidget.py:283 : Key: D, Mouse position: [769,427]\n",
      "2023-07-21 14:56:02,192.192 | DEBUG    | keyPressEvent - OneDGraphicsWidget.py:283 : Key: D, Mouse position: [769,427]\n",
      "2023-07-21 14:56:02,382.382 | DEBUG    | keyPressEvent - OneDGraphicsWidget.py:283 : Key: D, Mouse position: [769,427]\n",
      "2023-07-21 14:56:02,483.483 | DEBUG    | keyPressEvent - OneDGraphicsWidget.py:283 : Key: D, Mouse position: [769,427]\n",
      "2023-07-21 14:56:02,582.582 | DEBUG    | keyPressEvent - OneDGraphicsWidget.py:283 : Key: D, Mouse position: [769,427]\n",
      "2023-07-21 14:56:02,681.681 | DEBUG    | keyPressEvent - OneDGraphicsWidget.py:283 : Key: D, Mouse position: [769,427]\n",
      "2023-07-21 14:56:02,783.783 | DEBUG    | keyPressEvent - OneDGraphicsWidget.py:283 : Key: D, Mouse position: [769,427]\n",
      "2023-07-21 14:56:02,887.887 | DEBUG    | keyPressEvent - OneDGraphicsWidget.py:283 : Key: D, Mouse position: [769,427]\n",
      "2023-07-21 14:56:02,985.985 | DEBUG    | keyPressEvent - OneDGraphicsWidget.py:283 : Key: D, Mouse position: [769,427]\n",
      "2023-07-21 14:56:03,172.172 | DEBUG    | keyPressEvent - OneDGraphicsWidget.py:283 : Key: D, Mouse position: [769,427]\n",
      "2023-07-21 14:56:03,372.372 | DEBUG    | keyPressEvent - OneDGraphicsWidget.py:283 : Key: D, Mouse position: [769,427]\n",
      "2023-07-21 14:56:03,572.572 | DEBUG    | keyPressEvent - OneDGraphicsWidget.py:283 : Key: D, Mouse position: [769,427]\n",
      "2023-07-21 14:56:03,765.765 | DEBUG    | keyPressEvent - OneDGraphicsWidget.py:283 : Key: D, Mouse position: [769,427]\n",
      "2023-07-21 14:56:03,960.960 | DEBUG    | keyPressEvent - OneDGraphicsWidget.py:283 : Key: D, Mouse position: [769,427]\n",
      "2023-07-21 14:56:04,154.154 | DEBUG    | keyPressEvent - OneDGraphicsWidget.py:283 : Key: D, Mouse position: [769,427]\n",
      "2023-07-21 14:56:04,351.351 | DEBUG    | keyPressEvent - OneDGraphicsWidget.py:283 : Key: D, Mouse position: [769,427]\n",
      "2023-07-21 14:56:04,602.602 | DEBUG    | keyPressEvent - OneDGraphicsWidget.py:283 : Key: D, Mouse position: [769,427]\n",
      "2023-07-21 14:56:04,826.826 | DEBUG    | keyPressEvent - OneDGraphicsWidget.py:283 : Key: D, Mouse position: [769,427]\n",
      "2023-07-21 14:56:05,036.036 | DEBUG    | keyPressEvent - OneDGraphicsWidget.py:283 : Key: D, Mouse position: [769,427]\n",
      "2023-07-21 14:56:05,238.238 | DEBUG    | keyPressEvent - OneDGraphicsWidget.py:283 : Key: D, Mouse position: [769,427]\n",
      "2023-07-21 14:56:05,459.459 | DEBUG    | keyPressEvent - OneDGraphicsWidget.py:283 : Key: D, Mouse position: [769,427]\n",
      "2023-07-21 14:56:05,750.750 | DEBUG    | keyPressEvent - OneDGraphicsWidget.py:283 : Key: D, Mouse position: [769,427]\n",
      "2023-07-21 14:56:05,949.949 | DEBUG    | keyPressEvent - OneDGraphicsWidget.py:283 : Key: D, Mouse position: [769,427]\n",
      "2023-07-21 14:56:06,162.162 | DEBUG    | keyPressEvent - OneDGraphicsWidget.py:283 : Key: D, Mouse position: [769,427]\n",
      "2023-07-21 14:56:06,373.373 | DEBUG    | keyPressEvent - OneDGraphicsWidget.py:283 : Key: D, Mouse position: [769,427]\n",
      "2023-07-21 14:56:06,597.597 | DEBUG    | keyPressEvent - OneDGraphicsWidget.py:283 : Key: D, Mouse position: [769,427]\n",
      "2023-07-21 14:56:07,233.233 | DEBUG    | keyPressEvent - OneDGraphicsWidget.py:283 : Key: D, Mouse position: [769,427]\n",
      "2023-07-21 14:56:07,457.457 | DEBUG    | keyPressEvent - OneDGraphicsWidget.py:283 : Key: D, Mouse position: [769,427]\n",
      "2023-07-21 14:56:07,721.721 | DEBUG    | keyPressEvent - OneDGraphicsWidget.py:283 : Key: D, Mouse position: [769,427]\n",
      "2023-07-21 14:56:08,940.940 | DEBUG    | keyPressEvent - OneDGraphicsWidget.py:283 : Key: D, Mouse position: [769,427]\n",
      "2023-07-21 14:56:09,511.511 | DEBUG    | keyPressEvent - OneDGraphicsWidget.py:283 : Key: D, Mouse position: [769,427]\n",
      "2023-07-21 14:56:09,739.739 | DEBUG    | keyPressEvent - OneDGraphicsWidget.py:283 : Key: D, Mouse position: [769,427]\n",
      "2023-07-21 14:56:10,063.063 | DEBUG    | keyPressEvent - OneDGraphicsWidget.py:283 : Key: D, Mouse position: [769,427]\n",
      "2023-07-21 14:56:10,302.302 | DEBUG    | keyPressEvent - OneDGraphicsWidget.py:283 : Key: D, Mouse position: [769,427]\n",
      "2023-07-21 14:56:10,522.522 | DEBUG    | keyPressEvent - OneDGraphicsWidget.py:283 : Key: D, Mouse position: [769,427]\n",
      "2023-07-21 14:56:10,768.768 | DEBUG    | keyPressEvent - OneDGraphicsWidget.py:283 : Key: D, Mouse position: [769,427]\n",
      "2023-07-21 14:56:10,984.984 | DEBUG    | keyPressEvent - OneDGraphicsWidget.py:283 : Key: D, Mouse position: [769,427]\n",
      "2023-07-21 14:56:12,460.460 | DEBUG    | keyPressEvent - OneDGraphicsWidget.py:283 : Key: A, Mouse position: [769,427]\n",
      "2023-07-21 14:56:16,083.083 | DEBUG    | keyPressEvent - OneDGraphicsWidget.py:283 : Key: Control, Mouse position: [769,427]\n",
      "2023-07-21 14:56:55,143.143 | DEBUG    | keyPressEvent - OneDGraphicsWidget.py:283 : Key: D, Mouse position: [1521,483]\n",
      "2023-07-21 14:56:55,357.357 | DEBUG    | keyPressEvent - OneDGraphicsWidget.py:283 : Key: D, Mouse position: [1521,483]\n",
      "2023-07-21 14:56:55,564.564 | DEBUG    | keyPressEvent - OneDGraphicsWidget.py:283 : Key: D, Mouse position: [1521,483]\n",
      "2023-07-21 14:56:55,762.762 | DEBUG    | keyPressEvent - OneDGraphicsWidget.py:283 : Key: D, Mouse position: [1521,483]\n",
      "2023-07-21 14:57:07,824.824 | DEBUG    | keyPressEvent - OneDGraphicsWidget.py:283 : Key: D, Mouse position: [1084,258]\n",
      "2023-07-21 14:57:08,047.047 | DEBUG    | keyPressEvent - OneDGraphicsWidget.py:283 : Key: D, Mouse position: [1084,258]\n",
      "2023-07-21 14:57:08,241.241 | DEBUG    | keyPressEvent - OneDGraphicsWidget.py:283 : Key: D, Mouse position: [1084,258]\n",
      "2023-07-21 14:57:08,450.450 | DEBUG    | keyPressEvent - OneDGraphicsWidget.py:283 : Key: D, Mouse position: [1084,258]\n",
      "2023-07-21 14:57:08,680.680 | DEBUG    | keyPressEvent - OneDGraphicsWidget.py:283 : Key: D, Mouse position: [1084,258]\n"
     ]
    },
    {
     "name": "stdout",
     "output_type": "stream",
     "text": [
      "2023-07-21 14:57:08,910.910 | DEBUG    | keyPressEvent - OneDGraphicsWidget.py:283 : Key: D, Mouse position: [1084,258]\n",
      "2023-07-21 14:57:09,090.090 | DEBUG    | keyPressEvent - OneDGraphicsWidget.py:283 : Key: D, Mouse position: [1084,258]\n",
      "2023-07-21 14:57:09,276.276 | DEBUG    | keyPressEvent - OneDGraphicsWidget.py:283 : Key: D, Mouse position: [1084,258]\n",
      "2023-07-21 14:57:09,455.455 | DEBUG    | keyPressEvent - OneDGraphicsWidget.py:283 : Key: D, Mouse position: [1084,258]\n",
      "2023-07-21 14:57:09,628.628 | DEBUG    | keyPressEvent - OneDGraphicsWidget.py:283 : Key: D, Mouse position: [1084,258]\n",
      "2023-07-21 14:57:09,806.806 | DEBUG    | keyPressEvent - OneDGraphicsWidget.py:283 : Key: D, Mouse position: [1084,258]\n",
      "2023-07-21 14:57:09,993.993 | DEBUG    | keyPressEvent - OneDGraphicsWidget.py:283 : Key: D, Mouse position: [1084,258]\n",
      "2023-07-21 14:57:10,418.418 | DEBUG    | keyPressEvent - OneDGraphicsWidget.py:283 : Key: D, Mouse position: [1084,258]\n",
      "2023-07-21 14:57:10,910.910 | DEBUG    | keyPressEvent - OneDGraphicsWidget.py:283 : Key: D, Mouse position: [1084,258]\n",
      "2023-07-21 14:57:12,034.034 | DEBUG    | keyPressEvent - OneDGraphicsWidget.py:283 : Key: D, Mouse position: [1084,258]\n",
      "2023-07-21 14:57:12,229.229 | DEBUG    | keyPressEvent - OneDGraphicsWidget.py:283 : Key: D, Mouse position: [1084,258]\n",
      "2023-07-21 14:57:12,531.531 | DEBUG    | keyPressEvent - OneDGraphicsWidget.py:283 : Key: D, Mouse position: [1084,258]\n",
      "2023-07-21 14:57:12,775.775 | DEBUG    | keyPressEvent - OneDGraphicsWidget.py:283 : Key: D, Mouse position: [1084,258]\n",
      "2023-07-21 14:57:13,007.007 | DEBUG    | keyPressEvent - OneDGraphicsWidget.py:283 : Key: D, Mouse position: [1084,258]\n",
      "2023-07-21 14:57:14,701.701 | DEBUG    | keyPressEvent - OneDGraphicsWidget.py:283 : Key: D, Mouse position: [1084,258]\n",
      "2023-07-21 14:57:15,477.477 | DEBUG    | keyPressEvent - OneDGraphicsWidget.py:283 : Key: D, Mouse position: [1084,258]\n",
      "2023-07-21 14:57:15,681.681 | DEBUG    | keyPressEvent - OneDGraphicsWidget.py:283 : Key: D, Mouse position: [1084,258]\n",
      "2023-07-21 14:57:15,861.861 | DEBUG    | keyPressEvent - OneDGraphicsWidget.py:283 : Key: D, Mouse position: [1084,258]\n",
      "2023-07-21 14:57:16,098.098 | DEBUG    | keyPressEvent - OneDGraphicsWidget.py:283 : Key: D, Mouse position: [1084,258]\n",
      "2023-07-21 14:57:18,524.524 | DEBUG    | keyPressEvent - OneDGraphicsWidget.py:283 : Key: D, Mouse position: [1084,258]\n",
      "2023-07-21 14:57:18,841.841 | DEBUG    | keyPressEvent - OneDGraphicsWidget.py:283 : Key: D, Mouse position: [1084,258]\n",
      "2023-07-21 14:57:19,096.096 | DEBUG    | keyPressEvent - OneDGraphicsWidget.py:283 : Key: D, Mouse position: [1084,258]\n",
      "2023-07-21 14:57:19,380.380 | DEBUG    | keyPressEvent - OneDGraphicsWidget.py:283 : Key: D, Mouse position: [1084,258]\n",
      "2023-07-21 14:57:19,626.626 | DEBUG    | keyPressEvent - OneDGraphicsWidget.py:283 : Key: D, Mouse position: [1084,258]\n",
      "2023-07-21 14:57:19,874.874 | DEBUG    | keyPressEvent - OneDGraphicsWidget.py:283 : Key: D, Mouse position: [1084,258]\n",
      "2023-07-21 14:57:20,090.090 | DEBUG    | keyPressEvent - OneDGraphicsWidget.py:283 : Key: D, Mouse position: [1084,258]\n",
      "2023-07-21 14:57:20,302.302 | DEBUG    | keyPressEvent - OneDGraphicsWidget.py:283 : Key: D, Mouse position: [1084,258]\n",
      "2023-07-21 14:57:20,494.494 | DEBUG    | keyPressEvent - OneDGraphicsWidget.py:283 : Key: D, Mouse position: [1084,258]\n",
      "2023-07-21 14:57:20,719.719 | DEBUG    | keyPressEvent - OneDGraphicsWidget.py:283 : Key: D, Mouse position: [1084,258]\n",
      "2023-07-21 14:57:21,010.010 | DEBUG    | keyPressEvent - OneDGraphicsWidget.py:283 : Key: D, Mouse position: [1084,258]\n",
      "2023-07-21 14:57:21,235.235 | DEBUG    | keyPressEvent - OneDGraphicsWidget.py:283 : Key: D, Mouse position: [1084,258]\n",
      "2023-07-21 14:57:21,518.518 | DEBUG    | keyPressEvent - OneDGraphicsWidget.py:283 : Key: D, Mouse position: [1084,258]\n",
      "2023-07-21 14:57:21,811.811 | DEBUG    | keyPressEvent - OneDGraphicsWidget.py:283 : Key: D, Mouse position: [1084,258]\n",
      "2023-07-21 14:57:22,083.083 | DEBUG    | keyPressEvent - OneDGraphicsWidget.py:283 : Key: D, Mouse position: [1084,258]\n",
      "2023-07-21 14:57:22,309.309 | DEBUG    | keyPressEvent - OneDGraphicsWidget.py:283 : Key: D, Mouse position: [1084,258]\n",
      "2023-07-21 14:57:22,523.523 | DEBUG    | keyPressEvent - OneDGraphicsWidget.py:283 : Key: D, Mouse position: [1084,258]\n",
      "2023-07-21 14:57:22,737.737 | DEBUG    | keyPressEvent - OneDGraphicsWidget.py:283 : Key: D, Mouse position: [1084,258]\n",
      "2023-07-21 14:57:22,952.952 | DEBUG    | keyPressEvent - OneDGraphicsWidget.py:283 : Key: D, Mouse position: [1084,258]\n",
      "2023-07-21 14:57:23,165.165 | DEBUG    | keyPressEvent - OneDGraphicsWidget.py:283 : Key: D, Mouse position: [1084,258]\n",
      "2023-07-21 14:57:23,390.390 | DEBUG    | keyPressEvent - OneDGraphicsWidget.py:283 : Key: D, Mouse position: [1084,258]\n",
      "2023-07-21 14:57:23,659.659 | DEBUG    | keyPressEvent - OneDGraphicsWidget.py:283 : Key: D, Mouse position: [1084,258]\n",
      "2023-07-21 14:57:24,019.019 | DEBUG    | keyPressEvent - OneDGraphicsWidget.py:283 : Key: D, Mouse position: [1084,258]\n",
      "2023-07-21 14:57:24,261.261 | DEBUG    | keyPressEvent - OneDGraphicsWidget.py:283 : Key: D, Mouse position: [1084,258]\n",
      "2023-07-21 14:57:24,454.454 | DEBUG    | keyPressEvent - OneDGraphicsWidget.py:283 : Key: D, Mouse position: [1084,258]\n",
      "2023-07-21 14:57:24,680.680 | DEBUG    | keyPressEvent - OneDGraphicsWidget.py:283 : Key: D, Mouse position: [1084,258]\n",
      "2023-07-21 14:57:24,867.867 | DEBUG    | keyPressEvent - OneDGraphicsWidget.py:283 : Key: D, Mouse position: [1084,258]\n",
      "2023-07-21 14:57:25,063.063 | DEBUG    | keyPressEvent - OneDGraphicsWidget.py:283 : Key: D, Mouse position: [1084,258]\n",
      "2023-07-21 14:57:25,254.254 | DEBUG    | keyPressEvent - OneDGraphicsWidget.py:283 : Key: D, Mouse position: [1084,258]\n",
      "2023-07-21 14:57:25,465.465 | DEBUG    | keyPressEvent - OneDGraphicsWidget.py:283 : Key: D, Mouse position: [1084,258]\n",
      "2023-07-21 14:57:25,682.682 | DEBUG    | keyPressEvent - OneDGraphicsWidget.py:283 : Key: D, Mouse position: [1084,258]\n",
      "2023-07-21 14:57:25,917.917 | DEBUG    | keyPressEvent - OneDGraphicsWidget.py:283 : Key: D, Mouse position: [1084,258]\n",
      "2023-07-21 14:57:26,114.114 | DEBUG    | keyPressEvent - OneDGraphicsWidget.py:283 : Key: D, Mouse position: [1084,258]\n",
      "2023-07-21 14:57:26,305.305 | DEBUG    | keyPressEvent - OneDGraphicsWidget.py:283 : Key: D, Mouse position: [1084,258]\n",
      "2023-07-21 14:57:26,655.655 | DEBUG    | keyPressEvent - OneDGraphicsWidget.py:283 : Key: D, Mouse position: [1084,258]\n",
      "2023-07-21 14:57:26,936.936 | DEBUG    | keyPressEvent - OneDGraphicsWidget.py:283 : Key: D, Mouse position: [1084,258]\n",
      "2023-07-21 14:57:30,780.780 | DEBUG    | keyPressEvent - OneDGraphicsWidget.py:283 : Key: D, Mouse position: [1084,258]\n",
      "2023-07-21 14:57:31,069.069 | DEBUG    | keyPressEvent - OneDGraphicsWidget.py:283 : Key: D, Mouse position: [1084,258]\n",
      "2023-07-21 14:57:31,264.264 | DEBUG    | keyPressEvent - OneDGraphicsWidget.py:283 : Key: D, Mouse position: [1084,258]\n",
      "2023-07-21 14:57:31,480.480 | DEBUG    | keyPressEvent - OneDGraphicsWidget.py:283 : Key: D, Mouse position: [1084,258]\n",
      "2023-07-21 14:57:31,672.672 | DEBUG    | keyPressEvent - OneDGraphicsWidget.py:283 : Key: D, Mouse position: [1084,258]\n",
      "2023-07-21 14:57:31,860.860 | DEBUG    | keyPressEvent - OneDGraphicsWidget.py:283 : Key: D, Mouse position: [1084,258]\n",
      "2023-07-21 14:57:32,077.077 | DEBUG    | keyPressEvent - OneDGraphicsWidget.py:283 : Key: D, Mouse position: [1084,258]\n",
      "2023-07-21 14:57:32,283.283 | DEBUG    | keyPressEvent - OneDGraphicsWidget.py:283 : Key: D, Mouse position: [1084,258]\n",
      "2023-07-21 14:57:32,467.467 | DEBUG    | keyPressEvent - OneDGraphicsWidget.py:283 : Key: D, Mouse position: [1084,258]\n",
      "2023-07-21 14:57:32,668.668 | DEBUG    | keyPressEvent - OneDGraphicsWidget.py:283 : Key: D, Mouse position: [1084,258]\n",
      "2023-07-21 14:57:32,845.845 | DEBUG    | keyPressEvent - OneDGraphicsWidget.py:283 : Key: D, Mouse position: [1084,258]\n",
      "2023-07-21 14:57:33,035.035 | DEBUG    | keyPressEvent - OneDGraphicsWidget.py:283 : Key: D, Mouse position: [1084,258]\n",
      "2023-07-21 14:57:33,253.253 | DEBUG    | keyPressEvent - OneDGraphicsWidget.py:283 : Key: D, Mouse position: [1084,258]\n",
      "2023-07-21 14:57:33,507.507 | DEBUG    | keyPressEvent - OneDGraphicsWidget.py:283 : Key: D, Mouse position: [1084,258]\n"
     ]
    },
    {
     "name": "stdout",
     "output_type": "stream",
     "text": [
      "2023-07-21 14:57:33,783.783 | DEBUG    | keyPressEvent - OneDGraphicsWidget.py:283 : Key: D, Mouse position: [1084,258]\n",
      "2023-07-21 14:57:34,003.003 | DEBUG    | keyPressEvent - OneDGraphicsWidget.py:283 : Key: D, Mouse position: [1084,258]\n",
      "2023-07-21 14:57:34,291.291 | DEBUG    | keyPressEvent - OneDGraphicsWidget.py:283 : Key: D, Mouse position: [1084,258]\n",
      "2023-07-21 14:57:34,553.553 | DEBUG    | keyPressEvent - OneDGraphicsWidget.py:283 : Key: D, Mouse position: [1084,258]\n",
      "2023-07-21 14:57:34,818.818 | DEBUG    | keyPressEvent - OneDGraphicsWidget.py:283 : Key: D, Mouse position: [1084,258]\n",
      "2023-07-21 14:57:35,270.270 | DEBUG    | keyPressEvent - OneDGraphicsWidget.py:283 : Key: Control, Mouse position: [1084,258]\n"
     ]
    }
   ],
   "source": [
    "w, y, u = smooth(\n",
    "    wvlg=spec.data['wvlg'].value,\n",
    "    flux=spec.data['flux'].value,\n",
    "    unc=spec.data['unc'].value,\n",
    ")\n",
    "\n",
    "x = convert_to_bins(w)\n",
    "\n",
    "pi = pg.PlotCurveItem(\n",
    "    x,\n",
    "    y,\n",
    "    stepMode=\"center\",\n",
    "    pen=pg.mkPen(\n",
    "        color='purple',\n",
    "        width=2,\n",
    "    ),\n",
    ")\n",
    "vb.addItem(pi)\n"
   ]
  },
  {
   "cell_type": "code",
   "execution_count": 21,
   "id": "fbf21123",
   "metadata": {},
   "outputs": [
    {
     "name": "stdout",
     "output_type": "stream",
     "text": [
      "2023-07-21 14:51:50,622.622 | INFO     | convolve_spectrum - spectral_functions.py:314 : Spectra convolved!\n"
     ]
    }
   ],
   "source": [
    "w, f, u = convolve_spectrum(\n",
    "    wvlg=spec.data['wvlg'].value,\n",
    "    flux=spec.data['flux'].value,\n",
    "    unc=spec.data['unc'].value,\n",
    "    to_resolution=20000)"
   ]
  },
  {
   "cell_type": "code",
   "execution_count": 22,
   "id": "17cedd11",
   "metadata": {},
   "outputs": [
    {
     "name": "stdout",
     "output_type": "stream",
     "text": [
      "2023-07-21 14:52:30,041.041 | DEBUG    | keyPressEvent - OneDGraphicsWidget.py:283 : Key: A, Mouse position: [707,466]\n",
      "2023-07-21 14:52:30,515.515 | DEBUG    | keyPressEvent - OneDGraphicsWidget.py:283 : Key: A, Mouse position: [707,466]\n",
      "2023-07-21 14:52:31,081.081 | DEBUG    | keyPressEvent - OneDGraphicsWidget.py:283 : Key: A, Mouse position: [707,466]\n",
      "2023-07-21 14:52:32,693.693 | DEBUG    | keyPressEvent - OneDGraphicsWidget.py:283 : Key: A, Mouse position: [707,466]\n",
      "2023-07-21 14:52:32,912.912 | DEBUG    | keyPressEvent - OneDGraphicsWidget.py:283 : Key: A, Mouse position: [707,466]\n",
      "2023-07-21 14:52:33,150.150 | DEBUG    | keyPressEvent - OneDGraphicsWidget.py:283 : Key: A, Mouse position: [707,466]\n",
      "2023-07-21 14:52:33,880.880 | DEBUG    | keyPressEvent - OneDGraphicsWidget.py:283 : Key: A, Mouse position: [707,466]\n",
      "2023-07-21 14:52:34,453.453 | DEBUG    | keyPressEvent - OneDGraphicsWidget.py:283 : Key: A, Mouse position: [707,466]\n",
      "2023-07-21 14:52:34,893.893 | DEBUG    | keyPressEvent - OneDGraphicsWidget.py:283 : Key: A, Mouse position: [707,466]\n",
      "2023-07-21 14:52:35,986.986 | DEBUG    | keyPressEvent - OneDGraphicsWidget.py:283 : Key: A, Mouse position: [707,466]\n",
      "2023-07-21 14:52:36,415.415 | DEBUG    | keyPressEvent - OneDGraphicsWidget.py:283 : Key: A, Mouse position: [707,466]\n",
      "2023-07-21 14:52:36,761.761 | DEBUG    | keyPressEvent - OneDGraphicsWidget.py:283 : Key: A, Mouse position: [707,466]\n",
      "2023-07-21 14:52:37,118.118 | DEBUG    | keyPressEvent - OneDGraphicsWidget.py:283 : Key: A, Mouse position: [707,466]\n",
      "2023-07-21 14:52:37,458.458 | DEBUG    | keyPressEvent - OneDGraphicsWidget.py:283 : Key: A, Mouse position: [707,466]\n",
      "2023-07-21 14:52:37,790.790 | DEBUG    | keyPressEvent - OneDGraphicsWidget.py:283 : Key: A, Mouse position: [707,466]\n",
      "2023-07-21 14:52:38,180.180 | DEBUG    | keyPressEvent - OneDGraphicsWidget.py:283 : Key: A, Mouse position: [707,466]\n",
      "2023-07-21 14:52:38,502.502 | DEBUG    | keyPressEvent - OneDGraphicsWidget.py:283 : Key: A, Mouse position: [707,466]\n",
      "2023-07-21 14:52:38,846.846 | DEBUG    | keyPressEvent - OneDGraphicsWidget.py:283 : Key: A, Mouse position: [707,466]\n",
      "2023-07-21 14:52:39,172.172 | DEBUG    | keyPressEvent - OneDGraphicsWidget.py:283 : Key: A, Mouse position: [707,466]\n",
      "2023-07-21 14:52:39,428.428 | DEBUG    | keyPressEvent - OneDGraphicsWidget.py:283 : Key: A, Mouse position: [707,466]\n",
      "2023-07-21 14:52:39,647.647 | DEBUG    | keyPressEvent - OneDGraphicsWidget.py:283 : Key: A, Mouse position: [707,466]\n",
      "2023-07-21 14:52:39,833.833 | DEBUG    | keyPressEvent - OneDGraphicsWidget.py:283 : Key: A, Mouse position: [707,466]\n",
      "2023-07-21 14:52:44,767.767 | DEBUG    | keyPressEvent - OneDGraphicsWidget.py:283 : Key: A, Mouse position: [707,466]\n",
      "2023-07-21 14:52:45,059.059 | DEBUG    | keyPressEvent - OneDGraphicsWidget.py:283 : Key: A, Mouse position: [707,466]\n",
      "2023-07-21 14:52:45,330.330 | DEBUG    | keyPressEvent - OneDGraphicsWidget.py:283 : Key: A, Mouse position: [707,466]\n",
      "2023-07-21 14:52:45,582.582 | DEBUG    | keyPressEvent - OneDGraphicsWidget.py:283 : Key: A, Mouse position: [707,466]\n",
      "2023-07-21 14:52:47,126.126 | DEBUG    | keyPressEvent - OneDGraphicsWidget.py:283 : Key: A, Mouse position: [742,313]\n",
      "2023-07-21 14:52:47,392.392 | DEBUG    | keyPressEvent - OneDGraphicsWidget.py:283 : Key: A, Mouse position: [742,313]\n",
      "2023-07-21 14:52:47,820.820 | DEBUG    | keyPressEvent - OneDGraphicsWidget.py:283 : Key: A, Mouse position: [742,313]\n",
      "2023-07-21 14:52:48,394.394 | DEBUG    | keyPressEvent - OneDGraphicsWidget.py:283 : Key: A, Mouse position: [742,313]\n",
      "2023-07-21 14:52:48,651.651 | DEBUG    | keyPressEvent - OneDGraphicsWidget.py:283 : Key: A, Mouse position: [742,313]\n",
      "2023-07-21 14:52:48,899.899 | DEBUG    | keyPressEvent - OneDGraphicsWidget.py:283 : Key: A, Mouse position: [742,313]\n",
      "2023-07-21 14:52:50,576.576 | DEBUG    | keyPressEvent - OneDGraphicsWidget.py:283 : Key: A, Mouse position: [742,313]\n",
      "2023-07-21 14:52:50,918.918 | DEBUG    | keyPressEvent - OneDGraphicsWidget.py:283 : Key: A, Mouse position: [742,313]\n",
      "2023-07-21 14:52:51,304.304 | DEBUG    | keyPressEvent - OneDGraphicsWidget.py:283 : Key: A, Mouse position: [742,313]\n",
      "2023-07-21 14:52:51,688.688 | DEBUG    | keyPressEvent - OneDGraphicsWidget.py:283 : Key: A, Mouse position: [742,313]\n",
      "2023-07-21 14:52:52,178.178 | DEBUG    | keyPressEvent - OneDGraphicsWidget.py:283 : Key: A, Mouse position: [742,313]\n",
      "2023-07-21 14:52:52,945.945 | DEBUG    | keyPressEvent - OneDGraphicsWidget.py:283 : Key: A, Mouse position: [742,313]\n",
      "2023-07-21 14:52:58,305.305 | DEBUG    | keyPressEvent - OneDGraphicsWidget.py:283 : Key: A, Mouse position: [742,313]\n",
      "2023-07-21 14:52:58,652.652 | DEBUG    | keyPressEvent - OneDGraphicsWidget.py:283 : Key: A, Mouse position: [742,313]\n",
      "2023-07-21 14:52:58,999.999 | DEBUG    | keyPressEvent - OneDGraphicsWidget.py:283 : Key: A, Mouse position: [742,313]\n",
      "2023-07-21 14:52:59,333.333 | DEBUG    | keyPressEvent - OneDGraphicsWidget.py:283 : Key: A, Mouse position: [742,313]\n",
      "2023-07-21 14:52:59,662.662 | DEBUG    | keyPressEvent - OneDGraphicsWidget.py:283 : Key: A, Mouse position: [742,313]\n",
      "2023-07-21 14:53:00,009.009 | DEBUG    | keyPressEvent - OneDGraphicsWidget.py:283 : Key: A, Mouse position: [742,313]\n",
      "2023-07-21 14:53:00,367.367 | DEBUG    | keyPressEvent - OneDGraphicsWidget.py:283 : Key: A, Mouse position: [742,313]\n",
      "2023-07-21 14:53:00,687.687 | DEBUG    | keyPressEvent - OneDGraphicsWidget.py:283 : Key: A, Mouse position: [742,313]\n",
      "2023-07-21 14:53:00,983.983 | DEBUG    | keyPressEvent - OneDGraphicsWidget.py:283 : Key: A, Mouse position: [742,313]\n",
      "2023-07-21 14:53:01,343.343 | DEBUG    | keyPressEvent - OneDGraphicsWidget.py:283 : Key: A, Mouse position: [742,313]\n",
      "2023-07-21 14:53:01,747.747 | DEBUG    | keyPressEvent - OneDGraphicsWidget.py:283 : Key: A, Mouse position: [742,313]\n",
      "2023-07-21 14:53:09,946.946 | DEBUG    | keyPressEvent - OneDGraphicsWidget.py:283 : Key: A, Mouse position: [742,313]\n",
      "2023-07-21 14:53:10,381.381 | DEBUG    | keyPressEvent - OneDGraphicsWidget.py:283 : Key: A, Mouse position: [742,313]\n",
      "2023-07-21 14:53:11,516.516 | DEBUG    | keyPressEvent - OneDGraphicsWidget.py:283 : Key: A, Mouse position: [742,313]\n",
      "2023-07-21 14:53:12,227.227 | DEBUG    | keyPressEvent - OneDGraphicsWidget.py:283 : Key: A, Mouse position: [742,313]\n",
      "2023-07-21 14:53:12,581.581 | DEBUG    | keyPressEvent - OneDGraphicsWidget.py:283 : Key: A, Mouse position: [742,313]\n",
      "2023-07-21 14:53:12,914.914 | DEBUG    | keyPressEvent - OneDGraphicsWidget.py:283 : Key: A, Mouse position: [742,313]\n",
      "2023-07-21 14:53:13,260.260 | DEBUG    | keyPressEvent - OneDGraphicsWidget.py:283 : Key: A, Mouse position: [742,313]\n",
      "2023-07-21 14:53:13,652.652 | DEBUG    | keyPressEvent - OneDGraphicsWidget.py:283 : Key: A, Mouse position: [742,313]\n",
      "2023-07-21 14:53:15,187.187 | DEBUG    | keyPressEvent - OneDGraphicsWidget.py:283 : Key: A, Mouse position: [742,313]\n",
      "2023-07-21 14:53:20,656.656 | DEBUG    | keyPressEvent - OneDGraphicsWidget.py:283 : Key: A, Mouse position: [742,313]\n",
      "2023-07-21 14:53:21,073.073 | DEBUG    | keyPressEvent - OneDGraphicsWidget.py:283 : Key: A, Mouse position: [742,313]\n",
      "2023-07-21 14:53:21,450.450 | DEBUG    | keyPressEvent - OneDGraphicsWidget.py:283 : Key: A, Mouse position: [742,313]\n",
      "2023-07-21 14:53:21,738.738 | DEBUG    | keyPressEvent - OneDGraphicsWidget.py:283 : Key: D, Mouse position: [742,313]\n",
      "2023-07-21 14:53:21,938.938 | DEBUG    | keyPressEvent - OneDGraphicsWidget.py:283 : Key: D, Mouse position: [742,313]\n",
      "2023-07-21 14:53:22,209.209 | DEBUG    | keyPressEvent - OneDGraphicsWidget.py:283 : Key: D, Mouse position: [742,313]\n",
      "2023-07-21 14:54:00,774.774 | DEBUG    | keyPressEvent - OneDGraphicsWidget.py:283 : Key: D, Mouse position: [833,427]\n",
      "2023-07-21 14:54:01,099.099 | DEBUG    | keyPressEvent - OneDGraphicsWidget.py:283 : Key: D, Mouse position: [833,427]\n",
      "2023-07-21 14:54:11,636.636 | DEBUG    | keyPressEvent - OneDGraphicsWidget.py:283 : Key: Control, Mouse position: [833,427]\n"
     ]
    }
   ],
   "source": [
    "x = convert_to_bins(w)\n",
    "y=f\n",
    "\n",
    "pi = pg.PlotCurveItem(\n",
    "    x,\n",
    "    y,\n",
    "    stepMode=\"center\",\n",
    "    pen=pg.mkPen(\n",
    "        color='orange',\n",
    "        width=3,\n",
    "    ),\n",
    ")\n",
    "vb.addItem(pi)\n"
   ]
  },
  {
   "cell_type": "code",
   "execution_count": 44,
   "id": "85f899b8",
   "metadata": {},
   "outputs": [
    {
     "name": "stdout",
     "output_type": "stream",
     "text": [
      "2023-07-19 21:35:26,244.244 | DEBUG    | keyPressEvent - OneDGraphicsWidget.py:283 : Key: A, Mouse position: [945,480]\n",
      "2023-07-19 21:35:26,830.830 | DEBUG    | keyPressEvent - OneDGraphicsWidget.py:283 : Key: A, Mouse position: [945,480]\n",
      "2023-07-19 21:35:26,961.961 | DEBUG    | keyPressEvent - OneDGraphicsWidget.py:283 : Key: A, Mouse position: [945,480]\n",
      "2023-07-19 21:35:27,037.037 | DEBUG    | keyPressEvent - OneDGraphicsWidget.py:283 : Key: A, Mouse position: [945,480]\n",
      "2023-07-19 21:35:27,106.106 | DEBUG    | keyPressEvent - OneDGraphicsWidget.py:283 : Key: A, Mouse position: [945,480]\n",
      "2023-07-19 21:35:27,174.174 | DEBUG    | keyPressEvent - OneDGraphicsWidget.py:283 : Key: A, Mouse position: [945,480]\n",
      "2023-07-19 21:35:27,243.243 | DEBUG    | keyPressEvent - OneDGraphicsWidget.py:283 : Key: A, Mouse position: [945,480]\n",
      "2023-07-19 21:35:27,312.312 | DEBUG    | keyPressEvent - OneDGraphicsWidget.py:283 : Key: A, Mouse position: [945,480]\n",
      "2023-07-19 21:35:27,381.381 | DEBUG    | keyPressEvent - OneDGraphicsWidget.py:283 : Key: A, Mouse position: [945,480]\n",
      "2023-07-19 21:35:27,447.447 | DEBUG    | keyPressEvent - OneDGraphicsWidget.py:283 : Key: A, Mouse position: [945,480]\n",
      "2023-07-19 21:35:27,515.515 | DEBUG    | keyPressEvent - OneDGraphicsWidget.py:283 : Key: A, Mouse position: [945,480]\n",
      "2023-07-19 21:35:27,583.583 | DEBUG    | keyPressEvent - OneDGraphicsWidget.py:283 : Key: A, Mouse position: [945,480]\n",
      "2023-07-19 21:35:27,649.649 | DEBUG    | keyPressEvent - OneDGraphicsWidget.py:283 : Key: A, Mouse position: [945,480]\n",
      "2023-07-19 21:35:27,720.720 | DEBUG    | keyPressEvent - OneDGraphicsWidget.py:283 : Key: A, Mouse position: [945,480]\n",
      "2023-07-19 21:35:27,792.792 | DEBUG    | keyPressEvent - OneDGraphicsWidget.py:283 : Key: A, Mouse position: [945,480]\n",
      "2023-07-19 21:35:27,858.858 | DEBUG    | keyPressEvent - OneDGraphicsWidget.py:283 : Key: A, Mouse position: [945,480]\n",
      "2023-07-19 21:35:27,922.922 | DEBUG    | keyPressEvent - OneDGraphicsWidget.py:283 : Key: A, Mouse position: [945,480]\n",
      "2023-07-19 21:35:27,990.990 | DEBUG    | keyPressEvent - OneDGraphicsWidget.py:283 : Key: A, Mouse position: [945,480]\n",
      "2023-07-19 21:35:28,060.060 | DEBUG    | keyPressEvent - OneDGraphicsWidget.py:283 : Key: A, Mouse position: [945,480]\n",
      "2023-07-19 21:35:28,130.130 | DEBUG    | keyPressEvent - OneDGraphicsWidget.py:283 : Key: A, Mouse position: [945,480]\n",
      "2023-07-19 21:35:28,194.194 | DEBUG    | keyPressEvent - OneDGraphicsWidget.py:283 : Key: A, Mouse position: [945,480]\n",
      "2023-07-19 21:35:28,264.264 | DEBUG    | keyPressEvent - OneDGraphicsWidget.py:283 : Key: A, Mouse position: [945,480]\n",
      "2023-07-19 21:35:28,338.338 | DEBUG    | keyPressEvent - OneDGraphicsWidget.py:283 : Key: A, Mouse position: [945,480]\n",
      "2023-07-19 21:35:28,405.405 | DEBUG    | keyPressEvent - OneDGraphicsWidget.py:283 : Key: A, Mouse position: [945,480]\n",
      "2023-07-19 21:35:28,476.476 | DEBUG    | keyPressEvent - OneDGraphicsWidget.py:283 : Key: A, Mouse position: [945,480]\n",
      "2023-07-19 21:35:28,543.543 | DEBUG    | keyPressEvent - OneDGraphicsWidget.py:283 : Key: A, Mouse position: [945,480]\n",
      "2023-07-19 21:35:28,614.614 | DEBUG    | keyPressEvent - OneDGraphicsWidget.py:283 : Key: A, Mouse position: [945,480]\n",
      "2023-07-19 21:35:28,679.679 | DEBUG    | keyPressEvent - OneDGraphicsWidget.py:283 : Key: A, Mouse position: [945,480]\n",
      "2023-07-19 21:35:28,746.746 | DEBUG    | keyPressEvent - OneDGraphicsWidget.py:283 : Key: A, Mouse position: [945,480]\n",
      "2023-07-19 21:35:28,810.810 | DEBUG    | keyPressEvent - OneDGraphicsWidget.py:283 : Key: A, Mouse position: [945,480]\n",
      "2023-07-19 21:35:28,876.876 | DEBUG    | keyPressEvent - OneDGraphicsWidget.py:283 : Key: A, Mouse position: [945,480]\n",
      "2023-07-19 21:35:28,936.936 | DEBUG    | keyPressEvent - OneDGraphicsWidget.py:283 : Key: A, Mouse position: [945,480]\n",
      "2023-07-19 21:35:29,000.000 | DEBUG    | keyPressEvent - OneDGraphicsWidget.py:283 : Key: A, Mouse position: [945,480]\n",
      "2023-07-19 21:35:29,069.069 | DEBUG    | keyPressEvent - OneDGraphicsWidget.py:283 : Key: A, Mouse position: [945,480]\n",
      "2023-07-19 21:35:29,139.139 | DEBUG    | keyPressEvent - OneDGraphicsWidget.py:283 : Key: A, Mouse position: [945,480]\n",
      "2023-07-19 21:35:29,204.204 | DEBUG    | keyPressEvent - OneDGraphicsWidget.py:283 : Key: A, Mouse position: [945,480]\n",
      "2023-07-19 21:35:29,270.270 | DEBUG    | keyPressEvent - OneDGraphicsWidget.py:283 : Key: A, Mouse position: [945,480]\n",
      "2023-07-19 21:35:29,335.335 | DEBUG    | keyPressEvent - OneDGraphicsWidget.py:283 : Key: A, Mouse position: [945,480]\n",
      "2023-07-19 21:35:29,402.402 | DEBUG    | keyPressEvent - OneDGraphicsWidget.py:283 : Key: A, Mouse position: [945,480]\n",
      "2023-07-19 21:35:29,465.465 | DEBUG    | keyPressEvent - OneDGraphicsWidget.py:283 : Key: A, Mouse position: [945,480]\n",
      "2023-07-19 21:35:29,529.529 | DEBUG    | keyPressEvent - OneDGraphicsWidget.py:283 : Key: A, Mouse position: [945,480]\n",
      "2023-07-19 21:35:29,595.595 | DEBUG    | keyPressEvent - OneDGraphicsWidget.py:283 : Key: A, Mouse position: [945,480]\n",
      "2023-07-19 21:35:29,661.661 | DEBUG    | keyPressEvent - OneDGraphicsWidget.py:283 : Key: A, Mouse position: [945,480]\n",
      "2023-07-19 21:35:29,727.727 | DEBUG    | keyPressEvent - OneDGraphicsWidget.py:283 : Key: A, Mouse position: [945,480]\n",
      "2023-07-19 21:35:29,790.790 | DEBUG    | keyPressEvent - OneDGraphicsWidget.py:283 : Key: A, Mouse position: [945,480]\n",
      "2023-07-19 21:35:29,852.852 | DEBUG    | keyPressEvent - OneDGraphicsWidget.py:283 : Key: A, Mouse position: [945,480]\n",
      "2023-07-19 21:35:29,915.915 | DEBUG    | keyPressEvent - OneDGraphicsWidget.py:283 : Key: A, Mouse position: [945,480]\n",
      "2023-07-19 21:35:29,981.981 | DEBUG    | keyPressEvent - OneDGraphicsWidget.py:283 : Key: A, Mouse position: [945,480]\n",
      "2023-07-19 21:35:30,047.047 | DEBUG    | keyPressEvent - OneDGraphicsWidget.py:283 : Key: A, Mouse position: [945,480]\n",
      "2023-07-19 21:35:30,720.720 | DEBUG    | keyPressEvent - OneDGraphicsWidget.py:283 : Key: A, Mouse position: [945,480]\n",
      "2023-07-19 21:35:31,304.304 | DEBUG    | keyPressEvent - OneDGraphicsWidget.py:283 : Key: A, Mouse position: [945,480]\n",
      "2023-07-19 21:35:31,431.431 | DEBUG    | keyPressEvent - OneDGraphicsWidget.py:283 : Key: A, Mouse position: [945,480]\n",
      "2023-07-19 21:35:31,492.492 | DEBUG    | keyPressEvent - OneDGraphicsWidget.py:283 : Key: A, Mouse position: [945,480]\n",
      "2023-07-19 21:35:31,559.559 | DEBUG    | keyPressEvent - OneDGraphicsWidget.py:283 : Key: A, Mouse position: [945,480]\n",
      "2023-07-19 21:35:31,629.629 | DEBUG    | keyPressEvent - OneDGraphicsWidget.py:283 : Key: A, Mouse position: [945,480]\n",
      "2023-07-19 21:35:31,691.691 | DEBUG    | keyPressEvent - OneDGraphicsWidget.py:283 : Key: A, Mouse position: [945,480]\n",
      "2023-07-19 21:35:42,493.493 | DEBUG    | keyPressEvent - OneDGraphicsWidget.py:283 : Key: A, Mouse position: [920,480]\n",
      "2023-07-19 21:35:42,724.724 | DEBUG    | keyPressEvent - OneDGraphicsWidget.py:283 : Key: A, Mouse position: [920,480]\n",
      "2023-07-19 21:35:42,921.921 | DEBUG    | keyPressEvent - OneDGraphicsWidget.py:283 : Key: A, Mouse position: [920,480]\n",
      "2023-07-19 21:35:43,093.093 | DEBUG    | keyPressEvent - OneDGraphicsWidget.py:283 : Key: A, Mouse position: [920,480]\n",
      "2023-07-19 21:35:43,267.267 | DEBUG    | keyPressEvent - OneDGraphicsWidget.py:283 : Key: A, Mouse position: [920,480]\n",
      "2023-07-19 21:35:43,449.449 | DEBUG    | keyPressEvent - OneDGraphicsWidget.py:283 : Key: A, Mouse position: [920,480]\n",
      "2023-07-19 21:35:43,612.612 | DEBUG    | keyPressEvent - OneDGraphicsWidget.py:283 : Key: A, Mouse position: [920,480]\n",
      "2023-07-19 21:35:43,782.782 | DEBUG    | keyPressEvent - OneDGraphicsWidget.py:283 : Key: A, Mouse position: [920,480]\n",
      "2023-07-19 21:35:43,970.970 | DEBUG    | keyPressEvent - OneDGraphicsWidget.py:283 : Key: A, Mouse position: [920,480]\n",
      "2023-07-19 21:35:44,141.141 | DEBUG    | keyPressEvent - OneDGraphicsWidget.py:283 : Key: A, Mouse position: [920,480]\n",
      "2023-07-19 21:35:45,680.680 | DEBUG    | keyPressEvent - OneDGraphicsWidget.py:283 : Key: A, Mouse position: [920,480]\n",
      "2023-07-19 21:35:46,262.262 | DEBUG    | keyPressEvent - OneDGraphicsWidget.py:283 : Key: A, Mouse position: [920,480]\n",
      "2023-07-19 21:35:46,484.484 | DEBUG    | keyPressEvent - OneDGraphicsWidget.py:283 : Key: A, Mouse position: [920,480]\n"
     ]
    },
    {
     "name": "stdout",
     "output_type": "stream",
     "text": [
      "2023-07-19 21:35:46,638.638 | DEBUG    | keyPressEvent - OneDGraphicsWidget.py:283 : Key: A, Mouse position: [920,480]\n",
      "2023-07-19 21:35:46,811.811 | DEBUG    | keyPressEvent - OneDGraphicsWidget.py:283 : Key: A, Mouse position: [920,480]\n",
      "2023-07-19 21:35:47,266.266 | DEBUG    | keyPressEvent - OneDGraphicsWidget.py:283 : Key: A, Mouse position: [920,480]\n",
      "2023-07-19 21:35:51,277.277 | DEBUG    | keyPressEvent - OneDGraphicsWidget.py:283 : Key: A, Mouse position: [827,348]\n",
      "2023-07-19 21:35:51,507.507 | DEBUG    | keyPressEvent - OneDGraphicsWidget.py:283 : Key: A, Mouse position: [827,348]\n",
      "2023-07-19 21:35:51,668.668 | DEBUG    | keyPressEvent - OneDGraphicsWidget.py:283 : Key: A, Mouse position: [827,348]\n",
      "2023-07-19 21:35:51,833.833 | DEBUG    | keyPressEvent - OneDGraphicsWidget.py:283 : Key: A, Mouse position: [827,348]\n",
      "2023-07-19 21:35:58,946.946 | DEBUG    | keyPressEvent - OneDGraphicsWidget.py:283 : Key: A, Mouse position: [827,348]\n",
      "2023-07-19 21:35:59,164.164 | DEBUG    | keyPressEvent - OneDGraphicsWidget.py:283 : Key: A, Mouse position: [827,348]\n",
      "2023-07-19 21:35:59,337.337 | DEBUG    | keyPressEvent - OneDGraphicsWidget.py:283 : Key: A, Mouse position: [827,348]\n",
      "2023-07-19 21:35:59,562.562 | DEBUG    | keyPressEvent - OneDGraphicsWidget.py:283 : Key: A, Mouse position: [827,348]\n",
      "2023-07-19 21:36:00,453.453 | DEBUG    | keyPressEvent - OneDGraphicsWidget.py:283 : Key: A, Mouse position: [827,348]\n",
      "2023-07-19 21:36:00,980.980 | DEBUG    | keyPressEvent - OneDGraphicsWidget.py:283 : Key: A, Mouse position: [827,348]\n",
      "2023-07-19 21:36:01,562.562 | DEBUG    | keyPressEvent - OneDGraphicsWidget.py:283 : Key: A, Mouse position: [827,348]\n",
      "2023-07-19 21:36:03,886.886 | DEBUG    | keyPressEvent - OneDGraphicsWidget.py:283 : Key: A, Mouse position: [827,348]\n",
      "2023-07-19 21:36:04,133.133 | DEBUG    | keyPressEvent - OneDGraphicsWidget.py:283 : Key: A, Mouse position: [827,348]\n",
      "2023-07-19 21:36:04,302.302 | DEBUG    | keyPressEvent - OneDGraphicsWidget.py:283 : Key: A, Mouse position: [827,348]\n",
      "2023-07-19 21:36:04,597.597 | DEBUG    | keyPressEvent - OneDGraphicsWidget.py:283 : Key: A, Mouse position: [827,348]\n",
      "2023-07-19 21:36:04,888.888 | DEBUG    | keyPressEvent - OneDGraphicsWidget.py:283 : Key: A, Mouse position: [827,348]\n",
      "2023-07-19 21:36:05,586.586 | DEBUG    | keyPressEvent - OneDGraphicsWidget.py:283 : Key: A, Mouse position: [827,348]\n",
      "2023-07-19 21:36:05,827.827 | DEBUG    | keyPressEvent - OneDGraphicsWidget.py:283 : Key: A, Mouse position: [827,348]\n",
      "2023-07-19 21:36:06,015.015 | DEBUG    | keyPressEvent - OneDGraphicsWidget.py:283 : Key: A, Mouse position: [827,348]\n",
      "2023-07-19 21:36:06,184.184 | DEBUG    | keyPressEvent - OneDGraphicsWidget.py:283 : Key: A, Mouse position: [827,348]\n",
      "2023-07-19 21:36:06,349.349 | DEBUG    | keyPressEvent - OneDGraphicsWidget.py:283 : Key: A, Mouse position: [827,348]\n",
      "2023-07-19 21:36:06,589.589 | DEBUG    | keyPressEvent - OneDGraphicsWidget.py:283 : Key: A, Mouse position: [827,348]\n",
      "2023-07-19 21:36:06,798.798 | DEBUG    | keyPressEvent - OneDGraphicsWidget.py:283 : Key: A, Mouse position: [827,348]\n",
      "2023-07-19 21:36:06,972.972 | DEBUG    | keyPressEvent - OneDGraphicsWidget.py:283 : Key: A, Mouse position: [827,348]\n",
      "2023-07-19 21:36:07,261.261 | DEBUG    | keyPressEvent - OneDGraphicsWidget.py:283 : Key: A, Mouse position: [827,348]\n",
      "2023-07-19 21:36:07,558.558 | DEBUG    | keyPressEvent - OneDGraphicsWidget.py:283 : Key: A, Mouse position: [827,348]\n",
      "2023-07-19 21:36:07,892.892 | DEBUG    | keyPressEvent - OneDGraphicsWidget.py:283 : Key: A, Mouse position: [827,348]\n",
      "2023-07-19 21:36:08,062.062 | DEBUG    | keyPressEvent - OneDGraphicsWidget.py:283 : Key: A, Mouse position: [827,348]\n",
      "2023-07-19 21:36:08,230.230 | DEBUG    | keyPressEvent - OneDGraphicsWidget.py:283 : Key: A, Mouse position: [827,348]\n",
      "2023-07-19 21:36:08,597.597 | DEBUG    | keyPressEvent - OneDGraphicsWidget.py:283 : Key: A, Mouse position: [827,348]\n",
      "2023-07-19 21:36:09,289.289 | DEBUG    | keyPressEvent - OneDGraphicsWidget.py:283 : Key: D, Mouse position: [827,348]\n",
      "2023-07-19 21:36:13,709.709 | DEBUG    | keyPressEvent - OneDGraphicsWidget.py:283 : Key: D, Mouse position: [789,560]\n",
      "2023-07-19 21:36:14,224.224 | DEBUG    | keyPressEvent - OneDGraphicsWidget.py:283 : Key: W, Mouse position: [789,560]\n",
      "2023-07-19 21:36:14,695.695 | DEBUG    | keyPressEvent - OneDGraphicsWidget.py:283 : Key: S, Mouse position: [789,560]\n",
      "2023-07-19 21:36:19,341.341 | DEBUG    | keyPressEvent - OneDGraphicsWidget.py:283 : Key: D, Mouse position: [707,556]\n",
      "2023-07-19 21:36:19,522.522 | DEBUG    | keyPressEvent - OneDGraphicsWidget.py:283 : Key: D, Mouse position: [707,556]\n",
      "2023-07-19 21:36:19,716.716 | DEBUG    | keyPressEvent - OneDGraphicsWidget.py:283 : Key: D, Mouse position: [707,556]\n",
      "2023-07-19 21:36:19,921.921 | DEBUG    | keyPressEvent - OneDGraphicsWidget.py:283 : Key: D, Mouse position: [707,556]\n",
      "2023-07-19 21:36:20,130.130 | DEBUG    | keyPressEvent - OneDGraphicsWidget.py:283 : Key: D, Mouse position: [707,556]\n",
      "2023-07-19 21:36:20,357.357 | DEBUG    | keyPressEvent - OneDGraphicsWidget.py:283 : Key: D, Mouse position: [707,556]\n",
      "2023-07-19 21:36:20,578.578 | DEBUG    | keyPressEvent - OneDGraphicsWidget.py:283 : Key: D, Mouse position: [707,556]\n",
      "2023-07-19 21:36:20,806.806 | DEBUG    | keyPressEvent - OneDGraphicsWidget.py:283 : Key: D, Mouse position: [707,556]\n",
      "2023-07-19 21:36:21,034.034 | DEBUG    | keyPressEvent - OneDGraphicsWidget.py:283 : Key: D, Mouse position: [707,556]\n",
      "2023-07-19 21:36:21,282.282 | DEBUG    | keyPressEvent - OneDGraphicsWidget.py:283 : Key: D, Mouse position: [707,556]\n",
      "2023-07-19 21:36:21,531.531 | DEBUG    | keyPressEvent - OneDGraphicsWidget.py:283 : Key: D, Mouse position: [707,556]\n",
      "2023-07-19 21:36:21,804.804 | DEBUG    | keyPressEvent - OneDGraphicsWidget.py:283 : Key: D, Mouse position: [707,556]\n",
      "2023-07-19 21:36:22,082.082 | DEBUG    | keyPressEvent - OneDGraphicsWidget.py:283 : Key: D, Mouse position: [707,556]\n",
      "2023-07-19 21:36:22,377.377 | DEBUG    | keyPressEvent - OneDGraphicsWidget.py:283 : Key: D, Mouse position: [707,556]\n",
      "2023-07-19 21:36:22,675.675 | DEBUG    | keyPressEvent - OneDGraphicsWidget.py:283 : Key: D, Mouse position: [707,556]\n",
      "2023-07-19 21:36:22,995.995 | DEBUG    | keyPressEvent - OneDGraphicsWidget.py:283 : Key: D, Mouse position: [707,556]\n",
      "2023-07-19 21:36:23,348.348 | DEBUG    | keyPressEvent - OneDGraphicsWidget.py:283 : Key: D, Mouse position: [707,556]\n",
      "2023-07-19 21:36:23,734.734 | DEBUG    | keyPressEvent - OneDGraphicsWidget.py:283 : Key: D, Mouse position: [707,556]\n",
      "2023-07-19 21:36:24,110.110 | DEBUG    | keyPressEvent - OneDGraphicsWidget.py:283 : Key: D, Mouse position: [707,556]\n",
      "2023-07-19 21:36:24,467.467 | DEBUG    | keyPressEvent - OneDGraphicsWidget.py:283 : Key: D, Mouse position: [707,556]\n",
      "2023-07-19 21:36:24,781.781 | DEBUG    | keyPressEvent - OneDGraphicsWidget.py:283 : Key: D, Mouse position: [707,556]\n",
      "2023-07-19 21:36:25,121.121 | DEBUG    | keyPressEvent - OneDGraphicsWidget.py:283 : Key: A, Mouse position: [707,556]\n",
      "2023-07-19 21:36:25,452.452 | DEBUG    | keyPressEvent - OneDGraphicsWidget.py:283 : Key: A, Mouse position: [707,556]\n",
      "2023-07-19 21:36:25,805.805 | DEBUG    | keyPressEvent - OneDGraphicsWidget.py:283 : Key: A, Mouse position: [707,556]\n",
      "2023-07-19 21:36:26,791.791 | DEBUG    | keyPressEvent - OneDGraphicsWidget.py:283 : Key: A, Mouse position: [707,556]\n"
     ]
    }
   ],
   "source": [
    "pi.setData(x=convert_to_bins(w), y=f)"
   ]
  }
 ],
 "metadata": {
  "kernelspec": {
   "display_name": "Python 3 (ipykernel)",
   "language": "python",
   "name": "python3"
  },
  "language_info": {
   "codemirror_mode": {
    "name": "ipython",
    "version": 3
   },
   "file_extension": ".py",
   "mimetype": "text/x-python",
   "name": "python",
   "nbconvert_exporter": "python",
   "pygments_lexer": "ipython3",
   "version": "3.9.16"
  }
 },
 "nbformat": 4,
 "nbformat_minor": 5
}
