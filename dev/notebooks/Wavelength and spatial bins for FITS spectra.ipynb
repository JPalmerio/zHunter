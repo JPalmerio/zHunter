{
 "cells": [
  {
   "cell_type": "code",
   "execution_count": 1,
   "id": "5f42f7e8",
   "metadata": {},
   "outputs": [],
   "source": [
    "%gui qt6\n",
    "\n",
    "# Qt6 stuff\n",
    "from PyQt6.QtWidgets import QApplication\n",
    "from PyQt6 import QtWidgets\n",
    "from PyQt6 import QtGui\n",
    "from PyQt6 import QtCore\n",
    "from PyQt6.QtCore import pyqtSignal\n",
    "\n",
    "# Plotting stuff\n",
    "import pyqtgraph as pg\n",
    "import matplotlib.pyplot as plt\n",
    "import cmasher as cmr\n",
    "\n",
    "# Science stuff\n",
    "import numpy as np\n",
    "import pandas as pd\n",
    "from spectres import spectres\n",
    "\n",
    "# Astropy stuff\n",
    "from astropy.io import fits\n",
    "from astropy.table import Table\n",
    "import astropy.units as u\n",
    "from astropy.units.quantity import Quantity\n",
    "from astropy.io.ascii import read as ascii_read\n",
    "\n",
    "\n",
    "# General stuff\n",
    "import logging\n",
    "import sys\n",
    "from pathlib import Path\n",
    "from itertools import cycle"
   ]
  },
  {
   "cell_type": "code",
   "execution_count": 2,
   "id": "3407a12a",
   "metadata": {},
   "outputs": [],
   "source": [
    "# zHunter stuff\n",
    "from zhunter import DIRS\n",
    "from zhunter import io\n",
    "from zhunter.misc import set_up_linked_vb, get_vb_containing, convert_to_bins\n",
    "from zhunter.colors import get_gradient\n",
    "from zhunter.spectroscopic_system import SpecSystemModel, SpecSystem\n",
    "from zhunter.MainGraphicsWidget import MainGraphicsWidget\n",
    "from zhunter.data_handler import DataHandler"
   ]
  },
  {
   "cell_type": "code",
   "execution_count": 3,
   "id": "ab8c318d",
   "metadata": {},
   "outputs": [],
   "source": [
    "# astropalmerio stuff\n",
    "# import astropalmerio.io as io\n",
    "import astropalmerio.spectra as sp\n",
    "import astropalmerio.galaxies as gal\n",
    "import astropalmerio.mc as mc\n",
    "from astropalmerio.spectra import ergscm2AA\n",
    "from astropalmerio.spectra import EmissionLine\n",
    "from specutils import Spectrum1D"
   ]
  },
  {
   "cell_type": "code",
   "execution_count": 4,
   "id": "dd70c949",
   "metadata": {},
   "outputs": [],
   "source": [
    "from zhunter.colors import COLORS\n",
    "color_style = 'kraken9'\n",
    "colors = COLORS[color_style]"
   ]
  },
  {
   "cell_type": "code",
   "execution_count": 5,
   "id": "d89e35a0",
   "metadata": {},
   "outputs": [],
   "source": [
    "log = logging.getLogger(__name__)\n",
    "logging.basicConfig(stream=sys.stdout, level=logging.DEBUG,\n",
    "                    format='%(asctime)s %(levelname)s [%(name)s] %(message)s')\n",
    "logging.getLogger(\"matplotlib\").setLevel(logging.WARNING)\n",
    "logging.getLogger(\"PIL\").setLevel(logging.WARNING)"
   ]
  },
  {
   "cell_type": "code",
   "execution_count": 6,
   "id": "9a686b62",
   "metadata": {},
   "outputs": [],
   "source": [
    "# start qt event loop\n",
    "_instance = QApplication.instance()\n",
    "if not _instance:\n",
    "    _instance = QApplication([])\n",
    "app = _instance"
   ]
  },
  {
   "cell_type": "code",
   "execution_count": 7,
   "id": "fcb2fb19",
   "metadata": {},
   "outputs": [],
   "source": [
    "fname = Path('../data/test_input_files/XSHOOTER_esoreflex_2D.fits.gz')\n"
   ]
  },
  {
   "cell_type": "code",
   "execution_count": 8,
   "id": "ad643af1",
   "metadata": {},
   "outputs": [
    {
     "name": "stdout",
     "output_type": "stream",
     "text": [
      "Filename: ../data/test_input_files/XSHOOTER_esoreflex_2D.fits.gz\n",
      "No.    Name      Ver    Type      Cards   Dimensions   Format\n",
      "  0  FLUX          1 PrimaryHDU     627   (24318, 101)   float64   \n",
      "  1  ERRS          1 ImageHDU        31   (24318, 101)   float64   \n",
      "  2  QUAL          1 ImageHDU        30   (24318, 101)   int64   \n"
     ]
    }
   ],
   "source": [
    "fits.open(fname).info()"
   ]
  },
  {
   "cell_type": "markdown",
   "id": "26d92183",
   "metadata": {},
   "source": [
    "# How are fits spectra built?\n",
    "The way the wavelength/spatial arrays is built is by looking in the fits header for the following keywords:\n",
    "\n",
    "- `CRPIX1`/`CRPIX2` : **reference pixel** (usually = 1)\n",
    "- `CRVAL1`/`CRVAL2` : reference value at reference pixel (for example 533.66 for wavelength for VIS arm of XShooter). This is the **start** (the minimum) of the array\n",
    "- `CDELT1`/`CDELT2` (or `CD1_1`/`CD2_2`) : the **step** ($\\Delta\\lambda$/$\\Delta$\") to build the array. Typically this is the bin size, or the distance (in physical units of a given axis, e.g. Å for wavelength) between two consecutive pixels on the detector.\n",
    "- `NAXIS1`/`NAXIS2` : the **number of pixels** in each axis.\n",
    "\n",
    "Then the array is built as:\n",
    "\n",
    "```\n",
    "x = np.arange(number_pixels)\n",
    "array = ((x - reference_pixel + 1) * step + start)\n",
    "```"
   ]
  },
  {
   "cell_type": "code",
   "execution_count": 9,
   "id": "d33c46e9",
   "metadata": {},
   "outputs": [
    {
     "name": "stdout",
     "output_type": "stream",
     "text": [
      "2023-03-21 18:17:45,873 INFO [zhunter.io] Attempting to read file: ../data/test_input_files/XSHOOTER_esoreflex_2D.fits.gz\n",
      "2023-03-21 18:17:46,810 WARNING [astropy] UnitsWarning: 'erg/s/cm2/Angstrom' contains multiple slashes, which is discouraged by the FITS standard\n",
      "2023-03-21 18:17:46,825 DEBUG [zhunter.io] Using the FITS CD matrix.\n",
      "2023-03-21 18:17:46,826 DEBUG [zhunter.io] PIX=1.0 VAL=-10.58000019073486 DELT=0.159999847412109\n",
      "2023-03-21 18:17:46,827 DEBUG [zhunter.io] Using the FITS CD matrix.\n",
      "2023-03-21 18:17:46,828 DEBUG [zhunter.io] PIX=1.0 VAL=533.66 DELT=0.0199999999999818\n"
     ]
    },
    {
     "name": "stderr",
     "output_type": "stream",
     "text": [
      "WARNING: UnitsWarning: 'erg/s/cm2/Angstrom' contains multiple slashes, which is discouraged by the FITS standard [astropy.units.format.generic]\n"
     ]
    }
   ],
   "source": [
    "wvlg, spat, flux2D, unc, header = io.read_fits_2D_spectrum(fname)"
   ]
  },
  {
   "cell_type": "code",
   "execution_count": 10,
   "id": "ff0718b0",
   "metadata": {},
   "outputs": [
    {
     "data": {
      "text/plain": [
       "((24318,), (101,), (101, 24318))"
      ]
     },
     "execution_count": 10,
     "metadata": {},
     "output_type": "execute_result"
    }
   ],
   "source": [
    "wvlg.shape, spat.shape, flux2D.shape"
   ]
  },
  {
   "cell_type": "code",
   "execution_count": 11,
   "id": "0e483658",
   "metadata": {},
   "outputs": [],
   "source": [
    "ypix_max = 10\n",
    "xpix_max = 25\n",
    "flux2D_sub = flux2D[:ypix_max,:xpix_max]\n",
    "wvlg_sub = wvlg[:xpix_max]\n",
    "spat_sub = spat[:ypix_max]"
   ]
  },
  {
   "cell_type": "code",
   "execution_count": 63,
   "id": "676c0aa1",
   "metadata": {},
   "outputs": [
    {
     "data": {
      "text/plain": [
       "(<Quantity [0., 1., 2., 3., 4.] nm>,\n",
       " <Quantity [0., 1., 2.] arcsec>,\n",
       " <Quantity [[1. , 2. , 3. , 2. , 1. ],\n",
       "            [2. , 3. , 4. , 3. , 2. ],\n",
       "            [0.5, 1.5, 2.5, 1.5, 0.5]] adu>)"
      ]
     },
     "execution_count": 63,
     "metadata": {},
     "output_type": "execute_result"
    }
   ],
   "source": [
    "# # Fake data for testing\n",
    "# flux2D_sub = np.array(\n",
    "#     [[1,2,3,2,1],\n",
    "#     [2,3,4,3,2],\n",
    "#     [0.5,1.5,2.5,1.5,0.5]]\n",
    "# ) * u.adu\n",
    "# wvlg_sub = np.arange(flux2D_sub.shape[1]) * u.nm\n",
    "# spat_sub = np.arange(flux2D_sub.shape[0]) * u.arcsec\n",
    "# wvlg_sub, spat_sub, flux2D_sub"
   ]
  },
  {
   "cell_type": "markdown",
   "id": "1d5de332",
   "metadata": {},
   "source": [
    "# How to properly display them?\n",
    "Ultimately, data taken with CCDs detectors are essentially histograms of counts.\n",
    "Each pixel is actually a bin, which means that to accurately display the spectra, one has to adjust the wavelength and spatial arrays.\n",
    "\n",
    "## Displaying in pixels"
   ]
  },
  {
   "cell_type": "code",
   "execution_count": 12,
   "id": "90196a44",
   "metadata": {},
   "outputs": [],
   "source": [
    "win = pg.GraphicsLayoutWidget(show=True)\n",
    "# To suppress qt.pointer.dispatch warning\n",
    "win.viewport().setAttribute(\n",
    "            QtCore.Qt.WidgetAttribute.WA_AcceptTouchEvents,\n",
    "            False,\n",
    "        )\n",
    "\n",
    "\n",
    "pi = win.addPlot()"
   ]
  },
  {
   "cell_type": "code",
   "execution_count": 13,
   "id": "29022761",
   "metadata": {},
   "outputs": [],
   "source": [
    "spec_2D = pg.ImageItem()\n",
    "# Have to use the transpose here for historical reasons\n",
    "spec_2D.setImage(flux2D_sub.T.value)\n",
    "pi.addItem(spec_2D)\n",
    "pi.showGrid(x=True, y=True)"
   ]
  },
  {
   "cell_type": "markdown",
   "id": "7ca92bb1",
   "metadata": {},
   "source": [
    "Note that matplotlib's imshow display is different than pyqtgraph's: it centers the value on the pixel, i.e. the point (0,0) is actually at the _center_ of the first pixel (instead of the edge)."
   ]
  },
  {
   "cell_type": "code",
   "execution_count": 14,
   "id": "2902bc92",
   "metadata": {},
   "outputs": [
    {
     "data": {
      "image/png": "[encoded data removed]",
      "text/plain": [
       "<Figure size 640x480 with 1 Axes>"
      ]
     },
     "metadata": {},
     "output_type": "display_data"
    }
   ],
   "source": [
    "fig, ax = plt.subplots()\n",
    "\n",
    "ax.imshow(flux2D_sub.value, origin='lower')\n",
    "plt.show()"
   ]
  },
  {
   "cell_type": "markdown",
   "id": "e585962e",
   "metadata": {},
   "source": [
    "## Displaying in physical units\n",
    "Using `pyqtgraph`, we need to create a rectangle (called `QRectF`) to hold the image, which spans the correct physical space. Because `pyqtgraph` doesn't display pixels in the center but rather at the edge, we need to shift the lower and upper bounds of the rectangle by $\\Delta\\lambda$/2 and  $\\Delta$\"/2."
   ]
  },
  {
   "cell_type": "code",
   "execution_count": 15,
   "id": "2264cf8a",
   "metadata": {},
   "outputs": [],
   "source": [
    "dw = wvlg_sub.value[1] - wvlg_sub.value[0]\n",
    "ds = spat_sub.value[1] - spat_sub.value[0]\n",
    "wvlg_span = wvlg_sub.max().value - wvlg_sub.min().value\n",
    "spatial_span = spat_sub.max().value - spat_sub.min().value\n",
    "\n",
    "rect = QtCore.QRectF(\n",
    "    wvlg_sub.min().value - dw/2,   # lower edge of the first wvlg bin\n",
    "    spat_sub.min().value - ds/2,   # lower edge of the first spatial bin\n",
    "    wvlg_span + dw,              # x-span of the rectangle\n",
    "    spatial_span + ds,           # y-span of the rectangle\n",
    ")\n",
    "spec_2D.setRect(rect)"
   ]
  },
  {
   "cell_type": "code",
   "execution_count": 16,
   "id": "39edb1bb",
   "metadata": {},
   "outputs": [
    {
     "name": "stdout",
     "output_type": "stream",
     "text": [
      "0.01999999999998181\n",
      "0.0199999999999818\n"
     ]
    }
   ],
   "source": [
    "# Check that we recover the correct delta lambda\n",
    "print((wvlg_span + dw)/len(wvlg_sub))\n",
    "print(header['CD1_1'])"
   ]
  },
  {
   "cell_type": "code",
   "execution_count": 17,
   "id": "d0dc266f",
   "metadata": {},
   "outputs": [],
   "source": [
    "# Or convert directly to bins before making the rectangle\n",
    "# I find this simpler to understand\n",
    "\n",
    "def convert_to_bins(array):\n",
    "    # Modify array to be of size len(array)+1 by adding the right\n",
    "    # edge of the last bin and shifting everything by step/2.\n",
    "    # This is to allow for accurate visualization with stepMode='center'\n",
    "    if isinstance(array, Quantity):\n",
    "        array_unit = array.unit\n",
    "    else:\n",
    "        array_unit = 1\n",
    "    delta = array[1] - array[0]\n",
    "    n_bin_edges = len(array) + 1\n",
    "    bins = np.linspace(array[0]-delta/2, array[-1]+delta/2, n_bin_edges) * array_unit\n",
    "    return bins\n",
    "\n",
    "wvlg_bins = convert_to_bins(wvlg_sub)\n",
    "spat_bins = convert_to_bins(spat_sub)\n",
    "wvlg_span = wvlg_bins.max().value - wvlg_bins.min().value\n",
    "spatial_span = spat_bins.max().value - spat_bins.min().value\n",
    "\n",
    "rect = QtCore.QRectF(\n",
    "    wvlg_bins.min().value,   # lower edge of the first wvlg bin\n",
    "    spat_bins.min().value,   # lower edge of the first spatial bin\n",
    "    wvlg_span,              # x-span of the rectangle\n",
    "    spatial_span,           # y-span of the rectangle\n",
    ")\n",
    "spec_2D.setRect(rect)"
   ]
  },
  {
   "cell_type": "code",
   "execution_count": null,
   "id": "703753e0",
   "metadata": {},
   "outputs": [],
   "source": []
  },
  {
   "cell_type": "code",
   "execution_count": null,
   "id": "f645d793",
   "metadata": {},
   "outputs": [],
   "source": []
  }
 ],
 "metadata": {
  "kernelspec": {
   "display_name": "Python 3 (ipykernel)",
   "language": "python",
   "name": "python3"
  },
  "language_info": {
   "codemirror_mode": {
    "name": "ipython",
    "version": 3
   },
   "file_extension": ".py",
   "mimetype": "text/x-python",
   "name": "python",
   "nbconvert_exporter": "python",
   "pygments_lexer": "ipython3",
   "version": "3.9.16"
  },
  "latex_envs": {
   "LaTeX_envs_menu_present": true,
   "autoclose": false,
   "autocomplete": true,
   "bibliofile": "biblio.bib",
   "cite_by": "apalike",
   "current_citInitial": 1,
   "eqLabelWithNumbers": true,
   "eqNumInitial": 1,
   "hotkeys": {
    "equation": "Ctrl-E",
    "itemize": "Ctrl-I"
   },
   "labels_anchors": false,
   "latex_user_defs": false,
   "report_style_numbering": false,
   "user_envs_cfg": false
  },
  "toc": {
   "base_numbering": 1,
   "nav_menu": {},
   "number_sections": true,
   "sideBar": false,
   "skip_h1_title": false,
   "title_cell": "Table of Contents",
   "title_sidebar": "Contents",
   "toc_cell": false,
   "toc_position": {
    "height": "520px",
    "left": "1099px",
    "top": "66.6333px",
    "width": "280px"
   },
   "toc_section_display": true,
   "toc_window_display": true
  }
 },
 "nbformat": 4,
 "nbformat_minor": 5
}
