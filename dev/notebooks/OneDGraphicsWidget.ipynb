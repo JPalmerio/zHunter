{
 "cells": [
  {
   "cell_type": "code",
   "execution_count": 5,
   "id": "e74543e7",
   "metadata": {},
   "outputs": [],
   "source": [
    "%gui qt6\n",
    "\n",
    "# Qt6 stuff\n",
    "from PyQt6.QtWidgets import QApplication\n",
    "from PyQt6 import QtWidgets\n",
    "from PyQt6 import QtGui\n",
    "from PyQt6 import QtCore\n",
    "from PyQt6.QtCore import pyqtSignal\n",
    "\n",
    "from zhunter.MainGraphicsWidget import MainGraphicsWidget\n",
    "# Plotting stuff\n",
    "import pyqtgraph as pg\n",
    "import matplotlib.pyplot as plt\n",
    "import cmasher as cmr\n",
    "\n",
    "# Science stuff\n",
    "import numpy as np\n",
    "import pandas as pd\n",
    "from spectres import spectres\n",
    "\n",
    "# Astropy stuff\n",
    "from astropy.io import fits\n",
    "from astropy.table import Table\n",
    "import astropy.units as u\n",
    "from astropy.units.quantity import Quantity\n",
    "from astropy.io.ascii import read as ascii_read\n",
    "\n",
    "\n",
    "# zHunter stuff\n",
    "import zhunter.initialize as init\n",
    "from zhunter.initialize import DIRS\n",
    "from zhunter import io\n",
    "from zhunter.misc import set_up_linked_vb, get_vb_containing, add_crosshair\n",
    "from zhunter.colors import get_gradient\n",
    "from zhunter.spectroscopic_system import SpecSystemModel, SpecSystem\n",
    "from zhunter.MainGraphicsWidget import MainGraphicsWidget\n",
    "from zhunter.data_handler import DataHandler\n",
    "\n",
    "# General stuff\n",
    "import logging\n",
    "import sys\n",
    "from pathlib import Path\n",
    "from itertools import cycle\n",
    "\n",
    "log = logging.getLogger(__name__)\n",
    "logging.basicConfig(stream=sys.stdout, level=logging.DEBUG,\n",
    "    format=\"%(asctime)s.%(msecs)03d | %(levelname)-8s | %(funcName)s - %(filename)s:%(lineno)d : %(message)s\",\n",
    "\n",
    "                   )\n",
    "logging.getLogger(\"matplotlib\").setLevel(logging.WARNING)\n",
    "logging.getLogger(\"PIL\").setLevel(logging.WARNING)"
   ]
  },
  {
   "cell_type": "code",
   "execution_count": 4,
   "id": "bcf46151",
   "metadata": {},
   "outputs": [],
   "source": [
    "from zhunter.OneDGraphicsWidget import OneDGraphicsWidget"
   ]
  },
  {
   "cell_type": "code",
   "execution_count": 6,
   "id": "e2e8c544",
   "metadata": {},
   "outputs": [
    {
     "name": "stdout",
     "output_type": "stream",
     "text": [
      "2024-02-20 10:03:06,358.358 | INFO     | set_up_plot - OneDGraphicsWidget.py:76 : Setting up a new plot called '1D'\n",
      "2024-02-20 10:03:17,893.893 | DEBUG    | keyPressEvent - OneDGraphicsWidget.py:344 : Key: Control, Mouse position: [337,251]\n"
     ]
    }
   ],
   "source": [
    "fig = OneDGraphicsWidget()\n",
    "fig.set_up_plot()\n",
    "fig.show()"
   ]
  },
  {
   "cell_type": "code",
   "execution_count": 2,
   "id": "cc599878",
   "metadata": {},
   "outputs": [],
   "source": [
    "from zhunter.spectrum import OneDSpectrum"
   ]
  },
  {
   "cell_type": "code",
   "execution_count": 3,
   "id": "93f0e1be",
   "metadata": {},
   "outputs": [
    {
     "name": "stderr",
     "output_type": "stream",
     "text": [
      "WARNING: UnitsWarning: 'erg/cm2/s/A' contains multiple slashes, which is discouraged by the FITS standard [astropy.units.format.generic]\n",
      "No uncertainty/error spectrum found in:\n",
      "/Users/palmerio/Code_projects/zHunter/dev/data/test_input_files/FORS_1D.fits\n",
      "using 0.\n"
     ]
    }
   ],
   "source": [
    "spec = OneDSpectrum()#color=colors['specsys'][3])\n",
    "fname = '/Users/palmerio/Code_projects/zHunter/dev/data/test_input_files/FORS_1D.fits'\n",
    "spec.load_from_file(fname)"
   ]
  },
  {
   "cell_type": "code",
   "execution_count": 14,
   "id": "2822d954",
   "metadata": {},
   "outputs": [
    {
     "data": {
      "text/plain": [
       "{'filename': PosixPath('/Users/palmerio/Code_projects/zHunter/dev/data/test_input_files/FORS_1D.fits'),\n",
       " 'wvlg_unit': Unit(\"nm\"),\n",
       " 'flux_unit': Unit(\"erg / (A cm2 s)\"),\n",
       " 'wvlg_step': <Quantity [3.2481, 3.2481, 3.2481, ..., 3.2481, 3.2481, 3.2481] nm>,\n",
       " 'wvlg_min': <Quantity 2998.5679 nm>,\n",
       " 'wvlg_max': <Quantity 9647.3887 nm>,\n",
       " 'wvlg_span': <Quantity 6648.8208 nm>,\n",
       " 'flux_q975': <Quantity 0. erg / (A cm2 s)>,\n",
       " 'flux_q025': <Quantity -0. erg / (A cm2 s)>}"
      ]
     },
     "execution_count": 14,
     "metadata": {},
     "output_type": "execute_result"
    }
   ],
   "source": [
    "spec.properties\n"
   ]
  },
  {
   "cell_type": "code",
   "execution_count": 7,
   "id": "8cf22808",
   "metadata": {},
   "outputs": [
    {
     "ename": "AttributeError",
     "evalue": "'OneDSpectrum' object has no attribute 'plot'",
     "output_type": "error",
     "traceback": [
      "\u001b[0;31m---------------------------------------------------------------------------\u001b[0m",
      "\u001b[0;31mAttributeError\u001b[0m                            Traceback (most recent call last)",
      "Cell \u001b[0;32mIn[7], line 1\u001b[0m\n\u001b[0;32m----> 1\u001b[0m \u001b[43mspec\u001b[49m\u001b[38;5;241;43m.\u001b[39;49m\u001b[43mplot\u001b[49m(vb\u001b[38;5;241m=\u001b[39mfig\u001b[38;5;241m.\u001b[39max1D\u001b[38;5;241m.\u001b[39mvb)\n",
      "\u001b[0;31mAttributeError\u001b[0m: 'OneDSpectrum' object has no attribute 'plot'"
     ]
    }
   ],
   "source": [
    "spec.plot(vb=fig.ax1D.vb)"
   ]
  },
  {
   "cell_type": "code",
   "execution_count": 8,
   "id": "89249753",
   "metadata": {},
   "outputs": [
    {
     "data": {
      "text/plain": [
       "<pyqtgraph.graphicsItems.ViewBox.ViewBox.ViewBox at 0x18cacb8b0>"
      ]
     },
     "execution_count": 8,
     "metadata": {},
     "output_type": "execute_result"
    }
   ],
   "source": [
    "vb = fig.ax1D.vb\n"
   ]
  },
  {
   "cell_type": "code",
   "execution_count": 10,
   "id": "327d93be",
   "metadata": {},
   "outputs": [],
   "source": [
    "vb.setLimits(xMin=0)"
   ]
  },
  {
   "cell_type": "code",
   "execution_count": 14,
   "id": "e7fe4231",
   "metadata": {},
   "outputs": [
    {
     "data": {
      "text/plain": [
       "{'targetRange': [[2541.3189923694054, 12776.058173618676],\n",
       "  [-16.60091040325466, 75.42957087420366]],\n",
       " 'viewRange': [[2541.3189923694054, 12776.058173618676],\n",
       "  [-16.60091040325466, 75.42957087420366]],\n",
       " 'yInverted': False,\n",
       " 'xInverted': False,\n",
       " 'aspectLocked': False,\n",
       " 'autoRange': [False, False],\n",
       " 'autoPan': [False, False],\n",
       " 'autoVisibleOnly': [False, False],\n",
       " 'linkedViews': [None, None],\n",
       " 'defaultPadding': 0.0,\n",
       " 'mouseEnabled': [True, True],\n",
       " 'mouseMode': 3,\n",
       " 'enableMenu': True,\n",
       " 'wheelScaleFactor': -0.125,\n",
       " 'background': None,\n",
       " 'logMode': [False, False],\n",
       " 'limits': {'xLimits': [0, 1e+307],\n",
       "  'yLimits': [-1e+307, 1e+307],\n",
       "  'xRange': [None, None],\n",
       "  'yRange': [None, None]}}"
      ]
     },
     "execution_count": 14,
     "metadata": {},
     "output_type": "execute_result"
    }
   ],
   "source": [
    "vb.getState()"
   ]
  },
  {
   "cell_type": "code",
   "execution_count": 15,
   "id": "e55a0031",
   "metadata": {},
   "outputs": [
    {
     "data": {
      "text/plain": [
       "(0, 1e+307)"
      ]
     },
     "execution_count": 15,
     "metadata": {},
     "output_type": "execute_result"
    }
   ],
   "source": [
    "xmin, xmax = vb.getState()[\"limits\"][\"xLimits\"]\n",
    "xmin, xmax"
   ]
  },
  {
   "cell_type": "code",
   "execution_count": 18,
   "id": "e7f93605",
   "metadata": {},
   "outputs": [
    {
     "data": {
      "text/plain": [
       "{'filename': '/Users/palmerio/Code_projects/zHunter/dev/data/test_input_files/GRB050730_UVES_1D.txt.gz',\n",
       " 'wvlg_unit': Unit(\"Angstrom\"),\n",
       " 'flux_unit': Unit(\"adu\"),\n",
       " 'wvlg_step': <Quantity [0.04, 0.04, 0.04, ..., 0.05, 0.05, 0.05] Angstrom>,\n",
       " 'wvlg_step_disp': <Quantity [0.04, 0.04, 0.04, ..., 0.05, 0.05, 0.05] Angstrom>,\n",
       " 'wvlg_min': <Quantity 6650.323 Angstrom>,\n",
       " 'wvlg_max': <Quantity 10426.105 Angstrom>,\n",
       " 'wvlg_min_disp': <Quantity 6650.323 Angstrom>,\n",
       " 'wvlg_max_disp': <Quantity 10426.105 Angstrom>,\n",
       " 'wvlg_span': <Quantity 3775.781 Angstrom>,\n",
       " 'wvlg_span_disp': <Quantity 3775.781 Angstrom>,\n",
       " 'flux_q975': <Quantity 0.962 adu>,\n",
       " 'flux_q025': <Quantity -0.158 adu>,\n",
       " 'flux_q975_disp': <Quantity 0.962 adu>,\n",
       " 'flux_q025_disp': <Quantity -0.158 adu>}"
      ]
     },
     "execution_count": 18,
     "metadata": {},
     "output_type": "execute_result"
    }
   ],
   "source": [
    "spec.properties"
   ]
  },
  {
   "cell_type": "code",
   "execution_count": null,
   "id": "db25f787",
   "metadata": {},
   "outputs": [],
   "source": []
  }
 ],
 "metadata": {
  "kernelspec": {
   "display_name": "Python 3 (ipykernel)",
   "language": "python",
   "name": "python3"
  },
  "language_info": {
   "codemirror_mode": {
    "name": "ipython",
    "version": 3
   },
   "file_extension": ".py",
   "mimetype": "text/x-python",
   "name": "python",
   "nbconvert_exporter": "python",
   "pygments_lexer": "ipython3",
   "version": "3.9.16"
  },
  "toc": {
   "base_numbering": 1,
   "nav_menu": {},
   "number_sections": true,
   "sideBar": true,
   "skip_h1_title": false,
   "title_cell": "Table of Contents",
   "title_sidebar": "Contents",
   "toc_cell": false,
   "toc_position": {},
   "toc_section_display": true,
   "toc_window_display": false
  }
 },
 "nbformat": 4,
 "nbformat_minor": 5
}
