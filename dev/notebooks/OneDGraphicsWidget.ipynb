{
 "cells": [
  {
   "cell_type": "code",
   "execution_count": 1,
   "id": "e74543e7",
   "metadata": {},
   "outputs": [],
   "source": [
    "%gui qt6\n",
    "\n",
    "# Qt6 stuff\n",
    "from PyQt6.QtWidgets import QApplication\n",
    "from PyQt6 import QtWidgets\n",
    "from PyQt6 import QtGui\n",
    "from PyQt6 import QtCore\n",
    "from PyQt6.QtCore import pyqtSignal\n",
    "\n",
    "from zhunter.MainGraphicsWidget import MainGraphicsWidget\n",
    "# Plotting stuff\n",
    "import pyqtgraph as pg\n",
    "import matplotlib.pyplot as plt\n",
    "import cmasher as cmr\n",
    "\n",
    "# Science stuff\n",
    "import numpy as np\n",
    "import pandas as pd\n",
    "from spectres import spectres\n",
    "\n",
    "# Astropy stuff\n",
    "from astropy.io import fits\n",
    "from astropy.table import Table\n",
    "import astropy.units as u\n",
    "from astropy.units.quantity import Quantity\n",
    "from astropy.io.ascii import read as ascii_read\n",
    "\n",
    "\n",
    "# zHunter stuff\n",
    "import zhunter.initialize as init\n",
    "from zhunter.initialize import DIRS\n",
    "from zhunter import io\n",
    "from zhunter.misc import set_up_linked_vb, get_vb_containing, convert_to_bins, add_crosshair\n",
    "from zhunter.colors import get_gradient\n",
    "from zhunter.spectroscopic_system import SpecSystemModel, SpecSystem\n",
    "from zhunter.MainGraphicsWidget import MainGraphicsWidget\n",
    "from zhunter.data_handler import DataHandler\n",
    "\n",
    "# General stuff\n",
    "import logging\n",
    "import sys\n",
    "from pathlib import Path\n",
    "from itertools import cycle\n",
    "\n",
    "log = logging.getLogger(__name__)\n",
    "logging.basicConfig(stream=sys.stdout, level=logging.DEBUG,\n",
    "    format=\"%(asctime)s.%(msecs)03d | %(levelname)-8s | %(funcName)s - %(filename)s:%(lineno)d : %(message)s\",\n",
    "\n",
    "                   )\n",
    "logging.getLogger(\"matplotlib\").setLevel(logging.WARNING)\n",
    "logging.getLogger(\"PIL\").setLevel(logging.WARNING)"
   ]
  },
  {
   "cell_type": "code",
   "execution_count": 2,
   "id": "bcf46151",
   "metadata": {},
   "outputs": [],
   "source": [
    "from zhunter.OneDGraphicsWidget import OneDGraphicsWidget"
   ]
  },
  {
   "cell_type": "code",
   "execution_count": 3,
   "id": "e2e8c544",
   "metadata": {},
   "outputs": [
    {
     "name": "stdout",
     "output_type": "stream",
     "text": [
      "2023-07-14 11:41:28,067.067 | INFO     | set_up_plot - OneDGraphicsWidget.py:69 : Setting up a new plot called '1D'\n"
     ]
    }
   ],
   "source": [
    "fig = OneDGraphicsWidget()\n",
    "fig.set_up_plot()\n",
    "fig.show()"
   ]
  },
  {
   "cell_type": "code",
   "execution_count": 4,
   "id": "cc599878",
   "metadata": {},
   "outputs": [],
   "source": [
    "from zhunter.spectrum import OneDSpectrum"
   ]
  },
  {
   "cell_type": "code",
   "execution_count": 5,
   "id": "93f0e1be",
   "metadata": {},
   "outputs": [
    {
     "name": "stdout",
     "output_type": "stream",
     "text": [
      "2023-07-14 11:41:28,218.218 | DEBUG    | read_1D_spectrum - io.py:94 : Read 1D spectrum from file:\n",
      "/Users/palmerio/Code_projects/zHunter/dev/data/test_input_files/GRB050730_UVES_1D.txt.gz\n",
      "2023-07-14 11:41:28,219.219 | INFO     | read_generic_1D_spectrum - io.py:146 : Attempting to read file:\n",
      "/Users/palmerio/Code_projects/zHunter/dev/data/test_input_files/GRB050730_UVES_1D.txt.gz\n",
      "2023-07-14 11:41:28,220.220 | DEBUG    | read_generic_1D_spectrum - io.py:165 : Reading with pandas read_csv function\n",
      "2023-07-14 11:41:28,282.282 | DEBUG    | read_generic_1D_spectrum - io.py:189 : Found the following columns: ['6650.32321600311', '0.0', '0.0020367487']\n",
      "2023-07-14 11:41:28,283.283 | DEBUG    | find_column_name - io.py:821 : Did not find any name matching ['WAVE', 'AWAV', 'WVLG', 'LAM'] in ['6650.32321600311', '0.0', '0.0020367487']\n",
      "2023-07-14 11:41:28,283.283 | DEBUG    | find_column_name - io.py:821 : Did not find any name matching ['FLUX', 'SCI'] in ['6650.32321600311', '0.0', '0.0020367487']\n",
      "2023-07-14 11:41:28,284.284 | DEBUG    | find_column_name - io.py:821 : Did not find any name matching ['ERR', 'NOISE', 'SIGMA', 'UNC'] in ['6650.32321600311', '0.0', '0.0020367487']\n",
      "2023-07-14 11:41:28,284.284 | DEBUG    | read_generic_1D_spectrum - io.py:209 : Could not find any reasonable column names for file:\n",
      "/Users/palmerio/Code_projects/zHunter/dev/data/test_input_files/GRB050730_UVES_1D.txt.gz\n",
      " Extracting data assuming default format: wave, flux, uncertainty.\n",
      "2023-07-14 11:41:28,343.343 | DEBUG    | parse_units_from_column_name - io.py:639 : No unit could be parsed from column name 'wave'\n",
      "2023-07-14 11:41:28,344.344 | DEBUG    | parse_units_from_column_name - io.py:639 : No unit could be parsed from column name 'flux'\n",
      "2023-07-14 11:41:28,345.345 | INFO     | read_generic_1D_spectrum - io.py:259 : No units specified for wave, assuming Angstrom.\n",
      "2023-07-14 11:41:28,346.346 | INFO     | read_generic_1D_spectrum - io.py:262 : No units specified for flux, assuming ADU.\n",
      "2023-07-14 11:41:28,347.347 | DEBUG    | _set_displayed_data - spectrum.py:139 : Setting the following keys for displaying: dict_keys(['wvlg', 'flux', 'unc'])\n"
     ]
    }
   ],
   "source": [
    "spec = OneDSpectrum()#color=colors['specsys'][3])\n",
    "fname = '/Users/palmerio/Code_projects/zHunter/dev/data/test_input_files/GRB050730_UVES_1D.txt.gz'\n",
    "spec.load_spectrum_from_file(fname)"
   ]
  },
  {
   "cell_type": "code",
   "execution_count": 7,
   "id": "8cf22808",
   "metadata": {},
   "outputs": [
    {
     "name": "stdout",
     "output_type": "stream",
     "text": [
      "2023-07-14 11:41:41,969.969 | INFO     | plot - spectrum.py:67 : Plotting spectrum\n",
      "2023-07-14 11:41:41,970.970 | DEBUG    | plot - spectrum.py:68 : Plotting on ViewBox named: '1D' with bounds: (None, None) and units (None, None)\n",
      "2023-07-14 11:41:51,157.157 | DEBUG    | keyPressEvent - OneDGraphicsWidget.py:319 : Key: D, Mouse position: [344,367]\n"
     ]
    },
    {
     "name": "stderr",
     "output_type": "stream",
     "text": [
      "Traceback (most recent call last):\n",
      "  File \"/Users/palmerio/Code_projects/zHunter/src/zhunter/OneDGraphicsWidget.py\", line 331, in keyPressEvent\n",
      "    self.handle_key_press(vb, key, view_pos)\n",
      "  File \"/Users/palmerio/Code_projects/zHunter/src/zhunter/OneDGraphicsWidget.py\", line 346, in handle_key_press\n",
      "    self.pan(key, vb)\n",
      "  File \"/Users/palmerio/Code_projects/zHunter/src/zhunter/OneDGraphicsWidget.py\", line 378, in pan\n",
      "    vb.setRange(xRange=np.array(x_view) + 0.15 * np.abs(x_view[1] - x_view[0]))\n",
      "NameError: name 'np' is not defined\n"
     ]
    },
    {
     "name": "stdout",
     "output_type": "stream",
     "text": [
      "2023-07-14 11:41:53,594.594 | DEBUG    | keyPressEvent - OneDGraphicsWidget.py:319 : Key: W, Mouse position: [344,367]\n"
     ]
    },
    {
     "name": "stderr",
     "output_type": "stream",
     "text": [
      "Traceback (most recent call last):\n",
      "  File \"/Users/palmerio/Code_projects/zHunter/src/zhunter/OneDGraphicsWidget.py\", line 331, in keyPressEvent\n",
      "    self.handle_key_press(vb, key, view_pos)\n",
      "  File \"/Users/palmerio/Code_projects/zHunter/src/zhunter/OneDGraphicsWidget.py\", line 346, in handle_key_press\n",
      "    self.pan(key, vb)\n",
      "  File \"/Users/palmerio/Code_projects/zHunter/src/zhunter/OneDGraphicsWidget.py\", line 382, in pan\n",
      "    vb.setRange(yRange=np.array(y_view) + 0.15 * np.abs(y_view[1] - y_view[0]))\n",
      "NameError: name 'np' is not defined\n"
     ]
    }
   ],
   "source": [
    "spec.plot(vb=fig.ax1D.vb)"
   ]
  },
  {
   "cell_type": "code",
   "execution_count": 8,
   "id": "89249753",
   "metadata": {},
   "outputs": [
    {
     "data": {
      "text/plain": [
       "<pyqtgraph.graphicsItems.ViewBox.ViewBox.ViewBox at 0x18cacb8b0>"
      ]
     },
     "execution_count": 8,
     "metadata": {},
     "output_type": "execute_result"
    }
   ],
   "source": [
    "vb = fig.ax1D.vb\n"
   ]
  },
  {
   "cell_type": "code",
   "execution_count": 10,
   "id": "327d93be",
   "metadata": {},
   "outputs": [],
   "source": [
    "vb.setLimits(xMin=0)"
   ]
  },
  {
   "cell_type": "code",
   "execution_count": 14,
   "id": "e7fe4231",
   "metadata": {},
   "outputs": [
    {
     "data": {
      "text/plain": [
       "{'targetRange': [[2541.3189923694054, 12776.058173618676],\n",
       "  [-16.60091040325466, 75.42957087420366]],\n",
       " 'viewRange': [[2541.3189923694054, 12776.058173618676],\n",
       "  [-16.60091040325466, 75.42957087420366]],\n",
       " 'yInverted': False,\n",
       " 'xInverted': False,\n",
       " 'aspectLocked': False,\n",
       " 'autoRange': [False, False],\n",
       " 'autoPan': [False, False],\n",
       " 'autoVisibleOnly': [False, False],\n",
       " 'linkedViews': [None, None],\n",
       " 'defaultPadding': 0.0,\n",
       " 'mouseEnabled': [True, True],\n",
       " 'mouseMode': 3,\n",
       " 'enableMenu': True,\n",
       " 'wheelScaleFactor': -0.125,\n",
       " 'background': None,\n",
       " 'logMode': [False, False],\n",
       " 'limits': {'xLimits': [0, 1e+307],\n",
       "  'yLimits': [-1e+307, 1e+307],\n",
       "  'xRange': [None, None],\n",
       "  'yRange': [None, None]}}"
      ]
     },
     "execution_count": 14,
     "metadata": {},
     "output_type": "execute_result"
    }
   ],
   "source": [
    "vb.getState()"
   ]
  },
  {
   "cell_type": "code",
   "execution_count": 15,
   "id": "e55a0031",
   "metadata": {},
   "outputs": [
    {
     "data": {
      "text/plain": [
       "(0, 1e+307)"
      ]
     },
     "execution_count": 15,
     "metadata": {},
     "output_type": "execute_result"
    }
   ],
   "source": [
    "xmin, xmax = vb.getState()[\"limits\"][\"xLimits\"]\n",
    "xmin, xmax"
   ]
  },
  {
   "cell_type": "code",
   "execution_count": 18,
   "id": "e7f93605",
   "metadata": {},
   "outputs": [
    {
     "data": {
      "text/plain": [
       "{'filename': '/Users/palmerio/Code_projects/zHunter/dev/data/test_input_files/GRB050730_UVES_1D.txt.gz',\n",
       " 'wvlg_unit': Unit(\"Angstrom\"),\n",
       " 'flux_unit': Unit(\"adu\"),\n",
       " 'wvlg_step': <Quantity [0.04, 0.04, 0.04, ..., 0.05, 0.05, 0.05] Angstrom>,\n",
       " 'wvlg_step_disp': <Quantity [0.04, 0.04, 0.04, ..., 0.05, 0.05, 0.05] Angstrom>,\n",
       " 'wvlg_min': <Quantity 6650.323 Angstrom>,\n",
       " 'wvlg_max': <Quantity 10426.105 Angstrom>,\n",
       " 'wvlg_min_disp': <Quantity 6650.323 Angstrom>,\n",
       " 'wvlg_max_disp': <Quantity 10426.105 Angstrom>,\n",
       " 'wvlg_span': <Quantity 3775.781 Angstrom>,\n",
       " 'wvlg_span_disp': <Quantity 3775.781 Angstrom>,\n",
       " 'flux_q975': <Quantity 0.962 adu>,\n",
       " 'flux_q025': <Quantity -0.158 adu>,\n",
       " 'flux_q975_disp': <Quantity 0.962 adu>,\n",
       " 'flux_q025_disp': <Quantity -0.158 adu>}"
      ]
     },
     "execution_count": 18,
     "metadata": {},
     "output_type": "execute_result"
    }
   ],
   "source": [
    "spec.properties"
   ]
  },
  {
   "cell_type": "code",
   "execution_count": null,
   "id": "db25f787",
   "metadata": {},
   "outputs": [],
   "source": []
  }
 ],
 "metadata": {
  "kernelspec": {
   "display_name": "Python 3 (ipykernel)",
   "language": "python",
   "name": "python3"
  },
  "language_info": {
   "codemirror_mode": {
    "name": "ipython",
    "version": 3
   },
   "file_extension": ".py",
   "mimetype": "text/x-python",
   "name": "python",
   "nbconvert_exporter": "python",
   "pygments_lexer": "ipython3",
   "version": "3.9.16"
  }
 },
 "nbformat": 4,
 "nbformat_minor": 5
}
