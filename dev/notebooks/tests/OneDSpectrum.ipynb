{
 "cells": [
  {
   "cell_type": "markdown",
   "id": "01fb4cf6",
   "metadata": {},
   "source": [
    "# Intro\n",
    "The philosophy of this class is to create a base object containing the data loaded from a file or from an array. This data is immutable (except for the units). Then, a representation of the data is created via another object whose data can be modified (smoothed, truncated, rebinned, etc.)"
   ]
  },
  {
   "cell_type": "code",
   "execution_count": 1,
   "id": "162db0a8",
   "metadata": {},
   "outputs": [],
   "source": [
    "# General stuff\n",
    "import logging\n",
    "import sys\n",
    "from pathlib import Path\n",
    "\n",
    "log = logging.getLogger(__name__)\n",
    "logging.basicConfig(stream=sys.stdout, level=logging.DEBUG,\n",
    "    format=\"%(asctime)s.%(msecs)03d | %(levelname)-8s | %(funcName)s - %(filename)s:%(lineno)d : %(message)s\",\n",
    "\n",
    "                   )\n",
    "logging.getLogger(\"matplotlib\").setLevel(logging.WARNING)\n",
    "logging.getLogger(\"PIL\").setLevel(logging.WARNING)"
   ]
  },
  {
   "cell_type": "code",
   "execution_count": 2,
   "id": "89720a81",
   "metadata": {},
   "outputs": [],
   "source": [
    "from zhunter.spectrum import OneDSpectrum, BaseOneDSpectrum\n"
   ]
  },
  {
   "cell_type": "code",
   "execution_count": 3,
   "id": "ec44b75b",
   "metadata": {},
   "outputs": [],
   "source": [
    "bspec = BaseOneDSpectrum()"
   ]
  },
  {
   "cell_type": "markdown",
   "id": "43535911",
   "metadata": {},
   "source": [
    "# Data loading\n",
    "Test loading of data from file, from arrays."
   ]
  },
  {
   "cell_type": "code",
   "execution_count": 4,
   "id": "efc59f2d",
   "metadata": {},
   "outputs": [],
   "source": [
    "input_dir = Path('/Users/palmerio/Code_projects/zHunter/dev/data/test_input_files/')\n",
    "files = [f for f in input_dir.iterdir() if not f.name.startswith('.')]\n",
    "fname = files[-3]"
   ]
  },
  {
   "cell_type": "code",
   "execution_count": 5,
   "id": "ecc35918",
   "metadata": {},
   "outputs": [
    {
     "name": "stdout",
     "output_type": "stream",
     "text": [
      "2024-02-20 12:21:52,446.446 | DEBUG    | read_1D_spectrum - io.py:94 : Read 1D spectrum from file:\n",
      "/Users/palmerio/Code_projects/zHunter/dev/data/test_input_files/FORS_1D.fits\n",
      "2024-02-20 12:21:52,448.448 | INFO     | read_fits_1D_spectrum - io.py:392 : Attempting to read file:\n",
      "/Users/palmerio/Code_projects/zHunter/dev/data/test_input_files/FORS_1D.fits\n",
      "2024-02-20 12:21:52,478.478 | DEBUG    | get_flux_units - io.py:673 : Using BUNIT: 'erg/cm2/s/A' for flux units\n",
      "2024-02-20 12:21:52,482.482 | WARNING  | _showwarning - logger.py:237 : UnitsWarning: 'erg/cm2/s/A' contains multiple slashes, which is discouraged by the FITS standard\n",
      "2024-02-20 12:21:52,484.484 | INFO     | get_wavelength_units - io.py:696 : No unit found in header for wavelength (axis 1), assuming 'nm'\n",
      "2024-02-20 12:21:52,484.484 | DEBUG    | get_wavelength_constructor - io.py:760 : Using the FITS CD matrix.\n",
      "2024-02-20 12:21:52,486.486 | DEBUG    | get_wavelength_constructor - io.py:775 : PIX=1.0 VAL=2998.5678710938 DELT=3.2480805084422\n",
      "2024-02-20 12:21:52,488.488 | WARNING  | load_from_file - spectrum.py:68 : No uncertainty/error spectrum found in:\n",
      "/Users/palmerio/Code_projects/zHunter/dev/data/test_input_files/FORS_1D.fits\n",
      "using 0.\n"
     ]
    },
    {
     "name": "stderr",
     "output_type": "stream",
     "text": [
      "WARNING: UnitsWarning: 'erg/cm2/s/A' contains multiple slashes, which is discouraged by the FITS standard [astropy.units.format.generic]\n"
     ]
    }
   ],
   "source": [
    "bspec.load_from_file(fname)"
   ]
  },
  {
   "cell_type": "code",
   "execution_count": 6,
   "id": "ce79f3cf",
   "metadata": {},
   "outputs": [
    {
     "data": {
      "text/plain": [
       "{'wvlg': <Quantity [2998.5679, 3001.816 , 3005.064 , ..., 9640.8925, 9644.1406,\n",
       "            9647.3887] nm>,\n",
       " 'flux': <Quantity [-0.,  0.,  0., ...,  0.,  0.,  0.] erg / (A cm2 s)>,\n",
       " 'unc': <Quantity [0., 0., 0., ..., 0., 0., 0.] erg / (A cm2 s)>}"
      ]
     },
     "execution_count": 6,
     "metadata": {},
     "output_type": "execute_result"
    }
   ],
   "source": [
    "bspec.data"
   ]
  },
  {
   "cell_type": "code",
   "execution_count": 7,
   "id": "7f393bec",
   "metadata": {},
   "outputs": [],
   "source": [
    "spec = OneDSpectrum()"
   ]
  },
  {
   "cell_type": "code",
   "execution_count": 8,
   "id": "9299644e",
   "metadata": {},
   "outputs": [
    {
     "name": "stdout",
     "output_type": "stream",
     "text": [
      "2024-02-20 12:21:52,514.514 | DEBUG    | _reset_data - spectrum.py:279 : Resetting data to base spectrum\n"
     ]
    }
   ],
   "source": [
    "spec.load_from_base_spec(bspec)"
   ]
  },
  {
   "cell_type": "code",
   "execution_count": 9,
   "id": "776a5d65",
   "metadata": {},
   "outputs": [
    {
     "name": "stdout",
     "output_type": "stream",
     "text": [
      "2024-02-20 12:22:02,515.515 | INFO     | info - spectrum.py:329 : Properties of <zhunter.spectrum.OneDSpectrum object at 0x18a4a0d30>:\n",
      "{'display': {'bounds': None,\n",
      "             'flux_units': None,\n",
      "             'plotting': {'color': 'white',\n",
      "                          'color_unc': 'red',\n",
      "                          'width': 1,\n",
      "                          'width_unc': 0.5},\n",
      "             'wvlg_units': None},\n",
      " 'flux': {'q025': <Quantity -0. erg / (A cm2 s)>,\n",
      "          'q975': <Quantity 0. erg / (A cm2 s)>},\n",
      " 'smoothing': {'function': None, 'kernel_size': None},\n",
      " 'wvlg': {'max': <Quantity 9647.3887 nm>,\n",
      "          'min': <Quantity 2998.5679 nm>,\n",
      "          'span': <Quantity 6648.8208 nm>,\n",
      "          'step': <Quantity [3.2481, 3.2481, 3.2481, ..., 3.2481, 3.2481, 3.2481] nm>}}\n"
     ]
    }
   ],
   "source": [
    "spec.info()"
   ]
  },
  {
   "cell_type": "code",
   "execution_count": 12,
   "id": "d73ae6b0",
   "metadata": {},
   "outputs": [],
   "source": [
    "spec.set_base_flux_unit(unit='adu')"
   ]
  },
  {
   "cell_type": "code",
   "execution_count": 13,
   "id": "e140438e",
   "metadata": {},
   "outputs": [
    {
     "name": "stdout",
     "output_type": "stream",
     "text": [
      "2024-02-20 12:24:44,926.926 | INFO     | info - spectrum.py:329 : Properties of <zhunter.spectrum.OneDSpectrum object at 0x18a4a0d30>:\n",
      "{'display': {'bounds': None,\n",
      "             'flux_units': None,\n",
      "             'plotting': {'color': 'white',\n",
      "                          'color_unc': 'red',\n",
      "                          'width': 1,\n",
      "                          'width_unc': 0.5},\n",
      "             'wvlg_units': None},\n",
      " 'flux': {'q025': <Quantity -0. erg / (A cm2 s)>,\n",
      "          'q975': <Quantity 0. erg / (A cm2 s)>},\n",
      " 'smoothing': {'function': None, 'kernel_size': None},\n",
      " 'wvlg': {'max': <Quantity 9647.3887 nm>,\n",
      "          'min': <Quantity 2998.5679 nm>,\n",
      "          'span': <Quantity 6648.8208 nm>,\n",
      "          'step': <Quantity [3.2481, 3.2481, 3.2481, ..., 3.2481, 3.2481, 3.2481] nm>}}\n"
     ]
    }
   ],
   "source": [
    "spec.info()"
   ]
  },
  {
   "cell_type": "code",
   "execution_count": null,
   "id": "6aaa2efd",
   "metadata": {},
   "outputs": [],
   "source": []
  }
 ],
 "metadata": {
  "kernelspec": {
   "display_name": "Python 3 (ipykernel)",
   "language": "python",
   "name": "python3"
  },
  "language_info": {
   "codemirror_mode": {
    "name": "ipython",
    "version": 3
   },
   "file_extension": ".py",
   "mimetype": "text/x-python",
   "name": "python",
   "nbconvert_exporter": "python",
   "pygments_lexer": "ipython3",
   "version": "3.9.16"
  },
  "toc": {
   "base_numbering": 1,
   "nav_menu": {},
   "number_sections": true,
   "sideBar": true,
   "skip_h1_title": false,
   "title_cell": "Table of Contents",
   "title_sidebar": "Contents",
   "toc_cell": false,
   "toc_position": {},
   "toc_section_display": true,
   "toc_window_display": false
  }
 },
 "nbformat": 4,
 "nbformat_minor": 5
}
