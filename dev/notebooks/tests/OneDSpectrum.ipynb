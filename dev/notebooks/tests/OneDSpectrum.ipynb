{
 "cells": [
  {
   "cell_type": "code",
   "execution_count": 1,
   "id": "89720a81",
   "metadata": {},
   "outputs": [],
   "source": [
    "from zhunter.spectrum import OneDSpectrum"
   ]
  },
  {
   "cell_type": "code",
   "execution_count": 2,
   "id": "ec44b75b",
   "metadata": {},
   "outputs": [],
   "source": [
    "spec = OneDSpectrum()"
   ]
  },
  {
   "cell_type": "code",
   "execution_count": 3,
   "id": "ecc35918",
   "metadata": {},
   "outputs": [
    {
     "data": {
      "text/plain": [
       "<zhunter.spectrum.OneDSpectrum at 0x18ae9f310>"
      ]
     },
     "execution_count": 3,
     "metadata": {},
     "output_type": "execute_result"
    }
   ],
   "source": [
    "spec."
   ]
  },
  {
   "cell_type": "code",
   "execution_count": null,
   "id": "ce79f3cf",
   "metadata": {},
   "outputs": [],
   "source": []
  }
 ],
 "metadata": {
  "kernelspec": {
   "display_name": "Python 3 (ipykernel)",
   "language": "python",
   "name": "python3"
  },
  "language_info": {
   "codemirror_mode": {
    "name": "ipython",
    "version": 3
   },
   "file_extension": ".py",
   "mimetype": "text/x-python",
   "name": "python",
   "nbconvert_exporter": "python",
   "pygments_lexer": "ipython3",
   "version": "3.9.16"
  },
  "toc": {
   "base_numbering": 1,
   "nav_menu": {},
   "number_sections": true,
   "sideBar": true,
   "skip_h1_title": false,
   "title_cell": "Table of Contents",
   "title_sidebar": "Contents",
   "toc_cell": false,
   "toc_position": {},
   "toc_section_display": true,
   "toc_window_display": false
  }
 },
 "nbformat": 4,
 "nbformat_minor": 5
}
