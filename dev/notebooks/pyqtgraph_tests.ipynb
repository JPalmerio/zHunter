{
 "cells": [
  {
   "cell_type": "code",
   "execution_count": 1,
   "metadata": {},
   "outputs": [],
   "source": [
    "%gui qt6\n",
    "\n",
    "# Qt6 stuff\n",
    "from PyQt6.QtWidgets import QApplication\n",
    "from PyQt6 import QtWidgets\n",
    "from PyQt6 import QtGui\n",
    "from PyQt6 import QtCore\n",
    "from PyQt6.QtCore import pyqtSignal\n",
    "\n",
    "# Plotting stuff\n",
    "import pyqtgraph as pg\n",
    "import matplotlib.pyplot as plt\n",
    "import cmasher as cmr\n",
    "\n",
    "# Science stuff\n",
    "import numpy as np\n",
    "import pandas as pd\n",
    "from spectres import spectres\n",
    "\n",
    "# Astropy stuff\n",
    "from astropy.io import fits\n",
    "from astropy.table import Table\n",
    "import astropy.units as u\n",
    "from astropy.units.quantity import Quantity\n",
    "from astropy.io.ascii import read as ascii_read\n",
    "\n",
    "# zHunter stuff\n",
    "from zhunter import DIRS\n",
    "from zhunter import io\n",
    "from zhunter.misc import set_up_linked_vb\n",
    "from zhunter.colors import get_gradient\n",
    "from zhunter.spectroscopic_system import SpecSystemModel, SpecSystem\n",
    "\n",
    "# General stuff\n",
    "import logging\n",
    "import sys\n",
    "from pathlib import Path\n",
    "from itertools import cycle"
   ]
  },
  {
   "cell_type": "code",
   "execution_count": 2,
   "metadata": {},
   "outputs": [],
   "source": [
    "# start qt event loop\n",
    "_instance = QApplication.instance()\n",
    "if not _instance:\n",
    "    _instance = QApplication([])\n",
    "app = _instance\n",
    "log = logging.getLogger(__name__)\n",
    "logging.basicConfig(stream=sys.stdout, level=logging.DEBUG,\n",
    "                    format='%(asctime)s %(levelname)s [%(name)s] %(message)s')\n",
    "logging.getLogger(\"matplotlib\").setLevel(logging.WARNING)\n",
    "logging.getLogger(\"PIL\").setLevel(logging.WARNING)\n",
    "\n",
    "colors = cmr.take_cmap_colors('Spectral', 10, cmap_range=(0.0, 1), return_fmt='hex')"
   ]
  },
  {
   "cell_type": "markdown",
   "metadata": {},
   "source": [
    "## Generate fake data"
   ]
  },
  {
   "cell_type": "code",
   "execution_count": 3,
   "metadata": {},
   "outputs": [],
   "source": [
    "# The fake data\n",
    "N_data = 10000\n",
    "N_spat = 40\n",
    "wvlg = np.linspace(300, 900, N_data)\n",
    "spat = np.linspace(-5, 5, N_spat)\n",
    "flux = np.ones((wvlg.shape[0], spat.shape[0])) * np.exp(-(spat)**2/0.1)\n",
    "flux += np.random.normal(0, 0.1, size=(wvlg.shape[0], spat.shape[0]))\n",
    "flux = flux.T\n",
    "wvlg_tell = wvlg\n",
    "wvlg_sky_bkg = wvlg\n",
    "tellurics = 1 - np.exp(-(wvlg-600)**2/(30)**2)\n",
    "sky_bkg = np.exp(-(wvlg-800)**2/(10)**2)\n"
   ]
  },
  {
   "cell_type": "markdown",
   "metadata": {},
   "source": [
    "## Or real data"
   ]
  },
  {
   "cell_type": "code",
   "execution_count": 4,
   "metadata": {
    "scrolled": true
   },
   "outputs": [
    {
     "name": "stdout",
     "output_type": "stream",
     "text": [
      "2023-03-01 14:18:59,322 DEBUG [zhunter.io] Attempting to read file: /Users/palmerio/Code_projects/zHunter/dev/data/test_input_files/XSHOOTER_esoreflex_2D.fits.gz\n",
      "2023-03-01 14:19:00,081 WARNING [astropy] UnitsWarning: 'erg/s/cm2/Angstrom' contains multiple slashes, which is discouraged by the FITS standard\n",
      "2023-03-01 14:19:00,097 DEBUG [zhunter.io] Using the FITS CD matrix.\n",
      "2023-03-01 14:19:00,098 DEBUG [zhunter.io] PIX=1.0 VAL=-10.58000019073486 DELT=0.159999847412109\n",
      "2023-03-01 14:19:00,099 DEBUG [zhunter.io] Using the FITS CD matrix.\n",
      "2023-03-01 14:19:00,100 DEBUG [zhunter.io] PIX=1.0 VAL=533.66 DELT=0.0199999999999818\n",
      "2023-03-01 14:19:00,104 DEBUG [zhunter.io] Attempting to read file: /Users/palmerio/Code_projects/zHunter/src/zhunter/data/tellurics/synth_tellurics_350_1100nm.csv.gz\n"
     ]
    },
    {
     "name": "stderr",
     "output_type": "stream",
     "text": [
      "WARNING: UnitsWarning: 'erg/s/cm2/Angstrom' contains multiple slashes, which is discouraged by the FITS standard [astropy.units.format.generic]\n"
     ]
    },
    {
     "name": "stdout",
     "output_type": "stream",
     "text": [
      "2023-03-01 14:19:00,399 DEBUG [zhunter.io] Did not find any name matching ['ERR', 'NOISE', 'SIGMA', 'UNC'] in ['wave(AA)', 'flux_norm']\n",
      "2023-03-01 14:19:00,400 DEBUG [zhunter.io] Parsed unit AA from column name 'wave(AA)'\n",
      "2023-03-01 14:19:00,401 DEBUG [zhunter.io] No unit could be parsed from column name 'flux_norm'\n",
      "2023-03-01 14:19:00,402 INFO [zhunter.io] No units specified for flux, assuming ADU.\n",
      "2023-03-01 14:19:00,425 WARNING [zhunter.io] No error/uncertainty found in file /Users/palmerio/Code_projects/zHunter/src/zhunter/data/tellurics/synth_tellurics_350_1100nm.csv.gz.\n",
      "2023-03-01 14:19:00,427 DEBUG [zhunter.io] Attempting to read file: /Users/palmerio/Code_projects/zHunter/src/zhunter/data/sky_background/sky_bkg_norm_nir_9000_23000.csv.gz\n",
      "2023-03-01 14:19:00,471 DEBUG [zhunter.io] Did not find any name matching ['ERR', 'NOISE', 'SIGMA', 'UNC'] in ['wave(AA)', 'flux_norm']\n",
      "2023-03-01 14:19:00,472 DEBUG [zhunter.io] Parsed unit AA from column name 'wave(AA)'\n",
      "2023-03-01 14:19:00,473 DEBUG [zhunter.io] No unit could be parsed from column name 'flux_norm'\n",
      "2023-03-01 14:19:00,474 INFO [zhunter.io] No units specified for flux, assuming ADU.\n",
      "2023-03-01 14:19:00,478 WARNING [zhunter.io] No error/uncertainty found in file /Users/palmerio/Code_projects/zHunter/src/zhunter/data/sky_background/sky_bkg_norm_nir_9000_23000.csv.gz.\n"
     ]
    }
   ],
   "source": [
    "fname_2D = Path('/Users/palmerio/Code_projects/zHunter/dev/data/test_input_files/XSHOOTER_esoreflex_2D.fits.gz')\n",
    "fname_telluric = Path('/Users/palmerio/Code_projects/zHunter/src/zhunter/data/tellurics/synth_tellurics_350_1100nm.csv.gz')\n",
    "fname_sky_bkg = Path('/Users/palmerio/Code_projects/zHunter/src/zhunter/data/sky_background/sky_bkg_norm_nir_9000_23000.csv.gz')\n",
    "\n",
    "wvlg, spat, flux, unc = io.read_fits_2D_spectrum(fname_2D)\n",
    "wvlg = wvlg.value\n",
    "spat = spat.value\n",
    "flux = flux.value\n",
    "unc = unc.value\n",
    "\n",
    "spec_tell = io.read_generic_1D_spectrum(fname_telluric)\n",
    "wvlg_tell = spec_tell.spectral_axis.value\n",
    "tellurics = spec_tell.flux.value\n",
    "\n",
    "spec_sky_bkg = io.read_generic_1D_spectrum(fname_sky_bkg)\n",
    "wvlg_sky_bkg = spec_sky_bkg.spectral_axis.value\n",
    "sky_bkg = spec_sky_bkg.flux.value\n",
    "\n"
   ]
  },
  {
   "cell_type": "markdown",
   "metadata": {},
   "source": [
    "## Create the Widgets that will hold the plots"
   ]
  },
  {
   "cell_type": "code",
   "execution_count": 5,
   "metadata": {},
   "outputs": [],
   "source": [
    "graphLayout = pg.GraphicsLayoutWidget(show=True)"
   ]
  },
  {
   "cell_type": "code",
   "execution_count": 20,
   "metadata": {},
   "outputs": [
    {
     "ename": "NameError",
     "evalue": "name 'telluric_vb' is not defined",
     "output_type": "error",
     "traceback": [
      "\u001b[0;31m---------------------------------------------------------------------------\u001b[0m",
      "\u001b[0;31mNameError\u001b[0m                                 Traceback (most recent call last)",
      "Cell \u001b[0;32mIn[20], line 3\u001b[0m\n\u001b[1;32m      1\u001b[0m \u001b[38;5;66;03m# Clear everything\u001b[39;00m\n\u001b[1;32m      2\u001b[0m graphLayout\u001b[38;5;241m.\u001b[39mclear()\n\u001b[0;32m----> 3\u001b[0m \u001b[43mtelluric_vb\u001b[49m\u001b[38;5;241m.\u001b[39mclear()\n\u001b[1;32m      4\u001b[0m sky_bkg_vb\u001b[38;5;241m.\u001b[39mclear()\n",
      "\u001b[0;31mNameError\u001b[0m: name 'telluric_vb' is not defined"
     ]
    }
   ],
   "source": [
    "# Clear everything\n",
    "graphLayout.clear()\n",
    "telluric_vb.clear()\n",
    "sky_bkg_vb.clear()"
   ]
  },
  {
   "cell_type": "code",
   "execution_count": 6,
   "metadata": {},
   "outputs": [],
   "source": [
    "## Colors\n",
    "from zhunter.colors import COLORS\n",
    "color_style = 'kraken'\n",
    "colors = COLORS[color_style]\n",
    "# colors"
   ]
  },
  {
   "cell_type": "code",
   "execution_count": 7,
   "metadata": {},
   "outputs": [],
   "source": [
    "pg.setConfigOption(\"foreground\", colors['foreground'])\n",
    "pg.setConfigOption(\"background\", colors['background'])\n"
   ]
  },
  {
   "cell_type": "code",
   "execution_count": 8,
   "metadata": {},
   "outputs": [],
   "source": [
    "# The plotting layout\n",
    "graphLayout.ci.setBorder((50, 50, 100)) # this is to see where the Items' bounds are\n",
    "graphLayout.addLabel('File Name', row=0, colspan=2)\n",
    "ax2D = graphLayout.addPlot(row=1, col=0)\n",
    "ax1D = graphLayout.addPlot(row=2, col=0)\n",
    "ax2D_side_vb = graphLayout.addViewBox(row=1, col=1)\n",
    "img_hist = pg.HistogramLUTItem(gradientPosition=\"left\")\n",
    "graphLayout.addItem(img_hist, row=2, col=1)\n",
    "telluric_vb = set_up_linked_vb(ax1D)\n",
    "sky_bkg_vb =  set_up_linked_vb(ax1D)\n",
    "\n",
    "# Add empty legend\n",
    "legend = pg.LegendItem(offset=(-10,10))\n",
    "legend.setParentItem(ax1D)\n",
    "ax1D.legend = legend\n"
   ]
  },
  {
   "cell_type": "code",
   "execution_count": 9,
   "metadata": {},
   "outputs": [],
   "source": [
    "# Change the ratios of sizes of PlotItems\n",
    "graphLayout.ci.layout.setRowStretchFactor(1, 2)\n",
    "graphLayout.ci.layout.setRowStretchFactor(2, 3)\n",
    "# Strech column 0 (where 1D and 2D plots are) to make it bigger in x than the side histograms\n",
    "graphLayout.ci.layout.setColumnStretchFactor(0, 100)\n",
    "# Link the axis together\n",
    "ax2D.hideAxis(\"bottom\")\n",
    "ax1D.getAxis('left').setWidth(60)\n",
    "ax2D.getAxis('left').setWidth(60)\n",
    "ax1D.vb.setXLink(ax2D.vb)\n",
    "ax2D_side_vb.setYLink(ax2D.vb)"
   ]
  },
  {
   "cell_type": "code",
   "execution_count": 10,
   "metadata": {},
   "outputs": [],
   "source": [
    "# Set limits\n",
    "ax1D.vb.setLimits(\n",
    "            xMin=np.min(wvlg), xMax=np.max(wvlg)\n",
    "        )\n",
    "ax2D.vb.setLimits(\n",
    "                xMin=np.min(wvlg),\n",
    "                xMax=np.max(wvlg),\n",
    "                yMin=np.min(spat),\n",
    "                yMax=np.max(spat),\n",
    "            )\n",
    "ax2D_side_vb.setLimits(\n",
    "                yMin=np.min(spat), yMax=np.max(spat)\n",
    "            )\n"
   ]
  },
  {
   "cell_type": "markdown",
   "metadata": {},
   "source": [
    "### Add data to visualize"
   ]
  },
  {
   "cell_type": "code",
   "execution_count": 11,
   "metadata": {},
   "outputs": [],
   "source": [
    "# Create image item, set the image to the flux array\n",
    "# and add it to the 2D PlotItem\n",
    "img = pg.ImageItem()\n",
    "img.setImage(flux.T)\n",
    "ax2D.addItem(img)\n",
    "# Transform image indexes to physical coordinates\n",
    "rect = QtCore.QRectF(wvlg[0], spat[0], \n",
    "                     wvlg[-1] - wvlg[0], spat[-1] - spat[0])\n",
    "img.setRect(rect)\n",
    "cmap = pg.colormap.get('afmhot',source='matplotlib', skipCache=True)\n",
    "img.setColorMap(cmap)\n",
    "# LUT\n",
    "img_hist.setImageItem(img)\n",
    "img_hist.gradient.setColorMap(cmap)\n",
    "img_hist.setHistogramRange(np.quantile(flux, 0.025), np.quantile(flux, 0.975))\n",
    "img_hist.setLevels(np.quantile(flux, 0.025), np.quantile(flux, 0.975))\n",
    "\n",
    "# Create 1D spec\n",
    "flux_1D_spec = pg.PlotCurveItem(\n",
    "    np.zeros(2),\n",
    "    np.zeros(1),\n",
    "    pen=pg.mkPen(color=colors['spec']),\n",
    "    stepMode='center')\n",
    "ax1D.addItem(flux_1D_spec)\n",
    "\n",
    "# Region of Interest\n",
    "spatial_width = 1\n",
    "spat_med = np.median(spat)\n",
    "roi = pg.ROI([np.min(wvlg), spat_med - spatial_width/2], [np.max(wvlg)-np.min(wvlg), spatial_width],\n",
    "             pen=pg.mkPen('g', width=3))\n",
    "ax2D.addItem(roi)\n",
    "roi.setZValue(10)\n",
    "\n",
    "flux_selected = roi.getArrayRegion(flux.T,\n",
    "                                   img,\n",
    "                                   returnMappedCoords=True)\n",
    "\n",
    "flux_1D = flux_selected[0].mean(axis=1)\n",
    "wvlg_1D = flux_selected[1][0,:,0]\n",
    "dx = wvlg_1D[1] - wvlg_1D[0]\n",
    "wvlg_bins = list(wvlg_1D) + [wvlg_1D[-1]+dx]\n",
    "\n",
    "flux_1D_spec.setData(wvlg_bins, flux_1D)\n",
    "\n",
    "# Sideview hist\n",
    "sidehist_2D = pg.PlotCurveItem(\n",
    "    np.zeros(1),\n",
    "    np.zeros(1),\n",
    "    pen=pg.mkPen(color=colors['foreground'])\n",
    ")\n",
    "y_dist = np.median(flux, axis=1)\n",
    "sidehist_2D.setData(y_dist, spat)\n",
    "\n",
    "ax2D_side_vb.addItem(sidehist_2D)\n",
    "\n",
    "# Add tellurics\n",
    "\n",
    "telluric_pi = pg.PlotCurveItem(\n",
    "            wvlg_tell,\n",
    "            tellurics,\n",
    "            pen=pg.mkPen(QtGui.QColor(colors['sky']), width=0.3),\n",
    "            brush=QtGui.QBrush(get_gradient(QtGui.QColor(colors['sky']))),\n",
    "            fillLevel=1,\n",
    "        )\n",
    "telluric_vb.addItem(telluric_pi)\n",
    "\n",
    "# Add sky background\n",
    "sky_bkg_pi = pg.PlotCurveItem(\n",
    "            wvlg_sky_bkg,\n",
    "            sky_bkg,\n",
    "            pen=pg.mkPen(QtGui.QColor(colors['sky']), width=0.3),\n",
    "            brush=QtGui.QBrush(get_gradient(QtGui.QColor(colors['sky']), reverse=True)),\n",
    "            fillLevel=0,\n",
    "        )\n",
    "sky_bkg_vb.addItem(sky_bkg_pi)\n",
    "ax1D.showGrid(x=True, y=True)"
   ]
  },
  {
   "cell_type": "markdown",
   "metadata": {},
   "source": [
    "## Spectroscopic Systems"
   ]
  },
  {
   "cell_type": "code",
   "execution_count": 12,
   "metadata": {},
   "outputs": [],
   "source": [
    "# Abstract Model to hold the list of spectroscopic systens\n",
    "ssm = SpecSystemModel()\n",
    "\n",
    "\n",
    "# QListView widget to view the model\n",
    "specsysView = QtWidgets.QListView()\n",
    "specsysView.setModel(ssm)\n",
    "specsysView.show()\n",
    "\n",
    "# Main window in which to embed the QListView widget\n",
    "class MainWindow(QtWidgets.QMainWindow):\n",
    "    def __init__(self):\n",
    "        super().__init__()\n",
    "        self.setWindowTitle(\"My App\")\n",
    "        widget = specsysView\n",
    "        self.setCentralWidget(widget)\n",
    "win = MainWindow()\n",
    "win.show()"
   ]
  },
  {
   "cell_type": "code",
   "execution_count": 13,
   "metadata": {},
   "outputs": [
    {
     "name": "stdout",
     "output_type": "stream",
     "text": [
      "2023-03-01 14:19:12,729 DEBUG [zhunter.spectroscopic_system] Drawing abs system at redshift : 6.31800\n"
     ]
    }
   ],
   "source": [
    "# Spectroscopic system\n",
    "specsys = SpecSystem(6.318, PlotItem=ax1D, sys_type='abs',\n",
    "                     color='cyan')\n",
    "specsys.draw(xmin=np.min(wvlg)*u.nm, xmax=np.max(wvlg)*u.nm,)\n",
    "\n",
    "ssm.specsystems.append((True, specsys))\n",
    "specsys.edited.connect(ssm.layoutChanged.emit)\n",
    "ssm.sort()\n",
    "ssm.layoutChanged.emit()"
   ]
  },
  {
   "cell_type": "markdown",
   "metadata": {},
   "source": [
    "## Velocity plot"
   ]
  },
  {
   "cell_type": "code",
   "execution_count": 14,
   "metadata": {},
   "outputs": [],
   "source": [
    "from astropalmerio.spectra.conversions import *\n",
    "from itertools import product"
   ]
  },
  {
   "cell_type": "code",
   "execution_count": 34,
   "metadata": {},
   "outputs": [
    {
     "name": "stderr",
     "output_type": "stream",
     "text": [
      "qt.pointer.dispatch: skipping QEventPoint(id=0 ts=0 pos=0,0 scn=1243.24,694.147 gbl=1243.24,694.147 Released ellipse=(1x1 ∡ 0) vel=0,0 press=-1243.24,-694.147 last=-1243.24,-694.147 Δ 1243.24,694.147) : no target window\n",
      "qt.pointer.dispatch: skipping QEventPoint(id=1 ts=0 pos=0,0 scn=1169.26,711.428 gbl=1169.26,711.428 Released ellipse=(1x1 ∡ 0) vel=0,0 press=-1169.26,-711.428 last=-1169.26,-711.428 Δ 1169.26,711.428) : no target window\n",
      "qt.pointer.dispatch: skipping QEventPoint(id=2 ts=0 pos=0,0 scn=1135.96,771.005 gbl=1135.96,771.005 Released ellipse=(1x1 ∡ 0) vel=0,0 press=-1135.96,-771.005 last=-1135.96,-771.005 Δ 1135.96,771.005) : no target window\n",
      "qt.pointer.dispatch: skipping QEventPoint(id=3 ts=0 pos=0,0 scn=1158.28,708.726 gbl=1158.28,708.726 Released ellipse=(1x1 ∡ 0) vel=0,0 press=-1158.28,-708.726 last=-1158.28,-708.726 Δ 1158.28,708.726) : no target window\n",
      "qt.pointer.dispatch: skipping QEventPoint(id=1 ts=0 pos=0,0 scn=1211.88,233.44 gbl=1211.88,233.44 Released ellipse=(1x1 ∡ 0) vel=0,0 press=-1211.88,-233.44 last=-1211.88,-233.44 Δ 1211.88,233.44) : no target window\n",
      "qt.pointer.dispatch: skipping QEventPoint(id=1 ts=0 pos=0,0 scn=1285.48,251.198 gbl=1285.48,251.198 Released ellipse=(1x1 ∡ 0) vel=0,0 press=-1285.48,-251.198 last=-1285.48,-251.198 Δ 1285.48,251.198) : no target window\n"
     ]
    }
   ],
   "source": [
    "velLayout = pg.GraphicsLayoutWidget(show=True, border=(100,100,100))"
   ]
  },
  {
   "cell_type": "code",
   "execution_count": 53,
   "metadata": {
    "scrolled": true
   },
   "outputs": [],
   "source": [
    "velLayout.clear()"
   ]
  },
  {
   "cell_type": "markdown",
   "metadata": {},
   "source": [
    "### Define lines to plot"
   ]
  },
  {
   "cell_type": "code",
   "execution_count": 29,
   "metadata": {},
   "outputs": [],
   "source": [
    "lines = ascii_read(DIRS[\"DATA\"] / \"lines/basic_line_list.ecsv\")\n",
    "lnames = ['SiII_1260', 'OI_1302', 'SiII_1304']#, 'CII_1334', 'SiIV_1394']\n",
    "z = 6.317\n",
    "waves = np.array([l['wave'] for l in lines if l['name'] in lnames]) * lines['wave'].unit\n",
    "waves_obs = waves.to('nm') * (1+z)"
   ]
  },
  {
   "cell_type": "code",
   "execution_count": 31,
   "metadata": {},
   "outputs": [],
   "source": [
    "from zhunter.CheckBoxListWidget import CheckBoxListWidget\n",
    "# Create checkboxlist widget\n",
    "linelistView = CheckBoxListWidget()\n",
    "linelistView.show()\n",
    "linelistView.addItems(lines['name'])\n"
   ]
  },
  {
   "cell_type": "code",
   "execution_count": 46,
   "metadata": {},
   "outputs": [
    {
     "data": {
      "text/plain": [
       "{'SiII_1304': {'name': 'SiII_1304',\n",
       "  'rest_wave': <Quantity 1302.1685 Angstrom>,\n",
       "  'obs_wave': <Quantity 952.79669145 nm>},\n",
       " 'SiII_1260': {'name': 'SiII_1260',\n",
       "  'rest_wave': <Quantity 1304.3702 Angstrom>,\n",
       "  'obs_wave': <Quantity 954.40767534 nm>}}"
      ]
     },
     "execution_count": 46,
     "metadata": {},
     "output_type": "execute_result"
    }
   ],
   "source": [
    "lnames = []\n",
    "for row in linelistView.getCheckedRows():\n",
    "     lnames.append(linelistView.item(row).text())\n",
    "\n",
    "lines_to_plot = {\n",
    "            n: {\"name\": n, \"rest_wave\": rw, \"obs_wave\": ow}\n",
    "            for n, rw, ow in zip(lnames, waves, waves_obs)\n",
    "        }\n",
    "lines_to_plot\n"
   ]
  },
  {
   "cell_type": "code",
   "execution_count": 54,
   "metadata": {
    "scrolled": true
   },
   "outputs": [
    {
     "data": {
      "text/plain": [
       "<pyqtgraph.graphicsItems.LabelItem.LabelItem at 0x18fbe0ee0>"
      ]
     },
     "execution_count": 54,
     "metadata": {},
     "output_type": "execute_result"
    }
   ],
   "source": [
    "n_l = len(lines_to_plot)\n",
    "if n_l <= 4:\n",
    "    n_cols = 1\n",
    "    n_rows = n_l\n",
    "else:\n",
    "    n_cols = int(n_l/2)\n",
    "    n_rows = int(n_l/2)\n",
    "    if n_l % 2 != 0:\n",
    "        n_rows += 1\n",
    "\n",
    "vel_min = -600 * u.Unit('km/s')\n",
    "vel_max = 600 * u.Unit('km/s')\n",
    "ref_lname = lnames[0]\n",
    "for lines, indexes in zip(lines_to_plot.items(), product(range(1,n_cols+1), range(n_rows))):\n",
    "    i, j = indexes\n",
    "    lname, line = lines\n",
    "    vel = wave_to_vel(wvlg_bins*u.nm, line['obs_wave'])\n",
    "    imin = vel.searchsorted(vel_min)\n",
    "    imax = vel.searchsorted(vel_max)\n",
    "    vel_1D_spec = pg.PlotCurveItem(\n",
    "        vel.value,\n",
    "        flux_1D,\n",
    "        pen=pg.mkPen(color=colors['spec']),\n",
    "        stepMode='center')\n",
    "    line['pi'] = velLayout.addPlot(title=lname.replace('_',' '), name=lname, col=i, row=j)\n",
    "    line['pi'].addItem(vel_1D_spec)\n",
    "    line['pi'].showGrid(x=True, y=True)\n",
    "    line['pi'].hideButtons()\n",
    "    line['pi'].setXLink(ref_lname)\n",
    "    line['pi'].setXRange(-600, 600)\n",
    "    line['pi'].setYRange(np.min(flux_1D[imin:imax]),\n",
    "                         np.max(flux_1D[imin:imax]))\n",
    "    line['pi'].vb.setLimits(\n",
    "            xMin=np.min(vel.value), xMax=np.max(vel.value)\n",
    "        )\n",
    "\n",
    "velLayout.addLabel('Velocity (km/s)', col=1, row=n_rows+1, colspan=n_cols)\n",
    "velLayout.addLabel('Flux', angle=-90, col=0, rowspan=n_rows)\n"
   ]
  },
  {
   "cell_type": "code",
   "execution_count": 52,
   "metadata": {},
   "outputs": [
    {
     "data": {
      "text/plain": [
       "{'targetRange': [[-677.4596669241483, 677.4596669241483],\n",
       "  [-7.016480923970568e-16, 1.4680171089385755e-15]],\n",
       " 'viewRange': [[-677.4596669241483, 677.4596669241483],\n",
       "  [-7.016480923970568e-16, 1.4680171089385755e-15]],\n",
       " 'yInverted': False,\n",
       " 'xInverted': False,\n",
       " 'aspectLocked': False,\n",
       " 'autoRange': [False, True],\n",
       " 'autoPan': [False, False],\n",
       " 'autoVisibleOnly': [False, False],\n",
       " 'linkedViews': ['SiII_1304', None],\n",
       " 'defaultPadding': 0.02,\n",
       " 'mouseEnabled': [True, True],\n",
       " 'mouseMode': 3,\n",
       " 'enableMenu': True,\n",
       " 'wheelScaleFactor': -0.125,\n",
       " 'background': None,\n",
       " 'logMode': [False, False],\n",
       " 'limits': {'xLimits': [-132162.5789975226, 20603.443102673613],\n",
       "  'yLimits': [-1e+307, 1e+307],\n",
       "  'xRange': [None, None],\n",
       "  'yRange': [None, None]}}"
      ]
     },
     "execution_count": 52,
     "metadata": {},
     "output_type": "execute_result"
    }
   ],
   "source": [
    "line['pi'].vb.state"
   ]
  },
  {
   "cell_type": "code",
   "execution_count": 55,
   "metadata": {},
   "outputs": [],
   "source": [
    "linelistView.clear()"
   ]
  },
  {
   "cell_type": "code",
   "execution_count": 3,
   "metadata": {},
   "outputs": [],
   "source": [
    "from astropy.io.ascii import read as ascii_read\n"
   ]
  },
  {
   "cell_type": "code",
   "execution_count": 19,
   "metadata": {
    "scrolled": true
   },
   "outputs": [
    {
     "data": {
      "text/html": [
       "<div><i>Table length=41</i>\n",
       "<table id=\"table6668224400\" class=\"table-striped table-bordered table-condensed\">\n",
       "<thead><tr><th>name</th><th>wave</th></tr></thead>\n",
       "<thead><tr><th>str10</th><th>float64</th></tr></thead>\n",
       "<tr><td>Ly_alpha</td><td>1215.6701</td></tr>\n",
       "<tr><td>Ly_beta</td><td>1025.7223</td></tr>\n",
       "<tr><td>Ly_gamma</td><td>972.5368</td></tr>\n",
       "<tr><td>Ly_delta</td><td>949.7431</td></tr>\n",
       "<tr><td>Ly_limit</td><td>911.7633</td></tr>\n",
       "<tr><td>CII_1334</td><td>1334.5323</td></tr>\n",
       "<tr><td>CII_1335*</td><td>1335.7077</td></tr>\n",
       "<tr><td>CIV_1548</td><td>1548.2049</td></tr>\n",
       "<tr><td>CIV_1550</td><td>1550.77845</td></tr>\n",
       "<tr><td>NV_1239</td><td>1238.821</td></tr>\n",
       "<tr><td>NV_1243</td><td>1242.804</td></tr>\n",
       "<tr><td>OI_1302</td><td>1302.1685</td></tr>\n",
       "<tr><td>OI_1305*</td><td>1304.8576</td></tr>\n",
       "<tr><td>OI_1306**</td><td>1306.0286</td></tr>\n",
       "<tr><td>NaI_5892</td><td>5891.5833</td></tr>\n",
       "<tr><td>NaI_5898</td><td>5897.5581</td></tr>\n",
       "<tr><td>MgI_2026</td><td>2026.4768</td></tr>\n",
       "<tr><td>MgII_2796</td><td>2796.3542699</td></tr>\n",
       "<tr><td>MgII_2804</td><td>2803.5314853</td></tr>\n",
       "<tr><td>...</td><td>...</td></tr>\n",
       "<tr><td>SiII_1527</td><td>1526.70698</td></tr>\n",
       "<tr><td>SiII_1304</td><td>1304.3702</td></tr>\n",
       "<tr><td>SiII_1260</td><td>1260.4221</td></tr>\n",
       "<tr><td>SiII_1309*</td><td>1309.2757</td></tr>\n",
       "<tr><td>SiII_1533*</td><td>1533.4316</td></tr>\n",
       "<tr><td>SiIV_1394</td><td>1393.76018</td></tr>\n",
       "<tr><td>SiIV_1403</td><td>1402.77291</td></tr>\n",
       "<tr><td>CaII_3935</td><td>3934.775</td></tr>\n",
       "<tr><td>CaII_3970</td><td>3969.5901</td></tr>\n",
       "<tr><td>FeII_2600</td><td>2600.1724835</td></tr>\n",
       "<tr><td>FeII_2587</td><td>2586.6495659</td></tr>\n",
       "<tr><td>FeII_2383</td><td>2382.7641781</td></tr>\n",
       "<tr><td>FeII_2374</td><td>2374.4603294</td></tr>\n",
       "<tr><td>FeII_2344</td><td>2344.2129601</td></tr>\n",
       "<tr><td>FeII_1608</td><td>1608.45085</td></tr>\n",
       "<tr><td>FeII_2389*</td><td>2389.35664</td></tr>\n",
       "<tr><td>FeII_2396*</td><td>2396.35462</td></tr>\n",
       "<tr><td>FeII_2411*</td><td>2411.3</td></tr>\n",
       "<tr><td>FeII_2613*</td><td>2612.7</td></tr>\n",
       "</table></div>"
      ],
      "text/plain": [
       "<Table length=41>\n",
       "   name        wave    \n",
       "  str10      float64   \n",
       "---------- ------------\n",
       "  Ly_alpha    1215.6701\n",
       "   Ly_beta    1025.7223\n",
       "  Ly_gamma     972.5368\n",
       "  Ly_delta     949.7431\n",
       "  Ly_limit     911.7633\n",
       "  CII_1334    1334.5323\n",
       " CII_1335*    1335.7077\n",
       "  CIV_1548    1548.2049\n",
       "  CIV_1550   1550.77845\n",
       "   NV_1239     1238.821\n",
       "   NV_1243     1242.804\n",
       "   OI_1302    1302.1685\n",
       "  OI_1305*    1304.8576\n",
       " OI_1306**    1306.0286\n",
       "  NaI_5892    5891.5833\n",
       "  NaI_5898    5897.5581\n",
       "  MgI_2026    2026.4768\n",
       " MgII_2796 2796.3542699\n",
       " MgII_2804 2803.5314853\n",
       "       ...          ...\n",
       " SiII_1527   1526.70698\n",
       " SiII_1304    1304.3702\n",
       " SiII_1260    1260.4221\n",
       "SiII_1309*    1309.2757\n",
       "SiII_1533*    1533.4316\n",
       " SiIV_1394   1393.76018\n",
       " SiIV_1403   1402.77291\n",
       " CaII_3935     3934.775\n",
       " CaII_3970    3969.5901\n",
       " FeII_2600 2600.1724835\n",
       " FeII_2587 2586.6495659\n",
       " FeII_2383 2382.7641781\n",
       " FeII_2374 2374.4603294\n",
       " FeII_2344 2344.2129601\n",
       " FeII_1608   1608.45085\n",
       "FeII_2389*   2389.35664\n",
       "FeII_2396*   2396.35462\n",
       "FeII_2411*       2411.3\n",
       "FeII_2613*       2612.7"
      ]
     },
     "execution_count": 19,
     "metadata": {},
     "output_type": "execute_result"
    }
   ],
   "source": [
    "tab = ascii_read('/Users/palmerio/Code_projects/zHunter/src/zhunter/data/lines/basic_line_list.csv')\n",
    "tab"
   ]
  },
  {
   "cell_type": "code",
   "execution_count": 26,
   "metadata": {},
   "outputs": [],
   "source": [
    "tab['wave'].unit = u.Unit('Angstrom')"
   ]
  },
  {
   "cell_type": "code",
   "execution_count": 27,
   "metadata": {},
   "outputs": [
    {
     "data": {
      "text/latex": [
       "$\\mathrm{\\mathring{A}}$"
      ],
      "text/plain": [
       "Unit(\"Angstrom\")"
      ]
     },
     "execution_count": 27,
     "metadata": {},
     "output_type": "execute_result"
    }
   ],
   "source": [
    "tab['wave'].unit"
   ]
  },
  {
   "cell_type": "code",
   "execution_count": null,
   "metadata": {},
   "outputs": [],
   "source": []
  }
 ],
 "metadata": {
  "kernelspec": {
   "display_name": "Python 3 (ipykernel)",
   "language": "python",
   "name": "python3"
  },
  "language_info": {
   "codemirror_mode": {
    "name": "ipython",
    "version": 3
   },
   "file_extension": ".py",
   "mimetype": "text/x-python",
   "name": "python",
   "nbconvert_exporter": "python",
   "pygments_lexer": "ipython3",
   "version": "3.9.16"
  }
 },
 "nbformat": 4,
 "nbformat_minor": 4
}
