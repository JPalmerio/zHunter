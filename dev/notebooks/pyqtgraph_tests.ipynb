{
 "cells": [
  {
   "cell_type": "code",
   "execution_count": 1,
   "metadata": {},
   "outputs": [],
   "source": [
    "%gui qt6\n",
    "\n",
    "# Qt6 stuff\n",
    "from PyQt6.QtWidgets import QApplication\n",
    "from PyQt6 import QtWidgets\n",
    "from PyQt6 import QtGui\n",
    "from PyQt6 import QtCore\n",
    "from PyQt6.QtCore import pyqtSignal\n",
    "\n",
    "# Plotting stuff\n",
    "import pyqtgraph as pg\n",
    "import matplotlib.pyplot as plt\n",
    "import cmasher as cmr\n",
    "\n",
    "# Science stuff\n",
    "import numpy as np\n",
    "import pandas as pd\n",
    "from spectres import spectres\n",
    "\n",
    "# Astropy stuff\n",
    "from astropy.io import fits\n",
    "from astropy.table import Table\n",
    "import astropy.units as u\n",
    "from astropy.units.quantity import Quantity\n",
    "from astropy.io.ascii import read as ascii_read\n",
    "\n",
    "# zHunter stuff\n",
    "from zhunter import DIRS\n",
    "from zhunter import io\n",
    "from zhunter.misc import set_up_linked_vb\n",
    "from zhunter.colors import get_gradient\n",
    "from zhunter.spectroscopic_system import SpecSystemModel, SpecSystem\n",
    "from zhunter.MainGraphicsWidget import MainGraphicsWidget\n",
    "from zhunter.data_handler import DataHandler\n",
    "\n",
    "# General stuff\n",
    "import logging\n",
    "import sys\n",
    "from pathlib import Path\n",
    "from itertools import cycle"
   ]
  },
  {
   "cell_type": "code",
   "execution_count": 2,
   "metadata": {},
   "outputs": [],
   "source": [
    "log = logging.getLogger(__name__)\n",
    "logging.basicConfig(stream=sys.stdout, level=logging.DEBUG,\n",
    "                    format='%(asctime)s %(levelname)s [%(name)s] %(message)s')\n",
    "logging.getLogger(\"matplotlib\").setLevel(logging.WARNING)\n",
    "logging.getLogger(\"PIL\").setLevel(logging.WARNING)"
   ]
  },
  {
   "cell_type": "code",
   "execution_count": 3,
   "metadata": {},
   "outputs": [],
   "source": [
    "# start qt event loop\n",
    "_instance = QApplication.instance()\n",
    "if not _instance:\n",
    "    _instance = QApplication([])\n",
    "app = _instance"
   ]
  },
  {
   "cell_type": "code",
   "execution_count": 4,
   "metadata": {},
   "outputs": [],
   "source": [
    "## Colors\n",
    "from zhunter.colors import COLORS\n",
    "color_style = 'kraken9'\n",
    "colors = COLORS[color_style]"
   ]
  },
  {
   "cell_type": "code",
   "execution_count": 5,
   "metadata": {},
   "outputs": [],
   "source": [
    "ergscm2AA = u.def_unit(\n",
    "    s=\"ergscm2AA\",\n",
    "    represents=u.Unit(\"erg s^-1 cm^-2 AA^-1\"),\n",
    "    format={\"latex\": r\"\\mathrm{erg\\,s^{-1}\\,cm^{-2}\\,\\mathring{A}^{-1}}\"},\n",
    ")"
   ]
  },
  {
   "cell_type": "markdown",
   "metadata": {},
   "source": [
    "## Generate fake data"
   ]
  },
  {
   "cell_type": "code",
   "execution_count": 6,
   "metadata": {},
   "outputs": [
    {
     "name": "stdout",
     "output_type": "stream",
     "text": [
      "2023-03-21 11:10:47,366 DEBUG [zhunter.misc] Flux and uncertainty need to be rescaled (exponent: -1), rescaling them.\n"
     ]
    }
   ],
   "source": [
    "# The fake data\n",
    "N_data = 10000\n",
    "N_spat = 40\n",
    "wvlg = np.linspace(300, 900, N_data)\n",
    "spat = np.linspace(-5, 5, N_spat)\n",
    "flux = np.ones((wvlg.shape[0], spat.shape[0])) * np.exp(-(spat)**2/0.1)\n",
    "flux += np.random.normal(0, 0.1, size=(wvlg.shape[0], spat.shape[0]))\n",
    "flux = flux.T\n",
    "unc = flux*0.1\n",
    "wvlg_tell = wvlg\n",
    "wvlg_sky_bkg = wvlg\n",
    "tellurics = 1 - np.exp(-(wvlg-600)**2/(30)**2)\n",
    "sky_bkg = np.exp(-(wvlg-800)**2/(10)**2)\n",
    "\n",
    "wvlg *= u.nm\n",
    "spat *= u.arcsec\n",
    "flux *= ergscm2AA\n",
    "unc *= ergscm2AA\n",
    "data = DataHandler()\n",
    "data.load_2D(wvlg, spat, flux, unc)\n"
   ]
  },
  {
   "cell_type": "markdown",
   "metadata": {},
   "source": [
    "## Or real data"
   ]
  },
  {
   "cell_type": "code",
   "execution_count": 7,
   "metadata": {
    "scrolled": true
   },
   "outputs": [
    {
     "name": "stdout",
     "output_type": "stream",
     "text": [
      "2023-03-21 11:10:47,389 INFO [zhunter.io] Attempting to read file: /Users/palmerio/Code_projects/zHunter/dev/data/test_input_files/XSHOOTER_esoreflex_2D.fits.gz\n",
      "2023-03-21 11:10:48,172 WARNING [astropy] UnitsWarning: 'erg/s/cm2/Angstrom' contains multiple slashes, which is discouraged by the FITS standard\n",
      "2023-03-21 11:10:48,186 DEBUG [zhunter.io] Using the FITS CD matrix.\n",
      "2023-03-21 11:10:48,187 DEBUG [zhunter.io] PIX=1.0 VAL=-10.58000019073486 DELT=0.159999847412109\n",
      "2023-03-21 11:10:48,188 DEBUG [zhunter.io] Using the FITS CD matrix.\n",
      "2023-03-21 11:10:48,189 DEBUG [zhunter.io] PIX=1.0 VAL=533.66 DELT=0.0199999999999818\n",
      "2023-03-21 11:10:48,192 INFO [zhunter.io] Attempting to read file: /Users/palmerio/Code_projects/zHunter/src/zhunter/data/tellurics/sky_transimission_opt_to_nir.ecsv.gz\n",
      "2023-03-21 11:10:48,193 DEBUG [zhunter.io] ECSV file, reading with astropy ascii.read function\n"
     ]
    },
    {
     "name": "stderr",
     "output_type": "stream",
     "text": [
      "WARNING: UnitsWarning: 'erg/s/cm2/Angstrom' contains multiple slashes, which is discouraged by the FITS standard [astropy.units.format.generic]\n"
     ]
    },
    {
     "name": "stdout",
     "output_type": "stream",
     "text": [
      "2023-03-21 11:10:51,068 DEBUG [zhunter.io] Found the following columns: ['awav(um)', 'flux_norm']\n",
      "2023-03-21 11:10:51,068 DEBUG [zhunter.io] Did not find any name matching ['ERR', 'NOISE', 'SIGMA', 'UNC'] in ['awav(um)', 'flux_norm']\n",
      "2023-03-21 11:10:51,069 DEBUG [zhunter.io] No unit could be parsed from column name 'flux_norm'\n",
      "2023-03-21 11:10:51,070 INFO [zhunter.io] No units specified for flux, assuming ADU.\n",
      "2023-03-21 11:10:51,210 WARNING [zhunter.io] No error/uncertainty found in file /Users/palmerio/Code_projects/zHunter/src/zhunter/data/tellurics/sky_transimission_opt_to_nir.ecsv.gz.\n",
      "2023-03-21 11:10:51,212 INFO [zhunter.io] Attempting to read file: /Users/palmerio/Code_projects/zHunter/src/zhunter/data/sky_background/sky_background_norm_opt_to_nir.ecsv.gz\n",
      "2023-03-21 11:10:51,213 DEBUG [zhunter.io] ECSV file, reading with astropy ascii.read function\n",
      "2023-03-21 11:10:51,431 DEBUG [zhunter.io] Found the following columns: ['awav(um)', 'flux_norm']\n",
      "2023-03-21 11:10:51,431 DEBUG [zhunter.io] Did not find any name matching ['ERR', 'NOISE', 'SIGMA', 'UNC'] in ['awav(um)', 'flux_norm']\n",
      "2023-03-21 11:10:51,432 DEBUG [zhunter.io] No unit could be parsed from column name 'flux_norm'\n",
      "2023-03-21 11:10:51,432 INFO [zhunter.io] No units specified for flux, assuming ADU.\n",
      "2023-03-21 11:10:51,439 WARNING [zhunter.io] No error/uncertainty found in file /Users/palmerio/Code_projects/zHunter/src/zhunter/data/sky_background/sky_background_norm_opt_to_nir.ecsv.gz.\n",
      "2023-03-21 11:10:51,451 DEBUG [zhunter.misc] Flux and uncertainty need to be rescaled (exponent: -17), rescaling them.\n"
     ]
    }
   ],
   "source": [
    "fname_2D = Path('/Users/palmerio/Code_projects/zHunter/dev/data/test_input_files/XSHOOTER_esoreflex_2D.fits.gz')\n",
    "fname_telluric = Path('/Users/palmerio/Code_projects/zHunter/src/zhunter/data/tellurics/sky_transimission_opt_to_nir.ecsv.gz')\n",
    "fname_sky_bkg = Path('/Users/palmerio/Code_projects/zHunter/src/zhunter/data/sky_background/sky_background_norm_opt_to_nir.ecsv.gz')\n",
    "\n",
    "wvlg, spat, flux, unc, header = io.read_fits_2D_spectrum(fname_2D)\n",
    "\n",
    "spec_tell = io.read_generic_1D_spectrum(fname_telluric)\n",
    "wvlg_tell = spec_tell.spectral_axis\n",
    "tellurics = spec_tell.flux\n",
    "\n",
    "spec_sky_bkg = io.read_generic_1D_spectrum(fname_sky_bkg)\n",
    "wvlg_sky_bkg = spec_sky_bkg.spectral_axis\n",
    "sky_bkg = spec_sky_bkg.flux\n",
    "\n",
    "data = DataHandler()\n",
    "data.load_2D(wvlg, spat, flux, unc)\n"
   ]
  },
  {
   "cell_type": "markdown",
   "metadata": {},
   "source": [
    "## Create the Widgets that will hold the plots"
   ]
  },
  {
   "cell_type": "code",
   "execution_count": 8,
   "metadata": {},
   "outputs": [],
   "source": [
    "win = MainGraphicsWidget(show=True)"
   ]
  },
  {
   "cell_type": "code",
   "execution_count": 9,
   "metadata": {
    "scrolled": false
   },
   "outputs": [
    {
     "name": "stdout",
     "output_type": "stream",
     "text": [
      "2023-03-21 11:10:51,639 INFO [zhunter.MainGraphicsWidget] Setting up a new plot called '2D' in '2D' mode, with Region Of Interest \n",
      "2023-03-21 11:10:51,901 DEBUG [zhunter.MainGraphicsWidget] Setting up Region Of Interest\n",
      "2023-03-21 11:10:51,904 DEBUG [zhunter.MainGraphicsWidget] Connecting signals and slots for ROI\n"
     ]
    }
   ],
   "source": [
    "win.set_up_plot(mode='2D', colors=colors)\n",
    "win.ci.setBorder((100, 50, 100)) # this is to see where the Items' bounds are"
   ]
  },
  {
   "cell_type": "markdown",
   "metadata": {},
   "source": [
    "### Add data to visualize"
   ]
  },
  {
   "cell_type": "code",
   "execution_count": 10,
   "metadata": {
    "scrolled": true
   },
   "outputs": [
    {
     "name": "stdout",
     "output_type": "stream",
     "text": [
      "2023-03-21 11:10:51,910 INFO [zhunter.MainGraphicsWidget] Drawing 2D data\n",
      "2023-03-21 11:10:51,966 WARNING [zhunter.MainGraphicsWidget] No extraction width specified, using 1 by default\n",
      "2023-03-21 11:10:52,094 DEBUG [zhunter.MainGraphicsWidget] Drawing 1D data\n",
      "2023-03-21 11:10:52,096 INFO [zhunter.MainGraphicsWidget] Extraction 2D spectrum from 533.6600 to 1020.0000 nm and from -3.080 to -2.080 arcsec\n",
      "2023-03-21 11:10:52,194 DEBUG [zhunter.MainGraphicsWidget] Drawing 1D data\n"
     ]
    }
   ],
   "source": [
    "win.data = data\n",
    "win.draw_data(data)"
   ]
  },
  {
   "cell_type": "markdown",
   "metadata": {},
   "source": [
    "## Spectroscopic Systems"
   ]
  },
  {
   "cell_type": "code",
   "execution_count": 11,
   "metadata": {},
   "outputs": [],
   "source": [
    "# Abstract Model to hold the list of spectroscopic systens\n",
    "ssm = SpecSystemModel()\n",
    "\n",
    "\n",
    "# QListView widget to view the model\n",
    "specsysView = QtWidgets.QListView()\n",
    "specsysView.setModel(ssm)\n",
    "specsysView.show()"
   ]
  },
  {
   "cell_type": "code",
   "execution_count": 12,
   "metadata": {},
   "outputs": [],
   "source": [
    "self = SpecSystem(6.318, PlotItem=win.ax1D, sys_type='abs',\n",
    "                     color='cyan')\n",
    "xmin=np.min(wvlg)\n",
    "xmax=np.max(wvlg)\n",
    "unit = None\n",
    "\n",
    "if isinstance(xmin, Quantity):\n",
    "    if unit is None:\n",
    "        unit = xmin.unit\n",
    "    else:\n",
    "        xmin = xmin.to(unit)\n",
    "        xmax = xmax.to(unit)\n",
    "else:\n",
    "    if unit is None:\n",
    "        log.warning(\n",
    "            \"No units specified through xmin as Quantity\"\n",
    "            \" or unit argument, using units of the line list.\"\n",
    "        )\n",
    "        unit = self.lines[self.wave_key].unit\n",
    "        xmin = xmin * unit\n",
    "        xmax = xmax * unit\n",
    "    else:\n",
    "        xmin = xmin * unit\n",
    "        xmax = xmax * unit\n",
    "\n",
    "self.plot_unit = unit\n",
    "\n",
    "for w, n in zip(Quantity(self.lines[self.wave_key]), self.lines[\"name\"]):\n",
    "    if (\"*\" in n) and not self.show_fs:\n",
    "        # If this is a fine structure line but show_fs is false, skip\n",
    "        continue\n",
    "    wave_obs = w * (1 + self.redshift)\n",
    "    gt_min = (xmin is None) or (wave_obs >= xmin)\n",
    "    lt_max = (xmax is None) or (wave_obs <= xmax)\n",
    "    # If line observed wavelength is within the data range\n",
    "    if gt_min and lt_max:\n",
    "        if self.sys_type == \"abs\":\n",
    "            line = pg.InfiniteLine(\n",
    "                wave_obs.to(unit).value,\n",
    "                span=(0.0, 0.8),\n",
    "                pen=pg.mkPen(self.color, width=3),\n",
    "                hoverPen=pg.mkPen(self.color, width=6),\n",
    "                name=n,\n",
    "                label=n,\n",
    "                labelOpts={\n",
    "                    \"color\": self.color,\n",
    "                    \"angle\": 45,\n",
    "                    \"position\": 1,\n",
    "                },\n",
    "                movable=True,\n",
    "            )\n",
    "        self.plotted_lines.append(line)\n"
   ]
  },
  {
   "cell_type": "code",
   "execution_count": 20,
   "metadata": {},
   "outputs": [
    {
     "data": {
      "text/plain": [
       "PyQt6.QtCore.QRectF(533.66, -10.58000019073486, 486.33999999955745, 15.999984741210898)"
      ]
     },
     "execution_count": 20,
     "metadata": {},
     "output_type": "execute_result"
    }
   ],
   "source": [
    "win.rect"
   ]
  },
  {
   "cell_type": "code",
   "execution_count": 13,
   "metadata": {
    "scrolled": true
   },
   "outputs": [
    {
     "ename": "TypeError",
     "evalue": "'QRectF' object is not callable",
     "output_type": "error",
     "traceback": [
      "\u001b[0;31m---------------------------------------------------------------------------\u001b[0m",
      "\u001b[0;31mTypeError\u001b[0m                                 Traceback (most recent call last)",
      "File \u001b[0;32m~/opt/miniconda3/envs/zhunter_dev/lib/python3.9/site-packages/pyqtgraph/graphicsItems/GraphicsObject.py:36\u001b[0m, in \u001b[0;36mGraphicsObject.itemChange\u001b[0;34m(self, change, value)\u001b[0m\n\u001b[1;32m     34\u001b[0m             \u001b[38;5;28mself\u001b[39m\u001b[38;5;241m.\u001b[39mparentChanged()\n\u001b[1;32m     35\u001b[0m     \u001b[38;5;28;01melse\u001b[39;00m:\n\u001b[0;32m---> 36\u001b[0m         \u001b[38;5;28;43mself\u001b[39;49m\u001b[38;5;241;43m.\u001b[39;49m\u001b[43mchangeParent\u001b[49m\u001b[43m(\u001b[49m\u001b[43m)\u001b[49m\n\u001b[1;32m     37\u001b[0m \u001b[38;5;28;01mtry\u001b[39;00m:\n\u001b[1;32m     38\u001b[0m     inform_view_on_change \u001b[38;5;241m=\u001b[39m \u001b[38;5;28mself\u001b[39m\u001b[38;5;241m.\u001b[39m__inform_view_on_changes\n",
      "File \u001b[0;32m~/opt/miniconda3/envs/zhunter_dev/lib/python3.9/site-packages/pyqtgraph/graphicsItems/GraphicsItem.py:460\u001b[0m, in \u001b[0;36mGraphicsItem.changeParent\u001b[0;34m(self)\u001b[0m\n\u001b[1;32m    455\u001b[0m \u001b[38;5;28;01mdef\u001b[39;00m \u001b[38;5;21mchangeParent\u001b[39m(\u001b[38;5;28mself\u001b[39m):\n\u001b[1;32m    456\u001b[0m \u001b[38;5;250m    \u001b[39m\u001b[38;5;124;03m\"\"\"Called when the item's parent has changed. \u001b[39;00m\n\u001b[1;32m    457\u001b[0m \u001b[38;5;124;03m    This method handles connecting / disconnecting from ViewBox signals\u001b[39;00m\n\u001b[1;32m    458\u001b[0m \u001b[38;5;124;03m    to make sure viewRangeChanged works properly. It should generally be \u001b[39;00m\n\u001b[1;32m    459\u001b[0m \u001b[38;5;124;03m    extended, not overridden.\"\"\"\u001b[39;00m\n\u001b[0;32m--> 460\u001b[0m     \u001b[38;5;28;43mself\u001b[39;49m\u001b[38;5;241;43m.\u001b[39;49m\u001b[43m_updateView\u001b[49m\u001b[43m(\u001b[49m\u001b[43m)\u001b[49m\n",
      "File \u001b[0;32m~/opt/miniconda3/envs/zhunter_dev/lib/python3.9/site-packages/pyqtgraph/graphicsItems/GraphicsItem.py:520\u001b[0m, in \u001b[0;36mGraphicsItem._updateView\u001b[0;34m(self)\u001b[0m\n\u001b[1;32m    518\u001b[0m     \u001b[38;5;28mself\u001b[39m\u001b[38;5;241m.\u001b[39m_connectedView \u001b[38;5;241m=\u001b[39m weakref\u001b[38;5;241m.\u001b[39mref(view)\n\u001b[1;32m    519\u001b[0m     \u001b[38;5;28mself\u001b[39m\u001b[38;5;241m.\u001b[39mviewRangeChanged()\n\u001b[0;32m--> 520\u001b[0m     \u001b[38;5;28;43mself\u001b[39;49m\u001b[38;5;241;43m.\u001b[39;49m\u001b[43mviewTransformChanged\u001b[49m\u001b[43m(\u001b[49m\u001b[43m)\u001b[49m\n\u001b[1;32m    522\u001b[0m \u001b[38;5;66;03m## inform children that their view might have changed\u001b[39;00m\n\u001b[1;32m    523\u001b[0m \u001b[38;5;28mself\u001b[39m\u001b[38;5;241m.\u001b[39m_replaceView(oldView)\n",
      "File \u001b[0;32m~/opt/miniconda3/envs/zhunter_dev/lib/python3.9/site-packages/pyqtgraph/graphicsItems/InfiniteLine.py:609\u001b[0m, in \u001b[0;36mInfLineLabel.viewTransformChanged\u001b[0;34m(self)\u001b[0m\n\u001b[1;32m    607\u001b[0m \u001b[38;5;28;01mdef\u001b[39;00m \u001b[38;5;21mviewTransformChanged\u001b[39m(\u001b[38;5;28mself\u001b[39m):\n\u001b[1;32m    608\u001b[0m     GraphicsItem\u001b[38;5;241m.\u001b[39mviewTransformChanged(\u001b[38;5;28mself\u001b[39m)\n\u001b[0;32m--> 609\u001b[0m     \u001b[38;5;28;43mself\u001b[39;49m\u001b[38;5;241;43m.\u001b[39;49m\u001b[43mupdatePosition\u001b[49m\u001b[43m(\u001b[49m\u001b[43m)\u001b[49m\n\u001b[1;32m    610\u001b[0m     TextItem\u001b[38;5;241m.\u001b[39mviewTransformChanged(\u001b[38;5;28mself\u001b[39m)\n",
      "File \u001b[0;32m~/opt/miniconda3/envs/zhunter_dev/lib/python3.9/site-packages/pyqtgraph/graphicsItems/InfiniteLine.py:546\u001b[0m, in \u001b[0;36mInfLineLabel.updatePosition\u001b[0;34m(self)\u001b[0m\n\u001b[1;32m    543\u001b[0m \u001b[38;5;28mself\u001b[39m\u001b[38;5;241m.\u001b[39msetPos(pt)\n\u001b[1;32m    545\u001b[0m \u001b[38;5;66;03m# update anchor to keep text visible as it nears the view box edge\u001b[39;00m\n\u001b[0;32m--> 546\u001b[0m vr \u001b[38;5;241m=\u001b[39m \u001b[38;5;28;43mself\u001b[39;49m\u001b[38;5;241;43m.\u001b[39;49m\u001b[43mline\u001b[49m\u001b[38;5;241;43m.\u001b[39;49m\u001b[43mviewRect\u001b[49m\u001b[43m(\u001b[49m\u001b[43m)\u001b[49m\n\u001b[1;32m    547\u001b[0m \u001b[38;5;28;01mif\u001b[39;00m vr \u001b[38;5;129;01mis\u001b[39;00m \u001b[38;5;129;01mnot\u001b[39;00m \u001b[38;5;28;01mNone\u001b[39;00m:\n\u001b[1;32m    548\u001b[0m     \u001b[38;5;28mself\u001b[39m\u001b[38;5;241m.\u001b[39msetAnchor(\u001b[38;5;28mself\u001b[39m\u001b[38;5;241m.\u001b[39manchors[\u001b[38;5;241m0\u001b[39m \u001b[38;5;28;01mif\u001b[39;00m vr\u001b[38;5;241m.\u001b[39mcenter()\u001b[38;5;241m.\u001b[39my() \u001b[38;5;241m<\u001b[39m \u001b[38;5;241m0\u001b[39m \u001b[38;5;28;01melse\u001b[39;00m \u001b[38;5;241m1\u001b[39m])\n",
      "File \u001b[0;32m~/opt/miniconda3/envs/zhunter_dev/lib/python3.9/site-packages/pyqtgraph/graphicsItems/GraphicsItem.py:179\u001b[0m, in \u001b[0;36mGraphicsItem.viewRect\u001b[0;34m(self)\u001b[0m\n\u001b[1;32m    177\u001b[0m \u001b[38;5;28;01mif\u001b[39;00m view \u001b[38;5;129;01mis\u001b[39;00m \u001b[38;5;28;01mNone\u001b[39;00m:\n\u001b[1;32m    178\u001b[0m     \u001b[38;5;28;01mreturn\u001b[39;00m \u001b[38;5;28;01mNone\u001b[39;00m\n\u001b[0;32m--> 179\u001b[0m bounds \u001b[38;5;241m=\u001b[39m \u001b[38;5;28mself\u001b[39m\u001b[38;5;241m.\u001b[39mmapRectFromView(\u001b[43mview\u001b[49m\u001b[38;5;241;43m.\u001b[39;49m\u001b[43mviewRect\u001b[49m\u001b[43m(\u001b[49m\u001b[43m)\u001b[49m)\n\u001b[1;32m    180\u001b[0m \u001b[38;5;28;01mif\u001b[39;00m bounds \u001b[38;5;129;01mis\u001b[39;00m \u001b[38;5;28;01mNone\u001b[39;00m:\n\u001b[1;32m    181\u001b[0m     \u001b[38;5;28;01mreturn\u001b[39;00m \u001b[38;5;28;01mNone\u001b[39;00m\n",
      "File \u001b[0;32m~/opt/miniconda3/envs/zhunter_dev/lib/python3.9/site-packages/pyqtgraph/widgets/GraphicsView.py:225\u001b[0m, in \u001b[0;36mGraphicsView.viewRect\u001b[0;34m(self)\u001b[0m\n\u001b[1;32m    223\u001b[0m \u001b[38;5;250m\u001b[39m\u001b[38;5;124;03m\"\"\"Return the boundaries of the view in scene coordinates\"\"\"\u001b[39;00m\n\u001b[1;32m    224\u001b[0m \u001b[38;5;66;03m## easier to just return self.range ?\u001b[39;00m\n\u001b[0;32m--> 225\u001b[0m r \u001b[38;5;241m=\u001b[39m QtCore\u001b[38;5;241m.\u001b[39mQRectF(\u001b[38;5;28;43mself\u001b[39;49m\u001b[38;5;241;43m.\u001b[39;49m\u001b[43mrect\u001b[49m\u001b[43m(\u001b[49m\u001b[43m)\u001b[49m)\n\u001b[1;32m    226\u001b[0m \u001b[38;5;28;01mreturn\u001b[39;00m \u001b[38;5;28mself\u001b[39m\u001b[38;5;241m.\u001b[39mviewportTransform()\u001b[38;5;241m.\u001b[39minverted()[\u001b[38;5;241m0\u001b[39m]\u001b[38;5;241m.\u001b[39mmapRect(r)\n",
      "\u001b[0;31mTypeError\u001b[0m: 'QRectF' object is not callable"
     ]
    }
   ],
   "source": [
    "self.pi.addItem(self.plotted_lines[0])"
   ]
  },
  {
   "cell_type": "code",
   "execution_count": 24,
   "metadata": {
    "scrolled": true
   },
   "outputs": [
    {
     "ename": "TypeError",
     "evalue": "'QRectF' object is not callable",
     "output_type": "error",
     "traceback": [
      "\u001b[0;31m---------------------------------------------------------------------------\u001b[0m",
      "\u001b[0;31mTypeError\u001b[0m                                 Traceback (most recent call last)",
      "File \u001b[0;32m~/opt/miniconda3/envs/zhunter_dev/lib/python3.9/site-packages/pyqtgraph/graphicsItems/GraphicsObject.py:36\u001b[0m, in \u001b[0;36mGraphicsObject.itemChange\u001b[0;34m(self, change, value)\u001b[0m\n\u001b[1;32m     34\u001b[0m             \u001b[38;5;28mself\u001b[39m\u001b[38;5;241m.\u001b[39mparentChanged()\n\u001b[1;32m     35\u001b[0m     \u001b[38;5;28;01melse\u001b[39;00m:\n\u001b[0;32m---> 36\u001b[0m         \u001b[38;5;28;43mself\u001b[39;49m\u001b[38;5;241;43m.\u001b[39;49m\u001b[43mchangeParent\u001b[49m\u001b[43m(\u001b[49m\u001b[43m)\u001b[49m\n\u001b[1;32m     37\u001b[0m \u001b[38;5;28;01mtry\u001b[39;00m:\n\u001b[1;32m     38\u001b[0m     inform_view_on_change \u001b[38;5;241m=\u001b[39m \u001b[38;5;28mself\u001b[39m\u001b[38;5;241m.\u001b[39m__inform_view_on_changes\n",
      "File \u001b[0;32m~/opt/miniconda3/envs/zhunter_dev/lib/python3.9/site-packages/pyqtgraph/graphicsItems/GraphicsItem.py:460\u001b[0m, in \u001b[0;36mGraphicsItem.changeParent\u001b[0;34m(self)\u001b[0m\n\u001b[1;32m    455\u001b[0m \u001b[38;5;28;01mdef\u001b[39;00m \u001b[38;5;21mchangeParent\u001b[39m(\u001b[38;5;28mself\u001b[39m):\n\u001b[1;32m    456\u001b[0m \u001b[38;5;250m    \u001b[39m\u001b[38;5;124;03m\"\"\"Called when the item's parent has changed. \u001b[39;00m\n\u001b[1;32m    457\u001b[0m \u001b[38;5;124;03m    This method handles connecting / disconnecting from ViewBox signals\u001b[39;00m\n\u001b[1;32m    458\u001b[0m \u001b[38;5;124;03m    to make sure viewRangeChanged works properly. It should generally be \u001b[39;00m\n\u001b[1;32m    459\u001b[0m \u001b[38;5;124;03m    extended, not overridden.\"\"\"\u001b[39;00m\n\u001b[0;32m--> 460\u001b[0m     \u001b[38;5;28;43mself\u001b[39;49m\u001b[38;5;241;43m.\u001b[39;49m\u001b[43m_updateView\u001b[49m\u001b[43m(\u001b[49m\u001b[43m)\u001b[49m\n",
      "File \u001b[0;32m~/opt/miniconda3/envs/zhunter_dev/lib/python3.9/site-packages/pyqtgraph/graphicsItems/GraphicsItem.py:520\u001b[0m, in \u001b[0;36mGraphicsItem._updateView\u001b[0;34m(self)\u001b[0m\n\u001b[1;32m    518\u001b[0m     \u001b[38;5;28mself\u001b[39m\u001b[38;5;241m.\u001b[39m_connectedView \u001b[38;5;241m=\u001b[39m weakref\u001b[38;5;241m.\u001b[39mref(view)\n\u001b[1;32m    519\u001b[0m     \u001b[38;5;28mself\u001b[39m\u001b[38;5;241m.\u001b[39mviewRangeChanged()\n\u001b[0;32m--> 520\u001b[0m     \u001b[38;5;28;43mself\u001b[39;49m\u001b[38;5;241;43m.\u001b[39;49m\u001b[43mviewTransformChanged\u001b[49m\u001b[43m(\u001b[49m\u001b[43m)\u001b[49m\n\u001b[1;32m    522\u001b[0m \u001b[38;5;66;03m## inform children that their view might have changed\u001b[39;00m\n\u001b[1;32m    523\u001b[0m \u001b[38;5;28mself\u001b[39m\u001b[38;5;241m.\u001b[39m_replaceView(oldView)\n",
      "File \u001b[0;32m~/opt/miniconda3/envs/zhunter_dev/lib/python3.9/site-packages/pyqtgraph/graphicsItems/InfiniteLine.py:609\u001b[0m, in \u001b[0;36mInfLineLabel.viewTransformChanged\u001b[0;34m(self)\u001b[0m\n\u001b[1;32m    607\u001b[0m \u001b[38;5;28;01mdef\u001b[39;00m \u001b[38;5;21mviewTransformChanged\u001b[39m(\u001b[38;5;28mself\u001b[39m):\n\u001b[1;32m    608\u001b[0m     GraphicsItem\u001b[38;5;241m.\u001b[39mviewTransformChanged(\u001b[38;5;28mself\u001b[39m)\n\u001b[0;32m--> 609\u001b[0m     \u001b[38;5;28;43mself\u001b[39;49m\u001b[38;5;241;43m.\u001b[39;49m\u001b[43mupdatePosition\u001b[49m\u001b[43m(\u001b[49m\u001b[43m)\u001b[49m\n\u001b[1;32m    610\u001b[0m     TextItem\u001b[38;5;241m.\u001b[39mviewTransformChanged(\u001b[38;5;28mself\u001b[39m)\n",
      "File \u001b[0;32m~/opt/miniconda3/envs/zhunter_dev/lib/python3.9/site-packages/pyqtgraph/graphicsItems/InfiniteLine.py:546\u001b[0m, in \u001b[0;36mInfLineLabel.updatePosition\u001b[0;34m(self)\u001b[0m\n\u001b[1;32m    543\u001b[0m \u001b[38;5;28mself\u001b[39m\u001b[38;5;241m.\u001b[39msetPos(pt)\n\u001b[1;32m    545\u001b[0m \u001b[38;5;66;03m# update anchor to keep text visible as it nears the view box edge\u001b[39;00m\n\u001b[0;32m--> 546\u001b[0m vr \u001b[38;5;241m=\u001b[39m \u001b[38;5;28;43mself\u001b[39;49m\u001b[38;5;241;43m.\u001b[39;49m\u001b[43mline\u001b[49m\u001b[38;5;241;43m.\u001b[39;49m\u001b[43mviewRect\u001b[49m\u001b[43m(\u001b[49m\u001b[43m)\u001b[49m\n\u001b[1;32m    547\u001b[0m \u001b[38;5;28;01mif\u001b[39;00m vr \u001b[38;5;129;01mis\u001b[39;00m \u001b[38;5;129;01mnot\u001b[39;00m \u001b[38;5;28;01mNone\u001b[39;00m:\n\u001b[1;32m    548\u001b[0m     \u001b[38;5;28mself\u001b[39m\u001b[38;5;241m.\u001b[39msetAnchor(\u001b[38;5;28mself\u001b[39m\u001b[38;5;241m.\u001b[39manchors[\u001b[38;5;241m0\u001b[39m \u001b[38;5;28;01mif\u001b[39;00m vr\u001b[38;5;241m.\u001b[39mcenter()\u001b[38;5;241m.\u001b[39my() \u001b[38;5;241m<\u001b[39m \u001b[38;5;241m0\u001b[39m \u001b[38;5;28;01melse\u001b[39;00m \u001b[38;5;241m1\u001b[39m])\n",
      "File \u001b[0;32m~/opt/miniconda3/envs/zhunter_dev/lib/python3.9/site-packages/pyqtgraph/graphicsItems/GraphicsItem.py:179\u001b[0m, in \u001b[0;36mGraphicsItem.viewRect\u001b[0;34m(self)\u001b[0m\n\u001b[1;32m    177\u001b[0m \u001b[38;5;28;01mif\u001b[39;00m view \u001b[38;5;129;01mis\u001b[39;00m \u001b[38;5;28;01mNone\u001b[39;00m:\n\u001b[1;32m    178\u001b[0m     \u001b[38;5;28;01mreturn\u001b[39;00m \u001b[38;5;28;01mNone\u001b[39;00m\n\u001b[0;32m--> 179\u001b[0m bounds \u001b[38;5;241m=\u001b[39m \u001b[38;5;28mself\u001b[39m\u001b[38;5;241m.\u001b[39mmapRectFromView(\u001b[43mview\u001b[49m\u001b[38;5;241;43m.\u001b[39;49m\u001b[43mviewRect\u001b[49m\u001b[43m(\u001b[49m\u001b[43m)\u001b[49m)\n\u001b[1;32m    180\u001b[0m \u001b[38;5;28;01mif\u001b[39;00m bounds \u001b[38;5;129;01mis\u001b[39;00m \u001b[38;5;28;01mNone\u001b[39;00m:\n\u001b[1;32m    181\u001b[0m     \u001b[38;5;28;01mreturn\u001b[39;00m \u001b[38;5;28;01mNone\u001b[39;00m\n",
      "File \u001b[0;32m~/opt/miniconda3/envs/zhunter_dev/lib/python3.9/site-packages/pyqtgraph/widgets/GraphicsView.py:225\u001b[0m, in \u001b[0;36mGraphicsView.viewRect\u001b[0;34m(self)\u001b[0m\n\u001b[1;32m    223\u001b[0m \u001b[38;5;250m\u001b[39m\u001b[38;5;124;03m\"\"\"Return the boundaries of the view in scene coordinates\"\"\"\u001b[39;00m\n\u001b[1;32m    224\u001b[0m \u001b[38;5;66;03m## easier to just return self.range ?\u001b[39;00m\n\u001b[0;32m--> 225\u001b[0m r \u001b[38;5;241m=\u001b[39m QtCore\u001b[38;5;241m.\u001b[39mQRectF(\u001b[38;5;28;43mself\u001b[39;49m\u001b[38;5;241;43m.\u001b[39;49m\u001b[43mrect\u001b[49m\u001b[43m(\u001b[49m\u001b[43m)\u001b[49m)\n\u001b[1;32m    226\u001b[0m \u001b[38;5;28;01mreturn\u001b[39;00m \u001b[38;5;28mself\u001b[39m\u001b[38;5;241m.\u001b[39mviewportTransform()\u001b[38;5;241m.\u001b[39minverted()[\u001b[38;5;241m0\u001b[39m]\u001b[38;5;241m.\u001b[39mmapRect(r)\n",
      "\u001b[0;31mTypeError\u001b[0m: 'QRectF' object is not callable"
     ]
    }
   ],
   "source": [
    "self.pi.vb.addItem(self.plotted_lines[1])"
   ]
  },
  {
   "cell_type": "code",
   "execution_count": 43,
   "metadata": {},
   "outputs": [],
   "source": [
    "self.pi.vb."
   ]
  },
  {
   "cell_type": "code",
   "execution_count": 37,
   "metadata": {},
   "outputs": [],
   "source": [
    "self.pi.removeItem(xx)"
   ]
  },
  {
   "cell_type": "code",
   "execution_count": 38,
   "metadata": {},
   "outputs": [],
   "source": [
    "xx = pg.InfiniteLine(\n",
    "    600,\n",
    "                span=(0.0, 0.8),\n",
    "                pen=pg.mkPen(self.color, width=3),\n",
    "                hoverPen=pg.mkPen(self.color, width=6),\n",
    "#                 name='test_line',\n",
    "                label='test_line',\n",
    "#                 labelOpts={\n",
    "#                     \"color\": self.color,\n",
    "#                     \"angle\": 45,\n",
    "#                     \"position\": 1,\n",
    "#                 },\n",
    "                movable=True,\n",
    "            )\n",
    "self.pi.addItem(xx)"
   ]
  },
  {
   "cell_type": "code",
   "execution_count": 14,
   "metadata": {},
   "outputs": [
    {
     "name": "stdout",
     "output_type": "stream",
     "text": [
      "2023-03-21 10:41:04,240 DEBUG [zhunter.spectroscopic_system] Drawing abs system at redshift : 6.31800\n"
     ]
    },
    {
     "ename": "TypeError",
     "evalue": "'QRectF' object is not callable",
     "output_type": "error",
     "traceback": [
      "\u001b[0;31m---------------------------------------------------------------------------\u001b[0m",
      "\u001b[0;31mTypeError\u001b[0m                                 Traceback (most recent call last)",
      "File \u001b[0;32m~/opt/miniconda3/envs/zhunter_dev/lib/python3.9/site-packages/pyqtgraph/graphicsItems/GraphicsObject.py:36\u001b[0m, in \u001b[0;36mGraphicsObject.itemChange\u001b[0;34m(self, change, value)\u001b[0m\n\u001b[1;32m     34\u001b[0m             \u001b[38;5;28mself\u001b[39m\u001b[38;5;241m.\u001b[39mparentChanged()\n\u001b[1;32m     35\u001b[0m     \u001b[38;5;28;01melse\u001b[39;00m:\n\u001b[0;32m---> 36\u001b[0m         \u001b[38;5;28;43mself\u001b[39;49m\u001b[38;5;241;43m.\u001b[39;49m\u001b[43mchangeParent\u001b[49m\u001b[43m(\u001b[49m\u001b[43m)\u001b[49m\n\u001b[1;32m     37\u001b[0m \u001b[38;5;28;01mtry\u001b[39;00m:\n\u001b[1;32m     38\u001b[0m     inform_view_on_change \u001b[38;5;241m=\u001b[39m \u001b[38;5;28mself\u001b[39m\u001b[38;5;241m.\u001b[39m__inform_view_on_changes\n",
      "File \u001b[0;32m~/opt/miniconda3/envs/zhunter_dev/lib/python3.9/site-packages/pyqtgraph/graphicsItems/GraphicsItem.py:460\u001b[0m, in \u001b[0;36mGraphicsItem.changeParent\u001b[0;34m(self)\u001b[0m\n\u001b[1;32m    455\u001b[0m \u001b[38;5;28;01mdef\u001b[39;00m \u001b[38;5;21mchangeParent\u001b[39m(\u001b[38;5;28mself\u001b[39m):\n\u001b[1;32m    456\u001b[0m \u001b[38;5;250m    \u001b[39m\u001b[38;5;124;03m\"\"\"Called when the item's parent has changed. \u001b[39;00m\n\u001b[1;32m    457\u001b[0m \u001b[38;5;124;03m    This method handles connecting / disconnecting from ViewBox signals\u001b[39;00m\n\u001b[1;32m    458\u001b[0m \u001b[38;5;124;03m    to make sure viewRangeChanged works properly. It should generally be \u001b[39;00m\n\u001b[1;32m    459\u001b[0m \u001b[38;5;124;03m    extended, not overridden.\"\"\"\u001b[39;00m\n\u001b[0;32m--> 460\u001b[0m     \u001b[38;5;28;43mself\u001b[39;49m\u001b[38;5;241;43m.\u001b[39;49m\u001b[43m_updateView\u001b[49m\u001b[43m(\u001b[49m\u001b[43m)\u001b[49m\n",
      "File \u001b[0;32m~/opt/miniconda3/envs/zhunter_dev/lib/python3.9/site-packages/pyqtgraph/graphicsItems/GraphicsItem.py:520\u001b[0m, in \u001b[0;36mGraphicsItem._updateView\u001b[0;34m(self)\u001b[0m\n\u001b[1;32m    518\u001b[0m     \u001b[38;5;28mself\u001b[39m\u001b[38;5;241m.\u001b[39m_connectedView \u001b[38;5;241m=\u001b[39m weakref\u001b[38;5;241m.\u001b[39mref(view)\n\u001b[1;32m    519\u001b[0m     \u001b[38;5;28mself\u001b[39m\u001b[38;5;241m.\u001b[39mviewRangeChanged()\n\u001b[0;32m--> 520\u001b[0m     \u001b[38;5;28;43mself\u001b[39;49m\u001b[38;5;241;43m.\u001b[39;49m\u001b[43mviewTransformChanged\u001b[49m\u001b[43m(\u001b[49m\u001b[43m)\u001b[49m\n\u001b[1;32m    522\u001b[0m \u001b[38;5;66;03m## inform children that their view might have changed\u001b[39;00m\n\u001b[1;32m    523\u001b[0m \u001b[38;5;28mself\u001b[39m\u001b[38;5;241m.\u001b[39m_replaceView(oldView)\n",
      "File \u001b[0;32m~/opt/miniconda3/envs/zhunter_dev/lib/python3.9/site-packages/pyqtgraph/graphicsItems/InfiniteLine.py:609\u001b[0m, in \u001b[0;36mInfLineLabel.viewTransformChanged\u001b[0;34m(self)\u001b[0m\n\u001b[1;32m    607\u001b[0m \u001b[38;5;28;01mdef\u001b[39;00m \u001b[38;5;21mviewTransformChanged\u001b[39m(\u001b[38;5;28mself\u001b[39m):\n\u001b[1;32m    608\u001b[0m     GraphicsItem\u001b[38;5;241m.\u001b[39mviewTransformChanged(\u001b[38;5;28mself\u001b[39m)\n\u001b[0;32m--> 609\u001b[0m     \u001b[38;5;28;43mself\u001b[39;49m\u001b[38;5;241;43m.\u001b[39;49m\u001b[43mupdatePosition\u001b[49m\u001b[43m(\u001b[49m\u001b[43m)\u001b[49m\n\u001b[1;32m    610\u001b[0m     TextItem\u001b[38;5;241m.\u001b[39mviewTransformChanged(\u001b[38;5;28mself\u001b[39m)\n",
      "File \u001b[0;32m~/opt/miniconda3/envs/zhunter_dev/lib/python3.9/site-packages/pyqtgraph/graphicsItems/InfiniteLine.py:546\u001b[0m, in \u001b[0;36mInfLineLabel.updatePosition\u001b[0;34m(self)\u001b[0m\n\u001b[1;32m    543\u001b[0m \u001b[38;5;28mself\u001b[39m\u001b[38;5;241m.\u001b[39msetPos(pt)\n\u001b[1;32m    545\u001b[0m \u001b[38;5;66;03m# update anchor to keep text visible as it nears the view box edge\u001b[39;00m\n\u001b[0;32m--> 546\u001b[0m vr \u001b[38;5;241m=\u001b[39m \u001b[38;5;28;43mself\u001b[39;49m\u001b[38;5;241;43m.\u001b[39;49m\u001b[43mline\u001b[49m\u001b[38;5;241;43m.\u001b[39;49m\u001b[43mviewRect\u001b[49m\u001b[43m(\u001b[49m\u001b[43m)\u001b[49m\n\u001b[1;32m    547\u001b[0m \u001b[38;5;28;01mif\u001b[39;00m vr \u001b[38;5;129;01mis\u001b[39;00m \u001b[38;5;129;01mnot\u001b[39;00m \u001b[38;5;28;01mNone\u001b[39;00m:\n\u001b[1;32m    548\u001b[0m     \u001b[38;5;28mself\u001b[39m\u001b[38;5;241m.\u001b[39msetAnchor(\u001b[38;5;28mself\u001b[39m\u001b[38;5;241m.\u001b[39manchors[\u001b[38;5;241m0\u001b[39m \u001b[38;5;28;01mif\u001b[39;00m vr\u001b[38;5;241m.\u001b[39mcenter()\u001b[38;5;241m.\u001b[39my() \u001b[38;5;241m<\u001b[39m \u001b[38;5;241m0\u001b[39m \u001b[38;5;28;01melse\u001b[39;00m \u001b[38;5;241m1\u001b[39m])\n",
      "File \u001b[0;32m~/opt/miniconda3/envs/zhunter_dev/lib/python3.9/site-packages/pyqtgraph/graphicsItems/GraphicsItem.py:179\u001b[0m, in \u001b[0;36mGraphicsItem.viewRect\u001b[0;34m(self)\u001b[0m\n\u001b[1;32m    177\u001b[0m \u001b[38;5;28;01mif\u001b[39;00m view \u001b[38;5;129;01mis\u001b[39;00m \u001b[38;5;28;01mNone\u001b[39;00m:\n\u001b[1;32m    178\u001b[0m     \u001b[38;5;28;01mreturn\u001b[39;00m \u001b[38;5;28;01mNone\u001b[39;00m\n\u001b[0;32m--> 179\u001b[0m bounds \u001b[38;5;241m=\u001b[39m \u001b[38;5;28mself\u001b[39m\u001b[38;5;241m.\u001b[39mmapRectFromView(\u001b[43mview\u001b[49m\u001b[38;5;241;43m.\u001b[39;49m\u001b[43mviewRect\u001b[49m\u001b[43m(\u001b[49m\u001b[43m)\u001b[49m)\n\u001b[1;32m    180\u001b[0m \u001b[38;5;28;01mif\u001b[39;00m bounds \u001b[38;5;129;01mis\u001b[39;00m \u001b[38;5;28;01mNone\u001b[39;00m:\n\u001b[1;32m    181\u001b[0m     \u001b[38;5;28;01mreturn\u001b[39;00m \u001b[38;5;28;01mNone\u001b[39;00m\n",
      "File \u001b[0;32m~/opt/miniconda3/envs/zhunter_dev/lib/python3.9/site-packages/pyqtgraph/widgets/GraphicsView.py:225\u001b[0m, in \u001b[0;36mGraphicsView.viewRect\u001b[0;34m(self)\u001b[0m\n\u001b[1;32m    223\u001b[0m \u001b[38;5;250m\u001b[39m\u001b[38;5;124;03m\"\"\"Return the boundaries of the view in scene coordinates\"\"\"\u001b[39;00m\n\u001b[1;32m    224\u001b[0m \u001b[38;5;66;03m## easier to just return self.range ?\u001b[39;00m\n\u001b[0;32m--> 225\u001b[0m r \u001b[38;5;241m=\u001b[39m QtCore\u001b[38;5;241m.\u001b[39mQRectF(\u001b[38;5;28;43mself\u001b[39;49m\u001b[38;5;241;43m.\u001b[39;49m\u001b[43mrect\u001b[49m\u001b[43m(\u001b[49m\u001b[43m)\u001b[49m)\n\u001b[1;32m    226\u001b[0m \u001b[38;5;28;01mreturn\u001b[39;00m \u001b[38;5;28mself\u001b[39m\u001b[38;5;241m.\u001b[39mviewportTransform()\u001b[38;5;241m.\u001b[39minverted()[\u001b[38;5;241m0\u001b[39m]\u001b[38;5;241m.\u001b[39mmapRect(r)\n",
      "\u001b[0;31mTypeError\u001b[0m: 'QRectF' object is not callable"
     ]
    },
    {
     "ename": "TypeError",
     "evalue": "'QRectF' object is not callable",
     "output_type": "error",
     "traceback": [
      "\u001b[0;31m---------------------------------------------------------------------------\u001b[0m",
      "\u001b[0;31mTypeError\u001b[0m                                 Traceback (most recent call last)",
      "File \u001b[0;32m~/opt/miniconda3/envs/zhunter_dev/lib/python3.9/site-packages/pyqtgraph/graphicsItems/GraphicsObject.py:36\u001b[0m, in \u001b[0;36mGraphicsObject.itemChange\u001b[0;34m(self, change, value)\u001b[0m\n\u001b[1;32m     34\u001b[0m             \u001b[38;5;28mself\u001b[39m\u001b[38;5;241m.\u001b[39mparentChanged()\n\u001b[1;32m     35\u001b[0m     \u001b[38;5;28;01melse\u001b[39;00m:\n\u001b[0;32m---> 36\u001b[0m         \u001b[38;5;28;43mself\u001b[39;49m\u001b[38;5;241;43m.\u001b[39;49m\u001b[43mchangeParent\u001b[49m\u001b[43m(\u001b[49m\u001b[43m)\u001b[49m\n\u001b[1;32m     37\u001b[0m \u001b[38;5;28;01mtry\u001b[39;00m:\n\u001b[1;32m     38\u001b[0m     inform_view_on_change \u001b[38;5;241m=\u001b[39m \u001b[38;5;28mself\u001b[39m\u001b[38;5;241m.\u001b[39m__inform_view_on_changes\n",
      "File \u001b[0;32m~/opt/miniconda3/envs/zhunter_dev/lib/python3.9/site-packages/pyqtgraph/graphicsItems/GraphicsItem.py:460\u001b[0m, in \u001b[0;36mGraphicsItem.changeParent\u001b[0;34m(self)\u001b[0m\n\u001b[1;32m    455\u001b[0m \u001b[38;5;28;01mdef\u001b[39;00m \u001b[38;5;21mchangeParent\u001b[39m(\u001b[38;5;28mself\u001b[39m):\n\u001b[1;32m    456\u001b[0m \u001b[38;5;250m    \u001b[39m\u001b[38;5;124;03m\"\"\"Called when the item's parent has changed. \u001b[39;00m\n\u001b[1;32m    457\u001b[0m \u001b[38;5;124;03m    This method handles connecting / disconnecting from ViewBox signals\u001b[39;00m\n\u001b[1;32m    458\u001b[0m \u001b[38;5;124;03m    to make sure viewRangeChanged works properly. It should generally be \u001b[39;00m\n\u001b[1;32m    459\u001b[0m \u001b[38;5;124;03m    extended, not overridden.\"\"\"\u001b[39;00m\n\u001b[0;32m--> 460\u001b[0m     \u001b[38;5;28;43mself\u001b[39;49m\u001b[38;5;241;43m.\u001b[39;49m\u001b[43m_updateView\u001b[49m\u001b[43m(\u001b[49m\u001b[43m)\u001b[49m\n",
      "File \u001b[0;32m~/opt/miniconda3/envs/zhunter_dev/lib/python3.9/site-packages/pyqtgraph/graphicsItems/GraphicsItem.py:520\u001b[0m, in \u001b[0;36mGraphicsItem._updateView\u001b[0;34m(self)\u001b[0m\n\u001b[1;32m    518\u001b[0m     \u001b[38;5;28mself\u001b[39m\u001b[38;5;241m.\u001b[39m_connectedView \u001b[38;5;241m=\u001b[39m weakref\u001b[38;5;241m.\u001b[39mref(view)\n\u001b[1;32m    519\u001b[0m     \u001b[38;5;28mself\u001b[39m\u001b[38;5;241m.\u001b[39mviewRangeChanged()\n\u001b[0;32m--> 520\u001b[0m     \u001b[38;5;28;43mself\u001b[39;49m\u001b[38;5;241;43m.\u001b[39;49m\u001b[43mviewTransformChanged\u001b[49m\u001b[43m(\u001b[49m\u001b[43m)\u001b[49m\n\u001b[1;32m    522\u001b[0m \u001b[38;5;66;03m## inform children that their view might have changed\u001b[39;00m\n\u001b[1;32m    523\u001b[0m \u001b[38;5;28mself\u001b[39m\u001b[38;5;241m.\u001b[39m_replaceView(oldView)\n",
      "File \u001b[0;32m~/opt/miniconda3/envs/zhunter_dev/lib/python3.9/site-packages/pyqtgraph/graphicsItems/InfiniteLine.py:609\u001b[0m, in \u001b[0;36mInfLineLabel.viewTransformChanged\u001b[0;34m(self)\u001b[0m\n\u001b[1;32m    607\u001b[0m \u001b[38;5;28;01mdef\u001b[39;00m \u001b[38;5;21mviewTransformChanged\u001b[39m(\u001b[38;5;28mself\u001b[39m):\n\u001b[1;32m    608\u001b[0m     GraphicsItem\u001b[38;5;241m.\u001b[39mviewTransformChanged(\u001b[38;5;28mself\u001b[39m)\n\u001b[0;32m--> 609\u001b[0m     \u001b[38;5;28;43mself\u001b[39;49m\u001b[38;5;241;43m.\u001b[39;49m\u001b[43mupdatePosition\u001b[49m\u001b[43m(\u001b[49m\u001b[43m)\u001b[49m\n\u001b[1;32m    610\u001b[0m     TextItem\u001b[38;5;241m.\u001b[39mviewTransformChanged(\u001b[38;5;28mself\u001b[39m)\n",
      "File \u001b[0;32m~/opt/miniconda3/envs/zhunter_dev/lib/python3.9/site-packages/pyqtgraph/graphicsItems/InfiniteLine.py:546\u001b[0m, in \u001b[0;36mInfLineLabel.updatePosition\u001b[0;34m(self)\u001b[0m\n\u001b[1;32m    543\u001b[0m \u001b[38;5;28mself\u001b[39m\u001b[38;5;241m.\u001b[39msetPos(pt)\n\u001b[1;32m    545\u001b[0m \u001b[38;5;66;03m# update anchor to keep text visible as it nears the view box edge\u001b[39;00m\n\u001b[0;32m--> 546\u001b[0m vr \u001b[38;5;241m=\u001b[39m \u001b[38;5;28;43mself\u001b[39;49m\u001b[38;5;241;43m.\u001b[39;49m\u001b[43mline\u001b[49m\u001b[38;5;241;43m.\u001b[39;49m\u001b[43mviewRect\u001b[49m\u001b[43m(\u001b[49m\u001b[43m)\u001b[49m\n\u001b[1;32m    547\u001b[0m \u001b[38;5;28;01mif\u001b[39;00m vr \u001b[38;5;129;01mis\u001b[39;00m \u001b[38;5;129;01mnot\u001b[39;00m \u001b[38;5;28;01mNone\u001b[39;00m:\n\u001b[1;32m    548\u001b[0m     \u001b[38;5;28mself\u001b[39m\u001b[38;5;241m.\u001b[39msetAnchor(\u001b[38;5;28mself\u001b[39m\u001b[38;5;241m.\u001b[39manchors[\u001b[38;5;241m0\u001b[39m \u001b[38;5;28;01mif\u001b[39;00m vr\u001b[38;5;241m.\u001b[39mcenter()\u001b[38;5;241m.\u001b[39my() \u001b[38;5;241m<\u001b[39m \u001b[38;5;241m0\u001b[39m \u001b[38;5;28;01melse\u001b[39;00m \u001b[38;5;241m1\u001b[39m])\n",
      "File \u001b[0;32m~/opt/miniconda3/envs/zhunter_dev/lib/python3.9/site-packages/pyqtgraph/graphicsItems/GraphicsItem.py:179\u001b[0m, in \u001b[0;36mGraphicsItem.viewRect\u001b[0;34m(self)\u001b[0m\n\u001b[1;32m    177\u001b[0m \u001b[38;5;28;01mif\u001b[39;00m view \u001b[38;5;129;01mis\u001b[39;00m \u001b[38;5;28;01mNone\u001b[39;00m:\n\u001b[1;32m    178\u001b[0m     \u001b[38;5;28;01mreturn\u001b[39;00m \u001b[38;5;28;01mNone\u001b[39;00m\n\u001b[0;32m--> 179\u001b[0m bounds \u001b[38;5;241m=\u001b[39m \u001b[38;5;28mself\u001b[39m\u001b[38;5;241m.\u001b[39mmapRectFromView(\u001b[43mview\u001b[49m\u001b[38;5;241;43m.\u001b[39;49m\u001b[43mviewRect\u001b[49m\u001b[43m(\u001b[49m\u001b[43m)\u001b[49m)\n\u001b[1;32m    180\u001b[0m \u001b[38;5;28;01mif\u001b[39;00m bounds \u001b[38;5;129;01mis\u001b[39;00m \u001b[38;5;28;01mNone\u001b[39;00m:\n\u001b[1;32m    181\u001b[0m     \u001b[38;5;28;01mreturn\u001b[39;00m \u001b[38;5;28;01mNone\u001b[39;00m\n",
      "File \u001b[0;32m~/opt/miniconda3/envs/zhunter_dev/lib/python3.9/site-packages/pyqtgraph/widgets/GraphicsView.py:225\u001b[0m, in \u001b[0;36mGraphicsView.viewRect\u001b[0;34m(self)\u001b[0m\n\u001b[1;32m    223\u001b[0m \u001b[38;5;250m\u001b[39m\u001b[38;5;124;03m\"\"\"Return the boundaries of the view in scene coordinates\"\"\"\u001b[39;00m\n\u001b[1;32m    224\u001b[0m \u001b[38;5;66;03m## easier to just return self.range ?\u001b[39;00m\n\u001b[0;32m--> 225\u001b[0m r \u001b[38;5;241m=\u001b[39m QtCore\u001b[38;5;241m.\u001b[39mQRectF(\u001b[38;5;28;43mself\u001b[39;49m\u001b[38;5;241;43m.\u001b[39;49m\u001b[43mrect\u001b[49m\u001b[43m(\u001b[49m\u001b[43m)\u001b[49m)\n\u001b[1;32m    226\u001b[0m \u001b[38;5;28;01mreturn\u001b[39;00m \u001b[38;5;28mself\u001b[39m\u001b[38;5;241m.\u001b[39mviewportTransform()\u001b[38;5;241m.\u001b[39minverted()[\u001b[38;5;241m0\u001b[39m]\u001b[38;5;241m.\u001b[39mmapRect(r)\n",
      "\u001b[0;31mTypeError\u001b[0m: 'QRectF' object is not callable"
     ]
    },
    {
     "ename": "TypeError",
     "evalue": "'QRectF' object is not callable",
     "output_type": "error",
     "traceback": [
      "\u001b[0;31m---------------------------------------------------------------------------\u001b[0m",
      "\u001b[0;31mTypeError\u001b[0m                                 Traceback (most recent call last)",
      "File \u001b[0;32m~/opt/miniconda3/envs/zhunter_dev/lib/python3.9/site-packages/pyqtgraph/graphicsItems/GraphicsObject.py:36\u001b[0m, in \u001b[0;36mGraphicsObject.itemChange\u001b[0;34m(self, change, value)\u001b[0m\n\u001b[1;32m     34\u001b[0m             \u001b[38;5;28mself\u001b[39m\u001b[38;5;241m.\u001b[39mparentChanged()\n\u001b[1;32m     35\u001b[0m     \u001b[38;5;28;01melse\u001b[39;00m:\n\u001b[0;32m---> 36\u001b[0m         \u001b[38;5;28;43mself\u001b[39;49m\u001b[38;5;241;43m.\u001b[39;49m\u001b[43mchangeParent\u001b[49m\u001b[43m(\u001b[49m\u001b[43m)\u001b[49m\n\u001b[1;32m     37\u001b[0m \u001b[38;5;28;01mtry\u001b[39;00m:\n\u001b[1;32m     38\u001b[0m     inform_view_on_change \u001b[38;5;241m=\u001b[39m \u001b[38;5;28mself\u001b[39m\u001b[38;5;241m.\u001b[39m__inform_view_on_changes\n",
      "File \u001b[0;32m~/opt/miniconda3/envs/zhunter_dev/lib/python3.9/site-packages/pyqtgraph/graphicsItems/GraphicsItem.py:460\u001b[0m, in \u001b[0;36mGraphicsItem.changeParent\u001b[0;34m(self)\u001b[0m\n\u001b[1;32m    455\u001b[0m \u001b[38;5;28;01mdef\u001b[39;00m \u001b[38;5;21mchangeParent\u001b[39m(\u001b[38;5;28mself\u001b[39m):\n\u001b[1;32m    456\u001b[0m \u001b[38;5;250m    \u001b[39m\u001b[38;5;124;03m\"\"\"Called when the item's parent has changed. \u001b[39;00m\n\u001b[1;32m    457\u001b[0m \u001b[38;5;124;03m    This method handles connecting / disconnecting from ViewBox signals\u001b[39;00m\n\u001b[1;32m    458\u001b[0m \u001b[38;5;124;03m    to make sure viewRangeChanged works properly. It should generally be \u001b[39;00m\n\u001b[1;32m    459\u001b[0m \u001b[38;5;124;03m    extended, not overridden.\"\"\"\u001b[39;00m\n\u001b[0;32m--> 460\u001b[0m     \u001b[38;5;28;43mself\u001b[39;49m\u001b[38;5;241;43m.\u001b[39;49m\u001b[43m_updateView\u001b[49m\u001b[43m(\u001b[49m\u001b[43m)\u001b[49m\n",
      "File \u001b[0;32m~/opt/miniconda3/envs/zhunter_dev/lib/python3.9/site-packages/pyqtgraph/graphicsItems/GraphicsItem.py:520\u001b[0m, in \u001b[0;36mGraphicsItem._updateView\u001b[0;34m(self)\u001b[0m\n\u001b[1;32m    518\u001b[0m     \u001b[38;5;28mself\u001b[39m\u001b[38;5;241m.\u001b[39m_connectedView \u001b[38;5;241m=\u001b[39m weakref\u001b[38;5;241m.\u001b[39mref(view)\n\u001b[1;32m    519\u001b[0m     \u001b[38;5;28mself\u001b[39m\u001b[38;5;241m.\u001b[39mviewRangeChanged()\n\u001b[0;32m--> 520\u001b[0m     \u001b[38;5;28;43mself\u001b[39;49m\u001b[38;5;241;43m.\u001b[39;49m\u001b[43mviewTransformChanged\u001b[49m\u001b[43m(\u001b[49m\u001b[43m)\u001b[49m\n\u001b[1;32m    522\u001b[0m \u001b[38;5;66;03m## inform children that their view might have changed\u001b[39;00m\n\u001b[1;32m    523\u001b[0m \u001b[38;5;28mself\u001b[39m\u001b[38;5;241m.\u001b[39m_replaceView(oldView)\n",
      "File \u001b[0;32m~/opt/miniconda3/envs/zhunter_dev/lib/python3.9/site-packages/pyqtgraph/graphicsItems/InfiniteLine.py:609\u001b[0m, in \u001b[0;36mInfLineLabel.viewTransformChanged\u001b[0;34m(self)\u001b[0m\n\u001b[1;32m    607\u001b[0m \u001b[38;5;28;01mdef\u001b[39;00m \u001b[38;5;21mviewTransformChanged\u001b[39m(\u001b[38;5;28mself\u001b[39m):\n\u001b[1;32m    608\u001b[0m     GraphicsItem\u001b[38;5;241m.\u001b[39mviewTransformChanged(\u001b[38;5;28mself\u001b[39m)\n\u001b[0;32m--> 609\u001b[0m     \u001b[38;5;28;43mself\u001b[39;49m\u001b[38;5;241;43m.\u001b[39;49m\u001b[43mupdatePosition\u001b[49m\u001b[43m(\u001b[49m\u001b[43m)\u001b[49m\n\u001b[1;32m    610\u001b[0m     TextItem\u001b[38;5;241m.\u001b[39mviewTransformChanged(\u001b[38;5;28mself\u001b[39m)\n",
      "File \u001b[0;32m~/opt/miniconda3/envs/zhunter_dev/lib/python3.9/site-packages/pyqtgraph/graphicsItems/InfiniteLine.py:546\u001b[0m, in \u001b[0;36mInfLineLabel.updatePosition\u001b[0;34m(self)\u001b[0m\n\u001b[1;32m    543\u001b[0m \u001b[38;5;28mself\u001b[39m\u001b[38;5;241m.\u001b[39msetPos(pt)\n\u001b[1;32m    545\u001b[0m \u001b[38;5;66;03m# update anchor to keep text visible as it nears the view box edge\u001b[39;00m\n\u001b[0;32m--> 546\u001b[0m vr \u001b[38;5;241m=\u001b[39m \u001b[38;5;28;43mself\u001b[39;49m\u001b[38;5;241;43m.\u001b[39;49m\u001b[43mline\u001b[49m\u001b[38;5;241;43m.\u001b[39;49m\u001b[43mviewRect\u001b[49m\u001b[43m(\u001b[49m\u001b[43m)\u001b[49m\n\u001b[1;32m    547\u001b[0m \u001b[38;5;28;01mif\u001b[39;00m vr \u001b[38;5;129;01mis\u001b[39;00m \u001b[38;5;129;01mnot\u001b[39;00m \u001b[38;5;28;01mNone\u001b[39;00m:\n\u001b[1;32m    548\u001b[0m     \u001b[38;5;28mself\u001b[39m\u001b[38;5;241m.\u001b[39msetAnchor(\u001b[38;5;28mself\u001b[39m\u001b[38;5;241m.\u001b[39manchors[\u001b[38;5;241m0\u001b[39m \u001b[38;5;28;01mif\u001b[39;00m vr\u001b[38;5;241m.\u001b[39mcenter()\u001b[38;5;241m.\u001b[39my() \u001b[38;5;241m<\u001b[39m \u001b[38;5;241m0\u001b[39m \u001b[38;5;28;01melse\u001b[39;00m \u001b[38;5;241m1\u001b[39m])\n",
      "File \u001b[0;32m~/opt/miniconda3/envs/zhunter_dev/lib/python3.9/site-packages/pyqtgraph/graphicsItems/GraphicsItem.py:179\u001b[0m, in \u001b[0;36mGraphicsItem.viewRect\u001b[0;34m(self)\u001b[0m\n\u001b[1;32m    177\u001b[0m \u001b[38;5;28;01mif\u001b[39;00m view \u001b[38;5;129;01mis\u001b[39;00m \u001b[38;5;28;01mNone\u001b[39;00m:\n\u001b[1;32m    178\u001b[0m     \u001b[38;5;28;01mreturn\u001b[39;00m \u001b[38;5;28;01mNone\u001b[39;00m\n\u001b[0;32m--> 179\u001b[0m bounds \u001b[38;5;241m=\u001b[39m \u001b[38;5;28mself\u001b[39m\u001b[38;5;241m.\u001b[39mmapRectFromView(\u001b[43mview\u001b[49m\u001b[38;5;241;43m.\u001b[39;49m\u001b[43mviewRect\u001b[49m\u001b[43m(\u001b[49m\u001b[43m)\u001b[49m)\n\u001b[1;32m    180\u001b[0m \u001b[38;5;28;01mif\u001b[39;00m bounds \u001b[38;5;129;01mis\u001b[39;00m \u001b[38;5;28;01mNone\u001b[39;00m:\n\u001b[1;32m    181\u001b[0m     \u001b[38;5;28;01mreturn\u001b[39;00m \u001b[38;5;28;01mNone\u001b[39;00m\n",
      "File \u001b[0;32m~/opt/miniconda3/envs/zhunter_dev/lib/python3.9/site-packages/pyqtgraph/widgets/GraphicsView.py:225\u001b[0m, in \u001b[0;36mGraphicsView.viewRect\u001b[0;34m(self)\u001b[0m\n\u001b[1;32m    223\u001b[0m \u001b[38;5;250m\u001b[39m\u001b[38;5;124;03m\"\"\"Return the boundaries of the view in scene coordinates\"\"\"\u001b[39;00m\n\u001b[1;32m    224\u001b[0m \u001b[38;5;66;03m## easier to just return self.range ?\u001b[39;00m\n\u001b[0;32m--> 225\u001b[0m r \u001b[38;5;241m=\u001b[39m QtCore\u001b[38;5;241m.\u001b[39mQRectF(\u001b[38;5;28;43mself\u001b[39;49m\u001b[38;5;241;43m.\u001b[39;49m\u001b[43mrect\u001b[49m\u001b[43m(\u001b[49m\u001b[43m)\u001b[49m)\n\u001b[1;32m    226\u001b[0m \u001b[38;5;28;01mreturn\u001b[39;00m \u001b[38;5;28mself\u001b[39m\u001b[38;5;241m.\u001b[39mviewportTransform()\u001b[38;5;241m.\u001b[39minverted()[\u001b[38;5;241m0\u001b[39m]\u001b[38;5;241m.\u001b[39mmapRect(r)\n",
      "\u001b[0;31mTypeError\u001b[0m: 'QRectF' object is not callable"
     ]
    },
    {
     "ename": "TypeError",
     "evalue": "'QRectF' object is not callable",
     "output_type": "error",
     "traceback": [
      "\u001b[0;31m---------------------------------------------------------------------------\u001b[0m",
      "\u001b[0;31mTypeError\u001b[0m                                 Traceback (most recent call last)",
      "File \u001b[0;32m~/opt/miniconda3/envs/zhunter_dev/lib/python3.9/site-packages/pyqtgraph/graphicsItems/GraphicsObject.py:36\u001b[0m, in \u001b[0;36mGraphicsObject.itemChange\u001b[0;34m(self, change, value)\u001b[0m\n\u001b[1;32m     34\u001b[0m             \u001b[38;5;28mself\u001b[39m\u001b[38;5;241m.\u001b[39mparentChanged()\n\u001b[1;32m     35\u001b[0m     \u001b[38;5;28;01melse\u001b[39;00m:\n\u001b[0;32m---> 36\u001b[0m         \u001b[38;5;28;43mself\u001b[39;49m\u001b[38;5;241;43m.\u001b[39;49m\u001b[43mchangeParent\u001b[49m\u001b[43m(\u001b[49m\u001b[43m)\u001b[49m\n\u001b[1;32m     37\u001b[0m \u001b[38;5;28;01mtry\u001b[39;00m:\n\u001b[1;32m     38\u001b[0m     inform_view_on_change \u001b[38;5;241m=\u001b[39m \u001b[38;5;28mself\u001b[39m\u001b[38;5;241m.\u001b[39m__inform_view_on_changes\n",
      "File \u001b[0;32m~/opt/miniconda3/envs/zhunter_dev/lib/python3.9/site-packages/pyqtgraph/graphicsItems/GraphicsItem.py:460\u001b[0m, in \u001b[0;36mGraphicsItem.changeParent\u001b[0;34m(self)\u001b[0m\n\u001b[1;32m    455\u001b[0m \u001b[38;5;28;01mdef\u001b[39;00m \u001b[38;5;21mchangeParent\u001b[39m(\u001b[38;5;28mself\u001b[39m):\n\u001b[1;32m    456\u001b[0m \u001b[38;5;250m    \u001b[39m\u001b[38;5;124;03m\"\"\"Called when the item's parent has changed. \u001b[39;00m\n\u001b[1;32m    457\u001b[0m \u001b[38;5;124;03m    This method handles connecting / disconnecting from ViewBox signals\u001b[39;00m\n\u001b[1;32m    458\u001b[0m \u001b[38;5;124;03m    to make sure viewRangeChanged works properly. It should generally be \u001b[39;00m\n\u001b[1;32m    459\u001b[0m \u001b[38;5;124;03m    extended, not overridden.\"\"\"\u001b[39;00m\n\u001b[0;32m--> 460\u001b[0m     \u001b[38;5;28;43mself\u001b[39;49m\u001b[38;5;241;43m.\u001b[39;49m\u001b[43m_updateView\u001b[49m\u001b[43m(\u001b[49m\u001b[43m)\u001b[49m\n",
      "File \u001b[0;32m~/opt/miniconda3/envs/zhunter_dev/lib/python3.9/site-packages/pyqtgraph/graphicsItems/GraphicsItem.py:520\u001b[0m, in \u001b[0;36mGraphicsItem._updateView\u001b[0;34m(self)\u001b[0m\n\u001b[1;32m    518\u001b[0m     \u001b[38;5;28mself\u001b[39m\u001b[38;5;241m.\u001b[39m_connectedView \u001b[38;5;241m=\u001b[39m weakref\u001b[38;5;241m.\u001b[39mref(view)\n\u001b[1;32m    519\u001b[0m     \u001b[38;5;28mself\u001b[39m\u001b[38;5;241m.\u001b[39mviewRangeChanged()\n\u001b[0;32m--> 520\u001b[0m     \u001b[38;5;28;43mself\u001b[39;49m\u001b[38;5;241;43m.\u001b[39;49m\u001b[43mviewTransformChanged\u001b[49m\u001b[43m(\u001b[49m\u001b[43m)\u001b[49m\n\u001b[1;32m    522\u001b[0m \u001b[38;5;66;03m## inform children that their view might have changed\u001b[39;00m\n\u001b[1;32m    523\u001b[0m \u001b[38;5;28mself\u001b[39m\u001b[38;5;241m.\u001b[39m_replaceView(oldView)\n",
      "File \u001b[0;32m~/opt/miniconda3/envs/zhunter_dev/lib/python3.9/site-packages/pyqtgraph/graphicsItems/InfiniteLine.py:609\u001b[0m, in \u001b[0;36mInfLineLabel.viewTransformChanged\u001b[0;34m(self)\u001b[0m\n\u001b[1;32m    607\u001b[0m \u001b[38;5;28;01mdef\u001b[39;00m \u001b[38;5;21mviewTransformChanged\u001b[39m(\u001b[38;5;28mself\u001b[39m):\n\u001b[1;32m    608\u001b[0m     GraphicsItem\u001b[38;5;241m.\u001b[39mviewTransformChanged(\u001b[38;5;28mself\u001b[39m)\n\u001b[0;32m--> 609\u001b[0m     \u001b[38;5;28;43mself\u001b[39;49m\u001b[38;5;241;43m.\u001b[39;49m\u001b[43mupdatePosition\u001b[49m\u001b[43m(\u001b[49m\u001b[43m)\u001b[49m\n\u001b[1;32m    610\u001b[0m     TextItem\u001b[38;5;241m.\u001b[39mviewTransformChanged(\u001b[38;5;28mself\u001b[39m)\n",
      "File \u001b[0;32m~/opt/miniconda3/envs/zhunter_dev/lib/python3.9/site-packages/pyqtgraph/graphicsItems/InfiniteLine.py:546\u001b[0m, in \u001b[0;36mInfLineLabel.updatePosition\u001b[0;34m(self)\u001b[0m\n\u001b[1;32m    543\u001b[0m \u001b[38;5;28mself\u001b[39m\u001b[38;5;241m.\u001b[39msetPos(pt)\n\u001b[1;32m    545\u001b[0m \u001b[38;5;66;03m# update anchor to keep text visible as it nears the view box edge\u001b[39;00m\n\u001b[0;32m--> 546\u001b[0m vr \u001b[38;5;241m=\u001b[39m \u001b[38;5;28;43mself\u001b[39;49m\u001b[38;5;241;43m.\u001b[39;49m\u001b[43mline\u001b[49m\u001b[38;5;241;43m.\u001b[39;49m\u001b[43mviewRect\u001b[49m\u001b[43m(\u001b[49m\u001b[43m)\u001b[49m\n\u001b[1;32m    547\u001b[0m \u001b[38;5;28;01mif\u001b[39;00m vr \u001b[38;5;129;01mis\u001b[39;00m \u001b[38;5;129;01mnot\u001b[39;00m \u001b[38;5;28;01mNone\u001b[39;00m:\n\u001b[1;32m    548\u001b[0m     \u001b[38;5;28mself\u001b[39m\u001b[38;5;241m.\u001b[39msetAnchor(\u001b[38;5;28mself\u001b[39m\u001b[38;5;241m.\u001b[39manchors[\u001b[38;5;241m0\u001b[39m \u001b[38;5;28;01mif\u001b[39;00m vr\u001b[38;5;241m.\u001b[39mcenter()\u001b[38;5;241m.\u001b[39my() \u001b[38;5;241m<\u001b[39m \u001b[38;5;241m0\u001b[39m \u001b[38;5;28;01melse\u001b[39;00m \u001b[38;5;241m1\u001b[39m])\n",
      "File \u001b[0;32m~/opt/miniconda3/envs/zhunter_dev/lib/python3.9/site-packages/pyqtgraph/graphicsItems/GraphicsItem.py:179\u001b[0m, in \u001b[0;36mGraphicsItem.viewRect\u001b[0;34m(self)\u001b[0m\n\u001b[1;32m    177\u001b[0m \u001b[38;5;28;01mif\u001b[39;00m view \u001b[38;5;129;01mis\u001b[39;00m \u001b[38;5;28;01mNone\u001b[39;00m:\n\u001b[1;32m    178\u001b[0m     \u001b[38;5;28;01mreturn\u001b[39;00m \u001b[38;5;28;01mNone\u001b[39;00m\n\u001b[0;32m--> 179\u001b[0m bounds \u001b[38;5;241m=\u001b[39m \u001b[38;5;28mself\u001b[39m\u001b[38;5;241m.\u001b[39mmapRectFromView(\u001b[43mview\u001b[49m\u001b[38;5;241;43m.\u001b[39;49m\u001b[43mviewRect\u001b[49m\u001b[43m(\u001b[49m\u001b[43m)\u001b[49m)\n\u001b[1;32m    180\u001b[0m \u001b[38;5;28;01mif\u001b[39;00m bounds \u001b[38;5;129;01mis\u001b[39;00m \u001b[38;5;28;01mNone\u001b[39;00m:\n\u001b[1;32m    181\u001b[0m     \u001b[38;5;28;01mreturn\u001b[39;00m \u001b[38;5;28;01mNone\u001b[39;00m\n",
      "File \u001b[0;32m~/opt/miniconda3/envs/zhunter_dev/lib/python3.9/site-packages/pyqtgraph/widgets/GraphicsView.py:225\u001b[0m, in \u001b[0;36mGraphicsView.viewRect\u001b[0;34m(self)\u001b[0m\n\u001b[1;32m    223\u001b[0m \u001b[38;5;250m\u001b[39m\u001b[38;5;124;03m\"\"\"Return the boundaries of the view in scene coordinates\"\"\"\u001b[39;00m\n\u001b[1;32m    224\u001b[0m \u001b[38;5;66;03m## easier to just return self.range ?\u001b[39;00m\n\u001b[0;32m--> 225\u001b[0m r \u001b[38;5;241m=\u001b[39m QtCore\u001b[38;5;241m.\u001b[39mQRectF(\u001b[38;5;28;43mself\u001b[39;49m\u001b[38;5;241;43m.\u001b[39;49m\u001b[43mrect\u001b[49m\u001b[43m(\u001b[49m\u001b[43m)\u001b[49m)\n\u001b[1;32m    226\u001b[0m \u001b[38;5;28;01mreturn\u001b[39;00m \u001b[38;5;28mself\u001b[39m\u001b[38;5;241m.\u001b[39mviewportTransform()\u001b[38;5;241m.\u001b[39minverted()[\u001b[38;5;241m0\u001b[39m]\u001b[38;5;241m.\u001b[39mmapRect(r)\n",
      "\u001b[0;31mTypeError\u001b[0m: 'QRectF' object is not callable"
     ]
    },
    {
     "ename": "TypeError",
     "evalue": "'QRectF' object is not callable",
     "output_type": "error",
     "traceback": [
      "\u001b[0;31m---------------------------------------------------------------------------\u001b[0m",
      "\u001b[0;31mTypeError\u001b[0m                                 Traceback (most recent call last)",
      "File \u001b[0;32m~/opt/miniconda3/envs/zhunter_dev/lib/python3.9/site-packages/pyqtgraph/graphicsItems/GraphicsObject.py:36\u001b[0m, in \u001b[0;36mGraphicsObject.itemChange\u001b[0;34m(self, change, value)\u001b[0m\n\u001b[1;32m     34\u001b[0m             \u001b[38;5;28mself\u001b[39m\u001b[38;5;241m.\u001b[39mparentChanged()\n\u001b[1;32m     35\u001b[0m     \u001b[38;5;28;01melse\u001b[39;00m:\n\u001b[0;32m---> 36\u001b[0m         \u001b[38;5;28;43mself\u001b[39;49m\u001b[38;5;241;43m.\u001b[39;49m\u001b[43mchangeParent\u001b[49m\u001b[43m(\u001b[49m\u001b[43m)\u001b[49m\n\u001b[1;32m     37\u001b[0m \u001b[38;5;28;01mtry\u001b[39;00m:\n\u001b[1;32m     38\u001b[0m     inform_view_on_change \u001b[38;5;241m=\u001b[39m \u001b[38;5;28mself\u001b[39m\u001b[38;5;241m.\u001b[39m__inform_view_on_changes\n",
      "File \u001b[0;32m~/opt/miniconda3/envs/zhunter_dev/lib/python3.9/site-packages/pyqtgraph/graphicsItems/GraphicsItem.py:460\u001b[0m, in \u001b[0;36mGraphicsItem.changeParent\u001b[0;34m(self)\u001b[0m\n\u001b[1;32m    455\u001b[0m \u001b[38;5;28;01mdef\u001b[39;00m \u001b[38;5;21mchangeParent\u001b[39m(\u001b[38;5;28mself\u001b[39m):\n\u001b[1;32m    456\u001b[0m \u001b[38;5;250m    \u001b[39m\u001b[38;5;124;03m\"\"\"Called when the item's parent has changed. \u001b[39;00m\n\u001b[1;32m    457\u001b[0m \u001b[38;5;124;03m    This method handles connecting / disconnecting from ViewBox signals\u001b[39;00m\n\u001b[1;32m    458\u001b[0m \u001b[38;5;124;03m    to make sure viewRangeChanged works properly. It should generally be \u001b[39;00m\n\u001b[1;32m    459\u001b[0m \u001b[38;5;124;03m    extended, not overridden.\"\"\"\u001b[39;00m\n\u001b[0;32m--> 460\u001b[0m     \u001b[38;5;28;43mself\u001b[39;49m\u001b[38;5;241;43m.\u001b[39;49m\u001b[43m_updateView\u001b[49m\u001b[43m(\u001b[49m\u001b[43m)\u001b[49m\n",
      "File \u001b[0;32m~/opt/miniconda3/envs/zhunter_dev/lib/python3.9/site-packages/pyqtgraph/graphicsItems/GraphicsItem.py:520\u001b[0m, in \u001b[0;36mGraphicsItem._updateView\u001b[0;34m(self)\u001b[0m\n\u001b[1;32m    518\u001b[0m     \u001b[38;5;28mself\u001b[39m\u001b[38;5;241m.\u001b[39m_connectedView \u001b[38;5;241m=\u001b[39m weakref\u001b[38;5;241m.\u001b[39mref(view)\n\u001b[1;32m    519\u001b[0m     \u001b[38;5;28mself\u001b[39m\u001b[38;5;241m.\u001b[39mviewRangeChanged()\n\u001b[0;32m--> 520\u001b[0m     \u001b[38;5;28;43mself\u001b[39;49m\u001b[38;5;241;43m.\u001b[39;49m\u001b[43mviewTransformChanged\u001b[49m\u001b[43m(\u001b[49m\u001b[43m)\u001b[49m\n\u001b[1;32m    522\u001b[0m \u001b[38;5;66;03m## inform children that their view might have changed\u001b[39;00m\n\u001b[1;32m    523\u001b[0m \u001b[38;5;28mself\u001b[39m\u001b[38;5;241m.\u001b[39m_replaceView(oldView)\n",
      "File \u001b[0;32m~/opt/miniconda3/envs/zhunter_dev/lib/python3.9/site-packages/pyqtgraph/graphicsItems/InfiniteLine.py:609\u001b[0m, in \u001b[0;36mInfLineLabel.viewTransformChanged\u001b[0;34m(self)\u001b[0m\n\u001b[1;32m    607\u001b[0m \u001b[38;5;28;01mdef\u001b[39;00m \u001b[38;5;21mviewTransformChanged\u001b[39m(\u001b[38;5;28mself\u001b[39m):\n\u001b[1;32m    608\u001b[0m     GraphicsItem\u001b[38;5;241m.\u001b[39mviewTransformChanged(\u001b[38;5;28mself\u001b[39m)\n\u001b[0;32m--> 609\u001b[0m     \u001b[38;5;28;43mself\u001b[39;49m\u001b[38;5;241;43m.\u001b[39;49m\u001b[43mupdatePosition\u001b[49m\u001b[43m(\u001b[49m\u001b[43m)\u001b[49m\n\u001b[1;32m    610\u001b[0m     TextItem\u001b[38;5;241m.\u001b[39mviewTransformChanged(\u001b[38;5;28mself\u001b[39m)\n",
      "File \u001b[0;32m~/opt/miniconda3/envs/zhunter_dev/lib/python3.9/site-packages/pyqtgraph/graphicsItems/InfiniteLine.py:546\u001b[0m, in \u001b[0;36mInfLineLabel.updatePosition\u001b[0;34m(self)\u001b[0m\n\u001b[1;32m    543\u001b[0m \u001b[38;5;28mself\u001b[39m\u001b[38;5;241m.\u001b[39msetPos(pt)\n\u001b[1;32m    545\u001b[0m \u001b[38;5;66;03m# update anchor to keep text visible as it nears the view box edge\u001b[39;00m\n\u001b[0;32m--> 546\u001b[0m vr \u001b[38;5;241m=\u001b[39m \u001b[38;5;28;43mself\u001b[39;49m\u001b[38;5;241;43m.\u001b[39;49m\u001b[43mline\u001b[49m\u001b[38;5;241;43m.\u001b[39;49m\u001b[43mviewRect\u001b[49m\u001b[43m(\u001b[49m\u001b[43m)\u001b[49m\n\u001b[1;32m    547\u001b[0m \u001b[38;5;28;01mif\u001b[39;00m vr \u001b[38;5;129;01mis\u001b[39;00m \u001b[38;5;129;01mnot\u001b[39;00m \u001b[38;5;28;01mNone\u001b[39;00m:\n\u001b[1;32m    548\u001b[0m     \u001b[38;5;28mself\u001b[39m\u001b[38;5;241m.\u001b[39msetAnchor(\u001b[38;5;28mself\u001b[39m\u001b[38;5;241m.\u001b[39manchors[\u001b[38;5;241m0\u001b[39m \u001b[38;5;28;01mif\u001b[39;00m vr\u001b[38;5;241m.\u001b[39mcenter()\u001b[38;5;241m.\u001b[39my() \u001b[38;5;241m<\u001b[39m \u001b[38;5;241m0\u001b[39m \u001b[38;5;28;01melse\u001b[39;00m \u001b[38;5;241m1\u001b[39m])\n",
      "File \u001b[0;32m~/opt/miniconda3/envs/zhunter_dev/lib/python3.9/site-packages/pyqtgraph/graphicsItems/GraphicsItem.py:179\u001b[0m, in \u001b[0;36mGraphicsItem.viewRect\u001b[0;34m(self)\u001b[0m\n\u001b[1;32m    177\u001b[0m \u001b[38;5;28;01mif\u001b[39;00m view \u001b[38;5;129;01mis\u001b[39;00m \u001b[38;5;28;01mNone\u001b[39;00m:\n\u001b[1;32m    178\u001b[0m     \u001b[38;5;28;01mreturn\u001b[39;00m \u001b[38;5;28;01mNone\u001b[39;00m\n\u001b[0;32m--> 179\u001b[0m bounds \u001b[38;5;241m=\u001b[39m \u001b[38;5;28mself\u001b[39m\u001b[38;5;241m.\u001b[39mmapRectFromView(\u001b[43mview\u001b[49m\u001b[38;5;241;43m.\u001b[39;49m\u001b[43mviewRect\u001b[49m\u001b[43m(\u001b[49m\u001b[43m)\u001b[49m)\n\u001b[1;32m    180\u001b[0m \u001b[38;5;28;01mif\u001b[39;00m bounds \u001b[38;5;129;01mis\u001b[39;00m \u001b[38;5;28;01mNone\u001b[39;00m:\n\u001b[1;32m    181\u001b[0m     \u001b[38;5;28;01mreturn\u001b[39;00m \u001b[38;5;28;01mNone\u001b[39;00m\n",
      "File \u001b[0;32m~/opt/miniconda3/envs/zhunter_dev/lib/python3.9/site-packages/pyqtgraph/widgets/GraphicsView.py:225\u001b[0m, in \u001b[0;36mGraphicsView.viewRect\u001b[0;34m(self)\u001b[0m\n\u001b[1;32m    223\u001b[0m \u001b[38;5;250m\u001b[39m\u001b[38;5;124;03m\"\"\"Return the boundaries of the view in scene coordinates\"\"\"\u001b[39;00m\n\u001b[1;32m    224\u001b[0m \u001b[38;5;66;03m## easier to just return self.range ?\u001b[39;00m\n\u001b[0;32m--> 225\u001b[0m r \u001b[38;5;241m=\u001b[39m QtCore\u001b[38;5;241m.\u001b[39mQRectF(\u001b[38;5;28;43mself\u001b[39;49m\u001b[38;5;241;43m.\u001b[39;49m\u001b[43mrect\u001b[49m\u001b[43m(\u001b[49m\u001b[43m)\u001b[49m)\n\u001b[1;32m    226\u001b[0m \u001b[38;5;28;01mreturn\u001b[39;00m \u001b[38;5;28mself\u001b[39m\u001b[38;5;241m.\u001b[39mviewportTransform()\u001b[38;5;241m.\u001b[39minverted()[\u001b[38;5;241m0\u001b[39m]\u001b[38;5;241m.\u001b[39mmapRect(r)\n",
      "\u001b[0;31mTypeError\u001b[0m: 'QRectF' object is not callable"
     ]
    },
    {
     "ename": "TypeError",
     "evalue": "'QRectF' object is not callable",
     "output_type": "error",
     "traceback": [
      "\u001b[0;31m---------------------------------------------------------------------------\u001b[0m",
      "\u001b[0;31mTypeError\u001b[0m                                 Traceback (most recent call last)",
      "File \u001b[0;32m~/opt/miniconda3/envs/zhunter_dev/lib/python3.9/site-packages/pyqtgraph/graphicsItems/GraphicsObject.py:36\u001b[0m, in \u001b[0;36mGraphicsObject.itemChange\u001b[0;34m(self, change, value)\u001b[0m\n\u001b[1;32m     34\u001b[0m             \u001b[38;5;28mself\u001b[39m\u001b[38;5;241m.\u001b[39mparentChanged()\n\u001b[1;32m     35\u001b[0m     \u001b[38;5;28;01melse\u001b[39;00m:\n\u001b[0;32m---> 36\u001b[0m         \u001b[38;5;28;43mself\u001b[39;49m\u001b[38;5;241;43m.\u001b[39;49m\u001b[43mchangeParent\u001b[49m\u001b[43m(\u001b[49m\u001b[43m)\u001b[49m\n\u001b[1;32m     37\u001b[0m \u001b[38;5;28;01mtry\u001b[39;00m:\n\u001b[1;32m     38\u001b[0m     inform_view_on_change \u001b[38;5;241m=\u001b[39m \u001b[38;5;28mself\u001b[39m\u001b[38;5;241m.\u001b[39m__inform_view_on_changes\n",
      "File \u001b[0;32m~/opt/miniconda3/envs/zhunter_dev/lib/python3.9/site-packages/pyqtgraph/graphicsItems/GraphicsItem.py:460\u001b[0m, in \u001b[0;36mGraphicsItem.changeParent\u001b[0;34m(self)\u001b[0m\n\u001b[1;32m    455\u001b[0m \u001b[38;5;28;01mdef\u001b[39;00m \u001b[38;5;21mchangeParent\u001b[39m(\u001b[38;5;28mself\u001b[39m):\n\u001b[1;32m    456\u001b[0m \u001b[38;5;250m    \u001b[39m\u001b[38;5;124;03m\"\"\"Called when the item's parent has changed. \u001b[39;00m\n\u001b[1;32m    457\u001b[0m \u001b[38;5;124;03m    This method handles connecting / disconnecting from ViewBox signals\u001b[39;00m\n\u001b[1;32m    458\u001b[0m \u001b[38;5;124;03m    to make sure viewRangeChanged works properly. It should generally be \u001b[39;00m\n\u001b[1;32m    459\u001b[0m \u001b[38;5;124;03m    extended, not overridden.\"\"\"\u001b[39;00m\n\u001b[0;32m--> 460\u001b[0m     \u001b[38;5;28;43mself\u001b[39;49m\u001b[38;5;241;43m.\u001b[39;49m\u001b[43m_updateView\u001b[49m\u001b[43m(\u001b[49m\u001b[43m)\u001b[49m\n",
      "File \u001b[0;32m~/opt/miniconda3/envs/zhunter_dev/lib/python3.9/site-packages/pyqtgraph/graphicsItems/GraphicsItem.py:520\u001b[0m, in \u001b[0;36mGraphicsItem._updateView\u001b[0;34m(self)\u001b[0m\n\u001b[1;32m    518\u001b[0m     \u001b[38;5;28mself\u001b[39m\u001b[38;5;241m.\u001b[39m_connectedView \u001b[38;5;241m=\u001b[39m weakref\u001b[38;5;241m.\u001b[39mref(view)\n\u001b[1;32m    519\u001b[0m     \u001b[38;5;28mself\u001b[39m\u001b[38;5;241m.\u001b[39mviewRangeChanged()\n\u001b[0;32m--> 520\u001b[0m     \u001b[38;5;28;43mself\u001b[39;49m\u001b[38;5;241;43m.\u001b[39;49m\u001b[43mviewTransformChanged\u001b[49m\u001b[43m(\u001b[49m\u001b[43m)\u001b[49m\n\u001b[1;32m    522\u001b[0m \u001b[38;5;66;03m## inform children that their view might have changed\u001b[39;00m\n\u001b[1;32m    523\u001b[0m \u001b[38;5;28mself\u001b[39m\u001b[38;5;241m.\u001b[39m_replaceView(oldView)\n",
      "File \u001b[0;32m~/opt/miniconda3/envs/zhunter_dev/lib/python3.9/site-packages/pyqtgraph/graphicsItems/InfiniteLine.py:609\u001b[0m, in \u001b[0;36mInfLineLabel.viewTransformChanged\u001b[0;34m(self)\u001b[0m\n\u001b[1;32m    607\u001b[0m \u001b[38;5;28;01mdef\u001b[39;00m \u001b[38;5;21mviewTransformChanged\u001b[39m(\u001b[38;5;28mself\u001b[39m):\n\u001b[1;32m    608\u001b[0m     GraphicsItem\u001b[38;5;241m.\u001b[39mviewTransformChanged(\u001b[38;5;28mself\u001b[39m)\n\u001b[0;32m--> 609\u001b[0m     \u001b[38;5;28;43mself\u001b[39;49m\u001b[38;5;241;43m.\u001b[39;49m\u001b[43mupdatePosition\u001b[49m\u001b[43m(\u001b[49m\u001b[43m)\u001b[49m\n\u001b[1;32m    610\u001b[0m     TextItem\u001b[38;5;241m.\u001b[39mviewTransformChanged(\u001b[38;5;28mself\u001b[39m)\n",
      "File \u001b[0;32m~/opt/miniconda3/envs/zhunter_dev/lib/python3.9/site-packages/pyqtgraph/graphicsItems/InfiniteLine.py:546\u001b[0m, in \u001b[0;36mInfLineLabel.updatePosition\u001b[0;34m(self)\u001b[0m\n\u001b[1;32m    543\u001b[0m \u001b[38;5;28mself\u001b[39m\u001b[38;5;241m.\u001b[39msetPos(pt)\n\u001b[1;32m    545\u001b[0m \u001b[38;5;66;03m# update anchor to keep text visible as it nears the view box edge\u001b[39;00m\n\u001b[0;32m--> 546\u001b[0m vr \u001b[38;5;241m=\u001b[39m \u001b[38;5;28;43mself\u001b[39;49m\u001b[38;5;241;43m.\u001b[39;49m\u001b[43mline\u001b[49m\u001b[38;5;241;43m.\u001b[39;49m\u001b[43mviewRect\u001b[49m\u001b[43m(\u001b[49m\u001b[43m)\u001b[49m\n\u001b[1;32m    547\u001b[0m \u001b[38;5;28;01mif\u001b[39;00m vr \u001b[38;5;129;01mis\u001b[39;00m \u001b[38;5;129;01mnot\u001b[39;00m \u001b[38;5;28;01mNone\u001b[39;00m:\n\u001b[1;32m    548\u001b[0m     \u001b[38;5;28mself\u001b[39m\u001b[38;5;241m.\u001b[39msetAnchor(\u001b[38;5;28mself\u001b[39m\u001b[38;5;241m.\u001b[39manchors[\u001b[38;5;241m0\u001b[39m \u001b[38;5;28;01mif\u001b[39;00m vr\u001b[38;5;241m.\u001b[39mcenter()\u001b[38;5;241m.\u001b[39my() \u001b[38;5;241m<\u001b[39m \u001b[38;5;241m0\u001b[39m \u001b[38;5;28;01melse\u001b[39;00m \u001b[38;5;241m1\u001b[39m])\n",
      "File \u001b[0;32m~/opt/miniconda3/envs/zhunter_dev/lib/python3.9/site-packages/pyqtgraph/graphicsItems/GraphicsItem.py:179\u001b[0m, in \u001b[0;36mGraphicsItem.viewRect\u001b[0;34m(self)\u001b[0m\n\u001b[1;32m    177\u001b[0m \u001b[38;5;28;01mif\u001b[39;00m view \u001b[38;5;129;01mis\u001b[39;00m \u001b[38;5;28;01mNone\u001b[39;00m:\n\u001b[1;32m    178\u001b[0m     \u001b[38;5;28;01mreturn\u001b[39;00m \u001b[38;5;28;01mNone\u001b[39;00m\n\u001b[0;32m--> 179\u001b[0m bounds \u001b[38;5;241m=\u001b[39m \u001b[38;5;28mself\u001b[39m\u001b[38;5;241m.\u001b[39mmapRectFromView(\u001b[43mview\u001b[49m\u001b[38;5;241;43m.\u001b[39;49m\u001b[43mviewRect\u001b[49m\u001b[43m(\u001b[49m\u001b[43m)\u001b[49m)\n\u001b[1;32m    180\u001b[0m \u001b[38;5;28;01mif\u001b[39;00m bounds \u001b[38;5;129;01mis\u001b[39;00m \u001b[38;5;28;01mNone\u001b[39;00m:\n\u001b[1;32m    181\u001b[0m     \u001b[38;5;28;01mreturn\u001b[39;00m \u001b[38;5;28;01mNone\u001b[39;00m\n",
      "File \u001b[0;32m~/opt/miniconda3/envs/zhunter_dev/lib/python3.9/site-packages/pyqtgraph/widgets/GraphicsView.py:225\u001b[0m, in \u001b[0;36mGraphicsView.viewRect\u001b[0;34m(self)\u001b[0m\n\u001b[1;32m    223\u001b[0m \u001b[38;5;250m\u001b[39m\u001b[38;5;124;03m\"\"\"Return the boundaries of the view in scene coordinates\"\"\"\u001b[39;00m\n\u001b[1;32m    224\u001b[0m \u001b[38;5;66;03m## easier to just return self.range ?\u001b[39;00m\n\u001b[0;32m--> 225\u001b[0m r \u001b[38;5;241m=\u001b[39m QtCore\u001b[38;5;241m.\u001b[39mQRectF(\u001b[38;5;28;43mself\u001b[39;49m\u001b[38;5;241;43m.\u001b[39;49m\u001b[43mrect\u001b[49m\u001b[43m(\u001b[49m\u001b[43m)\u001b[49m)\n\u001b[1;32m    226\u001b[0m \u001b[38;5;28;01mreturn\u001b[39;00m \u001b[38;5;28mself\u001b[39m\u001b[38;5;241m.\u001b[39mviewportTransform()\u001b[38;5;241m.\u001b[39minverted()[\u001b[38;5;241m0\u001b[39m]\u001b[38;5;241m.\u001b[39mmapRect(r)\n",
      "\u001b[0;31mTypeError\u001b[0m: 'QRectF' object is not callable"
     ]
    },
    {
     "ename": "TypeError",
     "evalue": "'QRectF' object is not callable",
     "output_type": "error",
     "traceback": [
      "\u001b[0;31m---------------------------------------------------------------------------\u001b[0m",
      "\u001b[0;31mTypeError\u001b[0m                                 Traceback (most recent call last)",
      "File \u001b[0;32m~/opt/miniconda3/envs/zhunter_dev/lib/python3.9/site-packages/pyqtgraph/graphicsItems/GraphicsObject.py:36\u001b[0m, in \u001b[0;36mGraphicsObject.itemChange\u001b[0;34m(self, change, value)\u001b[0m\n\u001b[1;32m     34\u001b[0m             \u001b[38;5;28mself\u001b[39m\u001b[38;5;241m.\u001b[39mparentChanged()\n\u001b[1;32m     35\u001b[0m     \u001b[38;5;28;01melse\u001b[39;00m:\n\u001b[0;32m---> 36\u001b[0m         \u001b[38;5;28;43mself\u001b[39;49m\u001b[38;5;241;43m.\u001b[39;49m\u001b[43mchangeParent\u001b[49m\u001b[43m(\u001b[49m\u001b[43m)\u001b[49m\n\u001b[1;32m     37\u001b[0m \u001b[38;5;28;01mtry\u001b[39;00m:\n\u001b[1;32m     38\u001b[0m     inform_view_on_change \u001b[38;5;241m=\u001b[39m \u001b[38;5;28mself\u001b[39m\u001b[38;5;241m.\u001b[39m__inform_view_on_changes\n",
      "File \u001b[0;32m~/opt/miniconda3/envs/zhunter_dev/lib/python3.9/site-packages/pyqtgraph/graphicsItems/GraphicsItem.py:460\u001b[0m, in \u001b[0;36mGraphicsItem.changeParent\u001b[0;34m(self)\u001b[0m\n\u001b[1;32m    455\u001b[0m \u001b[38;5;28;01mdef\u001b[39;00m \u001b[38;5;21mchangeParent\u001b[39m(\u001b[38;5;28mself\u001b[39m):\n\u001b[1;32m    456\u001b[0m \u001b[38;5;250m    \u001b[39m\u001b[38;5;124;03m\"\"\"Called when the item's parent has changed. \u001b[39;00m\n\u001b[1;32m    457\u001b[0m \u001b[38;5;124;03m    This method handles connecting / disconnecting from ViewBox signals\u001b[39;00m\n\u001b[1;32m    458\u001b[0m \u001b[38;5;124;03m    to make sure viewRangeChanged works properly. It should generally be \u001b[39;00m\n\u001b[1;32m    459\u001b[0m \u001b[38;5;124;03m    extended, not overridden.\"\"\"\u001b[39;00m\n\u001b[0;32m--> 460\u001b[0m     \u001b[38;5;28;43mself\u001b[39;49m\u001b[38;5;241;43m.\u001b[39;49m\u001b[43m_updateView\u001b[49m\u001b[43m(\u001b[49m\u001b[43m)\u001b[49m\n",
      "File \u001b[0;32m~/opt/miniconda3/envs/zhunter_dev/lib/python3.9/site-packages/pyqtgraph/graphicsItems/GraphicsItem.py:520\u001b[0m, in \u001b[0;36mGraphicsItem._updateView\u001b[0;34m(self)\u001b[0m\n\u001b[1;32m    518\u001b[0m     \u001b[38;5;28mself\u001b[39m\u001b[38;5;241m.\u001b[39m_connectedView \u001b[38;5;241m=\u001b[39m weakref\u001b[38;5;241m.\u001b[39mref(view)\n\u001b[1;32m    519\u001b[0m     \u001b[38;5;28mself\u001b[39m\u001b[38;5;241m.\u001b[39mviewRangeChanged()\n\u001b[0;32m--> 520\u001b[0m     \u001b[38;5;28;43mself\u001b[39;49m\u001b[38;5;241;43m.\u001b[39;49m\u001b[43mviewTransformChanged\u001b[49m\u001b[43m(\u001b[49m\u001b[43m)\u001b[49m\n\u001b[1;32m    522\u001b[0m \u001b[38;5;66;03m## inform children that their view might have changed\u001b[39;00m\n\u001b[1;32m    523\u001b[0m \u001b[38;5;28mself\u001b[39m\u001b[38;5;241m.\u001b[39m_replaceView(oldView)\n",
      "File \u001b[0;32m~/opt/miniconda3/envs/zhunter_dev/lib/python3.9/site-packages/pyqtgraph/graphicsItems/InfiniteLine.py:609\u001b[0m, in \u001b[0;36mInfLineLabel.viewTransformChanged\u001b[0;34m(self)\u001b[0m\n\u001b[1;32m    607\u001b[0m \u001b[38;5;28;01mdef\u001b[39;00m \u001b[38;5;21mviewTransformChanged\u001b[39m(\u001b[38;5;28mself\u001b[39m):\n\u001b[1;32m    608\u001b[0m     GraphicsItem\u001b[38;5;241m.\u001b[39mviewTransformChanged(\u001b[38;5;28mself\u001b[39m)\n\u001b[0;32m--> 609\u001b[0m     \u001b[38;5;28;43mself\u001b[39;49m\u001b[38;5;241;43m.\u001b[39;49m\u001b[43mupdatePosition\u001b[49m\u001b[43m(\u001b[49m\u001b[43m)\u001b[49m\n\u001b[1;32m    610\u001b[0m     TextItem\u001b[38;5;241m.\u001b[39mviewTransformChanged(\u001b[38;5;28mself\u001b[39m)\n",
      "File \u001b[0;32m~/opt/miniconda3/envs/zhunter_dev/lib/python3.9/site-packages/pyqtgraph/graphicsItems/InfiniteLine.py:546\u001b[0m, in \u001b[0;36mInfLineLabel.updatePosition\u001b[0;34m(self)\u001b[0m\n\u001b[1;32m    543\u001b[0m \u001b[38;5;28mself\u001b[39m\u001b[38;5;241m.\u001b[39msetPos(pt)\n\u001b[1;32m    545\u001b[0m \u001b[38;5;66;03m# update anchor to keep text visible as it nears the view box edge\u001b[39;00m\n\u001b[0;32m--> 546\u001b[0m vr \u001b[38;5;241m=\u001b[39m \u001b[38;5;28;43mself\u001b[39;49m\u001b[38;5;241;43m.\u001b[39;49m\u001b[43mline\u001b[49m\u001b[38;5;241;43m.\u001b[39;49m\u001b[43mviewRect\u001b[49m\u001b[43m(\u001b[49m\u001b[43m)\u001b[49m\n\u001b[1;32m    547\u001b[0m \u001b[38;5;28;01mif\u001b[39;00m vr \u001b[38;5;129;01mis\u001b[39;00m \u001b[38;5;129;01mnot\u001b[39;00m \u001b[38;5;28;01mNone\u001b[39;00m:\n\u001b[1;32m    548\u001b[0m     \u001b[38;5;28mself\u001b[39m\u001b[38;5;241m.\u001b[39msetAnchor(\u001b[38;5;28mself\u001b[39m\u001b[38;5;241m.\u001b[39manchors[\u001b[38;5;241m0\u001b[39m \u001b[38;5;28;01mif\u001b[39;00m vr\u001b[38;5;241m.\u001b[39mcenter()\u001b[38;5;241m.\u001b[39my() \u001b[38;5;241m<\u001b[39m \u001b[38;5;241m0\u001b[39m \u001b[38;5;28;01melse\u001b[39;00m \u001b[38;5;241m1\u001b[39m])\n",
      "File \u001b[0;32m~/opt/miniconda3/envs/zhunter_dev/lib/python3.9/site-packages/pyqtgraph/graphicsItems/GraphicsItem.py:179\u001b[0m, in \u001b[0;36mGraphicsItem.viewRect\u001b[0;34m(self)\u001b[0m\n\u001b[1;32m    177\u001b[0m \u001b[38;5;28;01mif\u001b[39;00m view \u001b[38;5;129;01mis\u001b[39;00m \u001b[38;5;28;01mNone\u001b[39;00m:\n\u001b[1;32m    178\u001b[0m     \u001b[38;5;28;01mreturn\u001b[39;00m \u001b[38;5;28;01mNone\u001b[39;00m\n\u001b[0;32m--> 179\u001b[0m bounds \u001b[38;5;241m=\u001b[39m \u001b[38;5;28mself\u001b[39m\u001b[38;5;241m.\u001b[39mmapRectFromView(\u001b[43mview\u001b[49m\u001b[38;5;241;43m.\u001b[39;49m\u001b[43mviewRect\u001b[49m\u001b[43m(\u001b[49m\u001b[43m)\u001b[49m)\n\u001b[1;32m    180\u001b[0m \u001b[38;5;28;01mif\u001b[39;00m bounds \u001b[38;5;129;01mis\u001b[39;00m \u001b[38;5;28;01mNone\u001b[39;00m:\n\u001b[1;32m    181\u001b[0m     \u001b[38;5;28;01mreturn\u001b[39;00m \u001b[38;5;28;01mNone\u001b[39;00m\n",
      "File \u001b[0;32m~/opt/miniconda3/envs/zhunter_dev/lib/python3.9/site-packages/pyqtgraph/widgets/GraphicsView.py:225\u001b[0m, in \u001b[0;36mGraphicsView.viewRect\u001b[0;34m(self)\u001b[0m\n\u001b[1;32m    223\u001b[0m \u001b[38;5;250m\u001b[39m\u001b[38;5;124;03m\"\"\"Return the boundaries of the view in scene coordinates\"\"\"\u001b[39;00m\n\u001b[1;32m    224\u001b[0m \u001b[38;5;66;03m## easier to just return self.range ?\u001b[39;00m\n\u001b[0;32m--> 225\u001b[0m r \u001b[38;5;241m=\u001b[39m QtCore\u001b[38;5;241m.\u001b[39mQRectF(\u001b[38;5;28;43mself\u001b[39;49m\u001b[38;5;241;43m.\u001b[39;49m\u001b[43mrect\u001b[49m\u001b[43m(\u001b[49m\u001b[43m)\u001b[49m)\n\u001b[1;32m    226\u001b[0m \u001b[38;5;28;01mreturn\u001b[39;00m \u001b[38;5;28mself\u001b[39m\u001b[38;5;241m.\u001b[39mviewportTransform()\u001b[38;5;241m.\u001b[39minverted()[\u001b[38;5;241m0\u001b[39m]\u001b[38;5;241m.\u001b[39mmapRect(r)\n",
      "\u001b[0;31mTypeError\u001b[0m: 'QRectF' object is not callable"
     ]
    },
    {
     "ename": "TypeError",
     "evalue": "'QRectF' object is not callable",
     "output_type": "error",
     "traceback": [
      "\u001b[0;31m---------------------------------------------------------------------------\u001b[0m",
      "\u001b[0;31mTypeError\u001b[0m                                 Traceback (most recent call last)",
      "File \u001b[0;32m~/opt/miniconda3/envs/zhunter_dev/lib/python3.9/site-packages/pyqtgraph/graphicsItems/GraphicsObject.py:36\u001b[0m, in \u001b[0;36mGraphicsObject.itemChange\u001b[0;34m(self, change, value)\u001b[0m\n\u001b[1;32m     34\u001b[0m             \u001b[38;5;28mself\u001b[39m\u001b[38;5;241m.\u001b[39mparentChanged()\n\u001b[1;32m     35\u001b[0m     \u001b[38;5;28;01melse\u001b[39;00m:\n\u001b[0;32m---> 36\u001b[0m         \u001b[38;5;28;43mself\u001b[39;49m\u001b[38;5;241;43m.\u001b[39;49m\u001b[43mchangeParent\u001b[49m\u001b[43m(\u001b[49m\u001b[43m)\u001b[49m\n\u001b[1;32m     37\u001b[0m \u001b[38;5;28;01mtry\u001b[39;00m:\n\u001b[1;32m     38\u001b[0m     inform_view_on_change \u001b[38;5;241m=\u001b[39m \u001b[38;5;28mself\u001b[39m\u001b[38;5;241m.\u001b[39m__inform_view_on_changes\n",
      "File \u001b[0;32m~/opt/miniconda3/envs/zhunter_dev/lib/python3.9/site-packages/pyqtgraph/graphicsItems/GraphicsItem.py:460\u001b[0m, in \u001b[0;36mGraphicsItem.changeParent\u001b[0;34m(self)\u001b[0m\n\u001b[1;32m    455\u001b[0m \u001b[38;5;28;01mdef\u001b[39;00m \u001b[38;5;21mchangeParent\u001b[39m(\u001b[38;5;28mself\u001b[39m):\n\u001b[1;32m    456\u001b[0m \u001b[38;5;250m    \u001b[39m\u001b[38;5;124;03m\"\"\"Called when the item's parent has changed. \u001b[39;00m\n\u001b[1;32m    457\u001b[0m \u001b[38;5;124;03m    This method handles connecting / disconnecting from ViewBox signals\u001b[39;00m\n\u001b[1;32m    458\u001b[0m \u001b[38;5;124;03m    to make sure viewRangeChanged works properly. It should generally be \u001b[39;00m\n\u001b[1;32m    459\u001b[0m \u001b[38;5;124;03m    extended, not overridden.\"\"\"\u001b[39;00m\n\u001b[0;32m--> 460\u001b[0m     \u001b[38;5;28;43mself\u001b[39;49m\u001b[38;5;241;43m.\u001b[39;49m\u001b[43m_updateView\u001b[49m\u001b[43m(\u001b[49m\u001b[43m)\u001b[49m\n",
      "File \u001b[0;32m~/opt/miniconda3/envs/zhunter_dev/lib/python3.9/site-packages/pyqtgraph/graphicsItems/GraphicsItem.py:520\u001b[0m, in \u001b[0;36mGraphicsItem._updateView\u001b[0;34m(self)\u001b[0m\n\u001b[1;32m    518\u001b[0m     \u001b[38;5;28mself\u001b[39m\u001b[38;5;241m.\u001b[39m_connectedView \u001b[38;5;241m=\u001b[39m weakref\u001b[38;5;241m.\u001b[39mref(view)\n\u001b[1;32m    519\u001b[0m     \u001b[38;5;28mself\u001b[39m\u001b[38;5;241m.\u001b[39mviewRangeChanged()\n\u001b[0;32m--> 520\u001b[0m     \u001b[38;5;28;43mself\u001b[39;49m\u001b[38;5;241;43m.\u001b[39;49m\u001b[43mviewTransformChanged\u001b[49m\u001b[43m(\u001b[49m\u001b[43m)\u001b[49m\n\u001b[1;32m    522\u001b[0m \u001b[38;5;66;03m## inform children that their view might have changed\u001b[39;00m\n\u001b[1;32m    523\u001b[0m \u001b[38;5;28mself\u001b[39m\u001b[38;5;241m.\u001b[39m_replaceView(oldView)\n",
      "File \u001b[0;32m~/opt/miniconda3/envs/zhunter_dev/lib/python3.9/site-packages/pyqtgraph/graphicsItems/InfiniteLine.py:609\u001b[0m, in \u001b[0;36mInfLineLabel.viewTransformChanged\u001b[0;34m(self)\u001b[0m\n\u001b[1;32m    607\u001b[0m \u001b[38;5;28;01mdef\u001b[39;00m \u001b[38;5;21mviewTransformChanged\u001b[39m(\u001b[38;5;28mself\u001b[39m):\n\u001b[1;32m    608\u001b[0m     GraphicsItem\u001b[38;5;241m.\u001b[39mviewTransformChanged(\u001b[38;5;28mself\u001b[39m)\n\u001b[0;32m--> 609\u001b[0m     \u001b[38;5;28;43mself\u001b[39;49m\u001b[38;5;241;43m.\u001b[39;49m\u001b[43mupdatePosition\u001b[49m\u001b[43m(\u001b[49m\u001b[43m)\u001b[49m\n\u001b[1;32m    610\u001b[0m     TextItem\u001b[38;5;241m.\u001b[39mviewTransformChanged(\u001b[38;5;28mself\u001b[39m)\n",
      "File \u001b[0;32m~/opt/miniconda3/envs/zhunter_dev/lib/python3.9/site-packages/pyqtgraph/graphicsItems/InfiniteLine.py:546\u001b[0m, in \u001b[0;36mInfLineLabel.updatePosition\u001b[0;34m(self)\u001b[0m\n\u001b[1;32m    543\u001b[0m \u001b[38;5;28mself\u001b[39m\u001b[38;5;241m.\u001b[39msetPos(pt)\n\u001b[1;32m    545\u001b[0m \u001b[38;5;66;03m# update anchor to keep text visible as it nears the view box edge\u001b[39;00m\n\u001b[0;32m--> 546\u001b[0m vr \u001b[38;5;241m=\u001b[39m \u001b[38;5;28;43mself\u001b[39;49m\u001b[38;5;241;43m.\u001b[39;49m\u001b[43mline\u001b[49m\u001b[38;5;241;43m.\u001b[39;49m\u001b[43mviewRect\u001b[49m\u001b[43m(\u001b[49m\u001b[43m)\u001b[49m\n\u001b[1;32m    547\u001b[0m \u001b[38;5;28;01mif\u001b[39;00m vr \u001b[38;5;129;01mis\u001b[39;00m \u001b[38;5;129;01mnot\u001b[39;00m \u001b[38;5;28;01mNone\u001b[39;00m:\n\u001b[1;32m    548\u001b[0m     \u001b[38;5;28mself\u001b[39m\u001b[38;5;241m.\u001b[39msetAnchor(\u001b[38;5;28mself\u001b[39m\u001b[38;5;241m.\u001b[39manchors[\u001b[38;5;241m0\u001b[39m \u001b[38;5;28;01mif\u001b[39;00m vr\u001b[38;5;241m.\u001b[39mcenter()\u001b[38;5;241m.\u001b[39my() \u001b[38;5;241m<\u001b[39m \u001b[38;5;241m0\u001b[39m \u001b[38;5;28;01melse\u001b[39;00m \u001b[38;5;241m1\u001b[39m])\n",
      "File \u001b[0;32m~/opt/miniconda3/envs/zhunter_dev/lib/python3.9/site-packages/pyqtgraph/graphicsItems/GraphicsItem.py:179\u001b[0m, in \u001b[0;36mGraphicsItem.viewRect\u001b[0;34m(self)\u001b[0m\n\u001b[1;32m    177\u001b[0m \u001b[38;5;28;01mif\u001b[39;00m view \u001b[38;5;129;01mis\u001b[39;00m \u001b[38;5;28;01mNone\u001b[39;00m:\n\u001b[1;32m    178\u001b[0m     \u001b[38;5;28;01mreturn\u001b[39;00m \u001b[38;5;28;01mNone\u001b[39;00m\n\u001b[0;32m--> 179\u001b[0m bounds \u001b[38;5;241m=\u001b[39m \u001b[38;5;28mself\u001b[39m\u001b[38;5;241m.\u001b[39mmapRectFromView(\u001b[43mview\u001b[49m\u001b[38;5;241;43m.\u001b[39;49m\u001b[43mviewRect\u001b[49m\u001b[43m(\u001b[49m\u001b[43m)\u001b[49m)\n\u001b[1;32m    180\u001b[0m \u001b[38;5;28;01mif\u001b[39;00m bounds \u001b[38;5;129;01mis\u001b[39;00m \u001b[38;5;28;01mNone\u001b[39;00m:\n\u001b[1;32m    181\u001b[0m     \u001b[38;5;28;01mreturn\u001b[39;00m \u001b[38;5;28;01mNone\u001b[39;00m\n",
      "File \u001b[0;32m~/opt/miniconda3/envs/zhunter_dev/lib/python3.9/site-packages/pyqtgraph/widgets/GraphicsView.py:225\u001b[0m, in \u001b[0;36mGraphicsView.viewRect\u001b[0;34m(self)\u001b[0m\n\u001b[1;32m    223\u001b[0m \u001b[38;5;250m\u001b[39m\u001b[38;5;124;03m\"\"\"Return the boundaries of the view in scene coordinates\"\"\"\u001b[39;00m\n\u001b[1;32m    224\u001b[0m \u001b[38;5;66;03m## easier to just return self.range ?\u001b[39;00m\n\u001b[0;32m--> 225\u001b[0m r \u001b[38;5;241m=\u001b[39m QtCore\u001b[38;5;241m.\u001b[39mQRectF(\u001b[38;5;28;43mself\u001b[39;49m\u001b[38;5;241;43m.\u001b[39;49m\u001b[43mrect\u001b[49m\u001b[43m(\u001b[49m\u001b[43m)\u001b[49m)\n\u001b[1;32m    226\u001b[0m \u001b[38;5;28;01mreturn\u001b[39;00m \u001b[38;5;28mself\u001b[39m\u001b[38;5;241m.\u001b[39mviewportTransform()\u001b[38;5;241m.\u001b[39minverted()[\u001b[38;5;241m0\u001b[39m]\u001b[38;5;241m.\u001b[39mmapRect(r)\n",
      "\u001b[0;31mTypeError\u001b[0m: 'QRectF' object is not callable"
     ]
    },
    {
     "ename": "TypeError",
     "evalue": "'QRectF' object is not callable",
     "output_type": "error",
     "traceback": [
      "\u001b[0;31m---------------------------------------------------------------------------\u001b[0m",
      "\u001b[0;31mTypeError\u001b[0m                                 Traceback (most recent call last)",
      "File \u001b[0;32m~/opt/miniconda3/envs/zhunter_dev/lib/python3.9/site-packages/pyqtgraph/graphicsItems/GraphicsObject.py:36\u001b[0m, in \u001b[0;36mGraphicsObject.itemChange\u001b[0;34m(self, change, value)\u001b[0m\n\u001b[1;32m     34\u001b[0m             \u001b[38;5;28mself\u001b[39m\u001b[38;5;241m.\u001b[39mparentChanged()\n\u001b[1;32m     35\u001b[0m     \u001b[38;5;28;01melse\u001b[39;00m:\n\u001b[0;32m---> 36\u001b[0m         \u001b[38;5;28;43mself\u001b[39;49m\u001b[38;5;241;43m.\u001b[39;49m\u001b[43mchangeParent\u001b[49m\u001b[43m(\u001b[49m\u001b[43m)\u001b[49m\n\u001b[1;32m     37\u001b[0m \u001b[38;5;28;01mtry\u001b[39;00m:\n\u001b[1;32m     38\u001b[0m     inform_view_on_change \u001b[38;5;241m=\u001b[39m \u001b[38;5;28mself\u001b[39m\u001b[38;5;241m.\u001b[39m__inform_view_on_changes\n",
      "File \u001b[0;32m~/opt/miniconda3/envs/zhunter_dev/lib/python3.9/site-packages/pyqtgraph/graphicsItems/GraphicsItem.py:460\u001b[0m, in \u001b[0;36mGraphicsItem.changeParent\u001b[0;34m(self)\u001b[0m\n\u001b[1;32m    455\u001b[0m \u001b[38;5;28;01mdef\u001b[39;00m \u001b[38;5;21mchangeParent\u001b[39m(\u001b[38;5;28mself\u001b[39m):\n\u001b[1;32m    456\u001b[0m \u001b[38;5;250m    \u001b[39m\u001b[38;5;124;03m\"\"\"Called when the item's parent has changed. \u001b[39;00m\n\u001b[1;32m    457\u001b[0m \u001b[38;5;124;03m    This method handles connecting / disconnecting from ViewBox signals\u001b[39;00m\n\u001b[1;32m    458\u001b[0m \u001b[38;5;124;03m    to make sure viewRangeChanged works properly. It should generally be \u001b[39;00m\n\u001b[1;32m    459\u001b[0m \u001b[38;5;124;03m    extended, not overridden.\"\"\"\u001b[39;00m\n\u001b[0;32m--> 460\u001b[0m     \u001b[38;5;28;43mself\u001b[39;49m\u001b[38;5;241;43m.\u001b[39;49m\u001b[43m_updateView\u001b[49m\u001b[43m(\u001b[49m\u001b[43m)\u001b[49m\n",
      "File \u001b[0;32m~/opt/miniconda3/envs/zhunter_dev/lib/python3.9/site-packages/pyqtgraph/graphicsItems/GraphicsItem.py:520\u001b[0m, in \u001b[0;36mGraphicsItem._updateView\u001b[0;34m(self)\u001b[0m\n\u001b[1;32m    518\u001b[0m     \u001b[38;5;28mself\u001b[39m\u001b[38;5;241m.\u001b[39m_connectedView \u001b[38;5;241m=\u001b[39m weakref\u001b[38;5;241m.\u001b[39mref(view)\n\u001b[1;32m    519\u001b[0m     \u001b[38;5;28mself\u001b[39m\u001b[38;5;241m.\u001b[39mviewRangeChanged()\n\u001b[0;32m--> 520\u001b[0m     \u001b[38;5;28;43mself\u001b[39;49m\u001b[38;5;241;43m.\u001b[39;49m\u001b[43mviewTransformChanged\u001b[49m\u001b[43m(\u001b[49m\u001b[43m)\u001b[49m\n\u001b[1;32m    522\u001b[0m \u001b[38;5;66;03m## inform children that their view might have changed\u001b[39;00m\n\u001b[1;32m    523\u001b[0m \u001b[38;5;28mself\u001b[39m\u001b[38;5;241m.\u001b[39m_replaceView(oldView)\n",
      "File \u001b[0;32m~/opt/miniconda3/envs/zhunter_dev/lib/python3.9/site-packages/pyqtgraph/graphicsItems/InfiniteLine.py:609\u001b[0m, in \u001b[0;36mInfLineLabel.viewTransformChanged\u001b[0;34m(self)\u001b[0m\n\u001b[1;32m    607\u001b[0m \u001b[38;5;28;01mdef\u001b[39;00m \u001b[38;5;21mviewTransformChanged\u001b[39m(\u001b[38;5;28mself\u001b[39m):\n\u001b[1;32m    608\u001b[0m     GraphicsItem\u001b[38;5;241m.\u001b[39mviewTransformChanged(\u001b[38;5;28mself\u001b[39m)\n\u001b[0;32m--> 609\u001b[0m     \u001b[38;5;28;43mself\u001b[39;49m\u001b[38;5;241;43m.\u001b[39;49m\u001b[43mupdatePosition\u001b[49m\u001b[43m(\u001b[49m\u001b[43m)\u001b[49m\n\u001b[1;32m    610\u001b[0m     TextItem\u001b[38;5;241m.\u001b[39mviewTransformChanged(\u001b[38;5;28mself\u001b[39m)\n",
      "File \u001b[0;32m~/opt/miniconda3/envs/zhunter_dev/lib/python3.9/site-packages/pyqtgraph/graphicsItems/InfiniteLine.py:546\u001b[0m, in \u001b[0;36mInfLineLabel.updatePosition\u001b[0;34m(self)\u001b[0m\n\u001b[1;32m    543\u001b[0m \u001b[38;5;28mself\u001b[39m\u001b[38;5;241m.\u001b[39msetPos(pt)\n\u001b[1;32m    545\u001b[0m \u001b[38;5;66;03m# update anchor to keep text visible as it nears the view box edge\u001b[39;00m\n\u001b[0;32m--> 546\u001b[0m vr \u001b[38;5;241m=\u001b[39m \u001b[38;5;28;43mself\u001b[39;49m\u001b[38;5;241;43m.\u001b[39;49m\u001b[43mline\u001b[49m\u001b[38;5;241;43m.\u001b[39;49m\u001b[43mviewRect\u001b[49m\u001b[43m(\u001b[49m\u001b[43m)\u001b[49m\n\u001b[1;32m    547\u001b[0m \u001b[38;5;28;01mif\u001b[39;00m vr \u001b[38;5;129;01mis\u001b[39;00m \u001b[38;5;129;01mnot\u001b[39;00m \u001b[38;5;28;01mNone\u001b[39;00m:\n\u001b[1;32m    548\u001b[0m     \u001b[38;5;28mself\u001b[39m\u001b[38;5;241m.\u001b[39msetAnchor(\u001b[38;5;28mself\u001b[39m\u001b[38;5;241m.\u001b[39manchors[\u001b[38;5;241m0\u001b[39m \u001b[38;5;28;01mif\u001b[39;00m vr\u001b[38;5;241m.\u001b[39mcenter()\u001b[38;5;241m.\u001b[39my() \u001b[38;5;241m<\u001b[39m \u001b[38;5;241m0\u001b[39m \u001b[38;5;28;01melse\u001b[39;00m \u001b[38;5;241m1\u001b[39m])\n",
      "File \u001b[0;32m~/opt/miniconda3/envs/zhunter_dev/lib/python3.9/site-packages/pyqtgraph/graphicsItems/GraphicsItem.py:179\u001b[0m, in \u001b[0;36mGraphicsItem.viewRect\u001b[0;34m(self)\u001b[0m\n\u001b[1;32m    177\u001b[0m \u001b[38;5;28;01mif\u001b[39;00m view \u001b[38;5;129;01mis\u001b[39;00m \u001b[38;5;28;01mNone\u001b[39;00m:\n\u001b[1;32m    178\u001b[0m     \u001b[38;5;28;01mreturn\u001b[39;00m \u001b[38;5;28;01mNone\u001b[39;00m\n\u001b[0;32m--> 179\u001b[0m bounds \u001b[38;5;241m=\u001b[39m \u001b[38;5;28mself\u001b[39m\u001b[38;5;241m.\u001b[39mmapRectFromView(\u001b[43mview\u001b[49m\u001b[38;5;241;43m.\u001b[39;49m\u001b[43mviewRect\u001b[49m\u001b[43m(\u001b[49m\u001b[43m)\u001b[49m)\n\u001b[1;32m    180\u001b[0m \u001b[38;5;28;01mif\u001b[39;00m bounds \u001b[38;5;129;01mis\u001b[39;00m \u001b[38;5;28;01mNone\u001b[39;00m:\n\u001b[1;32m    181\u001b[0m     \u001b[38;5;28;01mreturn\u001b[39;00m \u001b[38;5;28;01mNone\u001b[39;00m\n",
      "File \u001b[0;32m~/opt/miniconda3/envs/zhunter_dev/lib/python3.9/site-packages/pyqtgraph/widgets/GraphicsView.py:225\u001b[0m, in \u001b[0;36mGraphicsView.viewRect\u001b[0;34m(self)\u001b[0m\n\u001b[1;32m    223\u001b[0m \u001b[38;5;250m\u001b[39m\u001b[38;5;124;03m\"\"\"Return the boundaries of the view in scene coordinates\"\"\"\u001b[39;00m\n\u001b[1;32m    224\u001b[0m \u001b[38;5;66;03m## easier to just return self.range ?\u001b[39;00m\n\u001b[0;32m--> 225\u001b[0m r \u001b[38;5;241m=\u001b[39m QtCore\u001b[38;5;241m.\u001b[39mQRectF(\u001b[38;5;28;43mself\u001b[39;49m\u001b[38;5;241;43m.\u001b[39;49m\u001b[43mrect\u001b[49m\u001b[43m(\u001b[49m\u001b[43m)\u001b[49m)\n\u001b[1;32m    226\u001b[0m \u001b[38;5;28;01mreturn\u001b[39;00m \u001b[38;5;28mself\u001b[39m\u001b[38;5;241m.\u001b[39mviewportTransform()\u001b[38;5;241m.\u001b[39minverted()[\u001b[38;5;241m0\u001b[39m]\u001b[38;5;241m.\u001b[39mmapRect(r)\n",
      "\u001b[0;31mTypeError\u001b[0m: 'QRectF' object is not callable"
     ]
    },
    {
     "ename": "TypeError",
     "evalue": "'QRectF' object is not callable",
     "output_type": "error",
     "traceback": [
      "\u001b[0;31m---------------------------------------------------------------------------\u001b[0m",
      "\u001b[0;31mTypeError\u001b[0m                                 Traceback (most recent call last)",
      "File \u001b[0;32m~/opt/miniconda3/envs/zhunter_dev/lib/python3.9/site-packages/pyqtgraph/graphicsItems/GraphicsObject.py:36\u001b[0m, in \u001b[0;36mGraphicsObject.itemChange\u001b[0;34m(self, change, value)\u001b[0m\n\u001b[1;32m     34\u001b[0m             \u001b[38;5;28mself\u001b[39m\u001b[38;5;241m.\u001b[39mparentChanged()\n\u001b[1;32m     35\u001b[0m     \u001b[38;5;28;01melse\u001b[39;00m:\n\u001b[0;32m---> 36\u001b[0m         \u001b[38;5;28;43mself\u001b[39;49m\u001b[38;5;241;43m.\u001b[39;49m\u001b[43mchangeParent\u001b[49m\u001b[43m(\u001b[49m\u001b[43m)\u001b[49m\n\u001b[1;32m     37\u001b[0m \u001b[38;5;28;01mtry\u001b[39;00m:\n\u001b[1;32m     38\u001b[0m     inform_view_on_change \u001b[38;5;241m=\u001b[39m \u001b[38;5;28mself\u001b[39m\u001b[38;5;241m.\u001b[39m__inform_view_on_changes\n",
      "File \u001b[0;32m~/opt/miniconda3/envs/zhunter_dev/lib/python3.9/site-packages/pyqtgraph/graphicsItems/GraphicsItem.py:460\u001b[0m, in \u001b[0;36mGraphicsItem.changeParent\u001b[0;34m(self)\u001b[0m\n\u001b[1;32m    455\u001b[0m \u001b[38;5;28;01mdef\u001b[39;00m \u001b[38;5;21mchangeParent\u001b[39m(\u001b[38;5;28mself\u001b[39m):\n\u001b[1;32m    456\u001b[0m \u001b[38;5;250m    \u001b[39m\u001b[38;5;124;03m\"\"\"Called when the item's parent has changed. \u001b[39;00m\n\u001b[1;32m    457\u001b[0m \u001b[38;5;124;03m    This method handles connecting / disconnecting from ViewBox signals\u001b[39;00m\n\u001b[1;32m    458\u001b[0m \u001b[38;5;124;03m    to make sure viewRangeChanged works properly. It should generally be \u001b[39;00m\n\u001b[1;32m    459\u001b[0m \u001b[38;5;124;03m    extended, not overridden.\"\"\"\u001b[39;00m\n\u001b[0;32m--> 460\u001b[0m     \u001b[38;5;28;43mself\u001b[39;49m\u001b[38;5;241;43m.\u001b[39;49m\u001b[43m_updateView\u001b[49m\u001b[43m(\u001b[49m\u001b[43m)\u001b[49m\n",
      "File \u001b[0;32m~/opt/miniconda3/envs/zhunter_dev/lib/python3.9/site-packages/pyqtgraph/graphicsItems/GraphicsItem.py:520\u001b[0m, in \u001b[0;36mGraphicsItem._updateView\u001b[0;34m(self)\u001b[0m\n\u001b[1;32m    518\u001b[0m     \u001b[38;5;28mself\u001b[39m\u001b[38;5;241m.\u001b[39m_connectedView \u001b[38;5;241m=\u001b[39m weakref\u001b[38;5;241m.\u001b[39mref(view)\n\u001b[1;32m    519\u001b[0m     \u001b[38;5;28mself\u001b[39m\u001b[38;5;241m.\u001b[39mviewRangeChanged()\n\u001b[0;32m--> 520\u001b[0m     \u001b[38;5;28;43mself\u001b[39;49m\u001b[38;5;241;43m.\u001b[39;49m\u001b[43mviewTransformChanged\u001b[49m\u001b[43m(\u001b[49m\u001b[43m)\u001b[49m\n\u001b[1;32m    522\u001b[0m \u001b[38;5;66;03m## inform children that their view might have changed\u001b[39;00m\n\u001b[1;32m    523\u001b[0m \u001b[38;5;28mself\u001b[39m\u001b[38;5;241m.\u001b[39m_replaceView(oldView)\n",
      "File \u001b[0;32m~/opt/miniconda3/envs/zhunter_dev/lib/python3.9/site-packages/pyqtgraph/graphicsItems/InfiniteLine.py:609\u001b[0m, in \u001b[0;36mInfLineLabel.viewTransformChanged\u001b[0;34m(self)\u001b[0m\n\u001b[1;32m    607\u001b[0m \u001b[38;5;28;01mdef\u001b[39;00m \u001b[38;5;21mviewTransformChanged\u001b[39m(\u001b[38;5;28mself\u001b[39m):\n\u001b[1;32m    608\u001b[0m     GraphicsItem\u001b[38;5;241m.\u001b[39mviewTransformChanged(\u001b[38;5;28mself\u001b[39m)\n\u001b[0;32m--> 609\u001b[0m     \u001b[38;5;28;43mself\u001b[39;49m\u001b[38;5;241;43m.\u001b[39;49m\u001b[43mupdatePosition\u001b[49m\u001b[43m(\u001b[49m\u001b[43m)\u001b[49m\n\u001b[1;32m    610\u001b[0m     TextItem\u001b[38;5;241m.\u001b[39mviewTransformChanged(\u001b[38;5;28mself\u001b[39m)\n",
      "File \u001b[0;32m~/opt/miniconda3/envs/zhunter_dev/lib/python3.9/site-packages/pyqtgraph/graphicsItems/InfiniteLine.py:546\u001b[0m, in \u001b[0;36mInfLineLabel.updatePosition\u001b[0;34m(self)\u001b[0m\n\u001b[1;32m    543\u001b[0m \u001b[38;5;28mself\u001b[39m\u001b[38;5;241m.\u001b[39msetPos(pt)\n\u001b[1;32m    545\u001b[0m \u001b[38;5;66;03m# update anchor to keep text visible as it nears the view box edge\u001b[39;00m\n\u001b[0;32m--> 546\u001b[0m vr \u001b[38;5;241m=\u001b[39m \u001b[38;5;28;43mself\u001b[39;49m\u001b[38;5;241;43m.\u001b[39;49m\u001b[43mline\u001b[49m\u001b[38;5;241;43m.\u001b[39;49m\u001b[43mviewRect\u001b[49m\u001b[43m(\u001b[49m\u001b[43m)\u001b[49m\n\u001b[1;32m    547\u001b[0m \u001b[38;5;28;01mif\u001b[39;00m vr \u001b[38;5;129;01mis\u001b[39;00m \u001b[38;5;129;01mnot\u001b[39;00m \u001b[38;5;28;01mNone\u001b[39;00m:\n\u001b[1;32m    548\u001b[0m     \u001b[38;5;28mself\u001b[39m\u001b[38;5;241m.\u001b[39msetAnchor(\u001b[38;5;28mself\u001b[39m\u001b[38;5;241m.\u001b[39manchors[\u001b[38;5;241m0\u001b[39m \u001b[38;5;28;01mif\u001b[39;00m vr\u001b[38;5;241m.\u001b[39mcenter()\u001b[38;5;241m.\u001b[39my() \u001b[38;5;241m<\u001b[39m \u001b[38;5;241m0\u001b[39m \u001b[38;5;28;01melse\u001b[39;00m \u001b[38;5;241m1\u001b[39m])\n",
      "File \u001b[0;32m~/opt/miniconda3/envs/zhunter_dev/lib/python3.9/site-packages/pyqtgraph/graphicsItems/GraphicsItem.py:179\u001b[0m, in \u001b[0;36mGraphicsItem.viewRect\u001b[0;34m(self)\u001b[0m\n\u001b[1;32m    177\u001b[0m \u001b[38;5;28;01mif\u001b[39;00m view \u001b[38;5;129;01mis\u001b[39;00m \u001b[38;5;28;01mNone\u001b[39;00m:\n\u001b[1;32m    178\u001b[0m     \u001b[38;5;28;01mreturn\u001b[39;00m \u001b[38;5;28;01mNone\u001b[39;00m\n\u001b[0;32m--> 179\u001b[0m bounds \u001b[38;5;241m=\u001b[39m \u001b[38;5;28mself\u001b[39m\u001b[38;5;241m.\u001b[39mmapRectFromView(\u001b[43mview\u001b[49m\u001b[38;5;241;43m.\u001b[39;49m\u001b[43mviewRect\u001b[49m\u001b[43m(\u001b[49m\u001b[43m)\u001b[49m)\n\u001b[1;32m    180\u001b[0m \u001b[38;5;28;01mif\u001b[39;00m bounds \u001b[38;5;129;01mis\u001b[39;00m \u001b[38;5;28;01mNone\u001b[39;00m:\n\u001b[1;32m    181\u001b[0m     \u001b[38;5;28;01mreturn\u001b[39;00m \u001b[38;5;28;01mNone\u001b[39;00m\n",
      "File \u001b[0;32m~/opt/miniconda3/envs/zhunter_dev/lib/python3.9/site-packages/pyqtgraph/widgets/GraphicsView.py:225\u001b[0m, in \u001b[0;36mGraphicsView.viewRect\u001b[0;34m(self)\u001b[0m\n\u001b[1;32m    223\u001b[0m \u001b[38;5;250m\u001b[39m\u001b[38;5;124;03m\"\"\"Return the boundaries of the view in scene coordinates\"\"\"\u001b[39;00m\n\u001b[1;32m    224\u001b[0m \u001b[38;5;66;03m## easier to just return self.range ?\u001b[39;00m\n\u001b[0;32m--> 225\u001b[0m r \u001b[38;5;241m=\u001b[39m QtCore\u001b[38;5;241m.\u001b[39mQRectF(\u001b[38;5;28;43mself\u001b[39;49m\u001b[38;5;241;43m.\u001b[39;49m\u001b[43mrect\u001b[49m\u001b[43m(\u001b[49m\u001b[43m)\u001b[49m)\n\u001b[1;32m    226\u001b[0m \u001b[38;5;28;01mreturn\u001b[39;00m \u001b[38;5;28mself\u001b[39m\u001b[38;5;241m.\u001b[39mviewportTransform()\u001b[38;5;241m.\u001b[39minverted()[\u001b[38;5;241m0\u001b[39m]\u001b[38;5;241m.\u001b[39mmapRect(r)\n",
      "\u001b[0;31mTypeError\u001b[0m: 'QRectF' object is not callable"
     ]
    },
    {
     "ename": "TypeError",
     "evalue": "'QRectF' object is not callable",
     "output_type": "error",
     "traceback": [
      "\u001b[0;31m---------------------------------------------------------------------------\u001b[0m",
      "\u001b[0;31mTypeError\u001b[0m                                 Traceback (most recent call last)",
      "File \u001b[0;32m~/opt/miniconda3/envs/zhunter_dev/lib/python3.9/site-packages/pyqtgraph/graphicsItems/GraphicsObject.py:36\u001b[0m, in \u001b[0;36mGraphicsObject.itemChange\u001b[0;34m(self, change, value)\u001b[0m\n\u001b[1;32m     34\u001b[0m             \u001b[38;5;28mself\u001b[39m\u001b[38;5;241m.\u001b[39mparentChanged()\n\u001b[1;32m     35\u001b[0m     \u001b[38;5;28;01melse\u001b[39;00m:\n\u001b[0;32m---> 36\u001b[0m         \u001b[38;5;28;43mself\u001b[39;49m\u001b[38;5;241;43m.\u001b[39;49m\u001b[43mchangeParent\u001b[49m\u001b[43m(\u001b[49m\u001b[43m)\u001b[49m\n\u001b[1;32m     37\u001b[0m \u001b[38;5;28;01mtry\u001b[39;00m:\n\u001b[1;32m     38\u001b[0m     inform_view_on_change \u001b[38;5;241m=\u001b[39m \u001b[38;5;28mself\u001b[39m\u001b[38;5;241m.\u001b[39m__inform_view_on_changes\n",
      "File \u001b[0;32m~/opt/miniconda3/envs/zhunter_dev/lib/python3.9/site-packages/pyqtgraph/graphicsItems/GraphicsItem.py:460\u001b[0m, in \u001b[0;36mGraphicsItem.changeParent\u001b[0;34m(self)\u001b[0m\n\u001b[1;32m    455\u001b[0m \u001b[38;5;28;01mdef\u001b[39;00m \u001b[38;5;21mchangeParent\u001b[39m(\u001b[38;5;28mself\u001b[39m):\n\u001b[1;32m    456\u001b[0m \u001b[38;5;250m    \u001b[39m\u001b[38;5;124;03m\"\"\"Called when the item's parent has changed. \u001b[39;00m\n\u001b[1;32m    457\u001b[0m \u001b[38;5;124;03m    This method handles connecting / disconnecting from ViewBox signals\u001b[39;00m\n\u001b[1;32m    458\u001b[0m \u001b[38;5;124;03m    to make sure viewRangeChanged works properly. It should generally be \u001b[39;00m\n\u001b[1;32m    459\u001b[0m \u001b[38;5;124;03m    extended, not overridden.\"\"\"\u001b[39;00m\n\u001b[0;32m--> 460\u001b[0m     \u001b[38;5;28;43mself\u001b[39;49m\u001b[38;5;241;43m.\u001b[39;49m\u001b[43m_updateView\u001b[49m\u001b[43m(\u001b[49m\u001b[43m)\u001b[49m\n",
      "File \u001b[0;32m~/opt/miniconda3/envs/zhunter_dev/lib/python3.9/site-packages/pyqtgraph/graphicsItems/GraphicsItem.py:520\u001b[0m, in \u001b[0;36mGraphicsItem._updateView\u001b[0;34m(self)\u001b[0m\n\u001b[1;32m    518\u001b[0m     \u001b[38;5;28mself\u001b[39m\u001b[38;5;241m.\u001b[39m_connectedView \u001b[38;5;241m=\u001b[39m weakref\u001b[38;5;241m.\u001b[39mref(view)\n\u001b[1;32m    519\u001b[0m     \u001b[38;5;28mself\u001b[39m\u001b[38;5;241m.\u001b[39mviewRangeChanged()\n\u001b[0;32m--> 520\u001b[0m     \u001b[38;5;28;43mself\u001b[39;49m\u001b[38;5;241;43m.\u001b[39;49m\u001b[43mviewTransformChanged\u001b[49m\u001b[43m(\u001b[49m\u001b[43m)\u001b[49m\n\u001b[1;32m    522\u001b[0m \u001b[38;5;66;03m## inform children that their view might have changed\u001b[39;00m\n\u001b[1;32m    523\u001b[0m \u001b[38;5;28mself\u001b[39m\u001b[38;5;241m.\u001b[39m_replaceView(oldView)\n",
      "File \u001b[0;32m~/opt/miniconda3/envs/zhunter_dev/lib/python3.9/site-packages/pyqtgraph/graphicsItems/InfiniteLine.py:609\u001b[0m, in \u001b[0;36mInfLineLabel.viewTransformChanged\u001b[0;34m(self)\u001b[0m\n\u001b[1;32m    607\u001b[0m \u001b[38;5;28;01mdef\u001b[39;00m \u001b[38;5;21mviewTransformChanged\u001b[39m(\u001b[38;5;28mself\u001b[39m):\n\u001b[1;32m    608\u001b[0m     GraphicsItem\u001b[38;5;241m.\u001b[39mviewTransformChanged(\u001b[38;5;28mself\u001b[39m)\n\u001b[0;32m--> 609\u001b[0m     \u001b[38;5;28;43mself\u001b[39;49m\u001b[38;5;241;43m.\u001b[39;49m\u001b[43mupdatePosition\u001b[49m\u001b[43m(\u001b[49m\u001b[43m)\u001b[49m\n\u001b[1;32m    610\u001b[0m     TextItem\u001b[38;5;241m.\u001b[39mviewTransformChanged(\u001b[38;5;28mself\u001b[39m)\n",
      "File \u001b[0;32m~/opt/miniconda3/envs/zhunter_dev/lib/python3.9/site-packages/pyqtgraph/graphicsItems/InfiniteLine.py:546\u001b[0m, in \u001b[0;36mInfLineLabel.updatePosition\u001b[0;34m(self)\u001b[0m\n\u001b[1;32m    543\u001b[0m \u001b[38;5;28mself\u001b[39m\u001b[38;5;241m.\u001b[39msetPos(pt)\n\u001b[1;32m    545\u001b[0m \u001b[38;5;66;03m# update anchor to keep text visible as it nears the view box edge\u001b[39;00m\n\u001b[0;32m--> 546\u001b[0m vr \u001b[38;5;241m=\u001b[39m \u001b[38;5;28;43mself\u001b[39;49m\u001b[38;5;241;43m.\u001b[39;49m\u001b[43mline\u001b[49m\u001b[38;5;241;43m.\u001b[39;49m\u001b[43mviewRect\u001b[49m\u001b[43m(\u001b[49m\u001b[43m)\u001b[49m\n\u001b[1;32m    547\u001b[0m \u001b[38;5;28;01mif\u001b[39;00m vr \u001b[38;5;129;01mis\u001b[39;00m \u001b[38;5;129;01mnot\u001b[39;00m \u001b[38;5;28;01mNone\u001b[39;00m:\n\u001b[1;32m    548\u001b[0m     \u001b[38;5;28mself\u001b[39m\u001b[38;5;241m.\u001b[39msetAnchor(\u001b[38;5;28mself\u001b[39m\u001b[38;5;241m.\u001b[39manchors[\u001b[38;5;241m0\u001b[39m \u001b[38;5;28;01mif\u001b[39;00m vr\u001b[38;5;241m.\u001b[39mcenter()\u001b[38;5;241m.\u001b[39my() \u001b[38;5;241m<\u001b[39m \u001b[38;5;241m0\u001b[39m \u001b[38;5;28;01melse\u001b[39;00m \u001b[38;5;241m1\u001b[39m])\n",
      "File \u001b[0;32m~/opt/miniconda3/envs/zhunter_dev/lib/python3.9/site-packages/pyqtgraph/graphicsItems/GraphicsItem.py:179\u001b[0m, in \u001b[0;36mGraphicsItem.viewRect\u001b[0;34m(self)\u001b[0m\n\u001b[1;32m    177\u001b[0m \u001b[38;5;28;01mif\u001b[39;00m view \u001b[38;5;129;01mis\u001b[39;00m \u001b[38;5;28;01mNone\u001b[39;00m:\n\u001b[1;32m    178\u001b[0m     \u001b[38;5;28;01mreturn\u001b[39;00m \u001b[38;5;28;01mNone\u001b[39;00m\n\u001b[0;32m--> 179\u001b[0m bounds \u001b[38;5;241m=\u001b[39m \u001b[38;5;28mself\u001b[39m\u001b[38;5;241m.\u001b[39mmapRectFromView(\u001b[43mview\u001b[49m\u001b[38;5;241;43m.\u001b[39;49m\u001b[43mviewRect\u001b[49m\u001b[43m(\u001b[49m\u001b[43m)\u001b[49m)\n\u001b[1;32m    180\u001b[0m \u001b[38;5;28;01mif\u001b[39;00m bounds \u001b[38;5;129;01mis\u001b[39;00m \u001b[38;5;28;01mNone\u001b[39;00m:\n\u001b[1;32m    181\u001b[0m     \u001b[38;5;28;01mreturn\u001b[39;00m \u001b[38;5;28;01mNone\u001b[39;00m\n",
      "File \u001b[0;32m~/opt/miniconda3/envs/zhunter_dev/lib/python3.9/site-packages/pyqtgraph/widgets/GraphicsView.py:225\u001b[0m, in \u001b[0;36mGraphicsView.viewRect\u001b[0;34m(self)\u001b[0m\n\u001b[1;32m    223\u001b[0m \u001b[38;5;250m\u001b[39m\u001b[38;5;124;03m\"\"\"Return the boundaries of the view in scene coordinates\"\"\"\u001b[39;00m\n\u001b[1;32m    224\u001b[0m \u001b[38;5;66;03m## easier to just return self.range ?\u001b[39;00m\n\u001b[0;32m--> 225\u001b[0m r \u001b[38;5;241m=\u001b[39m QtCore\u001b[38;5;241m.\u001b[39mQRectF(\u001b[38;5;28;43mself\u001b[39;49m\u001b[38;5;241;43m.\u001b[39;49m\u001b[43mrect\u001b[49m\u001b[43m(\u001b[49m\u001b[43m)\u001b[49m)\n\u001b[1;32m    226\u001b[0m \u001b[38;5;28;01mreturn\u001b[39;00m \u001b[38;5;28mself\u001b[39m\u001b[38;5;241m.\u001b[39mviewportTransform()\u001b[38;5;241m.\u001b[39minverted()[\u001b[38;5;241m0\u001b[39m]\u001b[38;5;241m.\u001b[39mmapRect(r)\n",
      "\u001b[0;31mTypeError\u001b[0m: 'QRectF' object is not callable"
     ]
    },
    {
     "ename": "TypeError",
     "evalue": "'QRectF' object is not callable",
     "output_type": "error",
     "traceback": [
      "\u001b[0;31m---------------------------------------------------------------------------\u001b[0m",
      "\u001b[0;31mTypeError\u001b[0m                                 Traceback (most recent call last)",
      "File \u001b[0;32m~/opt/miniconda3/envs/zhunter_dev/lib/python3.9/site-packages/pyqtgraph/graphicsItems/GraphicsObject.py:36\u001b[0m, in \u001b[0;36mGraphicsObject.itemChange\u001b[0;34m(self, change, value)\u001b[0m\n\u001b[1;32m     34\u001b[0m             \u001b[38;5;28mself\u001b[39m\u001b[38;5;241m.\u001b[39mparentChanged()\n\u001b[1;32m     35\u001b[0m     \u001b[38;5;28;01melse\u001b[39;00m:\n\u001b[0;32m---> 36\u001b[0m         \u001b[38;5;28;43mself\u001b[39;49m\u001b[38;5;241;43m.\u001b[39;49m\u001b[43mchangeParent\u001b[49m\u001b[43m(\u001b[49m\u001b[43m)\u001b[49m\n\u001b[1;32m     37\u001b[0m \u001b[38;5;28;01mtry\u001b[39;00m:\n\u001b[1;32m     38\u001b[0m     inform_view_on_change \u001b[38;5;241m=\u001b[39m \u001b[38;5;28mself\u001b[39m\u001b[38;5;241m.\u001b[39m__inform_view_on_changes\n",
      "File \u001b[0;32m~/opt/miniconda3/envs/zhunter_dev/lib/python3.9/site-packages/pyqtgraph/graphicsItems/GraphicsItem.py:460\u001b[0m, in \u001b[0;36mGraphicsItem.changeParent\u001b[0;34m(self)\u001b[0m\n\u001b[1;32m    455\u001b[0m \u001b[38;5;28;01mdef\u001b[39;00m \u001b[38;5;21mchangeParent\u001b[39m(\u001b[38;5;28mself\u001b[39m):\n\u001b[1;32m    456\u001b[0m \u001b[38;5;250m    \u001b[39m\u001b[38;5;124;03m\"\"\"Called when the item's parent has changed. \u001b[39;00m\n\u001b[1;32m    457\u001b[0m \u001b[38;5;124;03m    This method handles connecting / disconnecting from ViewBox signals\u001b[39;00m\n\u001b[1;32m    458\u001b[0m \u001b[38;5;124;03m    to make sure viewRangeChanged works properly. It should generally be \u001b[39;00m\n\u001b[1;32m    459\u001b[0m \u001b[38;5;124;03m    extended, not overridden.\"\"\"\u001b[39;00m\n\u001b[0;32m--> 460\u001b[0m     \u001b[38;5;28;43mself\u001b[39;49m\u001b[38;5;241;43m.\u001b[39;49m\u001b[43m_updateView\u001b[49m\u001b[43m(\u001b[49m\u001b[43m)\u001b[49m\n",
      "File \u001b[0;32m~/opt/miniconda3/envs/zhunter_dev/lib/python3.9/site-packages/pyqtgraph/graphicsItems/GraphicsItem.py:520\u001b[0m, in \u001b[0;36mGraphicsItem._updateView\u001b[0;34m(self)\u001b[0m\n\u001b[1;32m    518\u001b[0m     \u001b[38;5;28mself\u001b[39m\u001b[38;5;241m.\u001b[39m_connectedView \u001b[38;5;241m=\u001b[39m weakref\u001b[38;5;241m.\u001b[39mref(view)\n\u001b[1;32m    519\u001b[0m     \u001b[38;5;28mself\u001b[39m\u001b[38;5;241m.\u001b[39mviewRangeChanged()\n\u001b[0;32m--> 520\u001b[0m     \u001b[38;5;28;43mself\u001b[39;49m\u001b[38;5;241;43m.\u001b[39;49m\u001b[43mviewTransformChanged\u001b[49m\u001b[43m(\u001b[49m\u001b[43m)\u001b[49m\n\u001b[1;32m    522\u001b[0m \u001b[38;5;66;03m## inform children that their view might have changed\u001b[39;00m\n\u001b[1;32m    523\u001b[0m \u001b[38;5;28mself\u001b[39m\u001b[38;5;241m.\u001b[39m_replaceView(oldView)\n",
      "File \u001b[0;32m~/opt/miniconda3/envs/zhunter_dev/lib/python3.9/site-packages/pyqtgraph/graphicsItems/InfiniteLine.py:609\u001b[0m, in \u001b[0;36mInfLineLabel.viewTransformChanged\u001b[0;34m(self)\u001b[0m\n\u001b[1;32m    607\u001b[0m \u001b[38;5;28;01mdef\u001b[39;00m \u001b[38;5;21mviewTransformChanged\u001b[39m(\u001b[38;5;28mself\u001b[39m):\n\u001b[1;32m    608\u001b[0m     GraphicsItem\u001b[38;5;241m.\u001b[39mviewTransformChanged(\u001b[38;5;28mself\u001b[39m)\n\u001b[0;32m--> 609\u001b[0m     \u001b[38;5;28;43mself\u001b[39;49m\u001b[38;5;241;43m.\u001b[39;49m\u001b[43mupdatePosition\u001b[49m\u001b[43m(\u001b[49m\u001b[43m)\u001b[49m\n\u001b[1;32m    610\u001b[0m     TextItem\u001b[38;5;241m.\u001b[39mviewTransformChanged(\u001b[38;5;28mself\u001b[39m)\n",
      "File \u001b[0;32m~/opt/miniconda3/envs/zhunter_dev/lib/python3.9/site-packages/pyqtgraph/graphicsItems/InfiniteLine.py:546\u001b[0m, in \u001b[0;36mInfLineLabel.updatePosition\u001b[0;34m(self)\u001b[0m\n\u001b[1;32m    543\u001b[0m \u001b[38;5;28mself\u001b[39m\u001b[38;5;241m.\u001b[39msetPos(pt)\n\u001b[1;32m    545\u001b[0m \u001b[38;5;66;03m# update anchor to keep text visible as it nears the view box edge\u001b[39;00m\n\u001b[0;32m--> 546\u001b[0m vr \u001b[38;5;241m=\u001b[39m \u001b[38;5;28;43mself\u001b[39;49m\u001b[38;5;241;43m.\u001b[39;49m\u001b[43mline\u001b[49m\u001b[38;5;241;43m.\u001b[39;49m\u001b[43mviewRect\u001b[49m\u001b[43m(\u001b[49m\u001b[43m)\u001b[49m\n\u001b[1;32m    547\u001b[0m \u001b[38;5;28;01mif\u001b[39;00m vr \u001b[38;5;129;01mis\u001b[39;00m \u001b[38;5;129;01mnot\u001b[39;00m \u001b[38;5;28;01mNone\u001b[39;00m:\n\u001b[1;32m    548\u001b[0m     \u001b[38;5;28mself\u001b[39m\u001b[38;5;241m.\u001b[39msetAnchor(\u001b[38;5;28mself\u001b[39m\u001b[38;5;241m.\u001b[39manchors[\u001b[38;5;241m0\u001b[39m \u001b[38;5;28;01mif\u001b[39;00m vr\u001b[38;5;241m.\u001b[39mcenter()\u001b[38;5;241m.\u001b[39my() \u001b[38;5;241m<\u001b[39m \u001b[38;5;241m0\u001b[39m \u001b[38;5;28;01melse\u001b[39;00m \u001b[38;5;241m1\u001b[39m])\n",
      "File \u001b[0;32m~/opt/miniconda3/envs/zhunter_dev/lib/python3.9/site-packages/pyqtgraph/graphicsItems/GraphicsItem.py:179\u001b[0m, in \u001b[0;36mGraphicsItem.viewRect\u001b[0;34m(self)\u001b[0m\n\u001b[1;32m    177\u001b[0m \u001b[38;5;28;01mif\u001b[39;00m view \u001b[38;5;129;01mis\u001b[39;00m \u001b[38;5;28;01mNone\u001b[39;00m:\n\u001b[1;32m    178\u001b[0m     \u001b[38;5;28;01mreturn\u001b[39;00m \u001b[38;5;28;01mNone\u001b[39;00m\n\u001b[0;32m--> 179\u001b[0m bounds \u001b[38;5;241m=\u001b[39m \u001b[38;5;28mself\u001b[39m\u001b[38;5;241m.\u001b[39mmapRectFromView(\u001b[43mview\u001b[49m\u001b[38;5;241;43m.\u001b[39;49m\u001b[43mviewRect\u001b[49m\u001b[43m(\u001b[49m\u001b[43m)\u001b[49m)\n\u001b[1;32m    180\u001b[0m \u001b[38;5;28;01mif\u001b[39;00m bounds \u001b[38;5;129;01mis\u001b[39;00m \u001b[38;5;28;01mNone\u001b[39;00m:\n\u001b[1;32m    181\u001b[0m     \u001b[38;5;28;01mreturn\u001b[39;00m \u001b[38;5;28;01mNone\u001b[39;00m\n",
      "File \u001b[0;32m~/opt/miniconda3/envs/zhunter_dev/lib/python3.9/site-packages/pyqtgraph/widgets/GraphicsView.py:225\u001b[0m, in \u001b[0;36mGraphicsView.viewRect\u001b[0;34m(self)\u001b[0m\n\u001b[1;32m    223\u001b[0m \u001b[38;5;250m\u001b[39m\u001b[38;5;124;03m\"\"\"Return the boundaries of the view in scene coordinates\"\"\"\u001b[39;00m\n\u001b[1;32m    224\u001b[0m \u001b[38;5;66;03m## easier to just return self.range ?\u001b[39;00m\n\u001b[0;32m--> 225\u001b[0m r \u001b[38;5;241m=\u001b[39m QtCore\u001b[38;5;241m.\u001b[39mQRectF(\u001b[38;5;28;43mself\u001b[39;49m\u001b[38;5;241;43m.\u001b[39;49m\u001b[43mrect\u001b[49m\u001b[43m(\u001b[49m\u001b[43m)\u001b[49m)\n\u001b[1;32m    226\u001b[0m \u001b[38;5;28;01mreturn\u001b[39;00m \u001b[38;5;28mself\u001b[39m\u001b[38;5;241m.\u001b[39mviewportTransform()\u001b[38;5;241m.\u001b[39minverted()[\u001b[38;5;241m0\u001b[39m]\u001b[38;5;241m.\u001b[39mmapRect(r)\n",
      "\u001b[0;31mTypeError\u001b[0m: 'QRectF' object is not callable"
     ]
    },
    {
     "name": "stdout",
     "output_type": "stream",
     "text": [
      "2023-03-21 10:43:39,659 DEBUG [zhunter.spectroscopic_system] Removed abs system at redshift 5.91137 from plot\n",
      "2023-03-21 10:43:39,660 DEBUG [zhunter.spectroscopic_system] Drawing abs system at redshift : 5.91137\n",
      "2023-03-21 10:43:39,696 INFO [zhunter.spectroscopic_system] Updated redshift of abs system to: 5.9114\n"
     ]
    },
    {
     "name": "stderr",
     "output_type": "stream",
     "text": [
      "Traceback (most recent call last):\n",
      "  File \"/Users/palmerio/opt/miniconda3/envs/zhunter_dev/lib/python3.9/site-packages/pyqtgraph/graphicsItems/GraphicsObject.py\", line 36, in itemChange\n",
      "    self.changeParent()\n",
      "  File \"/Users/palmerio/opt/miniconda3/envs/zhunter_dev/lib/python3.9/site-packages/pyqtgraph/graphicsItems/GraphicsItem.py\", line 460, in changeParent\n",
      "    self._updateView()\n",
      "  File \"/Users/palmerio/opt/miniconda3/envs/zhunter_dev/lib/python3.9/site-packages/pyqtgraph/graphicsItems/GraphicsItem.py\", line 520, in _updateView\n",
      "    self.viewTransformChanged()\n",
      "  File \"/Users/palmerio/opt/miniconda3/envs/zhunter_dev/lib/python3.9/site-packages/pyqtgraph/graphicsItems/InfiniteLine.py\", line 609, in viewTransformChanged\n",
      "    self.updatePosition()\n",
      "  File \"/Users/palmerio/opt/miniconda3/envs/zhunter_dev/lib/python3.9/site-packages/pyqtgraph/graphicsItems/InfiniteLine.py\", line 546, in updatePosition\n",
      "    vr = self.line.viewRect()\n",
      "  File \"/Users/palmerio/opt/miniconda3/envs/zhunter_dev/lib/python3.9/site-packages/pyqtgraph/graphicsItems/GraphicsItem.py\", line 179, in viewRect\n",
      "    bounds = self.mapRectFromView(view.viewRect())\n",
      "  File \"/Users/palmerio/opt/miniconda3/envs/zhunter_dev/lib/python3.9/site-packages/pyqtgraph/widgets/GraphicsView.py\", line 225, in viewRect\n",
      "    r = QtCore.QRectF(self.rect())\n",
      "TypeError: 'QRectF' object is not callable\n",
      "Traceback (most recent call last):\n",
      "  File \"/Users/palmerio/opt/miniconda3/envs/zhunter_dev/lib/python3.9/site-packages/pyqtgraph/graphicsItems/GraphicsObject.py\", line 36, in itemChange\n",
      "    self.changeParent()\n",
      "  File \"/Users/palmerio/opt/miniconda3/envs/zhunter_dev/lib/python3.9/site-packages/pyqtgraph/graphicsItems/GraphicsItem.py\", line 460, in changeParent\n",
      "    self._updateView()\n",
      "  File \"/Users/palmerio/opt/miniconda3/envs/zhunter_dev/lib/python3.9/site-packages/pyqtgraph/graphicsItems/GraphicsItem.py\", line 520, in _updateView\n",
      "    self.viewTransformChanged()\n",
      "  File \"/Users/palmerio/opt/miniconda3/envs/zhunter_dev/lib/python3.9/site-packages/pyqtgraph/graphicsItems/InfiniteLine.py\", line 609, in viewTransformChanged\n",
      "    self.updatePosition()\n",
      "  File \"/Users/palmerio/opt/miniconda3/envs/zhunter_dev/lib/python3.9/site-packages/pyqtgraph/graphicsItems/InfiniteLine.py\", line 546, in updatePosition\n",
      "    vr = self.line.viewRect()\n",
      "  File \"/Users/palmerio/opt/miniconda3/envs/zhunter_dev/lib/python3.9/site-packages/pyqtgraph/graphicsItems/GraphicsItem.py\", line 179, in viewRect\n",
      "    bounds = self.mapRectFromView(view.viewRect())\n",
      "  File \"/Users/palmerio/opt/miniconda3/envs/zhunter_dev/lib/python3.9/site-packages/pyqtgraph/widgets/GraphicsView.py\", line 225, in viewRect\n",
      "    r = QtCore.QRectF(self.rect())\n",
      "TypeError: 'QRectF' object is not callable\n",
      "Traceback (most recent call last):\n",
      "  File \"/Users/palmerio/opt/miniconda3/envs/zhunter_dev/lib/python3.9/site-packages/pyqtgraph/graphicsItems/GraphicsObject.py\", line 36, in itemChange\n",
      "    self.changeParent()\n",
      "  File \"/Users/palmerio/opt/miniconda3/envs/zhunter_dev/lib/python3.9/site-packages/pyqtgraph/graphicsItems/GraphicsItem.py\", line 460, in changeParent\n",
      "    self._updateView()\n",
      "  File \"/Users/palmerio/opt/miniconda3/envs/zhunter_dev/lib/python3.9/site-packages/pyqtgraph/graphicsItems/GraphicsItem.py\", line 520, in _updateView\n",
      "    self.viewTransformChanged()\n",
      "  File \"/Users/palmerio/opt/miniconda3/envs/zhunter_dev/lib/python3.9/site-packages/pyqtgraph/graphicsItems/InfiniteLine.py\", line 609, in viewTransformChanged\n",
      "    self.updatePosition()\n",
      "  File \"/Users/palmerio/opt/miniconda3/envs/zhunter_dev/lib/python3.9/site-packages/pyqtgraph/graphicsItems/InfiniteLine.py\", line 546, in updatePosition\n",
      "    vr = self.line.viewRect()\n",
      "  File \"/Users/palmerio/opt/miniconda3/envs/zhunter_dev/lib/python3.9/site-packages/pyqtgraph/graphicsItems/GraphicsItem.py\", line 179, in viewRect\n",
      "    bounds = self.mapRectFromView(view.viewRect())\n",
      "  File \"/Users/palmerio/opt/miniconda3/envs/zhunter_dev/lib/python3.9/site-packages/pyqtgraph/widgets/GraphicsView.py\", line 225, in viewRect\n",
      "    r = QtCore.QRectF(self.rect())\n",
      "TypeError: 'QRectF' object is not callable\n",
      "Traceback (most recent call last):\n",
      "  File \"/Users/palmerio/opt/miniconda3/envs/zhunter_dev/lib/python3.9/site-packages/pyqtgraph/graphicsItems/GraphicsObject.py\", line 36, in itemChange\n",
      "    self.changeParent()\n",
      "  File \"/Users/palmerio/opt/miniconda3/envs/zhunter_dev/lib/python3.9/site-packages/pyqtgraph/graphicsItems/GraphicsItem.py\", line 460, in changeParent\n",
      "    self._updateView()\n",
      "  File \"/Users/palmerio/opt/miniconda3/envs/zhunter_dev/lib/python3.9/site-packages/pyqtgraph/graphicsItems/GraphicsItem.py\", line 520, in _updateView\n",
      "    self.viewTransformChanged()\n",
      "  File \"/Users/palmerio/opt/miniconda3/envs/zhunter_dev/lib/python3.9/site-packages/pyqtgraph/graphicsItems/InfiniteLine.py\", line 609, in viewTransformChanged\n",
      "    self.updatePosition()\n",
      "  File \"/Users/palmerio/opt/miniconda3/envs/zhunter_dev/lib/python3.9/site-packages/pyqtgraph/graphicsItems/InfiniteLine.py\", line 546, in updatePosition\n",
      "    vr = self.line.viewRect()\n",
      "  File \"/Users/palmerio/opt/miniconda3/envs/zhunter_dev/lib/python3.9/site-packages/pyqtgraph/graphicsItems/GraphicsItem.py\", line 179, in viewRect\n",
      "    bounds = self.mapRectFromView(view.viewRect())\n",
      "  File \"/Users/palmerio/opt/miniconda3/envs/zhunter_dev/lib/python3.9/site-packages/pyqtgraph/widgets/GraphicsView.py\", line 225, in viewRect\n",
      "    r = QtCore.QRectF(self.rect())\n",
      "TypeError: 'QRectF' object is not callable\n",
      "Traceback (most recent call last):\n",
      "  File \"/Users/palmerio/opt/miniconda3/envs/zhunter_dev/lib/python3.9/site-packages/pyqtgraph/graphicsItems/GraphicsObject.py\", line 36, in itemChange\n",
      "    self.changeParent()\n",
      "  File \"/Users/palmerio/opt/miniconda3/envs/zhunter_dev/lib/python3.9/site-packages/pyqtgraph/graphicsItems/GraphicsItem.py\", line 460, in changeParent\n",
      "    self._updateView()\n",
      "  File \"/Users/palmerio/opt/miniconda3/envs/zhunter_dev/lib/python3.9/site-packages/pyqtgraph/graphicsItems/GraphicsItem.py\", line 520, in _updateView\n",
      "    self.viewTransformChanged()\n",
      "  File \"/Users/palmerio/opt/miniconda3/envs/zhunter_dev/lib/python3.9/site-packages/pyqtgraph/graphicsItems/InfiniteLine.py\", line 609, in viewTransformChanged\n",
      "    self.updatePosition()\n",
      "  File \"/Users/palmerio/opt/miniconda3/envs/zhunter_dev/lib/python3.9/site-packages/pyqtgraph/graphicsItems/InfiniteLine.py\", line 546, in updatePosition\n",
      "    vr = self.line.viewRect()\n",
      "  File \"/Users/palmerio/opt/miniconda3/envs/zhunter_dev/lib/python3.9/site-packages/pyqtgraph/graphicsItems/GraphicsItem.py\", line 179, in viewRect\n",
      "    bounds = self.mapRectFromView(view.viewRect())\n",
      "  File \"/Users/palmerio/opt/miniconda3/envs/zhunter_dev/lib/python3.9/site-packages/pyqtgraph/widgets/GraphicsView.py\", line 225, in viewRect\n",
      "    r = QtCore.QRectF(self.rect())\n",
      "TypeError: 'QRectF' object is not callable\n",
      "Traceback (most recent call last):\n",
      "  File \"/Users/palmerio/opt/miniconda3/envs/zhunter_dev/lib/python3.9/site-packages/pyqtgraph/graphicsItems/GraphicsObject.py\", line 36, in itemChange\n",
      "    self.changeParent()\n",
      "  File \"/Users/palmerio/opt/miniconda3/envs/zhunter_dev/lib/python3.9/site-packages/pyqtgraph/graphicsItems/GraphicsItem.py\", line 460, in changeParent\n",
      "    self._updateView()\n",
      "  File \"/Users/palmerio/opt/miniconda3/envs/zhunter_dev/lib/python3.9/site-packages/pyqtgraph/graphicsItems/GraphicsItem.py\", line 520, in _updateView\n",
      "    self.viewTransformChanged()\n",
      "  File \"/Users/palmerio/opt/miniconda3/envs/zhunter_dev/lib/python3.9/site-packages/pyqtgraph/graphicsItems/InfiniteLine.py\", line 609, in viewTransformChanged\n",
      "    self.updatePosition()\n",
      "  File \"/Users/palmerio/opt/miniconda3/envs/zhunter_dev/lib/python3.9/site-packages/pyqtgraph/graphicsItems/InfiniteLine.py\", line 546, in updatePosition\n",
      "    vr = self.line.viewRect()\n",
      "  File \"/Users/palmerio/opt/miniconda3/envs/zhunter_dev/lib/python3.9/site-packages/pyqtgraph/graphicsItems/GraphicsItem.py\", line 179, in viewRect\n",
      "    bounds = self.mapRectFromView(view.viewRect())\n",
      "  File \"/Users/palmerio/opt/miniconda3/envs/zhunter_dev/lib/python3.9/site-packages/pyqtgraph/widgets/GraphicsView.py\", line 225, in viewRect\n",
      "    r = QtCore.QRectF(self.rect())\n",
      "TypeError: 'QRectF' object is not callable\n",
      "Traceback (most recent call last):\n",
      "  File \"/Users/palmerio/opt/miniconda3/envs/zhunter_dev/lib/python3.9/site-packages/pyqtgraph/graphicsItems/GraphicsObject.py\", line 36, in itemChange\n",
      "    self.changeParent()\n",
      "  File \"/Users/palmerio/opt/miniconda3/envs/zhunter_dev/lib/python3.9/site-packages/pyqtgraph/graphicsItems/GraphicsItem.py\", line 460, in changeParent\n",
      "    self._updateView()\n",
      "  File \"/Users/palmerio/opt/miniconda3/envs/zhunter_dev/lib/python3.9/site-packages/pyqtgraph/graphicsItems/GraphicsItem.py\", line 520, in _updateView\n",
      "    self.viewTransformChanged()\n",
      "  File \"/Users/palmerio/opt/miniconda3/envs/zhunter_dev/lib/python3.9/site-packages/pyqtgraph/graphicsItems/InfiniteLine.py\", line 609, in viewTransformChanged\n",
      "    self.updatePosition()\n",
      "  File \"/Users/palmerio/opt/miniconda3/envs/zhunter_dev/lib/python3.9/site-packages/pyqtgraph/graphicsItems/InfiniteLine.py\", line 546, in updatePosition\n",
      "    vr = self.line.viewRect()\n",
      "  File \"/Users/palmerio/opt/miniconda3/envs/zhunter_dev/lib/python3.9/site-packages/pyqtgraph/graphicsItems/GraphicsItem.py\", line 179, in viewRect\n",
      "    bounds = self.mapRectFromView(view.viewRect())\n",
      "  File \"/Users/palmerio/opt/miniconda3/envs/zhunter_dev/lib/python3.9/site-packages/pyqtgraph/widgets/GraphicsView.py\", line 225, in viewRect\n",
      "    r = QtCore.QRectF(self.rect())\n",
      "TypeError: 'QRectF' object is not callable\n",
      "Traceback (most recent call last):\n",
      "  File \"/Users/palmerio/opt/miniconda3/envs/zhunter_dev/lib/python3.9/site-packages/pyqtgraph/graphicsItems/GraphicsObject.py\", line 36, in itemChange\n",
      "    self.changeParent()\n",
      "  File \"/Users/palmerio/opt/miniconda3/envs/zhunter_dev/lib/python3.9/site-packages/pyqtgraph/graphicsItems/GraphicsItem.py\", line 460, in changeParent\n",
      "    self._updateView()\n",
      "  File \"/Users/palmerio/opt/miniconda3/envs/zhunter_dev/lib/python3.9/site-packages/pyqtgraph/graphicsItems/GraphicsItem.py\", line 520, in _updateView\n",
      "    self.viewTransformChanged()\n",
      "  File \"/Users/palmerio/opt/miniconda3/envs/zhunter_dev/lib/python3.9/site-packages/pyqtgraph/graphicsItems/InfiniteLine.py\", line 609, in viewTransformChanged\n",
      "    self.updatePosition()\n",
      "  File \"/Users/palmerio/opt/miniconda3/envs/zhunter_dev/lib/python3.9/site-packages/pyqtgraph/graphicsItems/InfiniteLine.py\", line 546, in updatePosition\n",
      "    vr = self.line.viewRect()\n",
      "  File \"/Users/palmerio/opt/miniconda3/envs/zhunter_dev/lib/python3.9/site-packages/pyqtgraph/graphicsItems/GraphicsItem.py\", line 179, in viewRect\n",
      "    bounds = self.mapRectFromView(view.viewRect())\n",
      "  File \"/Users/palmerio/opt/miniconda3/envs/zhunter_dev/lib/python3.9/site-packages/pyqtgraph/widgets/GraphicsView.py\", line 225, in viewRect\n",
      "    r = QtCore.QRectF(self.rect())\n",
      "TypeError: 'QRectF' object is not callable\n",
      "Traceback (most recent call last):\n",
      "  File \"/Users/palmerio/opt/miniconda3/envs/zhunter_dev/lib/python3.9/site-packages/pyqtgraph/graphicsItems/GraphicsObject.py\", line 36, in itemChange\n",
      "    self.changeParent()\n",
      "  File \"/Users/palmerio/opt/miniconda3/envs/zhunter_dev/lib/python3.9/site-packages/pyqtgraph/graphicsItems/GraphicsItem.py\", line 460, in changeParent\n",
      "    self._updateView()\n",
      "  File \"/Users/palmerio/opt/miniconda3/envs/zhunter_dev/lib/python3.9/site-packages/pyqtgraph/graphicsItems/GraphicsItem.py\", line 520, in _updateView\n",
      "    self.viewTransformChanged()\n",
      "  File \"/Users/palmerio/opt/miniconda3/envs/zhunter_dev/lib/python3.9/site-packages/pyqtgraph/graphicsItems/InfiniteLine.py\", line 609, in viewTransformChanged\n",
      "    self.updatePosition()\n",
      "  File \"/Users/palmerio/opt/miniconda3/envs/zhunter_dev/lib/python3.9/site-packages/pyqtgraph/graphicsItems/InfiniteLine.py\", line 546, in updatePosition\n",
      "    vr = self.line.viewRect()\n",
      "  File \"/Users/palmerio/opt/miniconda3/envs/zhunter_dev/lib/python3.9/site-packages/pyqtgraph/graphicsItems/GraphicsItem.py\", line 179, in viewRect\n",
      "    bounds = self.mapRectFromView(view.viewRect())\n",
      "  File \"/Users/palmerio/opt/miniconda3/envs/zhunter_dev/lib/python3.9/site-packages/pyqtgraph/widgets/GraphicsView.py\", line 225, in viewRect\n",
      "    r = QtCore.QRectF(self.rect())\n",
      "TypeError: 'QRectF' object is not callable\n",
      "Traceback (most recent call last):\n",
      "  File \"/Users/palmerio/opt/miniconda3/envs/zhunter_dev/lib/python3.9/site-packages/pyqtgraph/graphicsItems/GraphicsObject.py\", line 36, in itemChange\n",
      "    self.changeParent()\n",
      "  File \"/Users/palmerio/opt/miniconda3/envs/zhunter_dev/lib/python3.9/site-packages/pyqtgraph/graphicsItems/GraphicsItem.py\", line 460, in changeParent\n",
      "    self._updateView()\n",
      "  File \"/Users/palmerio/opt/miniconda3/envs/zhunter_dev/lib/python3.9/site-packages/pyqtgraph/graphicsItems/GraphicsItem.py\", line 520, in _updateView\n",
      "    self.viewTransformChanged()\n",
      "  File \"/Users/palmerio/opt/miniconda3/envs/zhunter_dev/lib/python3.9/site-packages/pyqtgraph/graphicsItems/InfiniteLine.py\", line 609, in viewTransformChanged\n",
      "    self.updatePosition()\n",
      "  File \"/Users/palmerio/opt/miniconda3/envs/zhunter_dev/lib/python3.9/site-packages/pyqtgraph/graphicsItems/InfiniteLine.py\", line 546, in updatePosition\n",
      "    vr = self.line.viewRect()\n",
      "  File \"/Users/palmerio/opt/miniconda3/envs/zhunter_dev/lib/python3.9/site-packages/pyqtgraph/graphicsItems/GraphicsItem.py\", line 179, in viewRect\n",
      "    bounds = self.mapRectFromView(view.viewRect())\n",
      "  File \"/Users/palmerio/opt/miniconda3/envs/zhunter_dev/lib/python3.9/site-packages/pyqtgraph/widgets/GraphicsView.py\", line 225, in viewRect\n",
      "    r = QtCore.QRectF(self.rect())\n",
      "TypeError: 'QRectF' object is not callable\n",
      "Traceback (most recent call last):\n",
      "  File \"/Users/palmerio/opt/miniconda3/envs/zhunter_dev/lib/python3.9/site-packages/pyqtgraph/graphicsItems/GraphicsObject.py\", line 36, in itemChange\n",
      "    self.changeParent()\n",
      "  File \"/Users/palmerio/opt/miniconda3/envs/zhunter_dev/lib/python3.9/site-packages/pyqtgraph/graphicsItems/GraphicsItem.py\", line 460, in changeParent\n",
      "    self._updateView()\n",
      "  File \"/Users/palmerio/opt/miniconda3/envs/zhunter_dev/lib/python3.9/site-packages/pyqtgraph/graphicsItems/GraphicsItem.py\", line 520, in _updateView\n",
      "    self.viewTransformChanged()\n",
      "  File \"/Users/palmerio/opt/miniconda3/envs/zhunter_dev/lib/python3.9/site-packages/pyqtgraph/graphicsItems/InfiniteLine.py\", line 609, in viewTransformChanged\n",
      "    self.updatePosition()\n",
      "  File \"/Users/palmerio/opt/miniconda3/envs/zhunter_dev/lib/python3.9/site-packages/pyqtgraph/graphicsItems/InfiniteLine.py\", line 546, in updatePosition\n",
      "    vr = self.line.viewRect()\n",
      "  File \"/Users/palmerio/opt/miniconda3/envs/zhunter_dev/lib/python3.9/site-packages/pyqtgraph/graphicsItems/GraphicsItem.py\", line 179, in viewRect\n",
      "    bounds = self.mapRectFromView(view.viewRect())\n",
      "  File \"/Users/palmerio/opt/miniconda3/envs/zhunter_dev/lib/python3.9/site-packages/pyqtgraph/widgets/GraphicsView.py\", line 225, in viewRect\n",
      "    r = QtCore.QRectF(self.rect())\n",
      "TypeError: 'QRectF' object is not callable\n",
      "Traceback (most recent call last):\n",
      "  File \"/Users/palmerio/opt/miniconda3/envs/zhunter_dev/lib/python3.9/site-packages/pyqtgraph/graphicsItems/GraphicsObject.py\", line 36, in itemChange\n",
      "    self.changeParent()\n",
      "  File \"/Users/palmerio/opt/miniconda3/envs/zhunter_dev/lib/python3.9/site-packages/pyqtgraph/graphicsItems/GraphicsItem.py\", line 460, in changeParent\n",
      "    self._updateView()\n",
      "  File \"/Users/palmerio/opt/miniconda3/envs/zhunter_dev/lib/python3.9/site-packages/pyqtgraph/graphicsItems/GraphicsItem.py\", line 520, in _updateView\n",
      "    self.viewTransformChanged()\n",
      "  File \"/Users/palmerio/opt/miniconda3/envs/zhunter_dev/lib/python3.9/site-packages/pyqtgraph/graphicsItems/InfiniteLine.py\", line 609, in viewTransformChanged\n",
      "    self.updatePosition()\n",
      "  File \"/Users/palmerio/opt/miniconda3/envs/zhunter_dev/lib/python3.9/site-packages/pyqtgraph/graphicsItems/InfiniteLine.py\", line 546, in updatePosition\n",
      "    vr = self.line.viewRect()\n",
      "  File \"/Users/palmerio/opt/miniconda3/envs/zhunter_dev/lib/python3.9/site-packages/pyqtgraph/graphicsItems/GraphicsItem.py\", line 179, in viewRect\n",
      "    bounds = self.mapRectFromView(view.viewRect())\n",
      "  File \"/Users/palmerio/opt/miniconda3/envs/zhunter_dev/lib/python3.9/site-packages/pyqtgraph/widgets/GraphicsView.py\", line 225, in viewRect\n",
      "    r = QtCore.QRectF(self.rect())\n",
      "TypeError: 'QRectF' object is not callable\n",
      "Traceback (most recent call last):\n",
      "  File \"/Users/palmerio/opt/miniconda3/envs/zhunter_dev/lib/python3.9/site-packages/pyqtgraph/graphicsItems/GraphicsObject.py\", line 36, in itemChange\n",
      "    self.changeParent()\n",
      "  File \"/Users/palmerio/opt/miniconda3/envs/zhunter_dev/lib/python3.9/site-packages/pyqtgraph/graphicsItems/GraphicsItem.py\", line 460, in changeParent\n",
      "    self._updateView()\n",
      "  File \"/Users/palmerio/opt/miniconda3/envs/zhunter_dev/lib/python3.9/site-packages/pyqtgraph/graphicsItems/GraphicsItem.py\", line 520, in _updateView\n",
      "    self.viewTransformChanged()\n",
      "  File \"/Users/palmerio/opt/miniconda3/envs/zhunter_dev/lib/python3.9/site-packages/pyqtgraph/graphicsItems/InfiniteLine.py\", line 609, in viewTransformChanged\n",
      "    self.updatePosition()\n",
      "  File \"/Users/palmerio/opt/miniconda3/envs/zhunter_dev/lib/python3.9/site-packages/pyqtgraph/graphicsItems/InfiniteLine.py\", line 546, in updatePosition\n",
      "    vr = self.line.viewRect()\n",
      "  File \"/Users/palmerio/opt/miniconda3/envs/zhunter_dev/lib/python3.9/site-packages/pyqtgraph/graphicsItems/GraphicsItem.py\", line 179, in viewRect\n",
      "    bounds = self.mapRectFromView(view.viewRect())\n",
      "  File \"/Users/palmerio/opt/miniconda3/envs/zhunter_dev/lib/python3.9/site-packages/pyqtgraph/widgets/GraphicsView.py\", line 225, in viewRect\n",
      "    r = QtCore.QRectF(self.rect())\n",
      "TypeError: 'QRectF' object is not callable\n"
     ]
    },
    {
     "name": "stdout",
     "output_type": "stream",
     "text": [
      "2023-03-21 10:45:06,397 DEBUG [zhunter.MainGraphicsWidget] Key: Control, Mouse position: [4,383]\n",
      "2023-03-21 10:45:06,398 DEBUG [zhunter.MainGraphicsWidget] key press didn't occur in any plot\n"
     ]
    }
   ],
   "source": [
    "# Spectroscopic system\n",
    "specsys = SpecSystem(6.318, PlotItem=win.ax1D, sys_type='abs',\n",
    "                     color='cyan')\n",
    "specsys.draw(xmin=np.min(wvlg), xmax=np.max(wvlg))\n",
    "\n",
    "ssm.specsystems.append((True, specsys))\n",
    "specsys.edited.connect(ssm.layoutChanged.emit)\n",
    "ssm.sort()\n",
    "ssm.layoutChanged.emit()"
   ]
  },
  {
   "cell_type": "code",
   "execution_count": 16,
   "metadata": {},
   "outputs": [
    {
     "name": "stdout",
     "output_type": "stream",
     "text": [
      "2023-03-21 10:46:26,552 DEBUG [zhunter.spectroscopic_system] Received request to delete system at redshift 5.91137\n",
      "2023-03-21 10:46:26,558 DEBUG [zhunter.spectroscopic_system] Removed abs system at redshift 5.91137 from plot\n"
     ]
    }
   ],
   "source": [
    "index = specsysView.selectedIndexes()[0]\n",
    "ssm.delete(index)\n",
    "ssm.sort()"
   ]
  },
  {
   "cell_type": "markdown",
   "metadata": {},
   "source": [
    "## Velocity plot"
   ]
  },
  {
   "cell_type": "code",
   "execution_count": 14,
   "metadata": {},
   "outputs": [],
   "source": [
    "from astropalmerio.spectra.conversions import *\n",
    "from itertools import product"
   ]
  },
  {
   "cell_type": "code",
   "execution_count": 34,
   "metadata": {},
   "outputs": [
    {
     "name": "stderr",
     "output_type": "stream",
     "text": [
      "qt.pointer.dispatch: skipping QEventPoint(id=0 ts=0 pos=0,0 scn=1243.24,694.147 gbl=1243.24,694.147 Released ellipse=(1x1 ∡ 0) vel=0,0 press=-1243.24,-694.147 last=-1243.24,-694.147 Δ 1243.24,694.147) : no target window\n",
      "qt.pointer.dispatch: skipping QEventPoint(id=1 ts=0 pos=0,0 scn=1169.26,711.428 gbl=1169.26,711.428 Released ellipse=(1x1 ∡ 0) vel=0,0 press=-1169.26,-711.428 last=-1169.26,-711.428 Δ 1169.26,711.428) : no target window\n",
      "qt.pointer.dispatch: skipping QEventPoint(id=2 ts=0 pos=0,0 scn=1135.96,771.005 gbl=1135.96,771.005 Released ellipse=(1x1 ∡ 0) vel=0,0 press=-1135.96,-771.005 last=-1135.96,-771.005 Δ 1135.96,771.005) : no target window\n",
      "qt.pointer.dispatch: skipping QEventPoint(id=3 ts=0 pos=0,0 scn=1158.28,708.726 gbl=1158.28,708.726 Released ellipse=(1x1 ∡ 0) vel=0,0 press=-1158.28,-708.726 last=-1158.28,-708.726 Δ 1158.28,708.726) : no target window\n",
      "qt.pointer.dispatch: skipping QEventPoint(id=1 ts=0 pos=0,0 scn=1211.88,233.44 gbl=1211.88,233.44 Released ellipse=(1x1 ∡ 0) vel=0,0 press=-1211.88,-233.44 last=-1211.88,-233.44 Δ 1211.88,233.44) : no target window\n",
      "qt.pointer.dispatch: skipping QEventPoint(id=1 ts=0 pos=0,0 scn=1285.48,251.198 gbl=1285.48,251.198 Released ellipse=(1x1 ∡ 0) vel=0,0 press=-1285.48,-251.198 last=-1285.48,-251.198 Δ 1285.48,251.198) : no target window\n"
     ]
    }
   ],
   "source": [
    "velLayout = pg.GraphicsLayoutWidget(show=True, border=(100,100,100))"
   ]
  },
  {
   "cell_type": "code",
   "execution_count": 53,
   "metadata": {
    "scrolled": true
   },
   "outputs": [],
   "source": [
    "velLayout.clear()"
   ]
  },
  {
   "cell_type": "markdown",
   "metadata": {},
   "source": [
    "### Define lines to plot"
   ]
  },
  {
   "cell_type": "code",
   "execution_count": 29,
   "metadata": {},
   "outputs": [],
   "source": [
    "lines = ascii_read(DIRS[\"DATA\"] / \"lines/basic_line_list.ecsv\")\n",
    "lnames = ['SiII_1260', 'OI_1302', 'SiII_1304']#, 'CII_1334', 'SiIV_1394']\n",
    "z = 6.317\n",
    "waves = np.array([l['wave'] for l in lines if l['name'] in lnames]) * lines['wave'].unit\n",
    "waves_obs = waves.to('nm') * (1+z)"
   ]
  },
  {
   "cell_type": "code",
   "execution_count": 31,
   "metadata": {},
   "outputs": [],
   "source": [
    "from zhunter.CheckBoxListWidget import CheckBoxListWidget\n",
    "# Create checkboxlist widget\n",
    "linelistView = CheckBoxListWidget()\n",
    "linelistView.show()\n",
    "linelistView.addItems(lines['name'])\n"
   ]
  },
  {
   "cell_type": "code",
   "execution_count": 46,
   "metadata": {},
   "outputs": [
    {
     "data": {
      "text/plain": [
       "{'SiII_1304': {'name': 'SiII_1304',\n",
       "  'rest_wave': <Quantity 1302.1685 Angstrom>,\n",
       "  'obs_wave': <Quantity 952.79669145 nm>},\n",
       " 'SiII_1260': {'name': 'SiII_1260',\n",
       "  'rest_wave': <Quantity 1304.3702 Angstrom>,\n",
       "  'obs_wave': <Quantity 954.40767534 nm>}}"
      ]
     },
     "execution_count": 46,
     "metadata": {},
     "output_type": "execute_result"
    }
   ],
   "source": [
    "lnames = []\n",
    "for row in linelistView.getCheckedRows():\n",
    "     lnames.append(linelistView.item(row).text())\n",
    "\n",
    "lines_to_plot = {\n",
    "            n: {\"name\": n, \"rest_wave\": rw, \"obs_wave\": ow}\n",
    "            for n, rw, ow in zip(lnames, waves, waves_obs)\n",
    "        }\n",
    "lines_to_plot\n"
   ]
  },
  {
   "cell_type": "code",
   "execution_count": 54,
   "metadata": {
    "scrolled": true
   },
   "outputs": [
    {
     "data": {
      "text/plain": [
       "<pyqtgraph.graphicsItems.LabelItem.LabelItem at 0x18fbe0ee0>"
      ]
     },
     "execution_count": 54,
     "metadata": {},
     "output_type": "execute_result"
    }
   ],
   "source": [
    "n_l = len(lines_to_plot)\n",
    "if n_l <= 4:\n",
    "    n_cols = 1\n",
    "    n_rows = n_l\n",
    "else:\n",
    "    n_cols = int(n_l/2)\n",
    "    n_rows = int(n_l/2)\n",
    "    if n_l % 2 != 0:\n",
    "        n_rows += 1\n",
    "\n",
    "vel_min = -600 * u.Unit('km/s')\n",
    "vel_max = 600 * u.Unit('km/s')\n",
    "ref_lname = lnames[0]\n",
    "for lines, indexes in zip(lines_to_plot.items(), product(range(1,n_cols+1), range(n_rows))):\n",
    "    i, j = indexes\n",
    "    lname, line = lines\n",
    "    vel = wave_to_vel(wvlg_bins*u.nm, line['obs_wave'])\n",
    "    imin = vel.searchsorted(vel_min)\n",
    "    imax = vel.searchsorted(vel_max)\n",
    "    vel_1D_spec = pg.PlotCurveItem(\n",
    "        vel.value,\n",
    "        flux_1D,\n",
    "        pen=pg.mkPen(color=colors['spec']),\n",
    "        stepMode='center')\n",
    "    line['pi'] = velLayout.addPlot(title=lname.replace('_',' '), name=lname, col=i, row=j)\n",
    "    line['pi'].addItem(vel_1D_spec)\n",
    "    line['pi'].showGrid(x=True, y=True)\n",
    "    line['pi'].hideButtons()\n",
    "    line['pi'].setXLink(ref_lname)\n",
    "    line['pi'].setXRange(-600, 600)\n",
    "    line['pi'].setYRange(np.min(flux_1D[imin:imax]),\n",
    "                         np.max(flux_1D[imin:imax]))\n",
    "    line['pi'].vb.setLimits(\n",
    "            xMin=np.min(vel.value), xMax=np.max(vel.value)\n",
    "        )\n",
    "\n",
    "velLayout.addLabel('Velocity (km/s)', col=1, row=n_rows+1, colspan=n_cols)\n",
    "velLayout.addLabel('Flux', angle=-90, col=0, rowspan=n_rows)\n"
   ]
  },
  {
   "cell_type": "code",
   "execution_count": 52,
   "metadata": {},
   "outputs": [
    {
     "data": {
      "text/plain": [
       "{'targetRange': [[-677.4596669241483, 677.4596669241483],\n",
       "  [-7.016480923970568e-16, 1.4680171089385755e-15]],\n",
       " 'viewRange': [[-677.4596669241483, 677.4596669241483],\n",
       "  [-7.016480923970568e-16, 1.4680171089385755e-15]],\n",
       " 'yInverted': False,\n",
       " 'xInverted': False,\n",
       " 'aspectLocked': False,\n",
       " 'autoRange': [False, True],\n",
       " 'autoPan': [False, False],\n",
       " 'autoVisibleOnly': [False, False],\n",
       " 'linkedViews': ['SiII_1304', None],\n",
       " 'defaultPadding': 0.02,\n",
       " 'mouseEnabled': [True, True],\n",
       " 'mouseMode': 3,\n",
       " 'enableMenu': True,\n",
       " 'wheelScaleFactor': -0.125,\n",
       " 'background': None,\n",
       " 'logMode': [False, False],\n",
       " 'limits': {'xLimits': [-132162.5789975226, 20603.443102673613],\n",
       "  'yLimits': [-1e+307, 1e+307],\n",
       "  'xRange': [None, None],\n",
       "  'yRange': [None, None]}}"
      ]
     },
     "execution_count": 52,
     "metadata": {},
     "output_type": "execute_result"
    }
   ],
   "source": [
    "line['pi'].vb.state"
   ]
  },
  {
   "cell_type": "code",
   "execution_count": 55,
   "metadata": {},
   "outputs": [],
   "source": [
    "linelistView.clear()"
   ]
  },
  {
   "cell_type": "code",
   "execution_count": 3,
   "metadata": {},
   "outputs": [],
   "source": [
    "from astropy.io.ascii import read as ascii_read\n"
   ]
  },
  {
   "cell_type": "code",
   "execution_count": 19,
   "metadata": {
    "scrolled": true
   },
   "outputs": [
    {
     "data": {
      "text/html": [
       "<div><i>Table length=41</i>\n",
       "<table id=\"table6668224400\" class=\"table-striped table-bordered table-condensed\">\n",
       "<thead><tr><th>name</th><th>wave</th></tr></thead>\n",
       "<thead><tr><th>str10</th><th>float64</th></tr></thead>\n",
       "<tr><td>Ly_alpha</td><td>1215.6701</td></tr>\n",
       "<tr><td>Ly_beta</td><td>1025.7223</td></tr>\n",
       "<tr><td>Ly_gamma</td><td>972.5368</td></tr>\n",
       "<tr><td>Ly_delta</td><td>949.7431</td></tr>\n",
       "<tr><td>Ly_limit</td><td>911.7633</td></tr>\n",
       "<tr><td>CII_1334</td><td>1334.5323</td></tr>\n",
       "<tr><td>CII_1335*</td><td>1335.7077</td></tr>\n",
       "<tr><td>CIV_1548</td><td>1548.2049</td></tr>\n",
       "<tr><td>CIV_1550</td><td>1550.77845</td></tr>\n",
       "<tr><td>NV_1239</td><td>1238.821</td></tr>\n",
       "<tr><td>NV_1243</td><td>1242.804</td></tr>\n",
       "<tr><td>OI_1302</td><td>1302.1685</td></tr>\n",
       "<tr><td>OI_1305*</td><td>1304.8576</td></tr>\n",
       "<tr><td>OI_1306**</td><td>1306.0286</td></tr>\n",
       "<tr><td>NaI_5892</td><td>5891.5833</td></tr>\n",
       "<tr><td>NaI_5898</td><td>5897.5581</td></tr>\n",
       "<tr><td>MgI_2026</td><td>2026.4768</td></tr>\n",
       "<tr><td>MgII_2796</td><td>2796.3542699</td></tr>\n",
       "<tr><td>MgII_2804</td><td>2803.5314853</td></tr>\n",
       "<tr><td>...</td><td>...</td></tr>\n",
       "<tr><td>SiII_1527</td><td>1526.70698</td></tr>\n",
       "<tr><td>SiII_1304</td><td>1304.3702</td></tr>\n",
       "<tr><td>SiII_1260</td><td>1260.4221</td></tr>\n",
       "<tr><td>SiII_1309*</td><td>1309.2757</td></tr>\n",
       "<tr><td>SiII_1533*</td><td>1533.4316</td></tr>\n",
       "<tr><td>SiIV_1394</td><td>1393.76018</td></tr>\n",
       "<tr><td>SiIV_1403</td><td>1402.77291</td></tr>\n",
       "<tr><td>CaII_3935</td><td>3934.775</td></tr>\n",
       "<tr><td>CaII_3970</td><td>3969.5901</td></tr>\n",
       "<tr><td>FeII_2600</td><td>2600.1724835</td></tr>\n",
       "<tr><td>FeII_2587</td><td>2586.6495659</td></tr>\n",
       "<tr><td>FeII_2383</td><td>2382.7641781</td></tr>\n",
       "<tr><td>FeII_2374</td><td>2374.4603294</td></tr>\n",
       "<tr><td>FeII_2344</td><td>2344.2129601</td></tr>\n",
       "<tr><td>FeII_1608</td><td>1608.45085</td></tr>\n",
       "<tr><td>FeII_2389*</td><td>2389.35664</td></tr>\n",
       "<tr><td>FeII_2396*</td><td>2396.35462</td></tr>\n",
       "<tr><td>FeII_2411*</td><td>2411.3</td></tr>\n",
       "<tr><td>FeII_2613*</td><td>2612.7</td></tr>\n",
       "</table></div>"
      ],
      "text/plain": [
       "<Table length=41>\n",
       "   name        wave    \n",
       "  str10      float64   \n",
       "---------- ------------\n",
       "  Ly_alpha    1215.6701\n",
       "   Ly_beta    1025.7223\n",
       "  Ly_gamma     972.5368\n",
       "  Ly_delta     949.7431\n",
       "  Ly_limit     911.7633\n",
       "  CII_1334    1334.5323\n",
       " CII_1335*    1335.7077\n",
       "  CIV_1548    1548.2049\n",
       "  CIV_1550   1550.77845\n",
       "   NV_1239     1238.821\n",
       "   NV_1243     1242.804\n",
       "   OI_1302    1302.1685\n",
       "  OI_1305*    1304.8576\n",
       " OI_1306**    1306.0286\n",
       "  NaI_5892    5891.5833\n",
       "  NaI_5898    5897.5581\n",
       "  MgI_2026    2026.4768\n",
       " MgII_2796 2796.3542699\n",
       " MgII_2804 2803.5314853\n",
       "       ...          ...\n",
       " SiII_1527   1526.70698\n",
       " SiII_1304    1304.3702\n",
       " SiII_1260    1260.4221\n",
       "SiII_1309*    1309.2757\n",
       "SiII_1533*    1533.4316\n",
       " SiIV_1394   1393.76018\n",
       " SiIV_1403   1402.77291\n",
       " CaII_3935     3934.775\n",
       " CaII_3970    3969.5901\n",
       " FeII_2600 2600.1724835\n",
       " FeII_2587 2586.6495659\n",
       " FeII_2383 2382.7641781\n",
       " FeII_2374 2374.4603294\n",
       " FeII_2344 2344.2129601\n",
       " FeII_1608   1608.45085\n",
       "FeII_2389*   2389.35664\n",
       "FeII_2396*   2396.35462\n",
       "FeII_2411*       2411.3\n",
       "FeII_2613*       2612.7"
      ]
     },
     "execution_count": 19,
     "metadata": {},
     "output_type": "execute_result"
    }
   ],
   "source": [
    "tab = ascii_read('/Users/palmerio/Code_projects/zHunter/src/zhunter/data/lines/basic_line_list.csv')\n",
    "tab"
   ]
  },
  {
   "cell_type": "code",
   "execution_count": 26,
   "metadata": {},
   "outputs": [],
   "source": [
    "tab['wave'].unit = u.Unit('Angstrom')"
   ]
  },
  {
   "cell_type": "code",
   "execution_count": 27,
   "metadata": {},
   "outputs": [
    {
     "data": {
      "text/latex": [
       "$\\mathrm{\\mathring{A}}$"
      ],
      "text/plain": [
       "Unit(\"Angstrom\")"
      ]
     },
     "execution_count": 27,
     "metadata": {},
     "output_type": "execute_result"
    }
   ],
   "source": [
    "tab['wave'].unit"
   ]
  },
  {
   "cell_type": "code",
   "execution_count": null,
   "metadata": {},
   "outputs": [],
   "source": []
  }
 ],
 "metadata": {
  "kernelspec": {
   "display_name": "Python 3 (ipykernel)",
   "language": "python",
   "name": "python3"
  },
  "language_info": {
   "codemirror_mode": {
    "name": "ipython",
    "version": 3
   },
   "file_extension": ".py",
   "mimetype": "text/x-python",
   "name": "python",
   "nbconvert_exporter": "python",
   "pygments_lexer": "ipython3",
   "version": "3.9.16"
  }
 },
 "nbformat": 4,
 "nbformat_minor": 4
}
