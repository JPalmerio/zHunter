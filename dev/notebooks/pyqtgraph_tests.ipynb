{
 "cells": [
  {
   "cell_type": "code",
   "execution_count": 1,
   "metadata": {},
   "outputs": [],
   "source": [
    "%gui qt6\n",
    "\n",
    "# Qt6 stuff\n",
    "from PyQt6.QtWidgets import QApplication\n",
    "from PyQt6 import QtWidgets\n",
    "from PyQt6 import QtGui\n",
    "from PyQt6 import QtCore\n",
    "from PyQt6.QtCore import pyqtSignal\n",
    "\n",
    "# Plotting stuff\n",
    "import pyqtgraph as pg\n",
    "import matplotlib.pyplot as plt\n",
    "import cmasher as cmr\n",
    "\n",
    "# Science stuff\n",
    "import numpy as np\n",
    "import pandas as pd\n",
    "from spectres import spectres\n",
    "\n",
    "# Astropy stuff\n",
    "from astropy.io import fits\n",
    "from astropy.table import Table\n",
    "import astropy.units as u\n",
    "from astropy.units.quantity import Quantity\n",
    "from astropy.io.ascii import read as ascii_read\n",
    "\n",
    "# zHunter stuff\n",
    "from zhunter import DIRS\n",
    "from zhunter import io\n",
    "from zhunter.misc import set_up_linked_vb\n",
    "from zhunter.colors import get_gradient\n",
    "from zhunter.spectroscopic_system import SpecSystemModel, SpecSystem\n",
    "from zhunter.MainGraphicsWidget import MainGraphicsWidget\n",
    "from zhunter.data_handler import DataHandler\n",
    "from zhunter.spectroscopic_system import Telluric, SkyBackground\n",
    "\n",
    "# General stuff\n",
    "import logging\n",
    "import sys\n",
    "from pathlib import Path\n",
    "from itertools import cycle\n",
    "\n",
    "# astropalmerio stuff\n",
    "import astropalmerio.io as io\n",
    "import astropalmerio.spectra as sp\n",
    "import astropalmerio.galaxies as gal\n",
    "import astropalmerio.mc as mc\n",
    "from astropalmerio.spectra import ergscm2AA\n",
    "from astropalmerio.spectra import EmissionLine\n",
    "from specutils import Spectrum1D"
   ]
  },
  {
   "cell_type": "code",
   "execution_count": 2,
   "metadata": {},
   "outputs": [],
   "source": [
    "log = logging.getLogger(__name__)\n",
    "logging.basicConfig(stream=sys.stdout, level=logging.DEBUG,\n",
    "                    format='%(asctime)s %(levelname)s [%(name)s] %(message)s')\n",
    "logging.getLogger(\"matplotlib\").setLevel(logging.WARNING)\n",
    "logging.getLogger(\"PIL\").setLevel(logging.WARNING)"
   ]
  },
  {
   "cell_type": "code",
   "execution_count": 3,
   "metadata": {},
   "outputs": [],
   "source": [
    "# start qt event loop\n",
    "_instance = QApplication.instance()\n",
    "if not _instance:\n",
    "    _instance = QApplication([])\n",
    "app = _instance"
   ]
  },
  {
   "cell_type": "code",
   "execution_count": 4,
   "metadata": {},
   "outputs": [],
   "source": [
    "## Colors\n",
    "from zhunter.colors import COLORS\n",
    "color_style = 'kraken9'\n",
    "colors = COLORS[color_style]"
   ]
  },
  {
   "cell_type": "code",
   "execution_count": 5,
   "metadata": {},
   "outputs": [],
   "source": [
    "ergscm2AA = u.def_unit(\n",
    "    s=\"ergscm2AA\",\n",
    "    represents=u.Unit(\"erg s^-1 cm^-2 AA^-1\"),\n",
    "    format={\"latex\": r\"\\mathrm{erg\\,s^{-1}\\,cm^{-2}\\,\\mathring{A}^{-1}}\"},\n",
    ")"
   ]
  },
  {
   "cell_type": "markdown",
   "metadata": {},
   "source": [
    "## Generate fake data"
   ]
  },
  {
   "cell_type": "code",
   "execution_count": 6,
   "metadata": {},
   "outputs": [],
   "source": [
    "def generate_fake_2D_spectrum(\n",
    "    SNR=10,\n",
    "    flux_scale=1e-17,\n",
    "    seeing=1,\n",
    "    spec_start=650,\n",
    "    spat_start=-10,\n",
    "    N_spec=1001,\n",
    "    N_spat=101,\n",
    "    spec_pix_scale=0.02,\n",
    "    spat_pix_scale=0.16,\n",
    "    spec_unit='nm',\n",
    "    spat_unit='arcsec',\n",
    "    emission_line=None,\n",
    "    nodding=True,\n",
    "    nod_throw=5,\n",
    "):\n",
    "    \"\"\"\n",
    "    \"\"\"\n",
    "    seeing_px = seeing/spat_pix_scale\n",
    "\n",
    "    # Spectral dimension\n",
    "    spec_end = spec_start + N_spec*spec_pix_scale\n",
    "    spec_mid = np.linspace(spec_start, spec_end, N_spec)\n",
    "\n",
    "    # Spatial dimension\n",
    "    spat_end = spat_start + N_spat*spat_pix_scale\n",
    "    spat_mid = np.linspace(spat_start, spat_end, N_spat)\n",
    "\n",
    "    flux = np.zeros((N_spat, N_spec))\n",
    "\n",
    "    # Center trace\n",
    "    trace_profile = sp.gaussian_fct(spat_mid, mean=np.median(spat_mid), stddev=sp.fwhm_to_sigma(seeing), amplitude=1)\n",
    "    trace = trace_profile.reshape(N_spat,1) * np.ones(flux.shape)\n",
    "\n",
    "    if emission_line:\n",
    "        if isinstance(emission_line, bool):\n",
    "            emission_line = {}\n",
    "\n",
    "        # add an emission line\n",
    "        em_line_1D = sp.gaussian_fct(\n",
    "            spec_mid,\n",
    "            mean=emission_line.get('mean',656.28),\n",
    "            stddev=emission_line.get('stddev',1),\n",
    "            amplitude=emission_line.get('amplitude',3),\n",
    "        )\n",
    "        em_line = np.outer(\n",
    "            trace_profile.reshape(N_spat,1),\n",
    "            em_line_1D.reshape(N_spec,1)\n",
    "        )\n",
    "        trace += em_line\n",
    "\n",
    "    if nodding:\n",
    "        # Negative traces to mimick nodding\n",
    "        neg_trace_profile_u = -sp.gaussian_fct(spat_mid, mean=np.median(spat_mid)+nod_throw, stddev=sp.fwhm_to_sigma(seeing), amplitude=1)\n",
    "        neg_trace_profile_l = -sp.gaussian_fct(spat_mid, mean=np.median(spat_mid)-nod_throw, stddev=sp.fwhm_to_sigma(seeing), amplitude=1)\n",
    "\n",
    "        neg_trace_l = neg_trace_profile_l.reshape(N_spat,1) * np.ones(flux.shape)\n",
    "        neg_trace_u = neg_trace_profile_u.reshape(N_spat,1) * np.ones(flux.shape)\n",
    "\n",
    "        if emission_line:\n",
    "            # add negative emission line\n",
    "            neg_em_line_l = np.outer(\n",
    "                neg_trace_profile_l.reshape(N_spat,1),\n",
    "                em_line_1D.reshape(N_spec,1)\n",
    "                \n",
    "            )\n",
    "            neg_em_line_u = np.outer(\n",
    "                neg_trace_profile_u.reshape(N_spat,1),\n",
    "                em_line_1D.reshape(N_spec,1)\n",
    "            )\n",
    "            neg_trace_l += neg_em_line_l\n",
    "            neg_trace_u += neg_em_line_u\n",
    "\n",
    "    # add noise\n",
    "    flux += np.random.normal(0, 1./SNR, size=flux.shape)\n",
    "    flux += trace + neg_trace_l + neg_trace_u\n",
    "    flux *= flux_scale\n",
    "    unc = flux_scale/SNR * np.ones(flux.shape)\n",
    "\n",
    "    return spec_mid, spat_mid, flux, unc"
   ]
  },
  {
   "cell_type": "code",
   "execution_count": 7,
   "metadata": {},
   "outputs": [],
   "source": [
    "# # The fake data\n",
    "# N_data = 10000\n",
    "# N_spat = 40\n",
    "# wvlg = np.linspace(300, 900, N_data)\n",
    "# spat = np.linspace(-5, 5, N_spat)\n",
    "# flux = np.ones((wvlg.shape[0], spat.shape[0])) * np.exp(-(spat)**2/0.1)\n",
    "# flux += np.random.normal(0, 0.1, size=(wvlg.shape[0], spat.shape[0]))\n",
    "# flux = flux.T\n",
    "# unc = flux*0.1\n",
    "\n",
    "spec_mid, spat_mid, flux, unc = generate_fake_2D_spectrum(\n",
    "    SNR=10,\n",
    "    spec_start=600,\n",
    "#     emission_line={'amplitude':1, 'stddev':0.1},\n",
    "    N_spec=2001,\n",
    "    N_spat=11,\n",
    "    spec_pix_scale=0.2,\n",
    "    spat_pix_scale=1.6,\n",
    ")\n",
    "\n",
    "wvlg = spec_mid\n",
    "spat = spat_mid"
   ]
  },
  {
   "cell_type": "code",
   "execution_count": 8,
   "metadata": {},
   "outputs": [
    {
     "name": "stdout",
     "output_type": "stream",
     "text": [
      "2023-06-16 15:43:57,468 DEBUG [zhunter.misc] Flux and uncertainty need to be rescaled (exponent: -18), rescaling them.\n"
     ]
    }
   ],
   "source": [
    "wvlg_tell = wvlg\n",
    "wvlg_sky_bkg = wvlg\n",
    "tellurics = 1 - np.exp(-(wvlg-600)**2/(30)**2)\n",
    "sky_bkg = np.exp(-(wvlg-800)**2/(10)**2)\n",
    "\n",
    "wvlg *= u.nm\n",
    "spat *= u.arcsec\n",
    "flux *= ergscm2AA\n",
    "unc *= ergscm2AA\n",
    "data = DataHandler()\n",
    "data.load_2D(wvlg, spat, flux, unc)"
   ]
  },
  {
   "cell_type": "markdown",
   "metadata": {},
   "source": [
    "## Or real data"
   ]
  },
  {
   "cell_type": "code",
   "execution_count": 7,
   "metadata": {
    "scrolled": true
   },
   "outputs": [
    {
     "name": "stdout",
     "output_type": "stream",
     "text": [
      "2023-03-21 11:10:47,389 INFO [zhunter.io] Attempting to read file: /Users/palmerio/Code_projects/zHunter/dev/data/test_input_files/XSHOOTER_esoreflex_2D.fits.gz\n",
      "2023-03-21 11:10:48,172 WARNING [astropy] UnitsWarning: 'erg/s/cm2/Angstrom' contains multiple slashes, which is discouraged by the FITS standard\n",
      "2023-03-21 11:10:48,186 DEBUG [zhunter.io] Using the FITS CD matrix.\n",
      "2023-03-21 11:10:48,187 DEBUG [zhunter.io] PIX=1.0 VAL=-10.58000019073486 DELT=0.159999847412109\n",
      "2023-03-21 11:10:48,188 DEBUG [zhunter.io] Using the FITS CD matrix.\n",
      "2023-03-21 11:10:48,189 DEBUG [zhunter.io] PIX=1.0 VAL=533.66 DELT=0.0199999999999818\n",
      "2023-03-21 11:10:48,192 INFO [zhunter.io] Attempting to read file: /Users/palmerio/Code_projects/zHunter/src/zhunter/data/tellurics/sky_transimission_opt_to_nir.ecsv.gz\n",
      "2023-03-21 11:10:48,193 DEBUG [zhunter.io] ECSV file, reading with astropy ascii.read function\n"
     ]
    },
    {
     "name": "stderr",
     "output_type": "stream",
     "text": [
      "WARNING: UnitsWarning: 'erg/s/cm2/Angstrom' contains multiple slashes, which is discouraged by the FITS standard [astropy.units.format.generic]\n"
     ]
    },
    {
     "name": "stdout",
     "output_type": "stream",
     "text": [
      "2023-03-21 11:10:51,068 DEBUG [zhunter.io] Found the following columns: ['awav(um)', 'flux_norm']\n",
      "2023-03-21 11:10:51,068 DEBUG [zhunter.io] Did not find any name matching ['ERR', 'NOISE', 'SIGMA', 'UNC'] in ['awav(um)', 'flux_norm']\n",
      "2023-03-21 11:10:51,069 DEBUG [zhunter.io] No unit could be parsed from column name 'flux_norm'\n",
      "2023-03-21 11:10:51,070 INFO [zhunter.io] No units specified for flux, assuming ADU.\n",
      "2023-03-21 11:10:51,210 WARNING [zhunter.io] No error/uncertainty found in file /Users/palmerio/Code_projects/zHunter/src/zhunter/data/tellurics/sky_transimission_opt_to_nir.ecsv.gz.\n",
      "2023-03-21 11:10:51,212 INFO [zhunter.io] Attempting to read file: /Users/palmerio/Code_projects/zHunter/src/zhunter/data/sky_background/sky_background_norm_opt_to_nir.ecsv.gz\n",
      "2023-03-21 11:10:51,213 DEBUG [zhunter.io] ECSV file, reading with astropy ascii.read function\n",
      "2023-03-21 11:10:51,431 DEBUG [zhunter.io] Found the following columns: ['awav(um)', 'flux_norm']\n",
      "2023-03-21 11:10:51,431 DEBUG [zhunter.io] Did not find any name matching ['ERR', 'NOISE', 'SIGMA', 'UNC'] in ['awav(um)', 'flux_norm']\n",
      "2023-03-21 11:10:51,432 DEBUG [zhunter.io] No unit could be parsed from column name 'flux_norm'\n",
      "2023-03-21 11:10:51,432 INFO [zhunter.io] No units specified for flux, assuming ADU.\n",
      "2023-03-21 11:10:51,439 WARNING [zhunter.io] No error/uncertainty found in file /Users/palmerio/Code_projects/zHunter/src/zhunter/data/sky_background/sky_background_norm_opt_to_nir.ecsv.gz.\n",
      "2023-03-21 11:10:51,451 DEBUG [zhunter.misc] Flux and uncertainty need to be rescaled (exponent: -17), rescaling them.\n"
     ]
    }
   ],
   "source": [
    "fname_2D = Path('/Users/palmerio/Code_projects/zHunter/dev/data/test_input_files/XSHOOTER_esoreflex_2D.fits.gz')\n",
    "fname_telluric = Path('/Users/palmerio/Code_projects/zHunter/src/zhunter/data/tellurics/sky_transimission_opt_to_nir.ecsv.gz')\n",
    "fname_sky_bkg = Path('/Users/palmerio/Code_projects/zHunter/src/zhunter/data/sky_background/sky_background_norm_opt_to_nir.ecsv.gz')\n",
    "\n",
    "wvlg, spat, flux, unc, header = io.read_fits_2D_spectrum(fname_2D)\n",
    "\n",
    "spec_tell = io.read_generic_1D_spectrum(fname_telluric)\n",
    "wvlg_tell = spec_tell.spectral_axis\n",
    "tellurics = spec_tell.flux\n",
    "\n",
    "spec_sky_bkg = io.read_generic_1D_spectrum(fname_sky_bkg)\n",
    "wvlg_sky_bkg = spec_sky_bkg.spectral_axis\n",
    "sky_bkg = spec_sky_bkg.flux\n",
    "\n",
    "data = DataHandler()\n",
    "data.load_2D(wvlg, spat, flux, unc)\n"
   ]
  },
  {
   "cell_type": "markdown",
   "metadata": {},
   "source": [
    "## Create the Widgets that will hold the plots"
   ]
  },
  {
   "cell_type": "code",
   "execution_count": 9,
   "metadata": {},
   "outputs": [],
   "source": [
    "win = MainGraphicsWidget(show=True)"
   ]
  },
  {
   "cell_type": "code",
   "execution_count": 10,
   "metadata": {
    "scrolled": false
   },
   "outputs": [
    {
     "name": "stdout",
     "output_type": "stream",
     "text": [
      "2023-06-16 15:44:04,317 INFO [zhunter.MainGraphicsWidget] Setting up a new plot called '2D' in '2D' mode, with Region Of Interest \n",
      "2023-06-16 15:44:04,681 DEBUG [zhunter.MainGraphicsWidget] Setting up Region Of Interest\n",
      "2023-06-16 15:44:04,690 DEBUG [zhunter.MainGraphicsWidget] Connecting signals and slots for ROI\n"
     ]
    }
   ],
   "source": [
    "win.set_up_plot(mode='2D', colors=colors)\n",
    "win.ci.setBorder((100, 50, 100)) # this is to see where the Items' bounds are"
   ]
  },
  {
   "cell_type": "code",
   "execution_count": 11,
   "metadata": {},
   "outputs": [
    {
     "name": "stdout",
     "output_type": "stream",
     "text": [
      "2023-06-16 15:44:05,283 INFO [zhunter.io] Attempting to read file:\n",
      "/Users/palmerio/Code_projects/zHunter/src/zhunter/data/tellurics/sky_transimission_opt_to_nir.ecsv.gz\n",
      "2023-06-16 15:44:05,284 DEBUG [zhunter.io] ECSV file, reading with astropy ascii.read function\n",
      "2023-06-16 15:44:07,950 DEBUG [zhunter.io] Found the following columns: ['awav(um)', 'flux_norm']\n",
      "2023-06-16 15:44:07,951 DEBUG [zhunter.io] Did not find any name matching ['ERR', 'NOISE', 'SIGMA', 'UNC'] in ['awav(um)', 'flux_norm']\n",
      "2023-06-16 15:44:07,952 DEBUG [zhunter.io] No unit could be parsed from column name 'flux_norm'\n",
      "2023-06-16 15:44:07,952 INFO [zhunter.io] No units specified for flux, assuming ADU.\n",
      "2023-06-16 15:44:07,997 DEBUG [zhunter.io] No error/uncertainty found in file:\n",
      "/Users/palmerio/Code_projects/zHunter/src/zhunter/data/tellurics/sky_transimission_opt_to_nir.ecsv.gz\n",
      "2023-06-16 15:44:07,999 DEBUG [zhunter.spectroscopic_system] Attempting to draw telluric spectrum from 599.89995 nm to 1000.30005 nm\n"
     ]
    }
   ],
   "source": [
    "telluric_1D_spec = Telluric(\n",
    "            vb=win.telluric_vb,\n",
    "            color=colors[\"sky\"],\n",
    "        )\n",
    "telluric_1D_spec.load_spectrum()\n",
    "telluric_1D_spec.draw(\n",
    "            xmin=data[\"wvlg_min\"], xmax=data[\"wvlg_max\"]\n",
    "        )"
   ]
  },
  {
   "cell_type": "markdown",
   "metadata": {},
   "source": [
    "### Add data to visualize"
   ]
  },
  {
   "cell_type": "code",
   "execution_count": 12,
   "metadata": {
    "scrolled": true
   },
   "outputs": [
    {
     "name": "stdout",
     "output_type": "stream",
     "text": [
      "2023-06-16 15:44:12,737 INFO [zhunter.MainGraphicsWidget] Drawing 2D data\n",
      "2023-06-16 15:44:12,758 WARNING [zhunter.MainGraphicsWidget] No extraction width specified, using 1 by default\n",
      "2023-06-16 15:44:12,759 DEBUG [zhunter.spectral_functions] Extracting from -1.700 to -0.700 corresponding to 4 to 5 pixels.\n",
      "2023-06-16 15:44:12,761 DEBUG [zhunter.MainGraphicsWidget] Drawing 1D data\n",
      "2023-06-16 15:44:12,763 INFO [zhunter.MainGraphicsWidget] Extraction 2D spectrum from 599.8999 to 1000.3001 nm and from -1.700 to -0.700 arcsec\n",
      "2023-06-16 15:44:12,764 DEBUG [zhunter.spectral_functions] Extracting from -1.700 to -0.700 corresponding to 4 to 5 pixels.\n",
      "2023-06-16 15:44:12,766 DEBUG [zhunter.MainGraphicsWidget] Drawing 1D data\n"
     ]
    }
   ],
   "source": [
    "win.data = data\n",
    "win.draw_data(data)"
   ]
  },
  {
   "cell_type": "code",
   "execution_count": 16,
   "metadata": {},
   "outputs": [],
   "source": [
    "win.clear_all()"
   ]
  },
  {
   "cell_type": "code",
   "execution_count": 17,
   "metadata": {},
   "outputs": [],
   "source": [
    "data = DataHandler()\n",
    "win.set_data(data)"
   ]
  },
  {
   "cell_type": "code",
   "execution_count": 18,
   "metadata": {},
   "outputs": [
    {
     "name": "stdout",
     "output_type": "stream",
     "text": [
      "2023-05-12 16:42:16,382 INFO [zhunter.MainGraphicsWidget] Setting up a new plot called 'blabla' in '1D' mode, with Region Of Interest \n",
      "2023-05-12 16:42:43,665 DEBUG [zhunter.MainGraphicsWidget] Key: Control, Mouse position: [215,384]\n"
     ]
    }
   ],
   "source": [
    "win.set_up_plot(\n",
    "            mode='1D', colors=colors, name='blabla'\n",
    "        )"
   ]
  },
  {
   "cell_type": "code",
   "execution_count": 19,
   "metadata": {},
   "outputs": [
    {
     "name": "stdout",
     "output_type": "stream",
     "text": [
      "2023-05-12 16:43:44,774 DEBUG [zhunter.data_handler] Loading data from:\n",
      "/Users/palmerio/Code_projects/zHunter/dev/data/test_input_files/FORS_1D.fits\n",
      "2023-05-12 16:43:44,776 DEBUG [zhunter.io] Read 1D spectrum from file:\n",
      "/Users/palmerio/Code_projects/zHunter/dev/data/test_input_files/FORS_1D.fits\n",
      "2023-05-12 16:43:44,777 INFO [zhunter.io] Attempting to read file:\n",
      "/Users/palmerio/Code_projects/zHunter/dev/data/test_input_files/FORS_1D.fits\n",
      "2023-05-12 16:43:44,805 DEBUG [zhunter.io] Using BUNIT: 'erg/cm2/s/A' for flux units\n",
      "2023-05-12 16:43:44,810 WARNING [astropy] UnitsWarning: 'erg/cm2/s/A' contains multiple slashes, which is discouraged by the FITS standard\n",
      "2023-05-12 16:43:44,811 INFO [zhunter.io] No unit found in header for wavelength (axis 1), assuming 'nm'\n",
      "2023-05-12 16:43:44,811 DEBUG [zhunter.io] Using the FITS CD matrix.\n",
      "2023-05-12 16:43:44,812 DEBUG [zhunter.io] PIX=1.0 VAL=2998.5678710938 DELT=3.2480805084422\n",
      "2023-05-12 16:43:44,815 WARNING [zhunter.data_handler] No uncertainty/error spectrum found in:\n",
      "/Users/palmerio/Code_projects/zHunter/dev/data/test_input_files/FORS_1D.fits\n",
      "using 0.\n",
      "2023-05-12 16:43:44,816 DEBUG [zhunter.misc] Flux and uncertainty need to be rescaled (exponent: -15), rescaling them.\n",
      "2023-05-12 16:43:44,818 DEBUG [zhunter.data_handler] Loaded data:\n",
      "2023-05-12 16:43:44,819 DEBUG [zhunter.data_handler] wvlg_med: [2998.56787109 3001.8159516  3005.06403211 ... 9640.89251086 9644.14059137\n",
      " 9647.38867187] nm\n",
      "2023-05-12 16:43:44,820 DEBUG [zhunter.data_handler] wvlg_bins: [2996.94383084 3000.19191135 3003.43999186 ... 9642.51655111 9645.76463162\n",
      " 9649.01271213] nm\n",
      "2023-05-12 16:43:44,821 DEBUG [zhunter.data_handler] flux_1D: [-3.7591429 12.869063  21.834812  ...  0.         0.         0.       ] 1e-15 erg / (A cm2 s)\n",
      "2023-05-12 16:43:44,821 DEBUG [zhunter.data_handler] unc_1D: [0. 0. 0. ... 0. 0. 0.] 1e-15 erg / (A cm2 s)\n",
      "2023-05-12 16:43:44,822 DEBUG [zhunter.data_handler] res_1D: None\n",
      "2023-05-12 16:43:44,823 DEBUG [zhunter.data_handler] resh_1D: None\n",
      "2023-05-12 16:43:44,824 DEBUG [zhunter.data_handler] wvlg_mid_disp: [2998.56787109 3001.8159516  3005.06403211 ... 9640.89251086 9644.14059137\n",
      " 9647.38867187] nm\n",
      "2023-05-12 16:43:44,825 DEBUG [zhunter.data_handler] wvlg_bins_disp: [2996.94383084 3000.19191135 3003.43999186 ... 9642.51655111 9645.76463162\n",
      " 9649.01271213] nm\n",
      "2023-05-12 16:43:44,826 DEBUG [zhunter.data_handler] flux_1D_disp: [-3.7591429 12.869063  21.834812  ...  0.         0.         0.       ] 1e-15 erg / (A cm2 s)\n",
      "2023-05-12 16:43:44,827 DEBUG [zhunter.data_handler] unc_1D_disp: [0. 0. 0. ... 0. 0. 0.] 1e-15 erg / (A cm2 s)\n",
      "2023-05-12 16:43:44,828 DEBUG [zhunter.data_handler] res_1D_disp: None\n",
      "2023-05-12 16:43:44,828 DEBUG [zhunter.data_handler] resh_1D_disp: None\n",
      "2023-05-12 16:43:44,829 DEBUG [zhunter.data_handler] wvlg_min: 2996.943830839579 nm\n",
      "2023-05-12 16:43:44,830 DEBUG [zhunter.data_handler] wvlg_max: 9649.012712129204 nm\n",
      "2023-05-12 16:43:44,830 DEBUG [zhunter.data_handler] wvlg_span: 6652.068881289626 nm\n",
      "2023-05-12 16:43:44,831 DEBUG [zhunter.data_handler] q975_1D: 0.3910949990153319 1e-15 erg / (A cm2 s)\n",
      "2023-05-12 16:43:44,831 DEBUG [zhunter.data_handler] q025_1D: -0.008812009985558684 1e-15 erg / (A cm2 s)\n"
     ]
    },
    {
     "name": "stderr",
     "output_type": "stream",
     "text": [
      "WARNING: UnitsWarning: 'erg/cm2/s/A' contains multiple slashes, which is discouraged by the FITS standard [astropy.units.format.generic]\n"
     ]
    }
   ],
   "source": [
    "data.load(fname='/Users/palmerio/Code_projects/zHunter/dev/data/test_input_files/FORS_1D.fits', mode='1D')"
   ]
  },
  {
   "cell_type": "code",
   "execution_count": 20,
   "metadata": {},
   "outputs": [
    {
     "name": "stdout",
     "output_type": "stream",
     "text": [
      "2023-05-12 16:44:05,350 DEBUG [zhunter.MainGraphicsWidget] Drawing 1D data\n"
     ]
    }
   ],
   "source": [
    "win.draw_data()"
   ]
  },
  {
   "cell_type": "code",
   "execution_count": 21,
   "metadata": {},
   "outputs": [],
   "source": [
    "win.clear_all()"
   ]
  },
  {
   "cell_type": "code",
   "execution_count": 22,
   "metadata": {},
   "outputs": [],
   "source": [
    "data = DataHandler()\n",
    "win.set_data(data)"
   ]
  },
  {
   "cell_type": "code",
   "execution_count": 23,
   "metadata": {},
   "outputs": [
    {
     "name": "stdout",
     "output_type": "stream",
     "text": [
      "2023-05-12 16:44:48,073 INFO [zhunter.MainGraphicsWidget] Setting up a new plot called 'blabla2D' in '2D' mode, with Region Of Interest \n",
      "2023-05-12 16:44:48,169 DEBUG [zhunter.MainGraphicsWidget] Setting up Region Of Interest\n",
      "2023-05-12 16:44:48,180 DEBUG [zhunter.MainGraphicsWidget] Connecting signals and slots for ROI\n",
      "2023-05-12 16:44:51,865 DEBUG [zhunter.MainGraphicsWidget] Key: Control, Mouse position: [91,486]\n",
      "2023-05-12 16:44:51,866 DEBUG [zhunter.MainGraphicsWidget] key press didn't occur in any plot\n"
     ]
    }
   ],
   "source": [
    "win.set_up_plot(\n",
    "            mode='2D', colors=colors, name='blabla2D'\n",
    "        )"
   ]
  },
  {
   "cell_type": "code",
   "execution_count": 24,
   "metadata": {},
   "outputs": [
    {
     "name": "stdout",
     "output_type": "stream",
     "text": [
      "2023-05-12 16:45:09,441 DEBUG [zhunter.data_handler] Loading data from:\n",
      "/Users/palmerio/Code_projects/zHunter/dev/data/test_input_files/2D.fits\n",
      "2023-05-12 16:45:09,442 INFO [zhunter.io] Attempting to read file:\n",
      "/Users/palmerio/Code_projects/zHunter/dev/data/test_input_files/2D.fits\n",
      "2023-05-12 16:45:09,483 WARNING [astropy] UnitsWarning: 'erg/s/cm2/Angstrom' contains multiple slashes, which is discouraged by the FITS standard\n",
      "2023-05-12 16:45:09,508 DEBUG [zhunter.io] Using the FITS CD matrix.\n",
      "2023-05-12 16:45:09,508 DEBUG [zhunter.io] PIX=1.0 VAL=-10.74000019073486 DELT=0.159999847412109\n",
      "2023-05-12 16:45:09,509 DEBUG [zhunter.io] Using the FITS CD matrix.\n",
      "2023-05-12 16:45:09,510 DEBUG [zhunter.io] PIX=1.0 VAL=533.66 DELT=0.0199999999999818\n",
      "2023-05-12 16:45:09,521 DEBUG [zhunter.misc] Flux and uncertainty need to be rescaled (exponent: -17), rescaling them.\n",
      "2023-05-12 16:45:09,581 DEBUG [zhunter.data_handler] Loaded data:\n",
      "2023-05-12 16:45:09,582 DEBUG [zhunter.data_handler] wvlg_med: [ 533.66  533.68  533.7  ... 1019.96 1019.98 1020.  ] nm\n",
      "2023-05-12 16:45:09,582 DEBUG [zhunter.data_handler] wvlg_bins: [ 533.65  533.67  533.69 ... 1019.97 1019.99 1020.01] nm\n",
      "2023-05-12 16:45:09,584 DEBUG [zhunter.data_handler] flux_2D: [[ 2.22741893e+02  2.77794736e+02  2.29676223e+02 ...  6.34234607e-01\n",
      "   6.65348062e-01  7.56159772e-01]\n",
      " [ 1.26564394e+02  1.67310586e+02  1.40497442e+02 ...  1.45813985e-01\n",
      "   1.06024744e-01  1.01036964e-01]\n",
      " [ 7.05203782e+01  5.91002910e+01  7.53541102e+02 ...  7.26380756e-01\n",
      "   9.02165181e-01  6.75993998e-01]\n",
      " ...\n",
      " [ 1.74077888e+01  1.31450639e+02  9.68536123e+00 ... -4.99876743e-01\n",
      "  -2.62662774e-02  5.60438298e-01]\n",
      " [ 2.45068558e+01  4.00969414e+00 -4.56743026e+00 ...  3.74262535e-03\n",
      "   6.78522848e-02  6.99688229e-02]\n",
      " [ 7.33931331e+01  4.66943690e+01  5.42888209e+01 ... -1.17422165e-01\n",
      "   5.44496281e-02  1.04265075e-01]] 1e-17 erg / (Angstrom cm2 s)\n",
      "2023-05-12 16:45:09,585 DEBUG [zhunter.data_handler] unc_2D: [[8.07080690e+02 8.07080690e+02 8.07080690e+02 ... 8.07080690e+02\n",
      "  8.07080690e+02 8.07080690e+02]\n",
      " [8.07080690e+02 8.07080690e+02 8.07080690e+02 ... 8.07080690e+02\n",
      "  8.07080690e+02 8.07080690e+02]\n",
      " [2.14611721e+02 2.14501565e+02 6.06872298e+02 ... 4.49978891e-01\n",
      "  4.83938336e-01 4.62210866e-01]\n",
      " ...\n",
      " [1.32181789e+02 1.50157819e+02 1.25755170e+02 ... 3.59412334e-01\n",
      "  3.93008067e-01 4.64493430e-01]\n",
      " [8.07080690e+02 8.07080690e+02 8.07080690e+02 ... 8.07080690e+02\n",
      "  8.07080690e+02 8.07080690e+02]\n",
      " [8.07080690e+02 8.07080690e+02 8.07080690e+02 ... 8.07080690e+02\n",
      "  8.07080690e+02 8.07080690e+02]] 1e-17 erg / (Angstrom cm2 s)\n",
      "2023-05-12 16:45:09,586 DEBUG [zhunter.data_handler] spat_med: -2.6600078964233553 arcsec\n",
      "2023-05-12 16:45:09,587 DEBUG [zhunter.data_handler] spat_bins: [-10.82000011 -10.66000027 -10.50000042 -10.34000057 -10.18000072\n",
      " -10.02000088  -9.86000103  -9.70000118  -9.54000134  -9.38000149\n",
      "  -9.22000164  -9.06000179  -8.90000195  -8.7400021   -8.58000225\n",
      "  -8.4200024   -8.26000256  -8.10000271  -7.94000286  -7.78000301\n",
      "  -7.62000317  -7.46000332  -7.30000347  -7.14000362  -6.98000378\n",
      "  -6.82000393  -6.66000408  -6.50000423  -6.34000439  -6.18000454\n",
      "  -6.02000469  -5.86000484  -5.700005    -5.54000515  -5.3800053\n",
      "  -5.22000546  -5.06000561  -4.90000576  -4.74000591  -4.58000607\n",
      "  -4.42000622  -4.26000637  -4.10000652  -3.94000668  -3.78000683\n",
      "  -3.62000698  -3.46000713  -3.30000729  -3.14000744  -2.98000759\n",
      "  -2.82000774  -2.6600079   -2.50000805  -2.3400082   -2.18000835\n",
      "  -2.02000851  -1.86000866  -1.70000881  -1.54000896  -1.38000912\n",
      "  -1.22000927  -1.06000942  -0.90000957  -0.74000973  -0.58000988\n",
      "  -0.42001003  -0.26001019  -0.10001034   0.05998951   0.21998936\n",
      "   0.3799892    0.53998905   0.6999889    0.85998875   1.01998859\n",
      "   1.17998844   1.33998829   1.49998814   1.65998798   1.81998783\n",
      "   1.97998768   2.13998753   2.29998737   2.45998722   2.61998707\n",
      "   2.77998692   2.93998676   3.09998661   3.25998646   3.41998631\n",
      "   3.57998615   3.739986     3.89998585   4.05998569   4.21998554\n",
      "   4.37998539   4.53998524   4.69998508   4.85998493   5.01998478\n",
      "   5.17998463   5.33998447   5.49998432] arcsec\n",
      "2023-05-12 16:45:09,588 DEBUG [zhunter.data_handler] wvlg_mid_disp: [ 533.66  533.68  533.7  ... 1019.96 1019.98 1020.  ] nm\n",
      "2023-05-12 16:45:09,590 DEBUG [zhunter.data_handler] wvlg_bins_disp: [ 533.65  533.67  533.69 ... 1019.97 1019.99 1020.01] nm\n",
      "2023-05-12 16:45:09,591 DEBUG [zhunter.data_handler] flux_2D_disp: [[ 2.22741893e+02  2.77794736e+02  2.29676223e+02 ...  6.34234607e-01\n",
      "   6.65348062e-01  7.56159772e-01]\n",
      " [ 1.26564394e+02  1.67310586e+02  1.40497442e+02 ...  1.45813985e-01\n",
      "   1.06024744e-01  1.01036964e-01]\n",
      " [ 7.05203782e+01  5.91002910e+01  7.53541102e+02 ...  7.26380756e-01\n",
      "   9.02165181e-01  6.75993998e-01]\n",
      " ...\n",
      " [ 1.74077888e+01  1.31450639e+02  9.68536123e+00 ... -4.99876743e-01\n",
      "  -2.62662774e-02  5.60438298e-01]\n",
      " [ 2.45068558e+01  4.00969414e+00 -4.56743026e+00 ...  3.74262535e-03\n",
      "   6.78522848e-02  6.99688229e-02]\n",
      " [ 7.33931331e+01  4.66943690e+01  5.42888209e+01 ... -1.17422165e-01\n",
      "   5.44496281e-02  1.04265075e-01]] 1e-17 erg / (Angstrom cm2 s)\n",
      "2023-05-12 16:45:09,592 DEBUG [zhunter.data_handler] unc_2D_disp: [[8.07080690e+02 8.07080690e+02 8.07080690e+02 ... 8.07080690e+02\n",
      "  8.07080690e+02 8.07080690e+02]\n",
      " [8.07080690e+02 8.07080690e+02 8.07080690e+02 ... 8.07080690e+02\n",
      "  8.07080690e+02 8.07080690e+02]\n",
      " [2.14611721e+02 2.14501565e+02 6.06872298e+02 ... 4.49978891e-01\n",
      "  4.83938336e-01 4.62210866e-01]\n",
      " ...\n",
      " [1.32181789e+02 1.50157819e+02 1.25755170e+02 ... 3.59412334e-01\n",
      "  3.93008067e-01 4.64493430e-01]\n",
      " [8.07080690e+02 8.07080690e+02 8.07080690e+02 ... 8.07080690e+02\n",
      "  8.07080690e+02 8.07080690e+02]\n",
      " [8.07080690e+02 8.07080690e+02 8.07080690e+02 ... 8.07080690e+02\n",
      "  8.07080690e+02 8.07080690e+02]] 1e-17 erg / (Angstrom cm2 s)\n",
      "2023-05-12 16:45:09,593 DEBUG [zhunter.data_handler] spat_mid_disp: [-10.74000019 -10.58000034 -10.4200005  -10.26000065 -10.1000008\n",
      "  -9.94000095  -9.78000111  -9.62000126  -9.46000141  -9.30000156\n",
      "  -9.14000172  -8.98000187  -8.82000202  -8.66000217  -8.50000233\n",
      "  -8.34000248  -8.18000263  -8.02000278  -7.86000294  -7.70000309\n",
      "  -7.54000324  -7.3800034   -7.22000355  -7.0600037   -6.90000385\n",
      "  -6.74000401  -6.58000416  -6.42000431  -6.26000446  -6.10000462\n",
      "  -5.94000477  -5.78000492  -5.62000507  -5.46000523  -5.30000538\n",
      "  -5.14000553  -4.98000568  -4.82000584  -4.66000599  -4.50000614\n",
      "  -4.34000629  -4.18000645  -4.0200066   -3.86000675  -3.7000069\n",
      "  -3.54000706  -3.38000721  -3.22000736  -3.06000751  -2.90000767\n",
      "  -2.74000782  -2.58000797  -2.42000813  -2.26000828  -2.10000843\n",
      "  -1.94000858  -1.78000874  -1.62000889  -1.46000904  -1.30000919\n",
      "  -1.14000935  -0.9800095   -0.82000965  -0.6600098   -0.50000996\n",
      "  -0.34001011  -0.18001026  -0.02001041   0.13998943   0.29998928\n",
      "   0.45998913   0.61998898   0.77998882   0.93998867   1.09998852\n",
      "   1.25998837   1.41998821   1.57998806   1.73998791   1.89998775\n",
      "   2.0599876    2.21998745   2.3799873    2.53998714   2.69998699\n",
      "   2.85998684   3.01998669   3.17998653   3.33998638   3.49998623\n",
      "   3.65998608   3.81998592   3.97998577   4.13998562   4.29998547\n",
      "   4.45998531   4.61998516   4.77998501   4.93998486   5.0999847\n",
      "   5.25998455   5.4199844 ] arcsec\n",
      "2023-05-12 16:45:09,595 DEBUG [zhunter.data_handler] spat_bins_disp: [-10.82000011 -10.66000027 -10.50000042 -10.34000057 -10.18000072\n",
      " -10.02000088  -9.86000103  -9.70000118  -9.54000134  -9.38000149\n",
      "  -9.22000164  -9.06000179  -8.90000195  -8.7400021   -8.58000225\n",
      "  -8.4200024   -8.26000256  -8.10000271  -7.94000286  -7.78000301\n",
      "  -7.62000317  -7.46000332  -7.30000347  -7.14000362  -6.98000378\n",
      "  -6.82000393  -6.66000408  -6.50000423  -6.34000439  -6.18000454\n",
      "  -6.02000469  -5.86000484  -5.700005    -5.54000515  -5.3800053\n",
      "  -5.22000546  -5.06000561  -4.90000576  -4.74000591  -4.58000607\n",
      "  -4.42000622  -4.26000637  -4.10000652  -3.94000668  -3.78000683\n",
      "  -3.62000698  -3.46000713  -3.30000729  -3.14000744  -2.98000759\n",
      "  -2.82000774  -2.6600079   -2.50000805  -2.3400082   -2.18000835\n",
      "  -2.02000851  -1.86000866  -1.70000881  -1.54000896  -1.38000912\n",
      "  -1.22000927  -1.06000942  -0.90000957  -0.74000973  -0.58000988\n",
      "  -0.42001003  -0.26001019  -0.10001034   0.05998951   0.21998936\n",
      "   0.3799892    0.53998905   0.6999889    0.85998875   1.01998859\n",
      "   1.17998844   1.33998829   1.49998814   1.65998798   1.81998783\n",
      "   1.97998768   2.13998753   2.29998737   2.45998722   2.61998707\n",
      "   2.77998692   2.93998676   3.09998661   3.25998646   3.41998631\n",
      "   3.57998615   3.739986     3.89998585   4.05998569   4.21998554\n",
      "   4.37998539   4.53998524   4.69998508   4.85998493   5.01998478\n",
      "   5.17998463   5.33998447   5.49998432] arcsec\n"
     ]
    },
    {
     "name": "stdout",
     "output_type": "stream",
     "text": [
      "2023-05-12 16:45:09,596 DEBUG [zhunter.data_handler] wvlg_min: 533.65 nm\n",
      "2023-05-12 16:45:09,596 DEBUG [zhunter.data_handler] wvlg_max: 1020.0099999995574 nm\n",
      "2023-05-12 16:45:09,597 DEBUG [zhunter.data_handler] wvlg_span: 486.35999999955743 nm\n",
      "2023-05-12 16:45:09,598 DEBUG [zhunter.data_handler] q975_2D: 0.2317921091410786 1e-17 erg / (Angstrom cm2 s)\n",
      "2023-05-12 16:45:09,599 DEBUG [zhunter.data_handler] q025_2D: -0.20695408487405964 1e-17 erg / (Angstrom cm2 s)\n",
      "2023-05-12 16:45:09,600 DEBUG [zhunter.data_handler] spat_min: -10.820000114440914 arcsec\n",
      "2023-05-12 16:45:09,601 DEBUG [zhunter.data_handler] spat_max: 5.499984321594203 arcsec\n",
      "2023-05-12 16:45:09,602 DEBUG [zhunter.data_handler] spat_span: 16.319984436035117 arcsec\n"
     ]
    },
    {
     "name": "stderr",
     "output_type": "stream",
     "text": [
      "WARNING: UnitsWarning: 'erg/s/cm2/Angstrom' contains multiple slashes, which is discouraged by the FITS standard [astropy.units.format.generic]\n"
     ]
    }
   ],
   "source": [
    "data.load(fname='/Users/palmerio/Code_projects/zHunter/dev/data/test_input_files/2D.fits', mode='2D')"
   ]
  },
  {
   "cell_type": "code",
   "execution_count": 25,
   "metadata": {},
   "outputs": [
    {
     "name": "stdout",
     "output_type": "stream",
     "text": [
      "2023-05-12 16:45:26,093 INFO [zhunter.MainGraphicsWidget] Drawing 2D data\n",
      "2023-05-12 16:45:26,137 WARNING [zhunter.MainGraphicsWidget] No extraction width specified, using 1 by default\n",
      "2023-05-12 16:45:26,138 DEBUG [zhunter.spectral_functions] Extracting from -3.160 to -2.160 corresponding to 47 to 53 pixels.\n",
      "2023-05-12 16:45:26,142 DEBUG [zhunter.MainGraphicsWidget] Drawing 1D data\n",
      "2023-05-12 16:45:26,144 INFO [zhunter.MainGraphicsWidget] Extraction 2D spectrum from 533.6500 to 1020.0100 nm and from -3.160 to -2.160 arcsec\n",
      "2023-05-12 16:45:26,145 DEBUG [zhunter.spectral_functions] Extracting from -3.160 to -2.160 corresponding to 47 to 53 pixels.\n",
      "2023-05-12 16:45:26,148 DEBUG [zhunter.MainGraphicsWidget] Drawing 1D data\n"
     ]
    }
   ],
   "source": [
    "win.draw_data()"
   ]
  },
  {
   "cell_type": "code",
   "execution_count": 30,
   "metadata": {},
   "outputs": [
    {
     "data": {
      "text/plain": [
       "{'targetRange': [[599.89995, 1000.30005],\n",
       "  [-0.06690972646130025, 1.0669097264613003]],\n",
       " 'viewRange': [[599.89995, 1000.30005],\n",
       "  [-0.06690972646130025, 1.0669097264613003]],\n",
       " 'yInverted': False,\n",
       " 'xInverted': False,\n",
       " 'aspectLocked': False,\n",
       " 'autoRange': [False, True],\n",
       " 'autoPan': [False, False],\n",
       " 'autoVisibleOnly': [False, False],\n",
       " 'linkedViews': ['1D', None],\n",
       " 'defaultPadding': 0.02,\n",
       " 'mouseEnabled': [True, True],\n",
       " 'mouseMode': 3,\n",
       " 'enableMenu': True,\n",
       " 'wheelScaleFactor': -0.125,\n",
       " 'background': None,\n",
       " 'logMode': [False, False],\n",
       " 'limits': {'xLimits': [-1e+307, 1e+307],\n",
       "  'yLimits': [-1e+307, 1e+307],\n",
       "  'xRange': [None, None],\n",
       "  'yRange': [None, None]}}"
      ]
     },
     "execution_count": 30,
     "metadata": {},
     "output_type": "execute_result"
    }
   ],
   "source": [
    "telluric_1D_spec.vb.getState()"
   ]
  },
  {
   "cell_type": "code",
   "execution_count": 31,
   "metadata": {},
   "outputs": [
    {
     "data": {
      "text/plain": [
       "{'targetRange': [[599.89995, 1000.30005],\n",
       "  [-0.06690972646130025, 1.0669097264613003]],\n",
       " 'viewRange': [[599.89995, 1000.30005],\n",
       "  [-0.06690972646130025, 1.0669097264613003]],\n",
       " 'yInverted': False,\n",
       " 'xInverted': False,\n",
       " 'aspectLocked': False,\n",
       " 'autoRange': [False, True],\n",
       " 'autoPan': [False, False],\n",
       " 'autoVisibleOnly': [False, False],\n",
       " 'linkedViews': ['1D', None],\n",
       " 'defaultPadding': 0.02,\n",
       " 'mouseEnabled': [True, True],\n",
       " 'mouseMode': 3,\n",
       " 'enableMenu': True,\n",
       " 'wheelScaleFactor': -0.125,\n",
       " 'background': None,\n",
       " 'logMode': [False, False],\n",
       " 'limits': {'xLimits': [-1e+307, 1e+307],\n",
       "  'yLimits': [-1e+307, 1e+307],\n",
       "  'xRange': [None, None],\n",
       "  'yRange': [None, None]}}"
      ]
     },
     "execution_count": 31,
     "metadata": {},
     "output_type": "execute_result"
    },
    {
     "name": "stdout",
     "output_type": "stream",
     "text": [
      "2023-05-12 16:47:29,612 DEBUG [zhunter.MainGraphicsWidget] Key: Control, Mouse position: [245,390]\n"
     ]
    }
   ],
   "source": [
    "telluric_1D_spec.vb.getState()"
   ]
  },
  {
   "cell_type": "code",
   "execution_count": null,
   "metadata": {},
   "outputs": [],
   "source": []
  },
  {
   "cell_type": "markdown",
   "metadata": {},
   "source": [
    "## Spectroscopic Systems"
   ]
  },
  {
   "cell_type": "code",
   "execution_count": 11,
   "metadata": {},
   "outputs": [],
   "source": [
    "# Abstract Model to hold the list of spectroscopic systens\n",
    "ssm = SpecSystemModel()\n",
    "\n",
    "\n",
    "# QListView widget to view the model\n",
    "specsysView = QtWidgets.QListView()\n",
    "specsysView.setModel(ssm)\n",
    "specsysView.show()"
   ]
  },
  {
   "cell_type": "code",
   "execution_count": 12,
   "metadata": {},
   "outputs": [],
   "source": [
    "self = SpecSystem(6.318, PlotItem=win.ax1D, sys_type='abs',\n",
    "                     color='cyan')\n",
    "xmin=np.min(wvlg)\n",
    "xmax=np.max(wvlg)\n",
    "unit = None\n",
    "\n",
    "if isinstance(xmin, Quantity):\n",
    "    if unit is None:\n",
    "        unit = xmin.unit\n",
    "    else:\n",
    "        xmin = xmin.to(unit)\n",
    "        xmax = xmax.to(unit)\n",
    "else:\n",
    "    if unit is None:\n",
    "        log.warning(\n",
    "            \"No units specified through xmin as Quantity\"\n",
    "            \" or unit argument, using units of the line list.\"\n",
    "        )\n",
    "        unit = self.lines[self.wave_key].unit\n",
    "        xmin = xmin * unit\n",
    "        xmax = xmax * unit\n",
    "    else:\n",
    "        xmin = xmin * unit\n",
    "        xmax = xmax * unit\n",
    "\n",
    "self.plot_unit = unit\n",
    "\n",
    "for w, n in zip(Quantity(self.lines[self.wave_key]), self.lines[\"name\"]):\n",
    "    if (\"*\" in n) and not self.show_fs:\n",
    "        # If this is a fine structure line but show_fs is false, skip\n",
    "        continue\n",
    "    wave_obs = w * (1 + self.redshift)\n",
    "    gt_min = (xmin is None) or (wave_obs >= xmin)\n",
    "    lt_max = (xmax is None) or (wave_obs <= xmax)\n",
    "    # If line observed wavelength is within the data range\n",
    "    if gt_min and lt_max:\n",
    "        if self.sys_type == \"abs\":\n",
    "            line = pg.InfiniteLine(\n",
    "                wave_obs.to(unit).value,\n",
    "                span=(0.0, 0.8),\n",
    "                pen=pg.mkPen(self.color, width=3),\n",
    "                hoverPen=pg.mkPen(self.color, width=6),\n",
    "                name=n,\n",
    "                label=n,\n",
    "                labelOpts={\n",
    "                    \"color\": self.color,\n",
    "                    \"angle\": 45,\n",
    "                    \"position\": 1,\n",
    "                },\n",
    "                movable=True,\n",
    "            )\n",
    "        self.plotted_lines.append(line)\n"
   ]
  },
  {
   "cell_type": "code",
   "execution_count": 20,
   "metadata": {},
   "outputs": [
    {
     "data": {
      "text/plain": [
       "PyQt6.QtCore.QRectF(533.66, -10.58000019073486, 486.33999999955745, 15.999984741210898)"
      ]
     },
     "execution_count": 20,
     "metadata": {},
     "output_type": "execute_result"
    }
   ],
   "source": [
    "win.rect"
   ]
  },
  {
   "cell_type": "code",
   "execution_count": 13,
   "metadata": {
    "scrolled": true
   },
   "outputs": [
    {
     "ename": "TypeError",
     "evalue": "'QRectF' object is not callable",
     "output_type": "error",
     "traceback": [
      "\u001b[0;31m---------------------------------------------------------------------------\u001b[0m",
      "\u001b[0;31mTypeError\u001b[0m                                 Traceback (most recent call last)",
      "File \u001b[0;32m~/opt/miniconda3/envs/zhunter_dev/lib/python3.9/site-packages/pyqtgraph/graphicsItems/GraphicsObject.py:36\u001b[0m, in \u001b[0;36mGraphicsObject.itemChange\u001b[0;34m(self, change, value)\u001b[0m\n\u001b[1;32m     34\u001b[0m             \u001b[38;5;28mself\u001b[39m\u001b[38;5;241m.\u001b[39mparentChanged()\n\u001b[1;32m     35\u001b[0m     \u001b[38;5;28;01melse\u001b[39;00m:\n\u001b[0;32m---> 36\u001b[0m         \u001b[38;5;28;43mself\u001b[39;49m\u001b[38;5;241;43m.\u001b[39;49m\u001b[43mchangeParent\u001b[49m\u001b[43m(\u001b[49m\u001b[43m)\u001b[49m\n\u001b[1;32m     37\u001b[0m \u001b[38;5;28;01mtry\u001b[39;00m:\n\u001b[1;32m     38\u001b[0m     inform_view_on_change \u001b[38;5;241m=\u001b[39m \u001b[38;5;28mself\u001b[39m\u001b[38;5;241m.\u001b[39m__inform_view_on_changes\n",
      "File \u001b[0;32m~/opt/miniconda3/envs/zhunter_dev/lib/python3.9/site-packages/pyqtgraph/graphicsItems/GraphicsItem.py:460\u001b[0m, in \u001b[0;36mGraphicsItem.changeParent\u001b[0;34m(self)\u001b[0m\n\u001b[1;32m    455\u001b[0m \u001b[38;5;28;01mdef\u001b[39;00m \u001b[38;5;21mchangeParent\u001b[39m(\u001b[38;5;28mself\u001b[39m):\n\u001b[1;32m    456\u001b[0m \u001b[38;5;250m    \u001b[39m\u001b[38;5;124;03m\"\"\"Called when the item's parent has changed. \u001b[39;00m\n\u001b[1;32m    457\u001b[0m \u001b[38;5;124;03m    This method handles connecting / disconnecting from ViewBox signals\u001b[39;00m\n\u001b[1;32m    458\u001b[0m \u001b[38;5;124;03m    to make sure viewRangeChanged works properly. It should generally be \u001b[39;00m\n\u001b[1;32m    459\u001b[0m \u001b[38;5;124;03m    extended, not overridden.\"\"\"\u001b[39;00m\n\u001b[0;32m--> 460\u001b[0m     \u001b[38;5;28;43mself\u001b[39;49m\u001b[38;5;241;43m.\u001b[39;49m\u001b[43m_updateView\u001b[49m\u001b[43m(\u001b[49m\u001b[43m)\u001b[49m\n",
      "File \u001b[0;32m~/opt/miniconda3/envs/zhunter_dev/lib/python3.9/site-packages/pyqtgraph/graphicsItems/GraphicsItem.py:520\u001b[0m, in \u001b[0;36mGraphicsItem._updateView\u001b[0;34m(self)\u001b[0m\n\u001b[1;32m    518\u001b[0m     \u001b[38;5;28mself\u001b[39m\u001b[38;5;241m.\u001b[39m_connectedView \u001b[38;5;241m=\u001b[39m weakref\u001b[38;5;241m.\u001b[39mref(view)\n\u001b[1;32m    519\u001b[0m     \u001b[38;5;28mself\u001b[39m\u001b[38;5;241m.\u001b[39mviewRangeChanged()\n\u001b[0;32m--> 520\u001b[0m     \u001b[38;5;28;43mself\u001b[39;49m\u001b[38;5;241;43m.\u001b[39;49m\u001b[43mviewTransformChanged\u001b[49m\u001b[43m(\u001b[49m\u001b[43m)\u001b[49m\n\u001b[1;32m    522\u001b[0m \u001b[38;5;66;03m## inform children that their view might have changed\u001b[39;00m\n\u001b[1;32m    523\u001b[0m \u001b[38;5;28mself\u001b[39m\u001b[38;5;241m.\u001b[39m_replaceView(oldView)\n",
      "File \u001b[0;32m~/opt/miniconda3/envs/zhunter_dev/lib/python3.9/site-packages/pyqtgraph/graphicsItems/InfiniteLine.py:609\u001b[0m, in \u001b[0;36mInfLineLabel.viewTransformChanged\u001b[0;34m(self)\u001b[0m\n\u001b[1;32m    607\u001b[0m \u001b[38;5;28;01mdef\u001b[39;00m \u001b[38;5;21mviewTransformChanged\u001b[39m(\u001b[38;5;28mself\u001b[39m):\n\u001b[1;32m    608\u001b[0m     GraphicsItem\u001b[38;5;241m.\u001b[39mviewTransformChanged(\u001b[38;5;28mself\u001b[39m)\n\u001b[0;32m--> 609\u001b[0m     \u001b[38;5;28;43mself\u001b[39;49m\u001b[38;5;241;43m.\u001b[39;49m\u001b[43mupdatePosition\u001b[49m\u001b[43m(\u001b[49m\u001b[43m)\u001b[49m\n\u001b[1;32m    610\u001b[0m     TextItem\u001b[38;5;241m.\u001b[39mviewTransformChanged(\u001b[38;5;28mself\u001b[39m)\n",
      "File \u001b[0;32m~/opt/miniconda3/envs/zhunter_dev/lib/python3.9/site-packages/pyqtgraph/graphicsItems/InfiniteLine.py:546\u001b[0m, in \u001b[0;36mInfLineLabel.updatePosition\u001b[0;34m(self)\u001b[0m\n\u001b[1;32m    543\u001b[0m \u001b[38;5;28mself\u001b[39m\u001b[38;5;241m.\u001b[39msetPos(pt)\n\u001b[1;32m    545\u001b[0m \u001b[38;5;66;03m# update anchor to keep text visible as it nears the view box edge\u001b[39;00m\n\u001b[0;32m--> 546\u001b[0m vr \u001b[38;5;241m=\u001b[39m \u001b[38;5;28;43mself\u001b[39;49m\u001b[38;5;241;43m.\u001b[39;49m\u001b[43mline\u001b[49m\u001b[38;5;241;43m.\u001b[39;49m\u001b[43mviewRect\u001b[49m\u001b[43m(\u001b[49m\u001b[43m)\u001b[49m\n\u001b[1;32m    547\u001b[0m \u001b[38;5;28;01mif\u001b[39;00m vr \u001b[38;5;129;01mis\u001b[39;00m \u001b[38;5;129;01mnot\u001b[39;00m \u001b[38;5;28;01mNone\u001b[39;00m:\n\u001b[1;32m    548\u001b[0m     \u001b[38;5;28mself\u001b[39m\u001b[38;5;241m.\u001b[39msetAnchor(\u001b[38;5;28mself\u001b[39m\u001b[38;5;241m.\u001b[39manchors[\u001b[38;5;241m0\u001b[39m \u001b[38;5;28;01mif\u001b[39;00m vr\u001b[38;5;241m.\u001b[39mcenter()\u001b[38;5;241m.\u001b[39my() \u001b[38;5;241m<\u001b[39m \u001b[38;5;241m0\u001b[39m \u001b[38;5;28;01melse\u001b[39;00m \u001b[38;5;241m1\u001b[39m])\n",
      "File \u001b[0;32m~/opt/miniconda3/envs/zhunter_dev/lib/python3.9/site-packages/pyqtgraph/graphicsItems/GraphicsItem.py:179\u001b[0m, in \u001b[0;36mGraphicsItem.viewRect\u001b[0;34m(self)\u001b[0m\n\u001b[1;32m    177\u001b[0m \u001b[38;5;28;01mif\u001b[39;00m view \u001b[38;5;129;01mis\u001b[39;00m \u001b[38;5;28;01mNone\u001b[39;00m:\n\u001b[1;32m    178\u001b[0m     \u001b[38;5;28;01mreturn\u001b[39;00m \u001b[38;5;28;01mNone\u001b[39;00m\n\u001b[0;32m--> 179\u001b[0m bounds \u001b[38;5;241m=\u001b[39m \u001b[38;5;28mself\u001b[39m\u001b[38;5;241m.\u001b[39mmapRectFromView(\u001b[43mview\u001b[49m\u001b[38;5;241;43m.\u001b[39;49m\u001b[43mviewRect\u001b[49m\u001b[43m(\u001b[49m\u001b[43m)\u001b[49m)\n\u001b[1;32m    180\u001b[0m \u001b[38;5;28;01mif\u001b[39;00m bounds \u001b[38;5;129;01mis\u001b[39;00m \u001b[38;5;28;01mNone\u001b[39;00m:\n\u001b[1;32m    181\u001b[0m     \u001b[38;5;28;01mreturn\u001b[39;00m \u001b[38;5;28;01mNone\u001b[39;00m\n",
      "File \u001b[0;32m~/opt/miniconda3/envs/zhunter_dev/lib/python3.9/site-packages/pyqtgraph/widgets/GraphicsView.py:225\u001b[0m, in \u001b[0;36mGraphicsView.viewRect\u001b[0;34m(self)\u001b[0m\n\u001b[1;32m    223\u001b[0m \u001b[38;5;250m\u001b[39m\u001b[38;5;124;03m\"\"\"Return the boundaries of the view in scene coordinates\"\"\"\u001b[39;00m\n\u001b[1;32m    224\u001b[0m \u001b[38;5;66;03m## easier to just return self.range ?\u001b[39;00m\n\u001b[0;32m--> 225\u001b[0m r \u001b[38;5;241m=\u001b[39m QtCore\u001b[38;5;241m.\u001b[39mQRectF(\u001b[38;5;28;43mself\u001b[39;49m\u001b[38;5;241;43m.\u001b[39;49m\u001b[43mrect\u001b[49m\u001b[43m(\u001b[49m\u001b[43m)\u001b[49m)\n\u001b[1;32m    226\u001b[0m \u001b[38;5;28;01mreturn\u001b[39;00m \u001b[38;5;28mself\u001b[39m\u001b[38;5;241m.\u001b[39mviewportTransform()\u001b[38;5;241m.\u001b[39minverted()[\u001b[38;5;241m0\u001b[39m]\u001b[38;5;241m.\u001b[39mmapRect(r)\n",
      "\u001b[0;31mTypeError\u001b[0m: 'QRectF' object is not callable"
     ]
    }
   ],
   "source": [
    "self.pi.addItem(self.plotted_lines[0])"
   ]
  },
  {
   "cell_type": "code",
   "execution_count": 24,
   "metadata": {
    "scrolled": true
   },
   "outputs": [
    {
     "ename": "TypeError",
     "evalue": "'QRectF' object is not callable",
     "output_type": "error",
     "traceback": [
      "\u001b[0;31m---------------------------------------------------------------------------\u001b[0m",
      "\u001b[0;31mTypeError\u001b[0m                                 Traceback (most recent call last)",
      "File \u001b[0;32m~/opt/miniconda3/envs/zhunter_dev/lib/python3.9/site-packages/pyqtgraph/graphicsItems/GraphicsObject.py:36\u001b[0m, in \u001b[0;36mGraphicsObject.itemChange\u001b[0;34m(self, change, value)\u001b[0m\n\u001b[1;32m     34\u001b[0m             \u001b[38;5;28mself\u001b[39m\u001b[38;5;241m.\u001b[39mparentChanged()\n\u001b[1;32m     35\u001b[0m     \u001b[38;5;28;01melse\u001b[39;00m:\n\u001b[0;32m---> 36\u001b[0m         \u001b[38;5;28;43mself\u001b[39;49m\u001b[38;5;241;43m.\u001b[39;49m\u001b[43mchangeParent\u001b[49m\u001b[43m(\u001b[49m\u001b[43m)\u001b[49m\n\u001b[1;32m     37\u001b[0m \u001b[38;5;28;01mtry\u001b[39;00m:\n\u001b[1;32m     38\u001b[0m     inform_view_on_change \u001b[38;5;241m=\u001b[39m \u001b[38;5;28mself\u001b[39m\u001b[38;5;241m.\u001b[39m__inform_view_on_changes\n",
      "File \u001b[0;32m~/opt/miniconda3/envs/zhunter_dev/lib/python3.9/site-packages/pyqtgraph/graphicsItems/GraphicsItem.py:460\u001b[0m, in \u001b[0;36mGraphicsItem.changeParent\u001b[0;34m(self)\u001b[0m\n\u001b[1;32m    455\u001b[0m \u001b[38;5;28;01mdef\u001b[39;00m \u001b[38;5;21mchangeParent\u001b[39m(\u001b[38;5;28mself\u001b[39m):\n\u001b[1;32m    456\u001b[0m \u001b[38;5;250m    \u001b[39m\u001b[38;5;124;03m\"\"\"Called when the item's parent has changed. \u001b[39;00m\n\u001b[1;32m    457\u001b[0m \u001b[38;5;124;03m    This method handles connecting / disconnecting from ViewBox signals\u001b[39;00m\n\u001b[1;32m    458\u001b[0m \u001b[38;5;124;03m    to make sure viewRangeChanged works properly. It should generally be \u001b[39;00m\n\u001b[1;32m    459\u001b[0m \u001b[38;5;124;03m    extended, not overridden.\"\"\"\u001b[39;00m\n\u001b[0;32m--> 460\u001b[0m     \u001b[38;5;28;43mself\u001b[39;49m\u001b[38;5;241;43m.\u001b[39;49m\u001b[43m_updateView\u001b[49m\u001b[43m(\u001b[49m\u001b[43m)\u001b[49m\n",
      "File \u001b[0;32m~/opt/miniconda3/envs/zhunter_dev/lib/python3.9/site-packages/pyqtgraph/graphicsItems/GraphicsItem.py:520\u001b[0m, in \u001b[0;36mGraphicsItem._updateView\u001b[0;34m(self)\u001b[0m\n\u001b[1;32m    518\u001b[0m     \u001b[38;5;28mself\u001b[39m\u001b[38;5;241m.\u001b[39m_connectedView \u001b[38;5;241m=\u001b[39m weakref\u001b[38;5;241m.\u001b[39mref(view)\n\u001b[1;32m    519\u001b[0m     \u001b[38;5;28mself\u001b[39m\u001b[38;5;241m.\u001b[39mviewRangeChanged()\n\u001b[0;32m--> 520\u001b[0m     \u001b[38;5;28;43mself\u001b[39;49m\u001b[38;5;241;43m.\u001b[39;49m\u001b[43mviewTransformChanged\u001b[49m\u001b[43m(\u001b[49m\u001b[43m)\u001b[49m\n\u001b[1;32m    522\u001b[0m \u001b[38;5;66;03m## inform children that their view might have changed\u001b[39;00m\n\u001b[1;32m    523\u001b[0m \u001b[38;5;28mself\u001b[39m\u001b[38;5;241m.\u001b[39m_replaceView(oldView)\n",
      "File \u001b[0;32m~/opt/miniconda3/envs/zhunter_dev/lib/python3.9/site-packages/pyqtgraph/graphicsItems/InfiniteLine.py:609\u001b[0m, in \u001b[0;36mInfLineLabel.viewTransformChanged\u001b[0;34m(self)\u001b[0m\n\u001b[1;32m    607\u001b[0m \u001b[38;5;28;01mdef\u001b[39;00m \u001b[38;5;21mviewTransformChanged\u001b[39m(\u001b[38;5;28mself\u001b[39m):\n\u001b[1;32m    608\u001b[0m     GraphicsItem\u001b[38;5;241m.\u001b[39mviewTransformChanged(\u001b[38;5;28mself\u001b[39m)\n\u001b[0;32m--> 609\u001b[0m     \u001b[38;5;28;43mself\u001b[39;49m\u001b[38;5;241;43m.\u001b[39;49m\u001b[43mupdatePosition\u001b[49m\u001b[43m(\u001b[49m\u001b[43m)\u001b[49m\n\u001b[1;32m    610\u001b[0m     TextItem\u001b[38;5;241m.\u001b[39mviewTransformChanged(\u001b[38;5;28mself\u001b[39m)\n",
      "File \u001b[0;32m~/opt/miniconda3/envs/zhunter_dev/lib/python3.9/site-packages/pyqtgraph/graphicsItems/InfiniteLine.py:546\u001b[0m, in \u001b[0;36mInfLineLabel.updatePosition\u001b[0;34m(self)\u001b[0m\n\u001b[1;32m    543\u001b[0m \u001b[38;5;28mself\u001b[39m\u001b[38;5;241m.\u001b[39msetPos(pt)\n\u001b[1;32m    545\u001b[0m \u001b[38;5;66;03m# update anchor to keep text visible as it nears the view box edge\u001b[39;00m\n\u001b[0;32m--> 546\u001b[0m vr \u001b[38;5;241m=\u001b[39m \u001b[38;5;28;43mself\u001b[39;49m\u001b[38;5;241;43m.\u001b[39;49m\u001b[43mline\u001b[49m\u001b[38;5;241;43m.\u001b[39;49m\u001b[43mviewRect\u001b[49m\u001b[43m(\u001b[49m\u001b[43m)\u001b[49m\n\u001b[1;32m    547\u001b[0m \u001b[38;5;28;01mif\u001b[39;00m vr \u001b[38;5;129;01mis\u001b[39;00m \u001b[38;5;129;01mnot\u001b[39;00m \u001b[38;5;28;01mNone\u001b[39;00m:\n\u001b[1;32m    548\u001b[0m     \u001b[38;5;28mself\u001b[39m\u001b[38;5;241m.\u001b[39msetAnchor(\u001b[38;5;28mself\u001b[39m\u001b[38;5;241m.\u001b[39manchors[\u001b[38;5;241m0\u001b[39m \u001b[38;5;28;01mif\u001b[39;00m vr\u001b[38;5;241m.\u001b[39mcenter()\u001b[38;5;241m.\u001b[39my() \u001b[38;5;241m<\u001b[39m \u001b[38;5;241m0\u001b[39m \u001b[38;5;28;01melse\u001b[39;00m \u001b[38;5;241m1\u001b[39m])\n",
      "File \u001b[0;32m~/opt/miniconda3/envs/zhunter_dev/lib/python3.9/site-packages/pyqtgraph/graphicsItems/GraphicsItem.py:179\u001b[0m, in \u001b[0;36mGraphicsItem.viewRect\u001b[0;34m(self)\u001b[0m\n\u001b[1;32m    177\u001b[0m \u001b[38;5;28;01mif\u001b[39;00m view \u001b[38;5;129;01mis\u001b[39;00m \u001b[38;5;28;01mNone\u001b[39;00m:\n\u001b[1;32m    178\u001b[0m     \u001b[38;5;28;01mreturn\u001b[39;00m \u001b[38;5;28;01mNone\u001b[39;00m\n\u001b[0;32m--> 179\u001b[0m bounds \u001b[38;5;241m=\u001b[39m \u001b[38;5;28mself\u001b[39m\u001b[38;5;241m.\u001b[39mmapRectFromView(\u001b[43mview\u001b[49m\u001b[38;5;241;43m.\u001b[39;49m\u001b[43mviewRect\u001b[49m\u001b[43m(\u001b[49m\u001b[43m)\u001b[49m)\n\u001b[1;32m    180\u001b[0m \u001b[38;5;28;01mif\u001b[39;00m bounds \u001b[38;5;129;01mis\u001b[39;00m \u001b[38;5;28;01mNone\u001b[39;00m:\n\u001b[1;32m    181\u001b[0m     \u001b[38;5;28;01mreturn\u001b[39;00m \u001b[38;5;28;01mNone\u001b[39;00m\n",
      "File \u001b[0;32m~/opt/miniconda3/envs/zhunter_dev/lib/python3.9/site-packages/pyqtgraph/widgets/GraphicsView.py:225\u001b[0m, in \u001b[0;36mGraphicsView.viewRect\u001b[0;34m(self)\u001b[0m\n\u001b[1;32m    223\u001b[0m \u001b[38;5;250m\u001b[39m\u001b[38;5;124;03m\"\"\"Return the boundaries of the view in scene coordinates\"\"\"\u001b[39;00m\n\u001b[1;32m    224\u001b[0m \u001b[38;5;66;03m## easier to just return self.range ?\u001b[39;00m\n\u001b[0;32m--> 225\u001b[0m r \u001b[38;5;241m=\u001b[39m QtCore\u001b[38;5;241m.\u001b[39mQRectF(\u001b[38;5;28;43mself\u001b[39;49m\u001b[38;5;241;43m.\u001b[39;49m\u001b[43mrect\u001b[49m\u001b[43m(\u001b[49m\u001b[43m)\u001b[49m)\n\u001b[1;32m    226\u001b[0m \u001b[38;5;28;01mreturn\u001b[39;00m \u001b[38;5;28mself\u001b[39m\u001b[38;5;241m.\u001b[39mviewportTransform()\u001b[38;5;241m.\u001b[39minverted()[\u001b[38;5;241m0\u001b[39m]\u001b[38;5;241m.\u001b[39mmapRect(r)\n",
      "\u001b[0;31mTypeError\u001b[0m: 'QRectF' object is not callable"
     ]
    }
   ],
   "source": [
    "self.pi.vb.addItem(self.plotted_lines[1])"
   ]
  },
  {
   "cell_type": "code",
   "execution_count": 43,
   "metadata": {},
   "outputs": [],
   "source": [
    "self.pi.vb."
   ]
  },
  {
   "cell_type": "code",
   "execution_count": 37,
   "metadata": {},
   "outputs": [],
   "source": [
    "self.pi.removeItem(xx)"
   ]
  },
  {
   "cell_type": "code",
   "execution_count": 38,
   "metadata": {},
   "outputs": [],
   "source": [
    "xx = pg.InfiniteLine(\n",
    "    600,\n",
    "                span=(0.0, 0.8),\n",
    "                pen=pg.mkPen(self.color, width=3),\n",
    "                hoverPen=pg.mkPen(self.color, width=6),\n",
    "#                 name='test_line',\n",
    "                label='test_line',\n",
    "#                 labelOpts={\n",
    "#                     \"color\": self.color,\n",
    "#                     \"angle\": 45,\n",
    "#                     \"position\": 1,\n",
    "#                 },\n",
    "                movable=True,\n",
    "            )\n",
    "self.pi.addItem(xx)"
   ]
  },
  {
   "cell_type": "code",
   "execution_count": 14,
   "metadata": {},
   "outputs": [
    {
     "name": "stdout",
     "output_type": "stream",
     "text": [
      "2023-03-21 10:41:04,240 DEBUG [zhunter.spectroscopic_system] Drawing abs system at redshift : 6.31800\n"
     ]
    },
    {
     "ename": "TypeError",
     "evalue": "'QRectF' object is not callable",
     "output_type": "error",
     "traceback": [
      "\u001b[0;31m---------------------------------------------------------------------------\u001b[0m",
      "\u001b[0;31mTypeError\u001b[0m                                 Traceback (most recent call last)",
      "File \u001b[0;32m~/opt/miniconda3/envs/zhunter_dev/lib/python3.9/site-packages/pyqtgraph/graphicsItems/GraphicsObject.py:36\u001b[0m, in \u001b[0;36mGraphicsObject.itemChange\u001b[0;34m(self, change, value)\u001b[0m\n\u001b[1;32m     34\u001b[0m             \u001b[38;5;28mself\u001b[39m\u001b[38;5;241m.\u001b[39mparentChanged()\n\u001b[1;32m     35\u001b[0m     \u001b[38;5;28;01melse\u001b[39;00m:\n\u001b[0;32m---> 36\u001b[0m         \u001b[38;5;28;43mself\u001b[39;49m\u001b[38;5;241;43m.\u001b[39;49m\u001b[43mchangeParent\u001b[49m\u001b[43m(\u001b[49m\u001b[43m)\u001b[49m\n\u001b[1;32m     37\u001b[0m \u001b[38;5;28;01mtry\u001b[39;00m:\n\u001b[1;32m     38\u001b[0m     inform_view_on_change \u001b[38;5;241m=\u001b[39m \u001b[38;5;28mself\u001b[39m\u001b[38;5;241m.\u001b[39m__inform_view_on_changes\n",
      "File \u001b[0;32m~/opt/miniconda3/envs/zhunter_dev/lib/python3.9/site-packages/pyqtgraph/graphicsItems/GraphicsItem.py:460\u001b[0m, in \u001b[0;36mGraphicsItem.changeParent\u001b[0;34m(self)\u001b[0m\n\u001b[1;32m    455\u001b[0m \u001b[38;5;28;01mdef\u001b[39;00m \u001b[38;5;21mchangeParent\u001b[39m(\u001b[38;5;28mself\u001b[39m):\n\u001b[1;32m    456\u001b[0m \u001b[38;5;250m    \u001b[39m\u001b[38;5;124;03m\"\"\"Called when the item's parent has changed. \u001b[39;00m\n\u001b[1;32m    457\u001b[0m \u001b[38;5;124;03m    This method handles connecting / disconnecting from ViewBox signals\u001b[39;00m\n\u001b[1;32m    458\u001b[0m \u001b[38;5;124;03m    to make sure viewRangeChanged works properly. It should generally be \u001b[39;00m\n\u001b[1;32m    459\u001b[0m \u001b[38;5;124;03m    extended, not overridden.\"\"\"\u001b[39;00m\n\u001b[0;32m--> 460\u001b[0m     \u001b[38;5;28;43mself\u001b[39;49m\u001b[38;5;241;43m.\u001b[39;49m\u001b[43m_updateView\u001b[49m\u001b[43m(\u001b[49m\u001b[43m)\u001b[49m\n",
      "File \u001b[0;32m~/opt/miniconda3/envs/zhunter_dev/lib/python3.9/site-packages/pyqtgraph/graphicsItems/GraphicsItem.py:520\u001b[0m, in \u001b[0;36mGraphicsItem._updateView\u001b[0;34m(self)\u001b[0m\n\u001b[1;32m    518\u001b[0m     \u001b[38;5;28mself\u001b[39m\u001b[38;5;241m.\u001b[39m_connectedView \u001b[38;5;241m=\u001b[39m weakref\u001b[38;5;241m.\u001b[39mref(view)\n\u001b[1;32m    519\u001b[0m     \u001b[38;5;28mself\u001b[39m\u001b[38;5;241m.\u001b[39mviewRangeChanged()\n\u001b[0;32m--> 520\u001b[0m     \u001b[38;5;28;43mself\u001b[39;49m\u001b[38;5;241;43m.\u001b[39;49m\u001b[43mviewTransformChanged\u001b[49m\u001b[43m(\u001b[49m\u001b[43m)\u001b[49m\n\u001b[1;32m    522\u001b[0m \u001b[38;5;66;03m## inform children that their view might have changed\u001b[39;00m\n\u001b[1;32m    523\u001b[0m \u001b[38;5;28mself\u001b[39m\u001b[38;5;241m.\u001b[39m_replaceView(oldView)\n",
      "File \u001b[0;32m~/opt/miniconda3/envs/zhunter_dev/lib/python3.9/site-packages/pyqtgraph/graphicsItems/InfiniteLine.py:609\u001b[0m, in \u001b[0;36mInfLineLabel.viewTransformChanged\u001b[0;34m(self)\u001b[0m\n\u001b[1;32m    607\u001b[0m \u001b[38;5;28;01mdef\u001b[39;00m \u001b[38;5;21mviewTransformChanged\u001b[39m(\u001b[38;5;28mself\u001b[39m):\n\u001b[1;32m    608\u001b[0m     GraphicsItem\u001b[38;5;241m.\u001b[39mviewTransformChanged(\u001b[38;5;28mself\u001b[39m)\n\u001b[0;32m--> 609\u001b[0m     \u001b[38;5;28;43mself\u001b[39;49m\u001b[38;5;241;43m.\u001b[39;49m\u001b[43mupdatePosition\u001b[49m\u001b[43m(\u001b[49m\u001b[43m)\u001b[49m\n\u001b[1;32m    610\u001b[0m     TextItem\u001b[38;5;241m.\u001b[39mviewTransformChanged(\u001b[38;5;28mself\u001b[39m)\n",
      "File \u001b[0;32m~/opt/miniconda3/envs/zhunter_dev/lib/python3.9/site-packages/pyqtgraph/graphicsItems/InfiniteLine.py:546\u001b[0m, in \u001b[0;36mInfLineLabel.updatePosition\u001b[0;34m(self)\u001b[0m\n\u001b[1;32m    543\u001b[0m \u001b[38;5;28mself\u001b[39m\u001b[38;5;241m.\u001b[39msetPos(pt)\n\u001b[1;32m    545\u001b[0m \u001b[38;5;66;03m# update anchor to keep text visible as it nears the view box edge\u001b[39;00m\n\u001b[0;32m--> 546\u001b[0m vr \u001b[38;5;241m=\u001b[39m \u001b[38;5;28;43mself\u001b[39;49m\u001b[38;5;241;43m.\u001b[39;49m\u001b[43mline\u001b[49m\u001b[38;5;241;43m.\u001b[39;49m\u001b[43mviewRect\u001b[49m\u001b[43m(\u001b[49m\u001b[43m)\u001b[49m\n\u001b[1;32m    547\u001b[0m \u001b[38;5;28;01mif\u001b[39;00m vr \u001b[38;5;129;01mis\u001b[39;00m \u001b[38;5;129;01mnot\u001b[39;00m \u001b[38;5;28;01mNone\u001b[39;00m:\n\u001b[1;32m    548\u001b[0m     \u001b[38;5;28mself\u001b[39m\u001b[38;5;241m.\u001b[39msetAnchor(\u001b[38;5;28mself\u001b[39m\u001b[38;5;241m.\u001b[39manchors[\u001b[38;5;241m0\u001b[39m \u001b[38;5;28;01mif\u001b[39;00m vr\u001b[38;5;241m.\u001b[39mcenter()\u001b[38;5;241m.\u001b[39my() \u001b[38;5;241m<\u001b[39m \u001b[38;5;241m0\u001b[39m \u001b[38;5;28;01melse\u001b[39;00m \u001b[38;5;241m1\u001b[39m])\n",
      "File \u001b[0;32m~/opt/miniconda3/envs/zhunter_dev/lib/python3.9/site-packages/pyqtgraph/graphicsItems/GraphicsItem.py:179\u001b[0m, in \u001b[0;36mGraphicsItem.viewRect\u001b[0;34m(self)\u001b[0m\n\u001b[1;32m    177\u001b[0m \u001b[38;5;28;01mif\u001b[39;00m view \u001b[38;5;129;01mis\u001b[39;00m \u001b[38;5;28;01mNone\u001b[39;00m:\n\u001b[1;32m    178\u001b[0m     \u001b[38;5;28;01mreturn\u001b[39;00m \u001b[38;5;28;01mNone\u001b[39;00m\n\u001b[0;32m--> 179\u001b[0m bounds \u001b[38;5;241m=\u001b[39m \u001b[38;5;28mself\u001b[39m\u001b[38;5;241m.\u001b[39mmapRectFromView(\u001b[43mview\u001b[49m\u001b[38;5;241;43m.\u001b[39;49m\u001b[43mviewRect\u001b[49m\u001b[43m(\u001b[49m\u001b[43m)\u001b[49m)\n\u001b[1;32m    180\u001b[0m \u001b[38;5;28;01mif\u001b[39;00m bounds \u001b[38;5;129;01mis\u001b[39;00m \u001b[38;5;28;01mNone\u001b[39;00m:\n\u001b[1;32m    181\u001b[0m     \u001b[38;5;28;01mreturn\u001b[39;00m \u001b[38;5;28;01mNone\u001b[39;00m\n",
      "File \u001b[0;32m~/opt/miniconda3/envs/zhunter_dev/lib/python3.9/site-packages/pyqtgraph/widgets/GraphicsView.py:225\u001b[0m, in \u001b[0;36mGraphicsView.viewRect\u001b[0;34m(self)\u001b[0m\n\u001b[1;32m    223\u001b[0m \u001b[38;5;250m\u001b[39m\u001b[38;5;124;03m\"\"\"Return the boundaries of the view in scene coordinates\"\"\"\u001b[39;00m\n\u001b[1;32m    224\u001b[0m \u001b[38;5;66;03m## easier to just return self.range ?\u001b[39;00m\n\u001b[0;32m--> 225\u001b[0m r \u001b[38;5;241m=\u001b[39m QtCore\u001b[38;5;241m.\u001b[39mQRectF(\u001b[38;5;28;43mself\u001b[39;49m\u001b[38;5;241;43m.\u001b[39;49m\u001b[43mrect\u001b[49m\u001b[43m(\u001b[49m\u001b[43m)\u001b[49m)\n\u001b[1;32m    226\u001b[0m \u001b[38;5;28;01mreturn\u001b[39;00m \u001b[38;5;28mself\u001b[39m\u001b[38;5;241m.\u001b[39mviewportTransform()\u001b[38;5;241m.\u001b[39minverted()[\u001b[38;5;241m0\u001b[39m]\u001b[38;5;241m.\u001b[39mmapRect(r)\n",
      "\u001b[0;31mTypeError\u001b[0m: 'QRectF' object is not callable"
     ]
    },
    {
     "ename": "TypeError",
     "evalue": "'QRectF' object is not callable",
     "output_type": "error",
     "traceback": [
      "\u001b[0;31m---------------------------------------------------------------------------\u001b[0m",
      "\u001b[0;31mTypeError\u001b[0m                                 Traceback (most recent call last)",
      "File \u001b[0;32m~/opt/miniconda3/envs/zhunter_dev/lib/python3.9/site-packages/pyqtgraph/graphicsItems/GraphicsObject.py:36\u001b[0m, in \u001b[0;36mGraphicsObject.itemChange\u001b[0;34m(self, change, value)\u001b[0m\n\u001b[1;32m     34\u001b[0m             \u001b[38;5;28mself\u001b[39m\u001b[38;5;241m.\u001b[39mparentChanged()\n\u001b[1;32m     35\u001b[0m     \u001b[38;5;28;01melse\u001b[39;00m:\n\u001b[0;32m---> 36\u001b[0m         \u001b[38;5;28;43mself\u001b[39;49m\u001b[38;5;241;43m.\u001b[39;49m\u001b[43mchangeParent\u001b[49m\u001b[43m(\u001b[49m\u001b[43m)\u001b[49m\n\u001b[1;32m     37\u001b[0m \u001b[38;5;28;01mtry\u001b[39;00m:\n\u001b[1;32m     38\u001b[0m     inform_view_on_change \u001b[38;5;241m=\u001b[39m \u001b[38;5;28mself\u001b[39m\u001b[38;5;241m.\u001b[39m__inform_view_on_changes\n",
      "File \u001b[0;32m~/opt/miniconda3/envs/zhunter_dev/lib/python3.9/site-packages/pyqtgraph/graphicsItems/GraphicsItem.py:460\u001b[0m, in \u001b[0;36mGraphicsItem.changeParent\u001b[0;34m(self)\u001b[0m\n\u001b[1;32m    455\u001b[0m \u001b[38;5;28;01mdef\u001b[39;00m \u001b[38;5;21mchangeParent\u001b[39m(\u001b[38;5;28mself\u001b[39m):\n\u001b[1;32m    456\u001b[0m \u001b[38;5;250m    \u001b[39m\u001b[38;5;124;03m\"\"\"Called when the item's parent has changed. \u001b[39;00m\n\u001b[1;32m    457\u001b[0m \u001b[38;5;124;03m    This method handles connecting / disconnecting from ViewBox signals\u001b[39;00m\n\u001b[1;32m    458\u001b[0m \u001b[38;5;124;03m    to make sure viewRangeChanged works properly. It should generally be \u001b[39;00m\n\u001b[1;32m    459\u001b[0m \u001b[38;5;124;03m    extended, not overridden.\"\"\"\u001b[39;00m\n\u001b[0;32m--> 460\u001b[0m     \u001b[38;5;28;43mself\u001b[39;49m\u001b[38;5;241;43m.\u001b[39;49m\u001b[43m_updateView\u001b[49m\u001b[43m(\u001b[49m\u001b[43m)\u001b[49m\n",
      "File \u001b[0;32m~/opt/miniconda3/envs/zhunter_dev/lib/python3.9/site-packages/pyqtgraph/graphicsItems/GraphicsItem.py:520\u001b[0m, in \u001b[0;36mGraphicsItem._updateView\u001b[0;34m(self)\u001b[0m\n\u001b[1;32m    518\u001b[0m     \u001b[38;5;28mself\u001b[39m\u001b[38;5;241m.\u001b[39m_connectedView \u001b[38;5;241m=\u001b[39m weakref\u001b[38;5;241m.\u001b[39mref(view)\n\u001b[1;32m    519\u001b[0m     \u001b[38;5;28mself\u001b[39m\u001b[38;5;241m.\u001b[39mviewRangeChanged()\n\u001b[0;32m--> 520\u001b[0m     \u001b[38;5;28;43mself\u001b[39;49m\u001b[38;5;241;43m.\u001b[39;49m\u001b[43mviewTransformChanged\u001b[49m\u001b[43m(\u001b[49m\u001b[43m)\u001b[49m\n\u001b[1;32m    522\u001b[0m \u001b[38;5;66;03m## inform children that their view might have changed\u001b[39;00m\n\u001b[1;32m    523\u001b[0m \u001b[38;5;28mself\u001b[39m\u001b[38;5;241m.\u001b[39m_replaceView(oldView)\n",
      "File \u001b[0;32m~/opt/miniconda3/envs/zhunter_dev/lib/python3.9/site-packages/pyqtgraph/graphicsItems/InfiniteLine.py:609\u001b[0m, in \u001b[0;36mInfLineLabel.viewTransformChanged\u001b[0;34m(self)\u001b[0m\n\u001b[1;32m    607\u001b[0m \u001b[38;5;28;01mdef\u001b[39;00m \u001b[38;5;21mviewTransformChanged\u001b[39m(\u001b[38;5;28mself\u001b[39m):\n\u001b[1;32m    608\u001b[0m     GraphicsItem\u001b[38;5;241m.\u001b[39mviewTransformChanged(\u001b[38;5;28mself\u001b[39m)\n\u001b[0;32m--> 609\u001b[0m     \u001b[38;5;28;43mself\u001b[39;49m\u001b[38;5;241;43m.\u001b[39;49m\u001b[43mupdatePosition\u001b[49m\u001b[43m(\u001b[49m\u001b[43m)\u001b[49m\n\u001b[1;32m    610\u001b[0m     TextItem\u001b[38;5;241m.\u001b[39mviewTransformChanged(\u001b[38;5;28mself\u001b[39m)\n",
      "File \u001b[0;32m~/opt/miniconda3/envs/zhunter_dev/lib/python3.9/site-packages/pyqtgraph/graphicsItems/InfiniteLine.py:546\u001b[0m, in \u001b[0;36mInfLineLabel.updatePosition\u001b[0;34m(self)\u001b[0m\n\u001b[1;32m    543\u001b[0m \u001b[38;5;28mself\u001b[39m\u001b[38;5;241m.\u001b[39msetPos(pt)\n\u001b[1;32m    545\u001b[0m \u001b[38;5;66;03m# update anchor to keep text visible as it nears the view box edge\u001b[39;00m\n\u001b[0;32m--> 546\u001b[0m vr \u001b[38;5;241m=\u001b[39m \u001b[38;5;28;43mself\u001b[39;49m\u001b[38;5;241;43m.\u001b[39;49m\u001b[43mline\u001b[49m\u001b[38;5;241;43m.\u001b[39;49m\u001b[43mviewRect\u001b[49m\u001b[43m(\u001b[49m\u001b[43m)\u001b[49m\n\u001b[1;32m    547\u001b[0m \u001b[38;5;28;01mif\u001b[39;00m vr \u001b[38;5;129;01mis\u001b[39;00m \u001b[38;5;129;01mnot\u001b[39;00m \u001b[38;5;28;01mNone\u001b[39;00m:\n\u001b[1;32m    548\u001b[0m     \u001b[38;5;28mself\u001b[39m\u001b[38;5;241m.\u001b[39msetAnchor(\u001b[38;5;28mself\u001b[39m\u001b[38;5;241m.\u001b[39manchors[\u001b[38;5;241m0\u001b[39m \u001b[38;5;28;01mif\u001b[39;00m vr\u001b[38;5;241m.\u001b[39mcenter()\u001b[38;5;241m.\u001b[39my() \u001b[38;5;241m<\u001b[39m \u001b[38;5;241m0\u001b[39m \u001b[38;5;28;01melse\u001b[39;00m \u001b[38;5;241m1\u001b[39m])\n",
      "File \u001b[0;32m~/opt/miniconda3/envs/zhunter_dev/lib/python3.9/site-packages/pyqtgraph/graphicsItems/GraphicsItem.py:179\u001b[0m, in \u001b[0;36mGraphicsItem.viewRect\u001b[0;34m(self)\u001b[0m\n\u001b[1;32m    177\u001b[0m \u001b[38;5;28;01mif\u001b[39;00m view \u001b[38;5;129;01mis\u001b[39;00m \u001b[38;5;28;01mNone\u001b[39;00m:\n\u001b[1;32m    178\u001b[0m     \u001b[38;5;28;01mreturn\u001b[39;00m \u001b[38;5;28;01mNone\u001b[39;00m\n\u001b[0;32m--> 179\u001b[0m bounds \u001b[38;5;241m=\u001b[39m \u001b[38;5;28mself\u001b[39m\u001b[38;5;241m.\u001b[39mmapRectFromView(\u001b[43mview\u001b[49m\u001b[38;5;241;43m.\u001b[39;49m\u001b[43mviewRect\u001b[49m\u001b[43m(\u001b[49m\u001b[43m)\u001b[49m)\n\u001b[1;32m    180\u001b[0m \u001b[38;5;28;01mif\u001b[39;00m bounds \u001b[38;5;129;01mis\u001b[39;00m \u001b[38;5;28;01mNone\u001b[39;00m:\n\u001b[1;32m    181\u001b[0m     \u001b[38;5;28;01mreturn\u001b[39;00m \u001b[38;5;28;01mNone\u001b[39;00m\n",
      "File \u001b[0;32m~/opt/miniconda3/envs/zhunter_dev/lib/python3.9/site-packages/pyqtgraph/widgets/GraphicsView.py:225\u001b[0m, in \u001b[0;36mGraphicsView.viewRect\u001b[0;34m(self)\u001b[0m\n\u001b[1;32m    223\u001b[0m \u001b[38;5;250m\u001b[39m\u001b[38;5;124;03m\"\"\"Return the boundaries of the view in scene coordinates\"\"\"\u001b[39;00m\n\u001b[1;32m    224\u001b[0m \u001b[38;5;66;03m## easier to just return self.range ?\u001b[39;00m\n\u001b[0;32m--> 225\u001b[0m r \u001b[38;5;241m=\u001b[39m QtCore\u001b[38;5;241m.\u001b[39mQRectF(\u001b[38;5;28;43mself\u001b[39;49m\u001b[38;5;241;43m.\u001b[39;49m\u001b[43mrect\u001b[49m\u001b[43m(\u001b[49m\u001b[43m)\u001b[49m)\n\u001b[1;32m    226\u001b[0m \u001b[38;5;28;01mreturn\u001b[39;00m \u001b[38;5;28mself\u001b[39m\u001b[38;5;241m.\u001b[39mviewportTransform()\u001b[38;5;241m.\u001b[39minverted()[\u001b[38;5;241m0\u001b[39m]\u001b[38;5;241m.\u001b[39mmapRect(r)\n",
      "\u001b[0;31mTypeError\u001b[0m: 'QRectF' object is not callable"
     ]
    },
    {
     "ename": "TypeError",
     "evalue": "'QRectF' object is not callable",
     "output_type": "error",
     "traceback": [
      "\u001b[0;31m---------------------------------------------------------------------------\u001b[0m",
      "\u001b[0;31mTypeError\u001b[0m                                 Traceback (most recent call last)",
      "File \u001b[0;32m~/opt/miniconda3/envs/zhunter_dev/lib/python3.9/site-packages/pyqtgraph/graphicsItems/GraphicsObject.py:36\u001b[0m, in \u001b[0;36mGraphicsObject.itemChange\u001b[0;34m(self, change, value)\u001b[0m\n\u001b[1;32m     34\u001b[0m             \u001b[38;5;28mself\u001b[39m\u001b[38;5;241m.\u001b[39mparentChanged()\n\u001b[1;32m     35\u001b[0m     \u001b[38;5;28;01melse\u001b[39;00m:\n\u001b[0;32m---> 36\u001b[0m         \u001b[38;5;28;43mself\u001b[39;49m\u001b[38;5;241;43m.\u001b[39;49m\u001b[43mchangeParent\u001b[49m\u001b[43m(\u001b[49m\u001b[43m)\u001b[49m\n\u001b[1;32m     37\u001b[0m \u001b[38;5;28;01mtry\u001b[39;00m:\n\u001b[1;32m     38\u001b[0m     inform_view_on_change \u001b[38;5;241m=\u001b[39m \u001b[38;5;28mself\u001b[39m\u001b[38;5;241m.\u001b[39m__inform_view_on_changes\n",
      "File \u001b[0;32m~/opt/miniconda3/envs/zhunter_dev/lib/python3.9/site-packages/pyqtgraph/graphicsItems/GraphicsItem.py:460\u001b[0m, in \u001b[0;36mGraphicsItem.changeParent\u001b[0;34m(self)\u001b[0m\n\u001b[1;32m    455\u001b[0m \u001b[38;5;28;01mdef\u001b[39;00m \u001b[38;5;21mchangeParent\u001b[39m(\u001b[38;5;28mself\u001b[39m):\n\u001b[1;32m    456\u001b[0m \u001b[38;5;250m    \u001b[39m\u001b[38;5;124;03m\"\"\"Called when the item's parent has changed. \u001b[39;00m\n\u001b[1;32m    457\u001b[0m \u001b[38;5;124;03m    This method handles connecting / disconnecting from ViewBox signals\u001b[39;00m\n\u001b[1;32m    458\u001b[0m \u001b[38;5;124;03m    to make sure viewRangeChanged works properly. It should generally be \u001b[39;00m\n\u001b[1;32m    459\u001b[0m \u001b[38;5;124;03m    extended, not overridden.\"\"\"\u001b[39;00m\n\u001b[0;32m--> 460\u001b[0m     \u001b[38;5;28;43mself\u001b[39;49m\u001b[38;5;241;43m.\u001b[39;49m\u001b[43m_updateView\u001b[49m\u001b[43m(\u001b[49m\u001b[43m)\u001b[49m\n",
      "File \u001b[0;32m~/opt/miniconda3/envs/zhunter_dev/lib/python3.9/site-packages/pyqtgraph/graphicsItems/GraphicsItem.py:520\u001b[0m, in \u001b[0;36mGraphicsItem._updateView\u001b[0;34m(self)\u001b[0m\n\u001b[1;32m    518\u001b[0m     \u001b[38;5;28mself\u001b[39m\u001b[38;5;241m.\u001b[39m_connectedView \u001b[38;5;241m=\u001b[39m weakref\u001b[38;5;241m.\u001b[39mref(view)\n\u001b[1;32m    519\u001b[0m     \u001b[38;5;28mself\u001b[39m\u001b[38;5;241m.\u001b[39mviewRangeChanged()\n\u001b[0;32m--> 520\u001b[0m     \u001b[38;5;28;43mself\u001b[39;49m\u001b[38;5;241;43m.\u001b[39;49m\u001b[43mviewTransformChanged\u001b[49m\u001b[43m(\u001b[49m\u001b[43m)\u001b[49m\n\u001b[1;32m    522\u001b[0m \u001b[38;5;66;03m## inform children that their view might have changed\u001b[39;00m\n\u001b[1;32m    523\u001b[0m \u001b[38;5;28mself\u001b[39m\u001b[38;5;241m.\u001b[39m_replaceView(oldView)\n",
      "File \u001b[0;32m~/opt/miniconda3/envs/zhunter_dev/lib/python3.9/site-packages/pyqtgraph/graphicsItems/InfiniteLine.py:609\u001b[0m, in \u001b[0;36mInfLineLabel.viewTransformChanged\u001b[0;34m(self)\u001b[0m\n\u001b[1;32m    607\u001b[0m \u001b[38;5;28;01mdef\u001b[39;00m \u001b[38;5;21mviewTransformChanged\u001b[39m(\u001b[38;5;28mself\u001b[39m):\n\u001b[1;32m    608\u001b[0m     GraphicsItem\u001b[38;5;241m.\u001b[39mviewTransformChanged(\u001b[38;5;28mself\u001b[39m)\n\u001b[0;32m--> 609\u001b[0m     \u001b[38;5;28;43mself\u001b[39;49m\u001b[38;5;241;43m.\u001b[39;49m\u001b[43mupdatePosition\u001b[49m\u001b[43m(\u001b[49m\u001b[43m)\u001b[49m\n\u001b[1;32m    610\u001b[0m     TextItem\u001b[38;5;241m.\u001b[39mviewTransformChanged(\u001b[38;5;28mself\u001b[39m)\n",
      "File \u001b[0;32m~/opt/miniconda3/envs/zhunter_dev/lib/python3.9/site-packages/pyqtgraph/graphicsItems/InfiniteLine.py:546\u001b[0m, in \u001b[0;36mInfLineLabel.updatePosition\u001b[0;34m(self)\u001b[0m\n\u001b[1;32m    543\u001b[0m \u001b[38;5;28mself\u001b[39m\u001b[38;5;241m.\u001b[39msetPos(pt)\n\u001b[1;32m    545\u001b[0m \u001b[38;5;66;03m# update anchor to keep text visible as it nears the view box edge\u001b[39;00m\n\u001b[0;32m--> 546\u001b[0m vr \u001b[38;5;241m=\u001b[39m \u001b[38;5;28;43mself\u001b[39;49m\u001b[38;5;241;43m.\u001b[39;49m\u001b[43mline\u001b[49m\u001b[38;5;241;43m.\u001b[39;49m\u001b[43mviewRect\u001b[49m\u001b[43m(\u001b[49m\u001b[43m)\u001b[49m\n\u001b[1;32m    547\u001b[0m \u001b[38;5;28;01mif\u001b[39;00m vr \u001b[38;5;129;01mis\u001b[39;00m \u001b[38;5;129;01mnot\u001b[39;00m \u001b[38;5;28;01mNone\u001b[39;00m:\n\u001b[1;32m    548\u001b[0m     \u001b[38;5;28mself\u001b[39m\u001b[38;5;241m.\u001b[39msetAnchor(\u001b[38;5;28mself\u001b[39m\u001b[38;5;241m.\u001b[39manchors[\u001b[38;5;241m0\u001b[39m \u001b[38;5;28;01mif\u001b[39;00m vr\u001b[38;5;241m.\u001b[39mcenter()\u001b[38;5;241m.\u001b[39my() \u001b[38;5;241m<\u001b[39m \u001b[38;5;241m0\u001b[39m \u001b[38;5;28;01melse\u001b[39;00m \u001b[38;5;241m1\u001b[39m])\n",
      "File \u001b[0;32m~/opt/miniconda3/envs/zhunter_dev/lib/python3.9/site-packages/pyqtgraph/graphicsItems/GraphicsItem.py:179\u001b[0m, in \u001b[0;36mGraphicsItem.viewRect\u001b[0;34m(self)\u001b[0m\n\u001b[1;32m    177\u001b[0m \u001b[38;5;28;01mif\u001b[39;00m view \u001b[38;5;129;01mis\u001b[39;00m \u001b[38;5;28;01mNone\u001b[39;00m:\n\u001b[1;32m    178\u001b[0m     \u001b[38;5;28;01mreturn\u001b[39;00m \u001b[38;5;28;01mNone\u001b[39;00m\n\u001b[0;32m--> 179\u001b[0m bounds \u001b[38;5;241m=\u001b[39m \u001b[38;5;28mself\u001b[39m\u001b[38;5;241m.\u001b[39mmapRectFromView(\u001b[43mview\u001b[49m\u001b[38;5;241;43m.\u001b[39;49m\u001b[43mviewRect\u001b[49m\u001b[43m(\u001b[49m\u001b[43m)\u001b[49m)\n\u001b[1;32m    180\u001b[0m \u001b[38;5;28;01mif\u001b[39;00m bounds \u001b[38;5;129;01mis\u001b[39;00m \u001b[38;5;28;01mNone\u001b[39;00m:\n\u001b[1;32m    181\u001b[0m     \u001b[38;5;28;01mreturn\u001b[39;00m \u001b[38;5;28;01mNone\u001b[39;00m\n",
      "File \u001b[0;32m~/opt/miniconda3/envs/zhunter_dev/lib/python3.9/site-packages/pyqtgraph/widgets/GraphicsView.py:225\u001b[0m, in \u001b[0;36mGraphicsView.viewRect\u001b[0;34m(self)\u001b[0m\n\u001b[1;32m    223\u001b[0m \u001b[38;5;250m\u001b[39m\u001b[38;5;124;03m\"\"\"Return the boundaries of the view in scene coordinates\"\"\"\u001b[39;00m\n\u001b[1;32m    224\u001b[0m \u001b[38;5;66;03m## easier to just return self.range ?\u001b[39;00m\n\u001b[0;32m--> 225\u001b[0m r \u001b[38;5;241m=\u001b[39m QtCore\u001b[38;5;241m.\u001b[39mQRectF(\u001b[38;5;28;43mself\u001b[39;49m\u001b[38;5;241;43m.\u001b[39;49m\u001b[43mrect\u001b[49m\u001b[43m(\u001b[49m\u001b[43m)\u001b[49m)\n\u001b[1;32m    226\u001b[0m \u001b[38;5;28;01mreturn\u001b[39;00m \u001b[38;5;28mself\u001b[39m\u001b[38;5;241m.\u001b[39mviewportTransform()\u001b[38;5;241m.\u001b[39minverted()[\u001b[38;5;241m0\u001b[39m]\u001b[38;5;241m.\u001b[39mmapRect(r)\n",
      "\u001b[0;31mTypeError\u001b[0m: 'QRectF' object is not callable"
     ]
    },
    {
     "ename": "TypeError",
     "evalue": "'QRectF' object is not callable",
     "output_type": "error",
     "traceback": [
      "\u001b[0;31m---------------------------------------------------------------------------\u001b[0m",
      "\u001b[0;31mTypeError\u001b[0m                                 Traceback (most recent call last)",
      "File \u001b[0;32m~/opt/miniconda3/envs/zhunter_dev/lib/python3.9/site-packages/pyqtgraph/graphicsItems/GraphicsObject.py:36\u001b[0m, in \u001b[0;36mGraphicsObject.itemChange\u001b[0;34m(self, change, value)\u001b[0m\n\u001b[1;32m     34\u001b[0m             \u001b[38;5;28mself\u001b[39m\u001b[38;5;241m.\u001b[39mparentChanged()\n\u001b[1;32m     35\u001b[0m     \u001b[38;5;28;01melse\u001b[39;00m:\n\u001b[0;32m---> 36\u001b[0m         \u001b[38;5;28;43mself\u001b[39;49m\u001b[38;5;241;43m.\u001b[39;49m\u001b[43mchangeParent\u001b[49m\u001b[43m(\u001b[49m\u001b[43m)\u001b[49m\n\u001b[1;32m     37\u001b[0m \u001b[38;5;28;01mtry\u001b[39;00m:\n\u001b[1;32m     38\u001b[0m     inform_view_on_change \u001b[38;5;241m=\u001b[39m \u001b[38;5;28mself\u001b[39m\u001b[38;5;241m.\u001b[39m__inform_view_on_changes\n",
      "File \u001b[0;32m~/opt/miniconda3/envs/zhunter_dev/lib/python3.9/site-packages/pyqtgraph/graphicsItems/GraphicsItem.py:460\u001b[0m, in \u001b[0;36mGraphicsItem.changeParent\u001b[0;34m(self)\u001b[0m\n\u001b[1;32m    455\u001b[0m \u001b[38;5;28;01mdef\u001b[39;00m \u001b[38;5;21mchangeParent\u001b[39m(\u001b[38;5;28mself\u001b[39m):\n\u001b[1;32m    456\u001b[0m \u001b[38;5;250m    \u001b[39m\u001b[38;5;124;03m\"\"\"Called when the item's parent has changed. \u001b[39;00m\n\u001b[1;32m    457\u001b[0m \u001b[38;5;124;03m    This method handles connecting / disconnecting from ViewBox signals\u001b[39;00m\n\u001b[1;32m    458\u001b[0m \u001b[38;5;124;03m    to make sure viewRangeChanged works properly. It should generally be \u001b[39;00m\n\u001b[1;32m    459\u001b[0m \u001b[38;5;124;03m    extended, not overridden.\"\"\"\u001b[39;00m\n\u001b[0;32m--> 460\u001b[0m     \u001b[38;5;28;43mself\u001b[39;49m\u001b[38;5;241;43m.\u001b[39;49m\u001b[43m_updateView\u001b[49m\u001b[43m(\u001b[49m\u001b[43m)\u001b[49m\n",
      "File \u001b[0;32m~/opt/miniconda3/envs/zhunter_dev/lib/python3.9/site-packages/pyqtgraph/graphicsItems/GraphicsItem.py:520\u001b[0m, in \u001b[0;36mGraphicsItem._updateView\u001b[0;34m(self)\u001b[0m\n\u001b[1;32m    518\u001b[0m     \u001b[38;5;28mself\u001b[39m\u001b[38;5;241m.\u001b[39m_connectedView \u001b[38;5;241m=\u001b[39m weakref\u001b[38;5;241m.\u001b[39mref(view)\n\u001b[1;32m    519\u001b[0m     \u001b[38;5;28mself\u001b[39m\u001b[38;5;241m.\u001b[39mviewRangeChanged()\n\u001b[0;32m--> 520\u001b[0m     \u001b[38;5;28;43mself\u001b[39;49m\u001b[38;5;241;43m.\u001b[39;49m\u001b[43mviewTransformChanged\u001b[49m\u001b[43m(\u001b[49m\u001b[43m)\u001b[49m\n\u001b[1;32m    522\u001b[0m \u001b[38;5;66;03m## inform children that their view might have changed\u001b[39;00m\n\u001b[1;32m    523\u001b[0m \u001b[38;5;28mself\u001b[39m\u001b[38;5;241m.\u001b[39m_replaceView(oldView)\n",
      "File \u001b[0;32m~/opt/miniconda3/envs/zhunter_dev/lib/python3.9/site-packages/pyqtgraph/graphicsItems/InfiniteLine.py:609\u001b[0m, in \u001b[0;36mInfLineLabel.viewTransformChanged\u001b[0;34m(self)\u001b[0m\n\u001b[1;32m    607\u001b[0m \u001b[38;5;28;01mdef\u001b[39;00m \u001b[38;5;21mviewTransformChanged\u001b[39m(\u001b[38;5;28mself\u001b[39m):\n\u001b[1;32m    608\u001b[0m     GraphicsItem\u001b[38;5;241m.\u001b[39mviewTransformChanged(\u001b[38;5;28mself\u001b[39m)\n\u001b[0;32m--> 609\u001b[0m     \u001b[38;5;28;43mself\u001b[39;49m\u001b[38;5;241;43m.\u001b[39;49m\u001b[43mupdatePosition\u001b[49m\u001b[43m(\u001b[49m\u001b[43m)\u001b[49m\n\u001b[1;32m    610\u001b[0m     TextItem\u001b[38;5;241m.\u001b[39mviewTransformChanged(\u001b[38;5;28mself\u001b[39m)\n",
      "File \u001b[0;32m~/opt/miniconda3/envs/zhunter_dev/lib/python3.9/site-packages/pyqtgraph/graphicsItems/InfiniteLine.py:546\u001b[0m, in \u001b[0;36mInfLineLabel.updatePosition\u001b[0;34m(self)\u001b[0m\n\u001b[1;32m    543\u001b[0m \u001b[38;5;28mself\u001b[39m\u001b[38;5;241m.\u001b[39msetPos(pt)\n\u001b[1;32m    545\u001b[0m \u001b[38;5;66;03m# update anchor to keep text visible as it nears the view box edge\u001b[39;00m\n\u001b[0;32m--> 546\u001b[0m vr \u001b[38;5;241m=\u001b[39m \u001b[38;5;28;43mself\u001b[39;49m\u001b[38;5;241;43m.\u001b[39;49m\u001b[43mline\u001b[49m\u001b[38;5;241;43m.\u001b[39;49m\u001b[43mviewRect\u001b[49m\u001b[43m(\u001b[49m\u001b[43m)\u001b[49m\n\u001b[1;32m    547\u001b[0m \u001b[38;5;28;01mif\u001b[39;00m vr \u001b[38;5;129;01mis\u001b[39;00m \u001b[38;5;129;01mnot\u001b[39;00m \u001b[38;5;28;01mNone\u001b[39;00m:\n\u001b[1;32m    548\u001b[0m     \u001b[38;5;28mself\u001b[39m\u001b[38;5;241m.\u001b[39msetAnchor(\u001b[38;5;28mself\u001b[39m\u001b[38;5;241m.\u001b[39manchors[\u001b[38;5;241m0\u001b[39m \u001b[38;5;28;01mif\u001b[39;00m vr\u001b[38;5;241m.\u001b[39mcenter()\u001b[38;5;241m.\u001b[39my() \u001b[38;5;241m<\u001b[39m \u001b[38;5;241m0\u001b[39m \u001b[38;5;28;01melse\u001b[39;00m \u001b[38;5;241m1\u001b[39m])\n",
      "File \u001b[0;32m~/opt/miniconda3/envs/zhunter_dev/lib/python3.9/site-packages/pyqtgraph/graphicsItems/GraphicsItem.py:179\u001b[0m, in \u001b[0;36mGraphicsItem.viewRect\u001b[0;34m(self)\u001b[0m\n\u001b[1;32m    177\u001b[0m \u001b[38;5;28;01mif\u001b[39;00m view \u001b[38;5;129;01mis\u001b[39;00m \u001b[38;5;28;01mNone\u001b[39;00m:\n\u001b[1;32m    178\u001b[0m     \u001b[38;5;28;01mreturn\u001b[39;00m \u001b[38;5;28;01mNone\u001b[39;00m\n\u001b[0;32m--> 179\u001b[0m bounds \u001b[38;5;241m=\u001b[39m \u001b[38;5;28mself\u001b[39m\u001b[38;5;241m.\u001b[39mmapRectFromView(\u001b[43mview\u001b[49m\u001b[38;5;241;43m.\u001b[39;49m\u001b[43mviewRect\u001b[49m\u001b[43m(\u001b[49m\u001b[43m)\u001b[49m)\n\u001b[1;32m    180\u001b[0m \u001b[38;5;28;01mif\u001b[39;00m bounds \u001b[38;5;129;01mis\u001b[39;00m \u001b[38;5;28;01mNone\u001b[39;00m:\n\u001b[1;32m    181\u001b[0m     \u001b[38;5;28;01mreturn\u001b[39;00m \u001b[38;5;28;01mNone\u001b[39;00m\n",
      "File \u001b[0;32m~/opt/miniconda3/envs/zhunter_dev/lib/python3.9/site-packages/pyqtgraph/widgets/GraphicsView.py:225\u001b[0m, in \u001b[0;36mGraphicsView.viewRect\u001b[0;34m(self)\u001b[0m\n\u001b[1;32m    223\u001b[0m \u001b[38;5;250m\u001b[39m\u001b[38;5;124;03m\"\"\"Return the boundaries of the view in scene coordinates\"\"\"\u001b[39;00m\n\u001b[1;32m    224\u001b[0m \u001b[38;5;66;03m## easier to just return self.range ?\u001b[39;00m\n\u001b[0;32m--> 225\u001b[0m r \u001b[38;5;241m=\u001b[39m QtCore\u001b[38;5;241m.\u001b[39mQRectF(\u001b[38;5;28;43mself\u001b[39;49m\u001b[38;5;241;43m.\u001b[39;49m\u001b[43mrect\u001b[49m\u001b[43m(\u001b[49m\u001b[43m)\u001b[49m)\n\u001b[1;32m    226\u001b[0m \u001b[38;5;28;01mreturn\u001b[39;00m \u001b[38;5;28mself\u001b[39m\u001b[38;5;241m.\u001b[39mviewportTransform()\u001b[38;5;241m.\u001b[39minverted()[\u001b[38;5;241m0\u001b[39m]\u001b[38;5;241m.\u001b[39mmapRect(r)\n",
      "\u001b[0;31mTypeError\u001b[0m: 'QRectF' object is not callable"
     ]
    },
    {
     "ename": "TypeError",
     "evalue": "'QRectF' object is not callable",
     "output_type": "error",
     "traceback": [
      "\u001b[0;31m---------------------------------------------------------------------------\u001b[0m",
      "\u001b[0;31mTypeError\u001b[0m                                 Traceback (most recent call last)",
      "File \u001b[0;32m~/opt/miniconda3/envs/zhunter_dev/lib/python3.9/site-packages/pyqtgraph/graphicsItems/GraphicsObject.py:36\u001b[0m, in \u001b[0;36mGraphicsObject.itemChange\u001b[0;34m(self, change, value)\u001b[0m\n\u001b[1;32m     34\u001b[0m             \u001b[38;5;28mself\u001b[39m\u001b[38;5;241m.\u001b[39mparentChanged()\n\u001b[1;32m     35\u001b[0m     \u001b[38;5;28;01melse\u001b[39;00m:\n\u001b[0;32m---> 36\u001b[0m         \u001b[38;5;28;43mself\u001b[39;49m\u001b[38;5;241;43m.\u001b[39;49m\u001b[43mchangeParent\u001b[49m\u001b[43m(\u001b[49m\u001b[43m)\u001b[49m\n\u001b[1;32m     37\u001b[0m \u001b[38;5;28;01mtry\u001b[39;00m:\n\u001b[1;32m     38\u001b[0m     inform_view_on_change \u001b[38;5;241m=\u001b[39m \u001b[38;5;28mself\u001b[39m\u001b[38;5;241m.\u001b[39m__inform_view_on_changes\n",
      "File \u001b[0;32m~/opt/miniconda3/envs/zhunter_dev/lib/python3.9/site-packages/pyqtgraph/graphicsItems/GraphicsItem.py:460\u001b[0m, in \u001b[0;36mGraphicsItem.changeParent\u001b[0;34m(self)\u001b[0m\n\u001b[1;32m    455\u001b[0m \u001b[38;5;28;01mdef\u001b[39;00m \u001b[38;5;21mchangeParent\u001b[39m(\u001b[38;5;28mself\u001b[39m):\n\u001b[1;32m    456\u001b[0m \u001b[38;5;250m    \u001b[39m\u001b[38;5;124;03m\"\"\"Called when the item's parent has changed. \u001b[39;00m\n\u001b[1;32m    457\u001b[0m \u001b[38;5;124;03m    This method handles connecting / disconnecting from ViewBox signals\u001b[39;00m\n\u001b[1;32m    458\u001b[0m \u001b[38;5;124;03m    to make sure viewRangeChanged works properly. It should generally be \u001b[39;00m\n\u001b[1;32m    459\u001b[0m \u001b[38;5;124;03m    extended, not overridden.\"\"\"\u001b[39;00m\n\u001b[0;32m--> 460\u001b[0m     \u001b[38;5;28;43mself\u001b[39;49m\u001b[38;5;241;43m.\u001b[39;49m\u001b[43m_updateView\u001b[49m\u001b[43m(\u001b[49m\u001b[43m)\u001b[49m\n",
      "File \u001b[0;32m~/opt/miniconda3/envs/zhunter_dev/lib/python3.9/site-packages/pyqtgraph/graphicsItems/GraphicsItem.py:520\u001b[0m, in \u001b[0;36mGraphicsItem._updateView\u001b[0;34m(self)\u001b[0m\n\u001b[1;32m    518\u001b[0m     \u001b[38;5;28mself\u001b[39m\u001b[38;5;241m.\u001b[39m_connectedView \u001b[38;5;241m=\u001b[39m weakref\u001b[38;5;241m.\u001b[39mref(view)\n\u001b[1;32m    519\u001b[0m     \u001b[38;5;28mself\u001b[39m\u001b[38;5;241m.\u001b[39mviewRangeChanged()\n\u001b[0;32m--> 520\u001b[0m     \u001b[38;5;28;43mself\u001b[39;49m\u001b[38;5;241;43m.\u001b[39;49m\u001b[43mviewTransformChanged\u001b[49m\u001b[43m(\u001b[49m\u001b[43m)\u001b[49m\n\u001b[1;32m    522\u001b[0m \u001b[38;5;66;03m## inform children that their view might have changed\u001b[39;00m\n\u001b[1;32m    523\u001b[0m \u001b[38;5;28mself\u001b[39m\u001b[38;5;241m.\u001b[39m_replaceView(oldView)\n",
      "File \u001b[0;32m~/opt/miniconda3/envs/zhunter_dev/lib/python3.9/site-packages/pyqtgraph/graphicsItems/InfiniteLine.py:609\u001b[0m, in \u001b[0;36mInfLineLabel.viewTransformChanged\u001b[0;34m(self)\u001b[0m\n\u001b[1;32m    607\u001b[0m \u001b[38;5;28;01mdef\u001b[39;00m \u001b[38;5;21mviewTransformChanged\u001b[39m(\u001b[38;5;28mself\u001b[39m):\n\u001b[1;32m    608\u001b[0m     GraphicsItem\u001b[38;5;241m.\u001b[39mviewTransformChanged(\u001b[38;5;28mself\u001b[39m)\n\u001b[0;32m--> 609\u001b[0m     \u001b[38;5;28;43mself\u001b[39;49m\u001b[38;5;241;43m.\u001b[39;49m\u001b[43mupdatePosition\u001b[49m\u001b[43m(\u001b[49m\u001b[43m)\u001b[49m\n\u001b[1;32m    610\u001b[0m     TextItem\u001b[38;5;241m.\u001b[39mviewTransformChanged(\u001b[38;5;28mself\u001b[39m)\n",
      "File \u001b[0;32m~/opt/miniconda3/envs/zhunter_dev/lib/python3.9/site-packages/pyqtgraph/graphicsItems/InfiniteLine.py:546\u001b[0m, in \u001b[0;36mInfLineLabel.updatePosition\u001b[0;34m(self)\u001b[0m\n\u001b[1;32m    543\u001b[0m \u001b[38;5;28mself\u001b[39m\u001b[38;5;241m.\u001b[39msetPos(pt)\n\u001b[1;32m    545\u001b[0m \u001b[38;5;66;03m# update anchor to keep text visible as it nears the view box edge\u001b[39;00m\n\u001b[0;32m--> 546\u001b[0m vr \u001b[38;5;241m=\u001b[39m \u001b[38;5;28;43mself\u001b[39;49m\u001b[38;5;241;43m.\u001b[39;49m\u001b[43mline\u001b[49m\u001b[38;5;241;43m.\u001b[39;49m\u001b[43mviewRect\u001b[49m\u001b[43m(\u001b[49m\u001b[43m)\u001b[49m\n\u001b[1;32m    547\u001b[0m \u001b[38;5;28;01mif\u001b[39;00m vr \u001b[38;5;129;01mis\u001b[39;00m \u001b[38;5;129;01mnot\u001b[39;00m \u001b[38;5;28;01mNone\u001b[39;00m:\n\u001b[1;32m    548\u001b[0m     \u001b[38;5;28mself\u001b[39m\u001b[38;5;241m.\u001b[39msetAnchor(\u001b[38;5;28mself\u001b[39m\u001b[38;5;241m.\u001b[39manchors[\u001b[38;5;241m0\u001b[39m \u001b[38;5;28;01mif\u001b[39;00m vr\u001b[38;5;241m.\u001b[39mcenter()\u001b[38;5;241m.\u001b[39my() \u001b[38;5;241m<\u001b[39m \u001b[38;5;241m0\u001b[39m \u001b[38;5;28;01melse\u001b[39;00m \u001b[38;5;241m1\u001b[39m])\n",
      "File \u001b[0;32m~/opt/miniconda3/envs/zhunter_dev/lib/python3.9/site-packages/pyqtgraph/graphicsItems/GraphicsItem.py:179\u001b[0m, in \u001b[0;36mGraphicsItem.viewRect\u001b[0;34m(self)\u001b[0m\n\u001b[1;32m    177\u001b[0m \u001b[38;5;28;01mif\u001b[39;00m view \u001b[38;5;129;01mis\u001b[39;00m \u001b[38;5;28;01mNone\u001b[39;00m:\n\u001b[1;32m    178\u001b[0m     \u001b[38;5;28;01mreturn\u001b[39;00m \u001b[38;5;28;01mNone\u001b[39;00m\n\u001b[0;32m--> 179\u001b[0m bounds \u001b[38;5;241m=\u001b[39m \u001b[38;5;28mself\u001b[39m\u001b[38;5;241m.\u001b[39mmapRectFromView(\u001b[43mview\u001b[49m\u001b[38;5;241;43m.\u001b[39;49m\u001b[43mviewRect\u001b[49m\u001b[43m(\u001b[49m\u001b[43m)\u001b[49m)\n\u001b[1;32m    180\u001b[0m \u001b[38;5;28;01mif\u001b[39;00m bounds \u001b[38;5;129;01mis\u001b[39;00m \u001b[38;5;28;01mNone\u001b[39;00m:\n\u001b[1;32m    181\u001b[0m     \u001b[38;5;28;01mreturn\u001b[39;00m \u001b[38;5;28;01mNone\u001b[39;00m\n",
      "File \u001b[0;32m~/opt/miniconda3/envs/zhunter_dev/lib/python3.9/site-packages/pyqtgraph/widgets/GraphicsView.py:225\u001b[0m, in \u001b[0;36mGraphicsView.viewRect\u001b[0;34m(self)\u001b[0m\n\u001b[1;32m    223\u001b[0m \u001b[38;5;250m\u001b[39m\u001b[38;5;124;03m\"\"\"Return the boundaries of the view in scene coordinates\"\"\"\u001b[39;00m\n\u001b[1;32m    224\u001b[0m \u001b[38;5;66;03m## easier to just return self.range ?\u001b[39;00m\n\u001b[0;32m--> 225\u001b[0m r \u001b[38;5;241m=\u001b[39m QtCore\u001b[38;5;241m.\u001b[39mQRectF(\u001b[38;5;28;43mself\u001b[39;49m\u001b[38;5;241;43m.\u001b[39;49m\u001b[43mrect\u001b[49m\u001b[43m(\u001b[49m\u001b[43m)\u001b[49m)\n\u001b[1;32m    226\u001b[0m \u001b[38;5;28;01mreturn\u001b[39;00m \u001b[38;5;28mself\u001b[39m\u001b[38;5;241m.\u001b[39mviewportTransform()\u001b[38;5;241m.\u001b[39minverted()[\u001b[38;5;241m0\u001b[39m]\u001b[38;5;241m.\u001b[39mmapRect(r)\n",
      "\u001b[0;31mTypeError\u001b[0m: 'QRectF' object is not callable"
     ]
    },
    {
     "ename": "TypeError",
     "evalue": "'QRectF' object is not callable",
     "output_type": "error",
     "traceback": [
      "\u001b[0;31m---------------------------------------------------------------------------\u001b[0m",
      "\u001b[0;31mTypeError\u001b[0m                                 Traceback (most recent call last)",
      "File \u001b[0;32m~/opt/miniconda3/envs/zhunter_dev/lib/python3.9/site-packages/pyqtgraph/graphicsItems/GraphicsObject.py:36\u001b[0m, in \u001b[0;36mGraphicsObject.itemChange\u001b[0;34m(self, change, value)\u001b[0m\n\u001b[1;32m     34\u001b[0m             \u001b[38;5;28mself\u001b[39m\u001b[38;5;241m.\u001b[39mparentChanged()\n\u001b[1;32m     35\u001b[0m     \u001b[38;5;28;01melse\u001b[39;00m:\n\u001b[0;32m---> 36\u001b[0m         \u001b[38;5;28;43mself\u001b[39;49m\u001b[38;5;241;43m.\u001b[39;49m\u001b[43mchangeParent\u001b[49m\u001b[43m(\u001b[49m\u001b[43m)\u001b[49m\n\u001b[1;32m     37\u001b[0m \u001b[38;5;28;01mtry\u001b[39;00m:\n\u001b[1;32m     38\u001b[0m     inform_view_on_change \u001b[38;5;241m=\u001b[39m \u001b[38;5;28mself\u001b[39m\u001b[38;5;241m.\u001b[39m__inform_view_on_changes\n",
      "File \u001b[0;32m~/opt/miniconda3/envs/zhunter_dev/lib/python3.9/site-packages/pyqtgraph/graphicsItems/GraphicsItem.py:460\u001b[0m, in \u001b[0;36mGraphicsItem.changeParent\u001b[0;34m(self)\u001b[0m\n\u001b[1;32m    455\u001b[0m \u001b[38;5;28;01mdef\u001b[39;00m \u001b[38;5;21mchangeParent\u001b[39m(\u001b[38;5;28mself\u001b[39m):\n\u001b[1;32m    456\u001b[0m \u001b[38;5;250m    \u001b[39m\u001b[38;5;124;03m\"\"\"Called when the item's parent has changed. \u001b[39;00m\n\u001b[1;32m    457\u001b[0m \u001b[38;5;124;03m    This method handles connecting / disconnecting from ViewBox signals\u001b[39;00m\n\u001b[1;32m    458\u001b[0m \u001b[38;5;124;03m    to make sure viewRangeChanged works properly. It should generally be \u001b[39;00m\n\u001b[1;32m    459\u001b[0m \u001b[38;5;124;03m    extended, not overridden.\"\"\"\u001b[39;00m\n\u001b[0;32m--> 460\u001b[0m     \u001b[38;5;28;43mself\u001b[39;49m\u001b[38;5;241;43m.\u001b[39;49m\u001b[43m_updateView\u001b[49m\u001b[43m(\u001b[49m\u001b[43m)\u001b[49m\n",
      "File \u001b[0;32m~/opt/miniconda3/envs/zhunter_dev/lib/python3.9/site-packages/pyqtgraph/graphicsItems/GraphicsItem.py:520\u001b[0m, in \u001b[0;36mGraphicsItem._updateView\u001b[0;34m(self)\u001b[0m\n\u001b[1;32m    518\u001b[0m     \u001b[38;5;28mself\u001b[39m\u001b[38;5;241m.\u001b[39m_connectedView \u001b[38;5;241m=\u001b[39m weakref\u001b[38;5;241m.\u001b[39mref(view)\n\u001b[1;32m    519\u001b[0m     \u001b[38;5;28mself\u001b[39m\u001b[38;5;241m.\u001b[39mviewRangeChanged()\n\u001b[0;32m--> 520\u001b[0m     \u001b[38;5;28;43mself\u001b[39;49m\u001b[38;5;241;43m.\u001b[39;49m\u001b[43mviewTransformChanged\u001b[49m\u001b[43m(\u001b[49m\u001b[43m)\u001b[49m\n\u001b[1;32m    522\u001b[0m \u001b[38;5;66;03m## inform children that their view might have changed\u001b[39;00m\n\u001b[1;32m    523\u001b[0m \u001b[38;5;28mself\u001b[39m\u001b[38;5;241m.\u001b[39m_replaceView(oldView)\n",
      "File \u001b[0;32m~/opt/miniconda3/envs/zhunter_dev/lib/python3.9/site-packages/pyqtgraph/graphicsItems/InfiniteLine.py:609\u001b[0m, in \u001b[0;36mInfLineLabel.viewTransformChanged\u001b[0;34m(self)\u001b[0m\n\u001b[1;32m    607\u001b[0m \u001b[38;5;28;01mdef\u001b[39;00m \u001b[38;5;21mviewTransformChanged\u001b[39m(\u001b[38;5;28mself\u001b[39m):\n\u001b[1;32m    608\u001b[0m     GraphicsItem\u001b[38;5;241m.\u001b[39mviewTransformChanged(\u001b[38;5;28mself\u001b[39m)\n\u001b[0;32m--> 609\u001b[0m     \u001b[38;5;28;43mself\u001b[39;49m\u001b[38;5;241;43m.\u001b[39;49m\u001b[43mupdatePosition\u001b[49m\u001b[43m(\u001b[49m\u001b[43m)\u001b[49m\n\u001b[1;32m    610\u001b[0m     TextItem\u001b[38;5;241m.\u001b[39mviewTransformChanged(\u001b[38;5;28mself\u001b[39m)\n",
      "File \u001b[0;32m~/opt/miniconda3/envs/zhunter_dev/lib/python3.9/site-packages/pyqtgraph/graphicsItems/InfiniteLine.py:546\u001b[0m, in \u001b[0;36mInfLineLabel.updatePosition\u001b[0;34m(self)\u001b[0m\n\u001b[1;32m    543\u001b[0m \u001b[38;5;28mself\u001b[39m\u001b[38;5;241m.\u001b[39msetPos(pt)\n\u001b[1;32m    545\u001b[0m \u001b[38;5;66;03m# update anchor to keep text visible as it nears the view box edge\u001b[39;00m\n\u001b[0;32m--> 546\u001b[0m vr \u001b[38;5;241m=\u001b[39m \u001b[38;5;28;43mself\u001b[39;49m\u001b[38;5;241;43m.\u001b[39;49m\u001b[43mline\u001b[49m\u001b[38;5;241;43m.\u001b[39;49m\u001b[43mviewRect\u001b[49m\u001b[43m(\u001b[49m\u001b[43m)\u001b[49m\n\u001b[1;32m    547\u001b[0m \u001b[38;5;28;01mif\u001b[39;00m vr \u001b[38;5;129;01mis\u001b[39;00m \u001b[38;5;129;01mnot\u001b[39;00m \u001b[38;5;28;01mNone\u001b[39;00m:\n\u001b[1;32m    548\u001b[0m     \u001b[38;5;28mself\u001b[39m\u001b[38;5;241m.\u001b[39msetAnchor(\u001b[38;5;28mself\u001b[39m\u001b[38;5;241m.\u001b[39manchors[\u001b[38;5;241m0\u001b[39m \u001b[38;5;28;01mif\u001b[39;00m vr\u001b[38;5;241m.\u001b[39mcenter()\u001b[38;5;241m.\u001b[39my() \u001b[38;5;241m<\u001b[39m \u001b[38;5;241m0\u001b[39m \u001b[38;5;28;01melse\u001b[39;00m \u001b[38;5;241m1\u001b[39m])\n",
      "File \u001b[0;32m~/opt/miniconda3/envs/zhunter_dev/lib/python3.9/site-packages/pyqtgraph/graphicsItems/GraphicsItem.py:179\u001b[0m, in \u001b[0;36mGraphicsItem.viewRect\u001b[0;34m(self)\u001b[0m\n\u001b[1;32m    177\u001b[0m \u001b[38;5;28;01mif\u001b[39;00m view \u001b[38;5;129;01mis\u001b[39;00m \u001b[38;5;28;01mNone\u001b[39;00m:\n\u001b[1;32m    178\u001b[0m     \u001b[38;5;28;01mreturn\u001b[39;00m \u001b[38;5;28;01mNone\u001b[39;00m\n\u001b[0;32m--> 179\u001b[0m bounds \u001b[38;5;241m=\u001b[39m \u001b[38;5;28mself\u001b[39m\u001b[38;5;241m.\u001b[39mmapRectFromView(\u001b[43mview\u001b[49m\u001b[38;5;241;43m.\u001b[39;49m\u001b[43mviewRect\u001b[49m\u001b[43m(\u001b[49m\u001b[43m)\u001b[49m)\n\u001b[1;32m    180\u001b[0m \u001b[38;5;28;01mif\u001b[39;00m bounds \u001b[38;5;129;01mis\u001b[39;00m \u001b[38;5;28;01mNone\u001b[39;00m:\n\u001b[1;32m    181\u001b[0m     \u001b[38;5;28;01mreturn\u001b[39;00m \u001b[38;5;28;01mNone\u001b[39;00m\n",
      "File \u001b[0;32m~/opt/miniconda3/envs/zhunter_dev/lib/python3.9/site-packages/pyqtgraph/widgets/GraphicsView.py:225\u001b[0m, in \u001b[0;36mGraphicsView.viewRect\u001b[0;34m(self)\u001b[0m\n\u001b[1;32m    223\u001b[0m \u001b[38;5;250m\u001b[39m\u001b[38;5;124;03m\"\"\"Return the boundaries of the view in scene coordinates\"\"\"\u001b[39;00m\n\u001b[1;32m    224\u001b[0m \u001b[38;5;66;03m## easier to just return self.range ?\u001b[39;00m\n\u001b[0;32m--> 225\u001b[0m r \u001b[38;5;241m=\u001b[39m QtCore\u001b[38;5;241m.\u001b[39mQRectF(\u001b[38;5;28;43mself\u001b[39;49m\u001b[38;5;241;43m.\u001b[39;49m\u001b[43mrect\u001b[49m\u001b[43m(\u001b[49m\u001b[43m)\u001b[49m)\n\u001b[1;32m    226\u001b[0m \u001b[38;5;28;01mreturn\u001b[39;00m \u001b[38;5;28mself\u001b[39m\u001b[38;5;241m.\u001b[39mviewportTransform()\u001b[38;5;241m.\u001b[39minverted()[\u001b[38;5;241m0\u001b[39m]\u001b[38;5;241m.\u001b[39mmapRect(r)\n",
      "\u001b[0;31mTypeError\u001b[0m: 'QRectF' object is not callable"
     ]
    },
    {
     "ename": "TypeError",
     "evalue": "'QRectF' object is not callable",
     "output_type": "error",
     "traceback": [
      "\u001b[0;31m---------------------------------------------------------------------------\u001b[0m",
      "\u001b[0;31mTypeError\u001b[0m                                 Traceback (most recent call last)",
      "File \u001b[0;32m~/opt/miniconda3/envs/zhunter_dev/lib/python3.9/site-packages/pyqtgraph/graphicsItems/GraphicsObject.py:36\u001b[0m, in \u001b[0;36mGraphicsObject.itemChange\u001b[0;34m(self, change, value)\u001b[0m\n\u001b[1;32m     34\u001b[0m             \u001b[38;5;28mself\u001b[39m\u001b[38;5;241m.\u001b[39mparentChanged()\n\u001b[1;32m     35\u001b[0m     \u001b[38;5;28;01melse\u001b[39;00m:\n\u001b[0;32m---> 36\u001b[0m         \u001b[38;5;28;43mself\u001b[39;49m\u001b[38;5;241;43m.\u001b[39;49m\u001b[43mchangeParent\u001b[49m\u001b[43m(\u001b[49m\u001b[43m)\u001b[49m\n\u001b[1;32m     37\u001b[0m \u001b[38;5;28;01mtry\u001b[39;00m:\n\u001b[1;32m     38\u001b[0m     inform_view_on_change \u001b[38;5;241m=\u001b[39m \u001b[38;5;28mself\u001b[39m\u001b[38;5;241m.\u001b[39m__inform_view_on_changes\n",
      "File \u001b[0;32m~/opt/miniconda3/envs/zhunter_dev/lib/python3.9/site-packages/pyqtgraph/graphicsItems/GraphicsItem.py:460\u001b[0m, in \u001b[0;36mGraphicsItem.changeParent\u001b[0;34m(self)\u001b[0m\n\u001b[1;32m    455\u001b[0m \u001b[38;5;28;01mdef\u001b[39;00m \u001b[38;5;21mchangeParent\u001b[39m(\u001b[38;5;28mself\u001b[39m):\n\u001b[1;32m    456\u001b[0m \u001b[38;5;250m    \u001b[39m\u001b[38;5;124;03m\"\"\"Called when the item's parent has changed. \u001b[39;00m\n\u001b[1;32m    457\u001b[0m \u001b[38;5;124;03m    This method handles connecting / disconnecting from ViewBox signals\u001b[39;00m\n\u001b[1;32m    458\u001b[0m \u001b[38;5;124;03m    to make sure viewRangeChanged works properly. It should generally be \u001b[39;00m\n\u001b[1;32m    459\u001b[0m \u001b[38;5;124;03m    extended, not overridden.\"\"\"\u001b[39;00m\n\u001b[0;32m--> 460\u001b[0m     \u001b[38;5;28;43mself\u001b[39;49m\u001b[38;5;241;43m.\u001b[39;49m\u001b[43m_updateView\u001b[49m\u001b[43m(\u001b[49m\u001b[43m)\u001b[49m\n",
      "File \u001b[0;32m~/opt/miniconda3/envs/zhunter_dev/lib/python3.9/site-packages/pyqtgraph/graphicsItems/GraphicsItem.py:520\u001b[0m, in \u001b[0;36mGraphicsItem._updateView\u001b[0;34m(self)\u001b[0m\n\u001b[1;32m    518\u001b[0m     \u001b[38;5;28mself\u001b[39m\u001b[38;5;241m.\u001b[39m_connectedView \u001b[38;5;241m=\u001b[39m weakref\u001b[38;5;241m.\u001b[39mref(view)\n\u001b[1;32m    519\u001b[0m     \u001b[38;5;28mself\u001b[39m\u001b[38;5;241m.\u001b[39mviewRangeChanged()\n\u001b[0;32m--> 520\u001b[0m     \u001b[38;5;28;43mself\u001b[39;49m\u001b[38;5;241;43m.\u001b[39;49m\u001b[43mviewTransformChanged\u001b[49m\u001b[43m(\u001b[49m\u001b[43m)\u001b[49m\n\u001b[1;32m    522\u001b[0m \u001b[38;5;66;03m## inform children that their view might have changed\u001b[39;00m\n\u001b[1;32m    523\u001b[0m \u001b[38;5;28mself\u001b[39m\u001b[38;5;241m.\u001b[39m_replaceView(oldView)\n",
      "File \u001b[0;32m~/opt/miniconda3/envs/zhunter_dev/lib/python3.9/site-packages/pyqtgraph/graphicsItems/InfiniteLine.py:609\u001b[0m, in \u001b[0;36mInfLineLabel.viewTransformChanged\u001b[0;34m(self)\u001b[0m\n\u001b[1;32m    607\u001b[0m \u001b[38;5;28;01mdef\u001b[39;00m \u001b[38;5;21mviewTransformChanged\u001b[39m(\u001b[38;5;28mself\u001b[39m):\n\u001b[1;32m    608\u001b[0m     GraphicsItem\u001b[38;5;241m.\u001b[39mviewTransformChanged(\u001b[38;5;28mself\u001b[39m)\n\u001b[0;32m--> 609\u001b[0m     \u001b[38;5;28;43mself\u001b[39;49m\u001b[38;5;241;43m.\u001b[39;49m\u001b[43mupdatePosition\u001b[49m\u001b[43m(\u001b[49m\u001b[43m)\u001b[49m\n\u001b[1;32m    610\u001b[0m     TextItem\u001b[38;5;241m.\u001b[39mviewTransformChanged(\u001b[38;5;28mself\u001b[39m)\n",
      "File \u001b[0;32m~/opt/miniconda3/envs/zhunter_dev/lib/python3.9/site-packages/pyqtgraph/graphicsItems/InfiniteLine.py:546\u001b[0m, in \u001b[0;36mInfLineLabel.updatePosition\u001b[0;34m(self)\u001b[0m\n\u001b[1;32m    543\u001b[0m \u001b[38;5;28mself\u001b[39m\u001b[38;5;241m.\u001b[39msetPos(pt)\n\u001b[1;32m    545\u001b[0m \u001b[38;5;66;03m# update anchor to keep text visible as it nears the view box edge\u001b[39;00m\n\u001b[0;32m--> 546\u001b[0m vr \u001b[38;5;241m=\u001b[39m \u001b[38;5;28;43mself\u001b[39;49m\u001b[38;5;241;43m.\u001b[39;49m\u001b[43mline\u001b[49m\u001b[38;5;241;43m.\u001b[39;49m\u001b[43mviewRect\u001b[49m\u001b[43m(\u001b[49m\u001b[43m)\u001b[49m\n\u001b[1;32m    547\u001b[0m \u001b[38;5;28;01mif\u001b[39;00m vr \u001b[38;5;129;01mis\u001b[39;00m \u001b[38;5;129;01mnot\u001b[39;00m \u001b[38;5;28;01mNone\u001b[39;00m:\n\u001b[1;32m    548\u001b[0m     \u001b[38;5;28mself\u001b[39m\u001b[38;5;241m.\u001b[39msetAnchor(\u001b[38;5;28mself\u001b[39m\u001b[38;5;241m.\u001b[39manchors[\u001b[38;5;241m0\u001b[39m \u001b[38;5;28;01mif\u001b[39;00m vr\u001b[38;5;241m.\u001b[39mcenter()\u001b[38;5;241m.\u001b[39my() \u001b[38;5;241m<\u001b[39m \u001b[38;5;241m0\u001b[39m \u001b[38;5;28;01melse\u001b[39;00m \u001b[38;5;241m1\u001b[39m])\n",
      "File \u001b[0;32m~/opt/miniconda3/envs/zhunter_dev/lib/python3.9/site-packages/pyqtgraph/graphicsItems/GraphicsItem.py:179\u001b[0m, in \u001b[0;36mGraphicsItem.viewRect\u001b[0;34m(self)\u001b[0m\n\u001b[1;32m    177\u001b[0m \u001b[38;5;28;01mif\u001b[39;00m view \u001b[38;5;129;01mis\u001b[39;00m \u001b[38;5;28;01mNone\u001b[39;00m:\n\u001b[1;32m    178\u001b[0m     \u001b[38;5;28;01mreturn\u001b[39;00m \u001b[38;5;28;01mNone\u001b[39;00m\n\u001b[0;32m--> 179\u001b[0m bounds \u001b[38;5;241m=\u001b[39m \u001b[38;5;28mself\u001b[39m\u001b[38;5;241m.\u001b[39mmapRectFromView(\u001b[43mview\u001b[49m\u001b[38;5;241;43m.\u001b[39;49m\u001b[43mviewRect\u001b[49m\u001b[43m(\u001b[49m\u001b[43m)\u001b[49m)\n\u001b[1;32m    180\u001b[0m \u001b[38;5;28;01mif\u001b[39;00m bounds \u001b[38;5;129;01mis\u001b[39;00m \u001b[38;5;28;01mNone\u001b[39;00m:\n\u001b[1;32m    181\u001b[0m     \u001b[38;5;28;01mreturn\u001b[39;00m \u001b[38;5;28;01mNone\u001b[39;00m\n",
      "File \u001b[0;32m~/opt/miniconda3/envs/zhunter_dev/lib/python3.9/site-packages/pyqtgraph/widgets/GraphicsView.py:225\u001b[0m, in \u001b[0;36mGraphicsView.viewRect\u001b[0;34m(self)\u001b[0m\n\u001b[1;32m    223\u001b[0m \u001b[38;5;250m\u001b[39m\u001b[38;5;124;03m\"\"\"Return the boundaries of the view in scene coordinates\"\"\"\u001b[39;00m\n\u001b[1;32m    224\u001b[0m \u001b[38;5;66;03m## easier to just return self.range ?\u001b[39;00m\n\u001b[0;32m--> 225\u001b[0m r \u001b[38;5;241m=\u001b[39m QtCore\u001b[38;5;241m.\u001b[39mQRectF(\u001b[38;5;28;43mself\u001b[39;49m\u001b[38;5;241;43m.\u001b[39;49m\u001b[43mrect\u001b[49m\u001b[43m(\u001b[49m\u001b[43m)\u001b[49m)\n\u001b[1;32m    226\u001b[0m \u001b[38;5;28;01mreturn\u001b[39;00m \u001b[38;5;28mself\u001b[39m\u001b[38;5;241m.\u001b[39mviewportTransform()\u001b[38;5;241m.\u001b[39minverted()[\u001b[38;5;241m0\u001b[39m]\u001b[38;5;241m.\u001b[39mmapRect(r)\n",
      "\u001b[0;31mTypeError\u001b[0m: 'QRectF' object is not callable"
     ]
    },
    {
     "ename": "TypeError",
     "evalue": "'QRectF' object is not callable",
     "output_type": "error",
     "traceback": [
      "\u001b[0;31m---------------------------------------------------------------------------\u001b[0m",
      "\u001b[0;31mTypeError\u001b[0m                                 Traceback (most recent call last)",
      "File \u001b[0;32m~/opt/miniconda3/envs/zhunter_dev/lib/python3.9/site-packages/pyqtgraph/graphicsItems/GraphicsObject.py:36\u001b[0m, in \u001b[0;36mGraphicsObject.itemChange\u001b[0;34m(self, change, value)\u001b[0m\n\u001b[1;32m     34\u001b[0m             \u001b[38;5;28mself\u001b[39m\u001b[38;5;241m.\u001b[39mparentChanged()\n\u001b[1;32m     35\u001b[0m     \u001b[38;5;28;01melse\u001b[39;00m:\n\u001b[0;32m---> 36\u001b[0m         \u001b[38;5;28;43mself\u001b[39;49m\u001b[38;5;241;43m.\u001b[39;49m\u001b[43mchangeParent\u001b[49m\u001b[43m(\u001b[49m\u001b[43m)\u001b[49m\n\u001b[1;32m     37\u001b[0m \u001b[38;5;28;01mtry\u001b[39;00m:\n\u001b[1;32m     38\u001b[0m     inform_view_on_change \u001b[38;5;241m=\u001b[39m \u001b[38;5;28mself\u001b[39m\u001b[38;5;241m.\u001b[39m__inform_view_on_changes\n",
      "File \u001b[0;32m~/opt/miniconda3/envs/zhunter_dev/lib/python3.9/site-packages/pyqtgraph/graphicsItems/GraphicsItem.py:460\u001b[0m, in \u001b[0;36mGraphicsItem.changeParent\u001b[0;34m(self)\u001b[0m\n\u001b[1;32m    455\u001b[0m \u001b[38;5;28;01mdef\u001b[39;00m \u001b[38;5;21mchangeParent\u001b[39m(\u001b[38;5;28mself\u001b[39m):\n\u001b[1;32m    456\u001b[0m \u001b[38;5;250m    \u001b[39m\u001b[38;5;124;03m\"\"\"Called when the item's parent has changed. \u001b[39;00m\n\u001b[1;32m    457\u001b[0m \u001b[38;5;124;03m    This method handles connecting / disconnecting from ViewBox signals\u001b[39;00m\n\u001b[1;32m    458\u001b[0m \u001b[38;5;124;03m    to make sure viewRangeChanged works properly. It should generally be \u001b[39;00m\n\u001b[1;32m    459\u001b[0m \u001b[38;5;124;03m    extended, not overridden.\"\"\"\u001b[39;00m\n\u001b[0;32m--> 460\u001b[0m     \u001b[38;5;28;43mself\u001b[39;49m\u001b[38;5;241;43m.\u001b[39;49m\u001b[43m_updateView\u001b[49m\u001b[43m(\u001b[49m\u001b[43m)\u001b[49m\n",
      "File \u001b[0;32m~/opt/miniconda3/envs/zhunter_dev/lib/python3.9/site-packages/pyqtgraph/graphicsItems/GraphicsItem.py:520\u001b[0m, in \u001b[0;36mGraphicsItem._updateView\u001b[0;34m(self)\u001b[0m\n\u001b[1;32m    518\u001b[0m     \u001b[38;5;28mself\u001b[39m\u001b[38;5;241m.\u001b[39m_connectedView \u001b[38;5;241m=\u001b[39m weakref\u001b[38;5;241m.\u001b[39mref(view)\n\u001b[1;32m    519\u001b[0m     \u001b[38;5;28mself\u001b[39m\u001b[38;5;241m.\u001b[39mviewRangeChanged()\n\u001b[0;32m--> 520\u001b[0m     \u001b[38;5;28;43mself\u001b[39;49m\u001b[38;5;241;43m.\u001b[39;49m\u001b[43mviewTransformChanged\u001b[49m\u001b[43m(\u001b[49m\u001b[43m)\u001b[49m\n\u001b[1;32m    522\u001b[0m \u001b[38;5;66;03m## inform children that their view might have changed\u001b[39;00m\n\u001b[1;32m    523\u001b[0m \u001b[38;5;28mself\u001b[39m\u001b[38;5;241m.\u001b[39m_replaceView(oldView)\n",
      "File \u001b[0;32m~/opt/miniconda3/envs/zhunter_dev/lib/python3.9/site-packages/pyqtgraph/graphicsItems/InfiniteLine.py:609\u001b[0m, in \u001b[0;36mInfLineLabel.viewTransformChanged\u001b[0;34m(self)\u001b[0m\n\u001b[1;32m    607\u001b[0m \u001b[38;5;28;01mdef\u001b[39;00m \u001b[38;5;21mviewTransformChanged\u001b[39m(\u001b[38;5;28mself\u001b[39m):\n\u001b[1;32m    608\u001b[0m     GraphicsItem\u001b[38;5;241m.\u001b[39mviewTransformChanged(\u001b[38;5;28mself\u001b[39m)\n\u001b[0;32m--> 609\u001b[0m     \u001b[38;5;28;43mself\u001b[39;49m\u001b[38;5;241;43m.\u001b[39;49m\u001b[43mupdatePosition\u001b[49m\u001b[43m(\u001b[49m\u001b[43m)\u001b[49m\n\u001b[1;32m    610\u001b[0m     TextItem\u001b[38;5;241m.\u001b[39mviewTransformChanged(\u001b[38;5;28mself\u001b[39m)\n",
      "File \u001b[0;32m~/opt/miniconda3/envs/zhunter_dev/lib/python3.9/site-packages/pyqtgraph/graphicsItems/InfiniteLine.py:546\u001b[0m, in \u001b[0;36mInfLineLabel.updatePosition\u001b[0;34m(self)\u001b[0m\n\u001b[1;32m    543\u001b[0m \u001b[38;5;28mself\u001b[39m\u001b[38;5;241m.\u001b[39msetPos(pt)\n\u001b[1;32m    545\u001b[0m \u001b[38;5;66;03m# update anchor to keep text visible as it nears the view box edge\u001b[39;00m\n\u001b[0;32m--> 546\u001b[0m vr \u001b[38;5;241m=\u001b[39m \u001b[38;5;28;43mself\u001b[39;49m\u001b[38;5;241;43m.\u001b[39;49m\u001b[43mline\u001b[49m\u001b[38;5;241;43m.\u001b[39;49m\u001b[43mviewRect\u001b[49m\u001b[43m(\u001b[49m\u001b[43m)\u001b[49m\n\u001b[1;32m    547\u001b[0m \u001b[38;5;28;01mif\u001b[39;00m vr \u001b[38;5;129;01mis\u001b[39;00m \u001b[38;5;129;01mnot\u001b[39;00m \u001b[38;5;28;01mNone\u001b[39;00m:\n\u001b[1;32m    548\u001b[0m     \u001b[38;5;28mself\u001b[39m\u001b[38;5;241m.\u001b[39msetAnchor(\u001b[38;5;28mself\u001b[39m\u001b[38;5;241m.\u001b[39manchors[\u001b[38;5;241m0\u001b[39m \u001b[38;5;28;01mif\u001b[39;00m vr\u001b[38;5;241m.\u001b[39mcenter()\u001b[38;5;241m.\u001b[39my() \u001b[38;5;241m<\u001b[39m \u001b[38;5;241m0\u001b[39m \u001b[38;5;28;01melse\u001b[39;00m \u001b[38;5;241m1\u001b[39m])\n",
      "File \u001b[0;32m~/opt/miniconda3/envs/zhunter_dev/lib/python3.9/site-packages/pyqtgraph/graphicsItems/GraphicsItem.py:179\u001b[0m, in \u001b[0;36mGraphicsItem.viewRect\u001b[0;34m(self)\u001b[0m\n\u001b[1;32m    177\u001b[0m \u001b[38;5;28;01mif\u001b[39;00m view \u001b[38;5;129;01mis\u001b[39;00m \u001b[38;5;28;01mNone\u001b[39;00m:\n\u001b[1;32m    178\u001b[0m     \u001b[38;5;28;01mreturn\u001b[39;00m \u001b[38;5;28;01mNone\u001b[39;00m\n\u001b[0;32m--> 179\u001b[0m bounds \u001b[38;5;241m=\u001b[39m \u001b[38;5;28mself\u001b[39m\u001b[38;5;241m.\u001b[39mmapRectFromView(\u001b[43mview\u001b[49m\u001b[38;5;241;43m.\u001b[39;49m\u001b[43mviewRect\u001b[49m\u001b[43m(\u001b[49m\u001b[43m)\u001b[49m)\n\u001b[1;32m    180\u001b[0m \u001b[38;5;28;01mif\u001b[39;00m bounds \u001b[38;5;129;01mis\u001b[39;00m \u001b[38;5;28;01mNone\u001b[39;00m:\n\u001b[1;32m    181\u001b[0m     \u001b[38;5;28;01mreturn\u001b[39;00m \u001b[38;5;28;01mNone\u001b[39;00m\n",
      "File \u001b[0;32m~/opt/miniconda3/envs/zhunter_dev/lib/python3.9/site-packages/pyqtgraph/widgets/GraphicsView.py:225\u001b[0m, in \u001b[0;36mGraphicsView.viewRect\u001b[0;34m(self)\u001b[0m\n\u001b[1;32m    223\u001b[0m \u001b[38;5;250m\u001b[39m\u001b[38;5;124;03m\"\"\"Return the boundaries of the view in scene coordinates\"\"\"\u001b[39;00m\n\u001b[1;32m    224\u001b[0m \u001b[38;5;66;03m## easier to just return self.range ?\u001b[39;00m\n\u001b[0;32m--> 225\u001b[0m r \u001b[38;5;241m=\u001b[39m QtCore\u001b[38;5;241m.\u001b[39mQRectF(\u001b[38;5;28;43mself\u001b[39;49m\u001b[38;5;241;43m.\u001b[39;49m\u001b[43mrect\u001b[49m\u001b[43m(\u001b[49m\u001b[43m)\u001b[49m)\n\u001b[1;32m    226\u001b[0m \u001b[38;5;28;01mreturn\u001b[39;00m \u001b[38;5;28mself\u001b[39m\u001b[38;5;241m.\u001b[39mviewportTransform()\u001b[38;5;241m.\u001b[39minverted()[\u001b[38;5;241m0\u001b[39m]\u001b[38;5;241m.\u001b[39mmapRect(r)\n",
      "\u001b[0;31mTypeError\u001b[0m: 'QRectF' object is not callable"
     ]
    },
    {
     "ename": "TypeError",
     "evalue": "'QRectF' object is not callable",
     "output_type": "error",
     "traceback": [
      "\u001b[0;31m---------------------------------------------------------------------------\u001b[0m",
      "\u001b[0;31mTypeError\u001b[0m                                 Traceback (most recent call last)",
      "File \u001b[0;32m~/opt/miniconda3/envs/zhunter_dev/lib/python3.9/site-packages/pyqtgraph/graphicsItems/GraphicsObject.py:36\u001b[0m, in \u001b[0;36mGraphicsObject.itemChange\u001b[0;34m(self, change, value)\u001b[0m\n\u001b[1;32m     34\u001b[0m             \u001b[38;5;28mself\u001b[39m\u001b[38;5;241m.\u001b[39mparentChanged()\n\u001b[1;32m     35\u001b[0m     \u001b[38;5;28;01melse\u001b[39;00m:\n\u001b[0;32m---> 36\u001b[0m         \u001b[38;5;28;43mself\u001b[39;49m\u001b[38;5;241;43m.\u001b[39;49m\u001b[43mchangeParent\u001b[49m\u001b[43m(\u001b[49m\u001b[43m)\u001b[49m\n\u001b[1;32m     37\u001b[0m \u001b[38;5;28;01mtry\u001b[39;00m:\n\u001b[1;32m     38\u001b[0m     inform_view_on_change \u001b[38;5;241m=\u001b[39m \u001b[38;5;28mself\u001b[39m\u001b[38;5;241m.\u001b[39m__inform_view_on_changes\n",
      "File \u001b[0;32m~/opt/miniconda3/envs/zhunter_dev/lib/python3.9/site-packages/pyqtgraph/graphicsItems/GraphicsItem.py:460\u001b[0m, in \u001b[0;36mGraphicsItem.changeParent\u001b[0;34m(self)\u001b[0m\n\u001b[1;32m    455\u001b[0m \u001b[38;5;28;01mdef\u001b[39;00m \u001b[38;5;21mchangeParent\u001b[39m(\u001b[38;5;28mself\u001b[39m):\n\u001b[1;32m    456\u001b[0m \u001b[38;5;250m    \u001b[39m\u001b[38;5;124;03m\"\"\"Called when the item's parent has changed. \u001b[39;00m\n\u001b[1;32m    457\u001b[0m \u001b[38;5;124;03m    This method handles connecting / disconnecting from ViewBox signals\u001b[39;00m\n\u001b[1;32m    458\u001b[0m \u001b[38;5;124;03m    to make sure viewRangeChanged works properly. It should generally be \u001b[39;00m\n\u001b[1;32m    459\u001b[0m \u001b[38;5;124;03m    extended, not overridden.\"\"\"\u001b[39;00m\n\u001b[0;32m--> 460\u001b[0m     \u001b[38;5;28;43mself\u001b[39;49m\u001b[38;5;241;43m.\u001b[39;49m\u001b[43m_updateView\u001b[49m\u001b[43m(\u001b[49m\u001b[43m)\u001b[49m\n",
      "File \u001b[0;32m~/opt/miniconda3/envs/zhunter_dev/lib/python3.9/site-packages/pyqtgraph/graphicsItems/GraphicsItem.py:520\u001b[0m, in \u001b[0;36mGraphicsItem._updateView\u001b[0;34m(self)\u001b[0m\n\u001b[1;32m    518\u001b[0m     \u001b[38;5;28mself\u001b[39m\u001b[38;5;241m.\u001b[39m_connectedView \u001b[38;5;241m=\u001b[39m weakref\u001b[38;5;241m.\u001b[39mref(view)\n\u001b[1;32m    519\u001b[0m     \u001b[38;5;28mself\u001b[39m\u001b[38;5;241m.\u001b[39mviewRangeChanged()\n\u001b[0;32m--> 520\u001b[0m     \u001b[38;5;28;43mself\u001b[39;49m\u001b[38;5;241;43m.\u001b[39;49m\u001b[43mviewTransformChanged\u001b[49m\u001b[43m(\u001b[49m\u001b[43m)\u001b[49m\n\u001b[1;32m    522\u001b[0m \u001b[38;5;66;03m## inform children that their view might have changed\u001b[39;00m\n\u001b[1;32m    523\u001b[0m \u001b[38;5;28mself\u001b[39m\u001b[38;5;241m.\u001b[39m_replaceView(oldView)\n",
      "File \u001b[0;32m~/opt/miniconda3/envs/zhunter_dev/lib/python3.9/site-packages/pyqtgraph/graphicsItems/InfiniteLine.py:609\u001b[0m, in \u001b[0;36mInfLineLabel.viewTransformChanged\u001b[0;34m(self)\u001b[0m\n\u001b[1;32m    607\u001b[0m \u001b[38;5;28;01mdef\u001b[39;00m \u001b[38;5;21mviewTransformChanged\u001b[39m(\u001b[38;5;28mself\u001b[39m):\n\u001b[1;32m    608\u001b[0m     GraphicsItem\u001b[38;5;241m.\u001b[39mviewTransformChanged(\u001b[38;5;28mself\u001b[39m)\n\u001b[0;32m--> 609\u001b[0m     \u001b[38;5;28;43mself\u001b[39;49m\u001b[38;5;241;43m.\u001b[39;49m\u001b[43mupdatePosition\u001b[49m\u001b[43m(\u001b[49m\u001b[43m)\u001b[49m\n\u001b[1;32m    610\u001b[0m     TextItem\u001b[38;5;241m.\u001b[39mviewTransformChanged(\u001b[38;5;28mself\u001b[39m)\n",
      "File \u001b[0;32m~/opt/miniconda3/envs/zhunter_dev/lib/python3.9/site-packages/pyqtgraph/graphicsItems/InfiniteLine.py:546\u001b[0m, in \u001b[0;36mInfLineLabel.updatePosition\u001b[0;34m(self)\u001b[0m\n\u001b[1;32m    543\u001b[0m \u001b[38;5;28mself\u001b[39m\u001b[38;5;241m.\u001b[39msetPos(pt)\n\u001b[1;32m    545\u001b[0m \u001b[38;5;66;03m# update anchor to keep text visible as it nears the view box edge\u001b[39;00m\n\u001b[0;32m--> 546\u001b[0m vr \u001b[38;5;241m=\u001b[39m \u001b[38;5;28;43mself\u001b[39;49m\u001b[38;5;241;43m.\u001b[39;49m\u001b[43mline\u001b[49m\u001b[38;5;241;43m.\u001b[39;49m\u001b[43mviewRect\u001b[49m\u001b[43m(\u001b[49m\u001b[43m)\u001b[49m\n\u001b[1;32m    547\u001b[0m \u001b[38;5;28;01mif\u001b[39;00m vr \u001b[38;5;129;01mis\u001b[39;00m \u001b[38;5;129;01mnot\u001b[39;00m \u001b[38;5;28;01mNone\u001b[39;00m:\n\u001b[1;32m    548\u001b[0m     \u001b[38;5;28mself\u001b[39m\u001b[38;5;241m.\u001b[39msetAnchor(\u001b[38;5;28mself\u001b[39m\u001b[38;5;241m.\u001b[39manchors[\u001b[38;5;241m0\u001b[39m \u001b[38;5;28;01mif\u001b[39;00m vr\u001b[38;5;241m.\u001b[39mcenter()\u001b[38;5;241m.\u001b[39my() \u001b[38;5;241m<\u001b[39m \u001b[38;5;241m0\u001b[39m \u001b[38;5;28;01melse\u001b[39;00m \u001b[38;5;241m1\u001b[39m])\n",
      "File \u001b[0;32m~/opt/miniconda3/envs/zhunter_dev/lib/python3.9/site-packages/pyqtgraph/graphicsItems/GraphicsItem.py:179\u001b[0m, in \u001b[0;36mGraphicsItem.viewRect\u001b[0;34m(self)\u001b[0m\n\u001b[1;32m    177\u001b[0m \u001b[38;5;28;01mif\u001b[39;00m view \u001b[38;5;129;01mis\u001b[39;00m \u001b[38;5;28;01mNone\u001b[39;00m:\n\u001b[1;32m    178\u001b[0m     \u001b[38;5;28;01mreturn\u001b[39;00m \u001b[38;5;28;01mNone\u001b[39;00m\n\u001b[0;32m--> 179\u001b[0m bounds \u001b[38;5;241m=\u001b[39m \u001b[38;5;28mself\u001b[39m\u001b[38;5;241m.\u001b[39mmapRectFromView(\u001b[43mview\u001b[49m\u001b[38;5;241;43m.\u001b[39;49m\u001b[43mviewRect\u001b[49m\u001b[43m(\u001b[49m\u001b[43m)\u001b[49m)\n\u001b[1;32m    180\u001b[0m \u001b[38;5;28;01mif\u001b[39;00m bounds \u001b[38;5;129;01mis\u001b[39;00m \u001b[38;5;28;01mNone\u001b[39;00m:\n\u001b[1;32m    181\u001b[0m     \u001b[38;5;28;01mreturn\u001b[39;00m \u001b[38;5;28;01mNone\u001b[39;00m\n",
      "File \u001b[0;32m~/opt/miniconda3/envs/zhunter_dev/lib/python3.9/site-packages/pyqtgraph/widgets/GraphicsView.py:225\u001b[0m, in \u001b[0;36mGraphicsView.viewRect\u001b[0;34m(self)\u001b[0m\n\u001b[1;32m    223\u001b[0m \u001b[38;5;250m\u001b[39m\u001b[38;5;124;03m\"\"\"Return the boundaries of the view in scene coordinates\"\"\"\u001b[39;00m\n\u001b[1;32m    224\u001b[0m \u001b[38;5;66;03m## easier to just return self.range ?\u001b[39;00m\n\u001b[0;32m--> 225\u001b[0m r \u001b[38;5;241m=\u001b[39m QtCore\u001b[38;5;241m.\u001b[39mQRectF(\u001b[38;5;28;43mself\u001b[39;49m\u001b[38;5;241;43m.\u001b[39;49m\u001b[43mrect\u001b[49m\u001b[43m(\u001b[49m\u001b[43m)\u001b[49m)\n\u001b[1;32m    226\u001b[0m \u001b[38;5;28;01mreturn\u001b[39;00m \u001b[38;5;28mself\u001b[39m\u001b[38;5;241m.\u001b[39mviewportTransform()\u001b[38;5;241m.\u001b[39minverted()[\u001b[38;5;241m0\u001b[39m]\u001b[38;5;241m.\u001b[39mmapRect(r)\n",
      "\u001b[0;31mTypeError\u001b[0m: 'QRectF' object is not callable"
     ]
    },
    {
     "ename": "TypeError",
     "evalue": "'QRectF' object is not callable",
     "output_type": "error",
     "traceback": [
      "\u001b[0;31m---------------------------------------------------------------------------\u001b[0m",
      "\u001b[0;31mTypeError\u001b[0m                                 Traceback (most recent call last)",
      "File \u001b[0;32m~/opt/miniconda3/envs/zhunter_dev/lib/python3.9/site-packages/pyqtgraph/graphicsItems/GraphicsObject.py:36\u001b[0m, in \u001b[0;36mGraphicsObject.itemChange\u001b[0;34m(self, change, value)\u001b[0m\n\u001b[1;32m     34\u001b[0m             \u001b[38;5;28mself\u001b[39m\u001b[38;5;241m.\u001b[39mparentChanged()\n\u001b[1;32m     35\u001b[0m     \u001b[38;5;28;01melse\u001b[39;00m:\n\u001b[0;32m---> 36\u001b[0m         \u001b[38;5;28;43mself\u001b[39;49m\u001b[38;5;241;43m.\u001b[39;49m\u001b[43mchangeParent\u001b[49m\u001b[43m(\u001b[49m\u001b[43m)\u001b[49m\n\u001b[1;32m     37\u001b[0m \u001b[38;5;28;01mtry\u001b[39;00m:\n\u001b[1;32m     38\u001b[0m     inform_view_on_change \u001b[38;5;241m=\u001b[39m \u001b[38;5;28mself\u001b[39m\u001b[38;5;241m.\u001b[39m__inform_view_on_changes\n",
      "File \u001b[0;32m~/opt/miniconda3/envs/zhunter_dev/lib/python3.9/site-packages/pyqtgraph/graphicsItems/GraphicsItem.py:460\u001b[0m, in \u001b[0;36mGraphicsItem.changeParent\u001b[0;34m(self)\u001b[0m\n\u001b[1;32m    455\u001b[0m \u001b[38;5;28;01mdef\u001b[39;00m \u001b[38;5;21mchangeParent\u001b[39m(\u001b[38;5;28mself\u001b[39m):\n\u001b[1;32m    456\u001b[0m \u001b[38;5;250m    \u001b[39m\u001b[38;5;124;03m\"\"\"Called when the item's parent has changed. \u001b[39;00m\n\u001b[1;32m    457\u001b[0m \u001b[38;5;124;03m    This method handles connecting / disconnecting from ViewBox signals\u001b[39;00m\n\u001b[1;32m    458\u001b[0m \u001b[38;5;124;03m    to make sure viewRangeChanged works properly. It should generally be \u001b[39;00m\n\u001b[1;32m    459\u001b[0m \u001b[38;5;124;03m    extended, not overridden.\"\"\"\u001b[39;00m\n\u001b[0;32m--> 460\u001b[0m     \u001b[38;5;28;43mself\u001b[39;49m\u001b[38;5;241;43m.\u001b[39;49m\u001b[43m_updateView\u001b[49m\u001b[43m(\u001b[49m\u001b[43m)\u001b[49m\n",
      "File \u001b[0;32m~/opt/miniconda3/envs/zhunter_dev/lib/python3.9/site-packages/pyqtgraph/graphicsItems/GraphicsItem.py:520\u001b[0m, in \u001b[0;36mGraphicsItem._updateView\u001b[0;34m(self)\u001b[0m\n\u001b[1;32m    518\u001b[0m     \u001b[38;5;28mself\u001b[39m\u001b[38;5;241m.\u001b[39m_connectedView \u001b[38;5;241m=\u001b[39m weakref\u001b[38;5;241m.\u001b[39mref(view)\n\u001b[1;32m    519\u001b[0m     \u001b[38;5;28mself\u001b[39m\u001b[38;5;241m.\u001b[39mviewRangeChanged()\n\u001b[0;32m--> 520\u001b[0m     \u001b[38;5;28;43mself\u001b[39;49m\u001b[38;5;241;43m.\u001b[39;49m\u001b[43mviewTransformChanged\u001b[49m\u001b[43m(\u001b[49m\u001b[43m)\u001b[49m\n\u001b[1;32m    522\u001b[0m \u001b[38;5;66;03m## inform children that their view might have changed\u001b[39;00m\n\u001b[1;32m    523\u001b[0m \u001b[38;5;28mself\u001b[39m\u001b[38;5;241m.\u001b[39m_replaceView(oldView)\n",
      "File \u001b[0;32m~/opt/miniconda3/envs/zhunter_dev/lib/python3.9/site-packages/pyqtgraph/graphicsItems/InfiniteLine.py:609\u001b[0m, in \u001b[0;36mInfLineLabel.viewTransformChanged\u001b[0;34m(self)\u001b[0m\n\u001b[1;32m    607\u001b[0m \u001b[38;5;28;01mdef\u001b[39;00m \u001b[38;5;21mviewTransformChanged\u001b[39m(\u001b[38;5;28mself\u001b[39m):\n\u001b[1;32m    608\u001b[0m     GraphicsItem\u001b[38;5;241m.\u001b[39mviewTransformChanged(\u001b[38;5;28mself\u001b[39m)\n\u001b[0;32m--> 609\u001b[0m     \u001b[38;5;28;43mself\u001b[39;49m\u001b[38;5;241;43m.\u001b[39;49m\u001b[43mupdatePosition\u001b[49m\u001b[43m(\u001b[49m\u001b[43m)\u001b[49m\n\u001b[1;32m    610\u001b[0m     TextItem\u001b[38;5;241m.\u001b[39mviewTransformChanged(\u001b[38;5;28mself\u001b[39m)\n",
      "File \u001b[0;32m~/opt/miniconda3/envs/zhunter_dev/lib/python3.9/site-packages/pyqtgraph/graphicsItems/InfiniteLine.py:546\u001b[0m, in \u001b[0;36mInfLineLabel.updatePosition\u001b[0;34m(self)\u001b[0m\n\u001b[1;32m    543\u001b[0m \u001b[38;5;28mself\u001b[39m\u001b[38;5;241m.\u001b[39msetPos(pt)\n\u001b[1;32m    545\u001b[0m \u001b[38;5;66;03m# update anchor to keep text visible as it nears the view box edge\u001b[39;00m\n\u001b[0;32m--> 546\u001b[0m vr \u001b[38;5;241m=\u001b[39m \u001b[38;5;28;43mself\u001b[39;49m\u001b[38;5;241;43m.\u001b[39;49m\u001b[43mline\u001b[49m\u001b[38;5;241;43m.\u001b[39;49m\u001b[43mviewRect\u001b[49m\u001b[43m(\u001b[49m\u001b[43m)\u001b[49m\n\u001b[1;32m    547\u001b[0m \u001b[38;5;28;01mif\u001b[39;00m vr \u001b[38;5;129;01mis\u001b[39;00m \u001b[38;5;129;01mnot\u001b[39;00m \u001b[38;5;28;01mNone\u001b[39;00m:\n\u001b[1;32m    548\u001b[0m     \u001b[38;5;28mself\u001b[39m\u001b[38;5;241m.\u001b[39msetAnchor(\u001b[38;5;28mself\u001b[39m\u001b[38;5;241m.\u001b[39manchors[\u001b[38;5;241m0\u001b[39m \u001b[38;5;28;01mif\u001b[39;00m vr\u001b[38;5;241m.\u001b[39mcenter()\u001b[38;5;241m.\u001b[39my() \u001b[38;5;241m<\u001b[39m \u001b[38;5;241m0\u001b[39m \u001b[38;5;28;01melse\u001b[39;00m \u001b[38;5;241m1\u001b[39m])\n",
      "File \u001b[0;32m~/opt/miniconda3/envs/zhunter_dev/lib/python3.9/site-packages/pyqtgraph/graphicsItems/GraphicsItem.py:179\u001b[0m, in \u001b[0;36mGraphicsItem.viewRect\u001b[0;34m(self)\u001b[0m\n\u001b[1;32m    177\u001b[0m \u001b[38;5;28;01mif\u001b[39;00m view \u001b[38;5;129;01mis\u001b[39;00m \u001b[38;5;28;01mNone\u001b[39;00m:\n\u001b[1;32m    178\u001b[0m     \u001b[38;5;28;01mreturn\u001b[39;00m \u001b[38;5;28;01mNone\u001b[39;00m\n\u001b[0;32m--> 179\u001b[0m bounds \u001b[38;5;241m=\u001b[39m \u001b[38;5;28mself\u001b[39m\u001b[38;5;241m.\u001b[39mmapRectFromView(\u001b[43mview\u001b[49m\u001b[38;5;241;43m.\u001b[39;49m\u001b[43mviewRect\u001b[49m\u001b[43m(\u001b[49m\u001b[43m)\u001b[49m)\n\u001b[1;32m    180\u001b[0m \u001b[38;5;28;01mif\u001b[39;00m bounds \u001b[38;5;129;01mis\u001b[39;00m \u001b[38;5;28;01mNone\u001b[39;00m:\n\u001b[1;32m    181\u001b[0m     \u001b[38;5;28;01mreturn\u001b[39;00m \u001b[38;5;28;01mNone\u001b[39;00m\n",
      "File \u001b[0;32m~/opt/miniconda3/envs/zhunter_dev/lib/python3.9/site-packages/pyqtgraph/widgets/GraphicsView.py:225\u001b[0m, in \u001b[0;36mGraphicsView.viewRect\u001b[0;34m(self)\u001b[0m\n\u001b[1;32m    223\u001b[0m \u001b[38;5;250m\u001b[39m\u001b[38;5;124;03m\"\"\"Return the boundaries of the view in scene coordinates\"\"\"\u001b[39;00m\n\u001b[1;32m    224\u001b[0m \u001b[38;5;66;03m## easier to just return self.range ?\u001b[39;00m\n\u001b[0;32m--> 225\u001b[0m r \u001b[38;5;241m=\u001b[39m QtCore\u001b[38;5;241m.\u001b[39mQRectF(\u001b[38;5;28;43mself\u001b[39;49m\u001b[38;5;241;43m.\u001b[39;49m\u001b[43mrect\u001b[49m\u001b[43m(\u001b[49m\u001b[43m)\u001b[49m)\n\u001b[1;32m    226\u001b[0m \u001b[38;5;28;01mreturn\u001b[39;00m \u001b[38;5;28mself\u001b[39m\u001b[38;5;241m.\u001b[39mviewportTransform()\u001b[38;5;241m.\u001b[39minverted()[\u001b[38;5;241m0\u001b[39m]\u001b[38;5;241m.\u001b[39mmapRect(r)\n",
      "\u001b[0;31mTypeError\u001b[0m: 'QRectF' object is not callable"
     ]
    },
    {
     "ename": "TypeError",
     "evalue": "'QRectF' object is not callable",
     "output_type": "error",
     "traceback": [
      "\u001b[0;31m---------------------------------------------------------------------------\u001b[0m",
      "\u001b[0;31mTypeError\u001b[0m                                 Traceback (most recent call last)",
      "File \u001b[0;32m~/opt/miniconda3/envs/zhunter_dev/lib/python3.9/site-packages/pyqtgraph/graphicsItems/GraphicsObject.py:36\u001b[0m, in \u001b[0;36mGraphicsObject.itemChange\u001b[0;34m(self, change, value)\u001b[0m\n\u001b[1;32m     34\u001b[0m             \u001b[38;5;28mself\u001b[39m\u001b[38;5;241m.\u001b[39mparentChanged()\n\u001b[1;32m     35\u001b[0m     \u001b[38;5;28;01melse\u001b[39;00m:\n\u001b[0;32m---> 36\u001b[0m         \u001b[38;5;28;43mself\u001b[39;49m\u001b[38;5;241;43m.\u001b[39;49m\u001b[43mchangeParent\u001b[49m\u001b[43m(\u001b[49m\u001b[43m)\u001b[49m\n\u001b[1;32m     37\u001b[0m \u001b[38;5;28;01mtry\u001b[39;00m:\n\u001b[1;32m     38\u001b[0m     inform_view_on_change \u001b[38;5;241m=\u001b[39m \u001b[38;5;28mself\u001b[39m\u001b[38;5;241m.\u001b[39m__inform_view_on_changes\n",
      "File \u001b[0;32m~/opt/miniconda3/envs/zhunter_dev/lib/python3.9/site-packages/pyqtgraph/graphicsItems/GraphicsItem.py:460\u001b[0m, in \u001b[0;36mGraphicsItem.changeParent\u001b[0;34m(self)\u001b[0m\n\u001b[1;32m    455\u001b[0m \u001b[38;5;28;01mdef\u001b[39;00m \u001b[38;5;21mchangeParent\u001b[39m(\u001b[38;5;28mself\u001b[39m):\n\u001b[1;32m    456\u001b[0m \u001b[38;5;250m    \u001b[39m\u001b[38;5;124;03m\"\"\"Called when the item's parent has changed. \u001b[39;00m\n\u001b[1;32m    457\u001b[0m \u001b[38;5;124;03m    This method handles connecting / disconnecting from ViewBox signals\u001b[39;00m\n\u001b[1;32m    458\u001b[0m \u001b[38;5;124;03m    to make sure viewRangeChanged works properly. It should generally be \u001b[39;00m\n\u001b[1;32m    459\u001b[0m \u001b[38;5;124;03m    extended, not overridden.\"\"\"\u001b[39;00m\n\u001b[0;32m--> 460\u001b[0m     \u001b[38;5;28;43mself\u001b[39;49m\u001b[38;5;241;43m.\u001b[39;49m\u001b[43m_updateView\u001b[49m\u001b[43m(\u001b[49m\u001b[43m)\u001b[49m\n",
      "File \u001b[0;32m~/opt/miniconda3/envs/zhunter_dev/lib/python3.9/site-packages/pyqtgraph/graphicsItems/GraphicsItem.py:520\u001b[0m, in \u001b[0;36mGraphicsItem._updateView\u001b[0;34m(self)\u001b[0m\n\u001b[1;32m    518\u001b[0m     \u001b[38;5;28mself\u001b[39m\u001b[38;5;241m.\u001b[39m_connectedView \u001b[38;5;241m=\u001b[39m weakref\u001b[38;5;241m.\u001b[39mref(view)\n\u001b[1;32m    519\u001b[0m     \u001b[38;5;28mself\u001b[39m\u001b[38;5;241m.\u001b[39mviewRangeChanged()\n\u001b[0;32m--> 520\u001b[0m     \u001b[38;5;28;43mself\u001b[39;49m\u001b[38;5;241;43m.\u001b[39;49m\u001b[43mviewTransformChanged\u001b[49m\u001b[43m(\u001b[49m\u001b[43m)\u001b[49m\n\u001b[1;32m    522\u001b[0m \u001b[38;5;66;03m## inform children that their view might have changed\u001b[39;00m\n\u001b[1;32m    523\u001b[0m \u001b[38;5;28mself\u001b[39m\u001b[38;5;241m.\u001b[39m_replaceView(oldView)\n",
      "File \u001b[0;32m~/opt/miniconda3/envs/zhunter_dev/lib/python3.9/site-packages/pyqtgraph/graphicsItems/InfiniteLine.py:609\u001b[0m, in \u001b[0;36mInfLineLabel.viewTransformChanged\u001b[0;34m(self)\u001b[0m\n\u001b[1;32m    607\u001b[0m \u001b[38;5;28;01mdef\u001b[39;00m \u001b[38;5;21mviewTransformChanged\u001b[39m(\u001b[38;5;28mself\u001b[39m):\n\u001b[1;32m    608\u001b[0m     GraphicsItem\u001b[38;5;241m.\u001b[39mviewTransformChanged(\u001b[38;5;28mself\u001b[39m)\n\u001b[0;32m--> 609\u001b[0m     \u001b[38;5;28;43mself\u001b[39;49m\u001b[38;5;241;43m.\u001b[39;49m\u001b[43mupdatePosition\u001b[49m\u001b[43m(\u001b[49m\u001b[43m)\u001b[49m\n\u001b[1;32m    610\u001b[0m     TextItem\u001b[38;5;241m.\u001b[39mviewTransformChanged(\u001b[38;5;28mself\u001b[39m)\n",
      "File \u001b[0;32m~/opt/miniconda3/envs/zhunter_dev/lib/python3.9/site-packages/pyqtgraph/graphicsItems/InfiniteLine.py:546\u001b[0m, in \u001b[0;36mInfLineLabel.updatePosition\u001b[0;34m(self)\u001b[0m\n\u001b[1;32m    543\u001b[0m \u001b[38;5;28mself\u001b[39m\u001b[38;5;241m.\u001b[39msetPos(pt)\n\u001b[1;32m    545\u001b[0m \u001b[38;5;66;03m# update anchor to keep text visible as it nears the view box edge\u001b[39;00m\n\u001b[0;32m--> 546\u001b[0m vr \u001b[38;5;241m=\u001b[39m \u001b[38;5;28;43mself\u001b[39;49m\u001b[38;5;241;43m.\u001b[39;49m\u001b[43mline\u001b[49m\u001b[38;5;241;43m.\u001b[39;49m\u001b[43mviewRect\u001b[49m\u001b[43m(\u001b[49m\u001b[43m)\u001b[49m\n\u001b[1;32m    547\u001b[0m \u001b[38;5;28;01mif\u001b[39;00m vr \u001b[38;5;129;01mis\u001b[39;00m \u001b[38;5;129;01mnot\u001b[39;00m \u001b[38;5;28;01mNone\u001b[39;00m:\n\u001b[1;32m    548\u001b[0m     \u001b[38;5;28mself\u001b[39m\u001b[38;5;241m.\u001b[39msetAnchor(\u001b[38;5;28mself\u001b[39m\u001b[38;5;241m.\u001b[39manchors[\u001b[38;5;241m0\u001b[39m \u001b[38;5;28;01mif\u001b[39;00m vr\u001b[38;5;241m.\u001b[39mcenter()\u001b[38;5;241m.\u001b[39my() \u001b[38;5;241m<\u001b[39m \u001b[38;5;241m0\u001b[39m \u001b[38;5;28;01melse\u001b[39;00m \u001b[38;5;241m1\u001b[39m])\n",
      "File \u001b[0;32m~/opt/miniconda3/envs/zhunter_dev/lib/python3.9/site-packages/pyqtgraph/graphicsItems/GraphicsItem.py:179\u001b[0m, in \u001b[0;36mGraphicsItem.viewRect\u001b[0;34m(self)\u001b[0m\n\u001b[1;32m    177\u001b[0m \u001b[38;5;28;01mif\u001b[39;00m view \u001b[38;5;129;01mis\u001b[39;00m \u001b[38;5;28;01mNone\u001b[39;00m:\n\u001b[1;32m    178\u001b[0m     \u001b[38;5;28;01mreturn\u001b[39;00m \u001b[38;5;28;01mNone\u001b[39;00m\n\u001b[0;32m--> 179\u001b[0m bounds \u001b[38;5;241m=\u001b[39m \u001b[38;5;28mself\u001b[39m\u001b[38;5;241m.\u001b[39mmapRectFromView(\u001b[43mview\u001b[49m\u001b[38;5;241;43m.\u001b[39;49m\u001b[43mviewRect\u001b[49m\u001b[43m(\u001b[49m\u001b[43m)\u001b[49m)\n\u001b[1;32m    180\u001b[0m \u001b[38;5;28;01mif\u001b[39;00m bounds \u001b[38;5;129;01mis\u001b[39;00m \u001b[38;5;28;01mNone\u001b[39;00m:\n\u001b[1;32m    181\u001b[0m     \u001b[38;5;28;01mreturn\u001b[39;00m \u001b[38;5;28;01mNone\u001b[39;00m\n",
      "File \u001b[0;32m~/opt/miniconda3/envs/zhunter_dev/lib/python3.9/site-packages/pyqtgraph/widgets/GraphicsView.py:225\u001b[0m, in \u001b[0;36mGraphicsView.viewRect\u001b[0;34m(self)\u001b[0m\n\u001b[1;32m    223\u001b[0m \u001b[38;5;250m\u001b[39m\u001b[38;5;124;03m\"\"\"Return the boundaries of the view in scene coordinates\"\"\"\u001b[39;00m\n\u001b[1;32m    224\u001b[0m \u001b[38;5;66;03m## easier to just return self.range ?\u001b[39;00m\n\u001b[0;32m--> 225\u001b[0m r \u001b[38;5;241m=\u001b[39m QtCore\u001b[38;5;241m.\u001b[39mQRectF(\u001b[38;5;28;43mself\u001b[39;49m\u001b[38;5;241;43m.\u001b[39;49m\u001b[43mrect\u001b[49m\u001b[43m(\u001b[49m\u001b[43m)\u001b[49m)\n\u001b[1;32m    226\u001b[0m \u001b[38;5;28;01mreturn\u001b[39;00m \u001b[38;5;28mself\u001b[39m\u001b[38;5;241m.\u001b[39mviewportTransform()\u001b[38;5;241m.\u001b[39minverted()[\u001b[38;5;241m0\u001b[39m]\u001b[38;5;241m.\u001b[39mmapRect(r)\n",
      "\u001b[0;31mTypeError\u001b[0m: 'QRectF' object is not callable"
     ]
    },
    {
     "ename": "TypeError",
     "evalue": "'QRectF' object is not callable",
     "output_type": "error",
     "traceback": [
      "\u001b[0;31m---------------------------------------------------------------------------\u001b[0m",
      "\u001b[0;31mTypeError\u001b[0m                                 Traceback (most recent call last)",
      "File \u001b[0;32m~/opt/miniconda3/envs/zhunter_dev/lib/python3.9/site-packages/pyqtgraph/graphicsItems/GraphicsObject.py:36\u001b[0m, in \u001b[0;36mGraphicsObject.itemChange\u001b[0;34m(self, change, value)\u001b[0m\n\u001b[1;32m     34\u001b[0m             \u001b[38;5;28mself\u001b[39m\u001b[38;5;241m.\u001b[39mparentChanged()\n\u001b[1;32m     35\u001b[0m     \u001b[38;5;28;01melse\u001b[39;00m:\n\u001b[0;32m---> 36\u001b[0m         \u001b[38;5;28;43mself\u001b[39;49m\u001b[38;5;241;43m.\u001b[39;49m\u001b[43mchangeParent\u001b[49m\u001b[43m(\u001b[49m\u001b[43m)\u001b[49m\n\u001b[1;32m     37\u001b[0m \u001b[38;5;28;01mtry\u001b[39;00m:\n\u001b[1;32m     38\u001b[0m     inform_view_on_change \u001b[38;5;241m=\u001b[39m \u001b[38;5;28mself\u001b[39m\u001b[38;5;241m.\u001b[39m__inform_view_on_changes\n",
      "File \u001b[0;32m~/opt/miniconda3/envs/zhunter_dev/lib/python3.9/site-packages/pyqtgraph/graphicsItems/GraphicsItem.py:460\u001b[0m, in \u001b[0;36mGraphicsItem.changeParent\u001b[0;34m(self)\u001b[0m\n\u001b[1;32m    455\u001b[0m \u001b[38;5;28;01mdef\u001b[39;00m \u001b[38;5;21mchangeParent\u001b[39m(\u001b[38;5;28mself\u001b[39m):\n\u001b[1;32m    456\u001b[0m \u001b[38;5;250m    \u001b[39m\u001b[38;5;124;03m\"\"\"Called when the item's parent has changed. \u001b[39;00m\n\u001b[1;32m    457\u001b[0m \u001b[38;5;124;03m    This method handles connecting / disconnecting from ViewBox signals\u001b[39;00m\n\u001b[1;32m    458\u001b[0m \u001b[38;5;124;03m    to make sure viewRangeChanged works properly. It should generally be \u001b[39;00m\n\u001b[1;32m    459\u001b[0m \u001b[38;5;124;03m    extended, not overridden.\"\"\"\u001b[39;00m\n\u001b[0;32m--> 460\u001b[0m     \u001b[38;5;28;43mself\u001b[39;49m\u001b[38;5;241;43m.\u001b[39;49m\u001b[43m_updateView\u001b[49m\u001b[43m(\u001b[49m\u001b[43m)\u001b[49m\n",
      "File \u001b[0;32m~/opt/miniconda3/envs/zhunter_dev/lib/python3.9/site-packages/pyqtgraph/graphicsItems/GraphicsItem.py:520\u001b[0m, in \u001b[0;36mGraphicsItem._updateView\u001b[0;34m(self)\u001b[0m\n\u001b[1;32m    518\u001b[0m     \u001b[38;5;28mself\u001b[39m\u001b[38;5;241m.\u001b[39m_connectedView \u001b[38;5;241m=\u001b[39m weakref\u001b[38;5;241m.\u001b[39mref(view)\n\u001b[1;32m    519\u001b[0m     \u001b[38;5;28mself\u001b[39m\u001b[38;5;241m.\u001b[39mviewRangeChanged()\n\u001b[0;32m--> 520\u001b[0m     \u001b[38;5;28;43mself\u001b[39;49m\u001b[38;5;241;43m.\u001b[39;49m\u001b[43mviewTransformChanged\u001b[49m\u001b[43m(\u001b[49m\u001b[43m)\u001b[49m\n\u001b[1;32m    522\u001b[0m \u001b[38;5;66;03m## inform children that their view might have changed\u001b[39;00m\n\u001b[1;32m    523\u001b[0m \u001b[38;5;28mself\u001b[39m\u001b[38;5;241m.\u001b[39m_replaceView(oldView)\n",
      "File \u001b[0;32m~/opt/miniconda3/envs/zhunter_dev/lib/python3.9/site-packages/pyqtgraph/graphicsItems/InfiniteLine.py:609\u001b[0m, in \u001b[0;36mInfLineLabel.viewTransformChanged\u001b[0;34m(self)\u001b[0m\n\u001b[1;32m    607\u001b[0m \u001b[38;5;28;01mdef\u001b[39;00m \u001b[38;5;21mviewTransformChanged\u001b[39m(\u001b[38;5;28mself\u001b[39m):\n\u001b[1;32m    608\u001b[0m     GraphicsItem\u001b[38;5;241m.\u001b[39mviewTransformChanged(\u001b[38;5;28mself\u001b[39m)\n\u001b[0;32m--> 609\u001b[0m     \u001b[38;5;28;43mself\u001b[39;49m\u001b[38;5;241;43m.\u001b[39;49m\u001b[43mupdatePosition\u001b[49m\u001b[43m(\u001b[49m\u001b[43m)\u001b[49m\n\u001b[1;32m    610\u001b[0m     TextItem\u001b[38;5;241m.\u001b[39mviewTransformChanged(\u001b[38;5;28mself\u001b[39m)\n",
      "File \u001b[0;32m~/opt/miniconda3/envs/zhunter_dev/lib/python3.9/site-packages/pyqtgraph/graphicsItems/InfiniteLine.py:546\u001b[0m, in \u001b[0;36mInfLineLabel.updatePosition\u001b[0;34m(self)\u001b[0m\n\u001b[1;32m    543\u001b[0m \u001b[38;5;28mself\u001b[39m\u001b[38;5;241m.\u001b[39msetPos(pt)\n\u001b[1;32m    545\u001b[0m \u001b[38;5;66;03m# update anchor to keep text visible as it nears the view box edge\u001b[39;00m\n\u001b[0;32m--> 546\u001b[0m vr \u001b[38;5;241m=\u001b[39m \u001b[38;5;28;43mself\u001b[39;49m\u001b[38;5;241;43m.\u001b[39;49m\u001b[43mline\u001b[49m\u001b[38;5;241;43m.\u001b[39;49m\u001b[43mviewRect\u001b[49m\u001b[43m(\u001b[49m\u001b[43m)\u001b[49m\n\u001b[1;32m    547\u001b[0m \u001b[38;5;28;01mif\u001b[39;00m vr \u001b[38;5;129;01mis\u001b[39;00m \u001b[38;5;129;01mnot\u001b[39;00m \u001b[38;5;28;01mNone\u001b[39;00m:\n\u001b[1;32m    548\u001b[0m     \u001b[38;5;28mself\u001b[39m\u001b[38;5;241m.\u001b[39msetAnchor(\u001b[38;5;28mself\u001b[39m\u001b[38;5;241m.\u001b[39manchors[\u001b[38;5;241m0\u001b[39m \u001b[38;5;28;01mif\u001b[39;00m vr\u001b[38;5;241m.\u001b[39mcenter()\u001b[38;5;241m.\u001b[39my() \u001b[38;5;241m<\u001b[39m \u001b[38;5;241m0\u001b[39m \u001b[38;5;28;01melse\u001b[39;00m \u001b[38;5;241m1\u001b[39m])\n",
      "File \u001b[0;32m~/opt/miniconda3/envs/zhunter_dev/lib/python3.9/site-packages/pyqtgraph/graphicsItems/GraphicsItem.py:179\u001b[0m, in \u001b[0;36mGraphicsItem.viewRect\u001b[0;34m(self)\u001b[0m\n\u001b[1;32m    177\u001b[0m \u001b[38;5;28;01mif\u001b[39;00m view \u001b[38;5;129;01mis\u001b[39;00m \u001b[38;5;28;01mNone\u001b[39;00m:\n\u001b[1;32m    178\u001b[0m     \u001b[38;5;28;01mreturn\u001b[39;00m \u001b[38;5;28;01mNone\u001b[39;00m\n\u001b[0;32m--> 179\u001b[0m bounds \u001b[38;5;241m=\u001b[39m \u001b[38;5;28mself\u001b[39m\u001b[38;5;241m.\u001b[39mmapRectFromView(\u001b[43mview\u001b[49m\u001b[38;5;241;43m.\u001b[39;49m\u001b[43mviewRect\u001b[49m\u001b[43m(\u001b[49m\u001b[43m)\u001b[49m)\n\u001b[1;32m    180\u001b[0m \u001b[38;5;28;01mif\u001b[39;00m bounds \u001b[38;5;129;01mis\u001b[39;00m \u001b[38;5;28;01mNone\u001b[39;00m:\n\u001b[1;32m    181\u001b[0m     \u001b[38;5;28;01mreturn\u001b[39;00m \u001b[38;5;28;01mNone\u001b[39;00m\n",
      "File \u001b[0;32m~/opt/miniconda3/envs/zhunter_dev/lib/python3.9/site-packages/pyqtgraph/widgets/GraphicsView.py:225\u001b[0m, in \u001b[0;36mGraphicsView.viewRect\u001b[0;34m(self)\u001b[0m\n\u001b[1;32m    223\u001b[0m \u001b[38;5;250m\u001b[39m\u001b[38;5;124;03m\"\"\"Return the boundaries of the view in scene coordinates\"\"\"\u001b[39;00m\n\u001b[1;32m    224\u001b[0m \u001b[38;5;66;03m## easier to just return self.range ?\u001b[39;00m\n\u001b[0;32m--> 225\u001b[0m r \u001b[38;5;241m=\u001b[39m QtCore\u001b[38;5;241m.\u001b[39mQRectF(\u001b[38;5;28;43mself\u001b[39;49m\u001b[38;5;241;43m.\u001b[39;49m\u001b[43mrect\u001b[49m\u001b[43m(\u001b[49m\u001b[43m)\u001b[49m)\n\u001b[1;32m    226\u001b[0m \u001b[38;5;28;01mreturn\u001b[39;00m \u001b[38;5;28mself\u001b[39m\u001b[38;5;241m.\u001b[39mviewportTransform()\u001b[38;5;241m.\u001b[39minverted()[\u001b[38;5;241m0\u001b[39m]\u001b[38;5;241m.\u001b[39mmapRect(r)\n",
      "\u001b[0;31mTypeError\u001b[0m: 'QRectF' object is not callable"
     ]
    },
    {
     "name": "stdout",
     "output_type": "stream",
     "text": [
      "2023-03-21 10:43:39,659 DEBUG [zhunter.spectroscopic_system] Removed abs system at redshift 5.91137 from plot\n",
      "2023-03-21 10:43:39,660 DEBUG [zhunter.spectroscopic_system] Drawing abs system at redshift : 5.91137\n",
      "2023-03-21 10:43:39,696 INFO [zhunter.spectroscopic_system] Updated redshift of abs system to: 5.9114\n"
     ]
    },
    {
     "name": "stderr",
     "output_type": "stream",
     "text": [
      "Traceback (most recent call last):\n",
      "  File \"/Users/palmerio/opt/miniconda3/envs/zhunter_dev/lib/python3.9/site-packages/pyqtgraph/graphicsItems/GraphicsObject.py\", line 36, in itemChange\n",
      "    self.changeParent()\n",
      "  File \"/Users/palmerio/opt/miniconda3/envs/zhunter_dev/lib/python3.9/site-packages/pyqtgraph/graphicsItems/GraphicsItem.py\", line 460, in changeParent\n",
      "    self._updateView()\n",
      "  File \"/Users/palmerio/opt/miniconda3/envs/zhunter_dev/lib/python3.9/site-packages/pyqtgraph/graphicsItems/GraphicsItem.py\", line 520, in _updateView\n",
      "    self.viewTransformChanged()\n",
      "  File \"/Users/palmerio/opt/miniconda3/envs/zhunter_dev/lib/python3.9/site-packages/pyqtgraph/graphicsItems/InfiniteLine.py\", line 609, in viewTransformChanged\n",
      "    self.updatePosition()\n",
      "  File \"/Users/palmerio/opt/miniconda3/envs/zhunter_dev/lib/python3.9/site-packages/pyqtgraph/graphicsItems/InfiniteLine.py\", line 546, in updatePosition\n",
      "    vr = self.line.viewRect()\n",
      "  File \"/Users/palmerio/opt/miniconda3/envs/zhunter_dev/lib/python3.9/site-packages/pyqtgraph/graphicsItems/GraphicsItem.py\", line 179, in viewRect\n",
      "    bounds = self.mapRectFromView(view.viewRect())\n",
      "  File \"/Users/palmerio/opt/miniconda3/envs/zhunter_dev/lib/python3.9/site-packages/pyqtgraph/widgets/GraphicsView.py\", line 225, in viewRect\n",
      "    r = QtCore.QRectF(self.rect())\n",
      "TypeError: 'QRectF' object is not callable\n",
      "Traceback (most recent call last):\n",
      "  File \"/Users/palmerio/opt/miniconda3/envs/zhunter_dev/lib/python3.9/site-packages/pyqtgraph/graphicsItems/GraphicsObject.py\", line 36, in itemChange\n",
      "    self.changeParent()\n",
      "  File \"/Users/palmerio/opt/miniconda3/envs/zhunter_dev/lib/python3.9/site-packages/pyqtgraph/graphicsItems/GraphicsItem.py\", line 460, in changeParent\n",
      "    self._updateView()\n",
      "  File \"/Users/palmerio/opt/miniconda3/envs/zhunter_dev/lib/python3.9/site-packages/pyqtgraph/graphicsItems/GraphicsItem.py\", line 520, in _updateView\n",
      "    self.viewTransformChanged()\n",
      "  File \"/Users/palmerio/opt/miniconda3/envs/zhunter_dev/lib/python3.9/site-packages/pyqtgraph/graphicsItems/InfiniteLine.py\", line 609, in viewTransformChanged\n",
      "    self.updatePosition()\n",
      "  File \"/Users/palmerio/opt/miniconda3/envs/zhunter_dev/lib/python3.9/site-packages/pyqtgraph/graphicsItems/InfiniteLine.py\", line 546, in updatePosition\n",
      "    vr = self.line.viewRect()\n",
      "  File \"/Users/palmerio/opt/miniconda3/envs/zhunter_dev/lib/python3.9/site-packages/pyqtgraph/graphicsItems/GraphicsItem.py\", line 179, in viewRect\n",
      "    bounds = self.mapRectFromView(view.viewRect())\n",
      "  File \"/Users/palmerio/opt/miniconda3/envs/zhunter_dev/lib/python3.9/site-packages/pyqtgraph/widgets/GraphicsView.py\", line 225, in viewRect\n",
      "    r = QtCore.QRectF(self.rect())\n",
      "TypeError: 'QRectF' object is not callable\n",
      "Traceback (most recent call last):\n",
      "  File \"/Users/palmerio/opt/miniconda3/envs/zhunter_dev/lib/python3.9/site-packages/pyqtgraph/graphicsItems/GraphicsObject.py\", line 36, in itemChange\n",
      "    self.changeParent()\n",
      "  File \"/Users/palmerio/opt/miniconda3/envs/zhunter_dev/lib/python3.9/site-packages/pyqtgraph/graphicsItems/GraphicsItem.py\", line 460, in changeParent\n",
      "    self._updateView()\n",
      "  File \"/Users/palmerio/opt/miniconda3/envs/zhunter_dev/lib/python3.9/site-packages/pyqtgraph/graphicsItems/GraphicsItem.py\", line 520, in _updateView\n",
      "    self.viewTransformChanged()\n",
      "  File \"/Users/palmerio/opt/miniconda3/envs/zhunter_dev/lib/python3.9/site-packages/pyqtgraph/graphicsItems/InfiniteLine.py\", line 609, in viewTransformChanged\n",
      "    self.updatePosition()\n",
      "  File \"/Users/palmerio/opt/miniconda3/envs/zhunter_dev/lib/python3.9/site-packages/pyqtgraph/graphicsItems/InfiniteLine.py\", line 546, in updatePosition\n",
      "    vr = self.line.viewRect()\n",
      "  File \"/Users/palmerio/opt/miniconda3/envs/zhunter_dev/lib/python3.9/site-packages/pyqtgraph/graphicsItems/GraphicsItem.py\", line 179, in viewRect\n",
      "    bounds = self.mapRectFromView(view.viewRect())\n",
      "  File \"/Users/palmerio/opt/miniconda3/envs/zhunter_dev/lib/python3.9/site-packages/pyqtgraph/widgets/GraphicsView.py\", line 225, in viewRect\n",
      "    r = QtCore.QRectF(self.rect())\n",
      "TypeError: 'QRectF' object is not callable\n",
      "Traceback (most recent call last):\n",
      "  File \"/Users/palmerio/opt/miniconda3/envs/zhunter_dev/lib/python3.9/site-packages/pyqtgraph/graphicsItems/GraphicsObject.py\", line 36, in itemChange\n",
      "    self.changeParent()\n",
      "  File \"/Users/palmerio/opt/miniconda3/envs/zhunter_dev/lib/python3.9/site-packages/pyqtgraph/graphicsItems/GraphicsItem.py\", line 460, in changeParent\n",
      "    self._updateView()\n",
      "  File \"/Users/palmerio/opt/miniconda3/envs/zhunter_dev/lib/python3.9/site-packages/pyqtgraph/graphicsItems/GraphicsItem.py\", line 520, in _updateView\n",
      "    self.viewTransformChanged()\n",
      "  File \"/Users/palmerio/opt/miniconda3/envs/zhunter_dev/lib/python3.9/site-packages/pyqtgraph/graphicsItems/InfiniteLine.py\", line 609, in viewTransformChanged\n",
      "    self.updatePosition()\n",
      "  File \"/Users/palmerio/opt/miniconda3/envs/zhunter_dev/lib/python3.9/site-packages/pyqtgraph/graphicsItems/InfiniteLine.py\", line 546, in updatePosition\n",
      "    vr = self.line.viewRect()\n",
      "  File \"/Users/palmerio/opt/miniconda3/envs/zhunter_dev/lib/python3.9/site-packages/pyqtgraph/graphicsItems/GraphicsItem.py\", line 179, in viewRect\n",
      "    bounds = self.mapRectFromView(view.viewRect())\n",
      "  File \"/Users/palmerio/opt/miniconda3/envs/zhunter_dev/lib/python3.9/site-packages/pyqtgraph/widgets/GraphicsView.py\", line 225, in viewRect\n",
      "    r = QtCore.QRectF(self.rect())\n",
      "TypeError: 'QRectF' object is not callable\n",
      "Traceback (most recent call last):\n",
      "  File \"/Users/palmerio/opt/miniconda3/envs/zhunter_dev/lib/python3.9/site-packages/pyqtgraph/graphicsItems/GraphicsObject.py\", line 36, in itemChange\n",
      "    self.changeParent()\n",
      "  File \"/Users/palmerio/opt/miniconda3/envs/zhunter_dev/lib/python3.9/site-packages/pyqtgraph/graphicsItems/GraphicsItem.py\", line 460, in changeParent\n",
      "    self._updateView()\n",
      "  File \"/Users/palmerio/opt/miniconda3/envs/zhunter_dev/lib/python3.9/site-packages/pyqtgraph/graphicsItems/GraphicsItem.py\", line 520, in _updateView\n",
      "    self.viewTransformChanged()\n",
      "  File \"/Users/palmerio/opt/miniconda3/envs/zhunter_dev/lib/python3.9/site-packages/pyqtgraph/graphicsItems/InfiniteLine.py\", line 609, in viewTransformChanged\n",
      "    self.updatePosition()\n",
      "  File \"/Users/palmerio/opt/miniconda3/envs/zhunter_dev/lib/python3.9/site-packages/pyqtgraph/graphicsItems/InfiniteLine.py\", line 546, in updatePosition\n",
      "    vr = self.line.viewRect()\n",
      "  File \"/Users/palmerio/opt/miniconda3/envs/zhunter_dev/lib/python3.9/site-packages/pyqtgraph/graphicsItems/GraphicsItem.py\", line 179, in viewRect\n",
      "    bounds = self.mapRectFromView(view.viewRect())\n",
      "  File \"/Users/palmerio/opt/miniconda3/envs/zhunter_dev/lib/python3.9/site-packages/pyqtgraph/widgets/GraphicsView.py\", line 225, in viewRect\n",
      "    r = QtCore.QRectF(self.rect())\n",
      "TypeError: 'QRectF' object is not callable\n",
      "Traceback (most recent call last):\n",
      "  File \"/Users/palmerio/opt/miniconda3/envs/zhunter_dev/lib/python3.9/site-packages/pyqtgraph/graphicsItems/GraphicsObject.py\", line 36, in itemChange\n",
      "    self.changeParent()\n",
      "  File \"/Users/palmerio/opt/miniconda3/envs/zhunter_dev/lib/python3.9/site-packages/pyqtgraph/graphicsItems/GraphicsItem.py\", line 460, in changeParent\n",
      "    self._updateView()\n",
      "  File \"/Users/palmerio/opt/miniconda3/envs/zhunter_dev/lib/python3.9/site-packages/pyqtgraph/graphicsItems/GraphicsItem.py\", line 520, in _updateView\n",
      "    self.viewTransformChanged()\n",
      "  File \"/Users/palmerio/opt/miniconda3/envs/zhunter_dev/lib/python3.9/site-packages/pyqtgraph/graphicsItems/InfiniteLine.py\", line 609, in viewTransformChanged\n",
      "    self.updatePosition()\n",
      "  File \"/Users/palmerio/opt/miniconda3/envs/zhunter_dev/lib/python3.9/site-packages/pyqtgraph/graphicsItems/InfiniteLine.py\", line 546, in updatePosition\n",
      "    vr = self.line.viewRect()\n",
      "  File \"/Users/palmerio/opt/miniconda3/envs/zhunter_dev/lib/python3.9/site-packages/pyqtgraph/graphicsItems/GraphicsItem.py\", line 179, in viewRect\n",
      "    bounds = self.mapRectFromView(view.viewRect())\n",
      "  File \"/Users/palmerio/opt/miniconda3/envs/zhunter_dev/lib/python3.9/site-packages/pyqtgraph/widgets/GraphicsView.py\", line 225, in viewRect\n",
      "    r = QtCore.QRectF(self.rect())\n",
      "TypeError: 'QRectF' object is not callable\n",
      "Traceback (most recent call last):\n",
      "  File \"/Users/palmerio/opt/miniconda3/envs/zhunter_dev/lib/python3.9/site-packages/pyqtgraph/graphicsItems/GraphicsObject.py\", line 36, in itemChange\n",
      "    self.changeParent()\n",
      "  File \"/Users/palmerio/opt/miniconda3/envs/zhunter_dev/lib/python3.9/site-packages/pyqtgraph/graphicsItems/GraphicsItem.py\", line 460, in changeParent\n",
      "    self._updateView()\n",
      "  File \"/Users/palmerio/opt/miniconda3/envs/zhunter_dev/lib/python3.9/site-packages/pyqtgraph/graphicsItems/GraphicsItem.py\", line 520, in _updateView\n",
      "    self.viewTransformChanged()\n",
      "  File \"/Users/palmerio/opt/miniconda3/envs/zhunter_dev/lib/python3.9/site-packages/pyqtgraph/graphicsItems/InfiniteLine.py\", line 609, in viewTransformChanged\n",
      "    self.updatePosition()\n",
      "  File \"/Users/palmerio/opt/miniconda3/envs/zhunter_dev/lib/python3.9/site-packages/pyqtgraph/graphicsItems/InfiniteLine.py\", line 546, in updatePosition\n",
      "    vr = self.line.viewRect()\n",
      "  File \"/Users/palmerio/opt/miniconda3/envs/zhunter_dev/lib/python3.9/site-packages/pyqtgraph/graphicsItems/GraphicsItem.py\", line 179, in viewRect\n",
      "    bounds = self.mapRectFromView(view.viewRect())\n",
      "  File \"/Users/palmerio/opt/miniconda3/envs/zhunter_dev/lib/python3.9/site-packages/pyqtgraph/widgets/GraphicsView.py\", line 225, in viewRect\n",
      "    r = QtCore.QRectF(self.rect())\n",
      "TypeError: 'QRectF' object is not callable\n",
      "Traceback (most recent call last):\n",
      "  File \"/Users/palmerio/opt/miniconda3/envs/zhunter_dev/lib/python3.9/site-packages/pyqtgraph/graphicsItems/GraphicsObject.py\", line 36, in itemChange\n",
      "    self.changeParent()\n",
      "  File \"/Users/palmerio/opt/miniconda3/envs/zhunter_dev/lib/python3.9/site-packages/pyqtgraph/graphicsItems/GraphicsItem.py\", line 460, in changeParent\n",
      "    self._updateView()\n",
      "  File \"/Users/palmerio/opt/miniconda3/envs/zhunter_dev/lib/python3.9/site-packages/pyqtgraph/graphicsItems/GraphicsItem.py\", line 520, in _updateView\n",
      "    self.viewTransformChanged()\n",
      "  File \"/Users/palmerio/opt/miniconda3/envs/zhunter_dev/lib/python3.9/site-packages/pyqtgraph/graphicsItems/InfiniteLine.py\", line 609, in viewTransformChanged\n",
      "    self.updatePosition()\n",
      "  File \"/Users/palmerio/opt/miniconda3/envs/zhunter_dev/lib/python3.9/site-packages/pyqtgraph/graphicsItems/InfiniteLine.py\", line 546, in updatePosition\n",
      "    vr = self.line.viewRect()\n",
      "  File \"/Users/palmerio/opt/miniconda3/envs/zhunter_dev/lib/python3.9/site-packages/pyqtgraph/graphicsItems/GraphicsItem.py\", line 179, in viewRect\n",
      "    bounds = self.mapRectFromView(view.viewRect())\n",
      "  File \"/Users/palmerio/opt/miniconda3/envs/zhunter_dev/lib/python3.9/site-packages/pyqtgraph/widgets/GraphicsView.py\", line 225, in viewRect\n",
      "    r = QtCore.QRectF(self.rect())\n",
      "TypeError: 'QRectF' object is not callable\n",
      "Traceback (most recent call last):\n",
      "  File \"/Users/palmerio/opt/miniconda3/envs/zhunter_dev/lib/python3.9/site-packages/pyqtgraph/graphicsItems/GraphicsObject.py\", line 36, in itemChange\n",
      "    self.changeParent()\n",
      "  File \"/Users/palmerio/opt/miniconda3/envs/zhunter_dev/lib/python3.9/site-packages/pyqtgraph/graphicsItems/GraphicsItem.py\", line 460, in changeParent\n",
      "    self._updateView()\n",
      "  File \"/Users/palmerio/opt/miniconda3/envs/zhunter_dev/lib/python3.9/site-packages/pyqtgraph/graphicsItems/GraphicsItem.py\", line 520, in _updateView\n",
      "    self.viewTransformChanged()\n",
      "  File \"/Users/palmerio/opt/miniconda3/envs/zhunter_dev/lib/python3.9/site-packages/pyqtgraph/graphicsItems/InfiniteLine.py\", line 609, in viewTransformChanged\n",
      "    self.updatePosition()\n",
      "  File \"/Users/palmerio/opt/miniconda3/envs/zhunter_dev/lib/python3.9/site-packages/pyqtgraph/graphicsItems/InfiniteLine.py\", line 546, in updatePosition\n",
      "    vr = self.line.viewRect()\n",
      "  File \"/Users/palmerio/opt/miniconda3/envs/zhunter_dev/lib/python3.9/site-packages/pyqtgraph/graphicsItems/GraphicsItem.py\", line 179, in viewRect\n",
      "    bounds = self.mapRectFromView(view.viewRect())\n",
      "  File \"/Users/palmerio/opt/miniconda3/envs/zhunter_dev/lib/python3.9/site-packages/pyqtgraph/widgets/GraphicsView.py\", line 225, in viewRect\n",
      "    r = QtCore.QRectF(self.rect())\n",
      "TypeError: 'QRectF' object is not callable\n",
      "Traceback (most recent call last):\n",
      "  File \"/Users/palmerio/opt/miniconda3/envs/zhunter_dev/lib/python3.9/site-packages/pyqtgraph/graphicsItems/GraphicsObject.py\", line 36, in itemChange\n",
      "    self.changeParent()\n",
      "  File \"/Users/palmerio/opt/miniconda3/envs/zhunter_dev/lib/python3.9/site-packages/pyqtgraph/graphicsItems/GraphicsItem.py\", line 460, in changeParent\n",
      "    self._updateView()\n",
      "  File \"/Users/palmerio/opt/miniconda3/envs/zhunter_dev/lib/python3.9/site-packages/pyqtgraph/graphicsItems/GraphicsItem.py\", line 520, in _updateView\n",
      "    self.viewTransformChanged()\n",
      "  File \"/Users/palmerio/opt/miniconda3/envs/zhunter_dev/lib/python3.9/site-packages/pyqtgraph/graphicsItems/InfiniteLine.py\", line 609, in viewTransformChanged\n",
      "    self.updatePosition()\n",
      "  File \"/Users/palmerio/opt/miniconda3/envs/zhunter_dev/lib/python3.9/site-packages/pyqtgraph/graphicsItems/InfiniteLine.py\", line 546, in updatePosition\n",
      "    vr = self.line.viewRect()\n",
      "  File \"/Users/palmerio/opt/miniconda3/envs/zhunter_dev/lib/python3.9/site-packages/pyqtgraph/graphicsItems/GraphicsItem.py\", line 179, in viewRect\n",
      "    bounds = self.mapRectFromView(view.viewRect())\n",
      "  File \"/Users/palmerio/opt/miniconda3/envs/zhunter_dev/lib/python3.9/site-packages/pyqtgraph/widgets/GraphicsView.py\", line 225, in viewRect\n",
      "    r = QtCore.QRectF(self.rect())\n",
      "TypeError: 'QRectF' object is not callable\n",
      "Traceback (most recent call last):\n",
      "  File \"/Users/palmerio/opt/miniconda3/envs/zhunter_dev/lib/python3.9/site-packages/pyqtgraph/graphicsItems/GraphicsObject.py\", line 36, in itemChange\n",
      "    self.changeParent()\n",
      "  File \"/Users/palmerio/opt/miniconda3/envs/zhunter_dev/lib/python3.9/site-packages/pyqtgraph/graphicsItems/GraphicsItem.py\", line 460, in changeParent\n",
      "    self._updateView()\n",
      "  File \"/Users/palmerio/opt/miniconda3/envs/zhunter_dev/lib/python3.9/site-packages/pyqtgraph/graphicsItems/GraphicsItem.py\", line 520, in _updateView\n",
      "    self.viewTransformChanged()\n",
      "  File \"/Users/palmerio/opt/miniconda3/envs/zhunter_dev/lib/python3.9/site-packages/pyqtgraph/graphicsItems/InfiniteLine.py\", line 609, in viewTransformChanged\n",
      "    self.updatePosition()\n",
      "  File \"/Users/palmerio/opt/miniconda3/envs/zhunter_dev/lib/python3.9/site-packages/pyqtgraph/graphicsItems/InfiniteLine.py\", line 546, in updatePosition\n",
      "    vr = self.line.viewRect()\n",
      "  File \"/Users/palmerio/opt/miniconda3/envs/zhunter_dev/lib/python3.9/site-packages/pyqtgraph/graphicsItems/GraphicsItem.py\", line 179, in viewRect\n",
      "    bounds = self.mapRectFromView(view.viewRect())\n",
      "  File \"/Users/palmerio/opt/miniconda3/envs/zhunter_dev/lib/python3.9/site-packages/pyqtgraph/widgets/GraphicsView.py\", line 225, in viewRect\n",
      "    r = QtCore.QRectF(self.rect())\n",
      "TypeError: 'QRectF' object is not callable\n",
      "Traceback (most recent call last):\n",
      "  File \"/Users/palmerio/opt/miniconda3/envs/zhunter_dev/lib/python3.9/site-packages/pyqtgraph/graphicsItems/GraphicsObject.py\", line 36, in itemChange\n",
      "    self.changeParent()\n",
      "  File \"/Users/palmerio/opt/miniconda3/envs/zhunter_dev/lib/python3.9/site-packages/pyqtgraph/graphicsItems/GraphicsItem.py\", line 460, in changeParent\n",
      "    self._updateView()\n",
      "  File \"/Users/palmerio/opt/miniconda3/envs/zhunter_dev/lib/python3.9/site-packages/pyqtgraph/graphicsItems/GraphicsItem.py\", line 520, in _updateView\n",
      "    self.viewTransformChanged()\n",
      "  File \"/Users/palmerio/opt/miniconda3/envs/zhunter_dev/lib/python3.9/site-packages/pyqtgraph/graphicsItems/InfiniteLine.py\", line 609, in viewTransformChanged\n",
      "    self.updatePosition()\n",
      "  File \"/Users/palmerio/opt/miniconda3/envs/zhunter_dev/lib/python3.9/site-packages/pyqtgraph/graphicsItems/InfiniteLine.py\", line 546, in updatePosition\n",
      "    vr = self.line.viewRect()\n",
      "  File \"/Users/palmerio/opt/miniconda3/envs/zhunter_dev/lib/python3.9/site-packages/pyqtgraph/graphicsItems/GraphicsItem.py\", line 179, in viewRect\n",
      "    bounds = self.mapRectFromView(view.viewRect())\n",
      "  File \"/Users/palmerio/opt/miniconda3/envs/zhunter_dev/lib/python3.9/site-packages/pyqtgraph/widgets/GraphicsView.py\", line 225, in viewRect\n",
      "    r = QtCore.QRectF(self.rect())\n",
      "TypeError: 'QRectF' object is not callable\n",
      "Traceback (most recent call last):\n",
      "  File \"/Users/palmerio/opt/miniconda3/envs/zhunter_dev/lib/python3.9/site-packages/pyqtgraph/graphicsItems/GraphicsObject.py\", line 36, in itemChange\n",
      "    self.changeParent()\n",
      "  File \"/Users/palmerio/opt/miniconda3/envs/zhunter_dev/lib/python3.9/site-packages/pyqtgraph/graphicsItems/GraphicsItem.py\", line 460, in changeParent\n",
      "    self._updateView()\n",
      "  File \"/Users/palmerio/opt/miniconda3/envs/zhunter_dev/lib/python3.9/site-packages/pyqtgraph/graphicsItems/GraphicsItem.py\", line 520, in _updateView\n",
      "    self.viewTransformChanged()\n",
      "  File \"/Users/palmerio/opt/miniconda3/envs/zhunter_dev/lib/python3.9/site-packages/pyqtgraph/graphicsItems/InfiniteLine.py\", line 609, in viewTransformChanged\n",
      "    self.updatePosition()\n",
      "  File \"/Users/palmerio/opt/miniconda3/envs/zhunter_dev/lib/python3.9/site-packages/pyqtgraph/graphicsItems/InfiniteLine.py\", line 546, in updatePosition\n",
      "    vr = self.line.viewRect()\n",
      "  File \"/Users/palmerio/opt/miniconda3/envs/zhunter_dev/lib/python3.9/site-packages/pyqtgraph/graphicsItems/GraphicsItem.py\", line 179, in viewRect\n",
      "    bounds = self.mapRectFromView(view.viewRect())\n",
      "  File \"/Users/palmerio/opt/miniconda3/envs/zhunter_dev/lib/python3.9/site-packages/pyqtgraph/widgets/GraphicsView.py\", line 225, in viewRect\n",
      "    r = QtCore.QRectF(self.rect())\n",
      "TypeError: 'QRectF' object is not callable\n"
     ]
    },
    {
     "name": "stdout",
     "output_type": "stream",
     "text": [
      "2023-03-21 10:45:06,397 DEBUG [zhunter.MainGraphicsWidget] Key: Control, Mouse position: [4,383]\n",
      "2023-03-21 10:45:06,398 DEBUG [zhunter.MainGraphicsWidget] key press didn't occur in any plot\n"
     ]
    }
   ],
   "source": [
    "# Spectroscopic system\n",
    "specsys = SpecSystem(6.318, PlotItem=win.ax1D, sys_type='abs',\n",
    "                     color='cyan')\n",
    "specsys.draw(xmin=np.min(wvlg), xmax=np.max(wvlg))\n",
    "\n",
    "ssm.specsystems.append((True, specsys))\n",
    "specsys.edited.connect(ssm.layoutChanged.emit)\n",
    "ssm.sort()\n",
    "ssm.layoutChanged.emit()"
   ]
  },
  {
   "cell_type": "code",
   "execution_count": 16,
   "metadata": {},
   "outputs": [
    {
     "name": "stdout",
     "output_type": "stream",
     "text": [
      "2023-03-21 10:46:26,552 DEBUG [zhunter.spectroscopic_system] Received request to delete system at redshift 5.91137\n",
      "2023-03-21 10:46:26,558 DEBUG [zhunter.spectroscopic_system] Removed abs system at redshift 5.91137 from plot\n"
     ]
    }
   ],
   "source": [
    "index = specsysView.selectedIndexes()[0]\n",
    "ssm.delete(index)\n",
    "ssm.sort()"
   ]
  },
  {
   "cell_type": "markdown",
   "metadata": {},
   "source": [
    "## Velocity plot"
   ]
  },
  {
   "cell_type": "code",
   "execution_count": 14,
   "metadata": {},
   "outputs": [],
   "source": [
    "from astropalmerio.spectra.conversions import *\n",
    "from itertools import product"
   ]
  },
  {
   "cell_type": "code",
   "execution_count": 34,
   "metadata": {},
   "outputs": [
    {
     "name": "stderr",
     "output_type": "stream",
     "text": [
      "qt.pointer.dispatch: skipping QEventPoint(id=0 ts=0 pos=0,0 scn=1243.24,694.147 gbl=1243.24,694.147 Released ellipse=(1x1 ∡ 0) vel=0,0 press=-1243.24,-694.147 last=-1243.24,-694.147 Δ 1243.24,694.147) : no target window\n",
      "qt.pointer.dispatch: skipping QEventPoint(id=1 ts=0 pos=0,0 scn=1169.26,711.428 gbl=1169.26,711.428 Released ellipse=(1x1 ∡ 0) vel=0,0 press=-1169.26,-711.428 last=-1169.26,-711.428 Δ 1169.26,711.428) : no target window\n",
      "qt.pointer.dispatch: skipping QEventPoint(id=2 ts=0 pos=0,0 scn=1135.96,771.005 gbl=1135.96,771.005 Released ellipse=(1x1 ∡ 0) vel=0,0 press=-1135.96,-771.005 last=-1135.96,-771.005 Δ 1135.96,771.005) : no target window\n",
      "qt.pointer.dispatch: skipping QEventPoint(id=3 ts=0 pos=0,0 scn=1158.28,708.726 gbl=1158.28,708.726 Released ellipse=(1x1 ∡ 0) vel=0,0 press=-1158.28,-708.726 last=-1158.28,-708.726 Δ 1158.28,708.726) : no target window\n",
      "qt.pointer.dispatch: skipping QEventPoint(id=1 ts=0 pos=0,0 scn=1211.88,233.44 gbl=1211.88,233.44 Released ellipse=(1x1 ∡ 0) vel=0,0 press=-1211.88,-233.44 last=-1211.88,-233.44 Δ 1211.88,233.44) : no target window\n",
      "qt.pointer.dispatch: skipping QEventPoint(id=1 ts=0 pos=0,0 scn=1285.48,251.198 gbl=1285.48,251.198 Released ellipse=(1x1 ∡ 0) vel=0,0 press=-1285.48,-251.198 last=-1285.48,-251.198 Δ 1285.48,251.198) : no target window\n"
     ]
    }
   ],
   "source": [
    "velLayout = pg.GraphicsLayoutWidget(show=True, border=(100,100,100))"
   ]
  },
  {
   "cell_type": "code",
   "execution_count": 53,
   "metadata": {
    "scrolled": true
   },
   "outputs": [],
   "source": [
    "velLayout.clear()"
   ]
  },
  {
   "cell_type": "markdown",
   "metadata": {},
   "source": [
    "### Define lines to plot"
   ]
  },
  {
   "cell_type": "code",
   "execution_count": 29,
   "metadata": {},
   "outputs": [],
   "source": [
    "lines = ascii_read(DIRS[\"DATA\"] / \"lines/basic_line_list.ecsv\")\n",
    "lnames = ['SiII_1260', 'OI_1302', 'SiII_1304']#, 'CII_1334', 'SiIV_1394']\n",
    "z = 6.317\n",
    "waves = np.array([l['wave'] for l in lines if l['name'] in lnames]) * lines['wave'].unit\n",
    "waves_obs = waves.to('nm') * (1+z)"
   ]
  },
  {
   "cell_type": "code",
   "execution_count": 31,
   "metadata": {},
   "outputs": [],
   "source": [
    "from zhunter.CheckBoxListWidget import CheckBoxListWidget\n",
    "# Create checkboxlist widget\n",
    "linelistView = CheckBoxListWidget()\n",
    "linelistView.show()\n",
    "linelistView.addItems(lines['name'])\n"
   ]
  },
  {
   "cell_type": "code",
   "execution_count": 46,
   "metadata": {},
   "outputs": [
    {
     "data": {
      "text/plain": [
       "{'SiII_1304': {'name': 'SiII_1304',\n",
       "  'rest_wave': <Quantity 1302.1685 Angstrom>,\n",
       "  'obs_wave': <Quantity 952.79669145 nm>},\n",
       " 'SiII_1260': {'name': 'SiII_1260',\n",
       "  'rest_wave': <Quantity 1304.3702 Angstrom>,\n",
       "  'obs_wave': <Quantity 954.40767534 nm>}}"
      ]
     },
     "execution_count": 46,
     "metadata": {},
     "output_type": "execute_result"
    }
   ],
   "source": [
    "lnames = []\n",
    "for row in linelistView.getCheckedRows():\n",
    "     lnames.append(linelistView.item(row).text())\n",
    "\n",
    "lines_to_plot = {\n",
    "            n: {\"name\": n, \"rest_wave\": rw, \"obs_wave\": ow}\n",
    "            for n, rw, ow in zip(lnames, waves, waves_obs)\n",
    "        }\n",
    "lines_to_plot\n"
   ]
  },
  {
   "cell_type": "code",
   "execution_count": 54,
   "metadata": {
    "scrolled": true
   },
   "outputs": [
    {
     "data": {
      "text/plain": [
       "<pyqtgraph.graphicsItems.LabelItem.LabelItem at 0x18fbe0ee0>"
      ]
     },
     "execution_count": 54,
     "metadata": {},
     "output_type": "execute_result"
    }
   ],
   "source": [
    "n_l = len(lines_to_plot)\n",
    "if n_l <= 4:\n",
    "    n_cols = 1\n",
    "    n_rows = n_l\n",
    "else:\n",
    "    n_cols = int(n_l/2)\n",
    "    n_rows = int(n_l/2)\n",
    "    if n_l % 2 != 0:\n",
    "        n_rows += 1\n",
    "\n",
    "vel_min = -600 * u.Unit('km/s')\n",
    "vel_max = 600 * u.Unit('km/s')\n",
    "ref_lname = lnames[0]\n",
    "for lines, indexes in zip(lines_to_plot.items(), product(range(1,n_cols+1), range(n_rows))):\n",
    "    i, j = indexes\n",
    "    lname, line = lines\n",
    "    vel = wave_to_vel(wvlg_bins*u.nm, line['obs_wave'])\n",
    "    imin = vel.searchsorted(vel_min)\n",
    "    imax = vel.searchsorted(vel_max)\n",
    "    vel_1D_spec = pg.PlotCurveItem(\n",
    "        vel.value,\n",
    "        flux_1D,\n",
    "        pen=pg.mkPen(color=colors['spec']),\n",
    "        stepMode='center')\n",
    "    line['pi'] = velLayout.addPlot(title=lname.replace('_',' '), name=lname, col=i, row=j)\n",
    "    line['pi'].addItem(vel_1D_spec)\n",
    "    line['pi'].showGrid(x=True, y=True)\n",
    "    line['pi'].hideButtons()\n",
    "    line['pi'].setXLink(ref_lname)\n",
    "    line['pi'].setXRange(-600, 600)\n",
    "    line['pi'].setYRange(np.min(flux_1D[imin:imax]),\n",
    "                         np.max(flux_1D[imin:imax]))\n",
    "    line['pi'].vb.setLimits(\n",
    "            xMin=np.min(vel.value), xMax=np.max(vel.value)\n",
    "        )\n",
    "\n",
    "velLayout.addLabel('Velocity (km/s)', col=1, row=n_rows+1, colspan=n_cols)\n",
    "velLayout.addLabel('Flux', angle=-90, col=0, rowspan=n_rows)\n"
   ]
  },
  {
   "cell_type": "code",
   "execution_count": 52,
   "metadata": {},
   "outputs": [
    {
     "data": {
      "text/plain": [
       "{'targetRange': [[-677.4596669241483, 677.4596669241483],\n",
       "  [-7.016480923970568e-16, 1.4680171089385755e-15]],\n",
       " 'viewRange': [[-677.4596669241483, 677.4596669241483],\n",
       "  [-7.016480923970568e-16, 1.4680171089385755e-15]],\n",
       " 'yInverted': False,\n",
       " 'xInverted': False,\n",
       " 'aspectLocked': False,\n",
       " 'autoRange': [False, True],\n",
       " 'autoPan': [False, False],\n",
       " 'autoVisibleOnly': [False, False],\n",
       " 'linkedViews': ['SiII_1304', None],\n",
       " 'defaultPadding': 0.02,\n",
       " 'mouseEnabled': [True, True],\n",
       " 'mouseMode': 3,\n",
       " 'enableMenu': True,\n",
       " 'wheelScaleFactor': -0.125,\n",
       " 'background': None,\n",
       " 'logMode': [False, False],\n",
       " 'limits': {'xLimits': [-132162.5789975226, 20603.443102673613],\n",
       "  'yLimits': [-1e+307, 1e+307],\n",
       "  'xRange': [None, None],\n",
       "  'yRange': [None, None]}}"
      ]
     },
     "execution_count": 52,
     "metadata": {},
     "output_type": "execute_result"
    }
   ],
   "source": [
    "line['pi'].vb.state"
   ]
  },
  {
   "cell_type": "code",
   "execution_count": 55,
   "metadata": {},
   "outputs": [],
   "source": [
    "linelistView.clear()"
   ]
  },
  {
   "cell_type": "code",
   "execution_count": 3,
   "metadata": {},
   "outputs": [],
   "source": [
    "from astropy.io.ascii import read as ascii_read\n"
   ]
  },
  {
   "cell_type": "code",
   "execution_count": 19,
   "metadata": {
    "scrolled": true
   },
   "outputs": [
    {
     "data": {
      "text/html": [
       "<div><i>Table length=41</i>\n",
       "<table id=\"table6668224400\" class=\"table-striped table-bordered table-condensed\">\n",
       "<thead><tr><th>name</th><th>wave</th></tr></thead>\n",
       "<thead><tr><th>str10</th><th>float64</th></tr></thead>\n",
       "<tr><td>Ly_alpha</td><td>1215.6701</td></tr>\n",
       "<tr><td>Ly_beta</td><td>1025.7223</td></tr>\n",
       "<tr><td>Ly_gamma</td><td>972.5368</td></tr>\n",
       "<tr><td>Ly_delta</td><td>949.7431</td></tr>\n",
       "<tr><td>Ly_limit</td><td>911.7633</td></tr>\n",
       "<tr><td>CII_1334</td><td>1334.5323</td></tr>\n",
       "<tr><td>CII_1335*</td><td>1335.7077</td></tr>\n",
       "<tr><td>CIV_1548</td><td>1548.2049</td></tr>\n",
       "<tr><td>CIV_1550</td><td>1550.77845</td></tr>\n",
       "<tr><td>NV_1239</td><td>1238.821</td></tr>\n",
       "<tr><td>NV_1243</td><td>1242.804</td></tr>\n",
       "<tr><td>OI_1302</td><td>1302.1685</td></tr>\n",
       "<tr><td>OI_1305*</td><td>1304.8576</td></tr>\n",
       "<tr><td>OI_1306**</td><td>1306.0286</td></tr>\n",
       "<tr><td>NaI_5892</td><td>5891.5833</td></tr>\n",
       "<tr><td>NaI_5898</td><td>5897.5581</td></tr>\n",
       "<tr><td>MgI_2026</td><td>2026.4768</td></tr>\n",
       "<tr><td>MgII_2796</td><td>2796.3542699</td></tr>\n",
       "<tr><td>MgII_2804</td><td>2803.5314853</td></tr>\n",
       "<tr><td>...</td><td>...</td></tr>\n",
       "<tr><td>SiII_1527</td><td>1526.70698</td></tr>\n",
       "<tr><td>SiII_1304</td><td>1304.3702</td></tr>\n",
       "<tr><td>SiII_1260</td><td>1260.4221</td></tr>\n",
       "<tr><td>SiII_1309*</td><td>1309.2757</td></tr>\n",
       "<tr><td>SiII_1533*</td><td>1533.4316</td></tr>\n",
       "<tr><td>SiIV_1394</td><td>1393.76018</td></tr>\n",
       "<tr><td>SiIV_1403</td><td>1402.77291</td></tr>\n",
       "<tr><td>CaII_3935</td><td>3934.775</td></tr>\n",
       "<tr><td>CaII_3970</td><td>3969.5901</td></tr>\n",
       "<tr><td>FeII_2600</td><td>2600.1724835</td></tr>\n",
       "<tr><td>FeII_2587</td><td>2586.6495659</td></tr>\n",
       "<tr><td>FeII_2383</td><td>2382.7641781</td></tr>\n",
       "<tr><td>FeII_2374</td><td>2374.4603294</td></tr>\n",
       "<tr><td>FeII_2344</td><td>2344.2129601</td></tr>\n",
       "<tr><td>FeII_1608</td><td>1608.45085</td></tr>\n",
       "<tr><td>FeII_2389*</td><td>2389.35664</td></tr>\n",
       "<tr><td>FeII_2396*</td><td>2396.35462</td></tr>\n",
       "<tr><td>FeII_2411*</td><td>2411.3</td></tr>\n",
       "<tr><td>FeII_2613*</td><td>2612.7</td></tr>\n",
       "</table></div>"
      ],
      "text/plain": [
       "<Table length=41>\n",
       "   name        wave    \n",
       "  str10      float64   \n",
       "---------- ------------\n",
       "  Ly_alpha    1215.6701\n",
       "   Ly_beta    1025.7223\n",
       "  Ly_gamma     972.5368\n",
       "  Ly_delta     949.7431\n",
       "  Ly_limit     911.7633\n",
       "  CII_1334    1334.5323\n",
       " CII_1335*    1335.7077\n",
       "  CIV_1548    1548.2049\n",
       "  CIV_1550   1550.77845\n",
       "   NV_1239     1238.821\n",
       "   NV_1243     1242.804\n",
       "   OI_1302    1302.1685\n",
       "  OI_1305*    1304.8576\n",
       " OI_1306**    1306.0286\n",
       "  NaI_5892    5891.5833\n",
       "  NaI_5898    5897.5581\n",
       "  MgI_2026    2026.4768\n",
       " MgII_2796 2796.3542699\n",
       " MgII_2804 2803.5314853\n",
       "       ...          ...\n",
       " SiII_1527   1526.70698\n",
       " SiII_1304    1304.3702\n",
       " SiII_1260    1260.4221\n",
       "SiII_1309*    1309.2757\n",
       "SiII_1533*    1533.4316\n",
       " SiIV_1394   1393.76018\n",
       " SiIV_1403   1402.77291\n",
       " CaII_3935     3934.775\n",
       " CaII_3970    3969.5901\n",
       " FeII_2600 2600.1724835\n",
       " FeII_2587 2586.6495659\n",
       " FeII_2383 2382.7641781\n",
       " FeII_2374 2374.4603294\n",
       " FeII_2344 2344.2129601\n",
       " FeII_1608   1608.45085\n",
       "FeII_2389*   2389.35664\n",
       "FeII_2396*   2396.35462\n",
       "FeII_2411*       2411.3\n",
       "FeII_2613*       2612.7"
      ]
     },
     "execution_count": 19,
     "metadata": {},
     "output_type": "execute_result"
    }
   ],
   "source": [
    "tab = ascii_read('/Users/palmerio/Code_projects/zHunter/src/zhunter/data/lines/basic_line_list.csv')\n",
    "tab"
   ]
  },
  {
   "cell_type": "code",
   "execution_count": 26,
   "metadata": {},
   "outputs": [],
   "source": [
    "tab['wave'].unit = u.Unit('Angstrom')"
   ]
  },
  {
   "cell_type": "code",
   "execution_count": 27,
   "metadata": {},
   "outputs": [
    {
     "data": {
      "text/latex": [
       "$\\mathrm{\\mathring{A}}$"
      ],
      "text/plain": [
       "Unit(\"Angstrom\")"
      ]
     },
     "execution_count": 27,
     "metadata": {},
     "output_type": "execute_result"
    }
   ],
   "source": [
    "tab['wave'].unit"
   ]
  },
  {
   "cell_type": "code",
   "execution_count": 14,
   "metadata": {},
   "outputs": [],
   "source": [
    "er = pg.LinearRegionItem()"
   ]
  },
  {
   "cell_type": "code",
   "execution_count": 15,
   "metadata": {},
   "outputs": [
    {
     "data": {
      "text/plain": [
       "(0, 1.0)"
      ]
     },
     "execution_count": 15,
     "metadata": {},
     "output_type": "execute_result"
    },
    {
     "name": "stdout",
     "output_type": "stream",
     "text": [
      "2023-05-10 11:53:59,343 DEBUG [zhunter.MainGraphicsWidget] Key: Control, Mouse position: [1,345]\n",
      "2023-05-10 11:53:59,344 DEBUG [zhunter.MainGraphicsWidget] key press didn't occur in any plot\n"
     ]
    }
   ],
   "source": [
    "er.getRegion()"
   ]
  },
  {
   "cell_type": "code",
   "execution_count": null,
   "metadata": {},
   "outputs": [],
   "source": []
  }
 ],
 "metadata": {
  "kernelspec": {
   "display_name": "Python 3 (ipykernel)",
   "language": "python",
   "name": "python3"
  },
  "language_info": {
   "codemirror_mode": {
    "name": "ipython",
    "version": 3
   },
   "file_extension": ".py",
   "mimetype": "text/x-python",
   "name": "python",
   "nbconvert_exporter": "python",
   "pygments_lexer": "ipython3",
   "version": "3.9.16"
  }
 },
 "nbformat": 4,
 "nbformat_minor": 4
}
