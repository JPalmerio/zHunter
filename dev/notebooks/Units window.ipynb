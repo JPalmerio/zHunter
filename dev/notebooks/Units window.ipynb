{
 "cells": [
  {
   "cell_type": "code",
   "execution_count": 1,
   "id": "c5fb2355",
   "metadata": {},
   "outputs": [],
   "source": [
    "%gui qt6\n",
    "\n",
    "# Qt6 stuff\n",
    "from PyQt6.QtWidgets import QApplication\n",
    "from PyQt6 import QtWidgets\n",
    "from PyQt6 import QtGui\n",
    "from PyQt6 import QtCore\n",
    "from PyQt6.QtCore import pyqtSignal\n",
    "\n",
    "import astropy.units as u\n",
    "import numpy as np\n",
    "import matplotlib.pyplot as plt \n",
    "\n",
    "from zhunter.units import UnitsWindow\n",
    "from zhunter.data_handler import DataHandler\n",
    "import astropalmerio.spectra as sp\n",
    "\n",
    "from zhunter.misc import generate_fake_2D_spectrum, generate_fake_1D_spectrum\n",
    "\n",
    "import logging\n",
    "import sys\n",
    "log = logging.getLogger(__name__)\n",
    "logging.basicConfig(stream=sys.stdout, level=logging.DEBUG,\n",
    "                    format='%(asctime)s %(levelname)s [%(name)s] %(message)s')\n",
    "logging.getLogger(\"matplotlib\").setLevel(logging.WARNING)\n",
    "logging.getLogger(\"PIL\").setLevel(logging.WARNING)\n",
    "logging.getLogger(\"PyQt6.uic\").setLevel(logging.WARNING)"
   ]
  },
  {
   "cell_type": "code",
   "execution_count": 2,
   "id": "b4d5bb7f",
   "metadata": {},
   "outputs": [],
   "source": [
    "spec_mid, spat_mid, flux, unc = generate_fake_2D_spectrum(\n",
    "    SNR=10,\n",
    "    spec_start=600,\n",
    "    N_spec=2001,\n",
    "    N_spat=11,\n",
    "    spec_pix_scale=0.2,\n",
    "    spat_pix_scale=1.6,\n",
    ")\n",
    "spec_mid_1D, flux_1D, unc_1D = generate_fake_1D_spectrum(\n",
    "    SNR=100,\n",
    "    spec_start=600,\n",
    "    N_spec=2001,\n",
    "    spec_pix_scale=0.2,\n",
    ")\n"
   ]
  },
  {
   "cell_type": "code",
   "execution_count": 3,
   "id": "3fefd06b",
   "metadata": {},
   "outputs": [],
   "source": [
    "data = DataHandler()"
   ]
  },
  {
   "cell_type": "code",
   "execution_count": 4,
   "id": "39c00f2f",
   "metadata": {},
   "outputs": [
    {
     "name": "stdout",
     "output_type": "stream",
     "text": [
      "Got signal () !\n"
     ]
    }
   ],
   "source": [
    "def sigcatcher(*args):\n",
    "    print(f\"Got signal {args} !\")\n",
    "data.sigUnitsUpdated.connect(sigcatcher)\n",
    "data.sigUnitsUpdated.emit()"
   ]
  },
  {
   "cell_type": "code",
   "execution_count": 5,
   "id": "06797ac2",
   "metadata": {},
   "outputs": [
    {
     "name": "stdout",
     "output_type": "stream",
     "text": [
      "2023-06-28 15:48:29,584 DEBUG [zhunter.misc] Flux and uncertainty need to be rescaled (exponent: -18), rescaling them.\n",
      "Got signal () !\n",
      "2023-06-28 15:48:29,589 DEBUG [zhunter.misc] Flux and uncertainty need to be rescaled (exponent: -19), rescaling them.\n",
      "Got signal () !\n"
     ]
    }
   ],
   "source": [
    "data.load_2D(spec_mid, spat_mid, flux, unc)\n",
    "data.load_1D(spec_mid_1D, flux_1D, unc_1D)"
   ]
  },
  {
   "cell_type": "code",
   "execution_count": 8,
   "id": "8d8492bd",
   "metadata": {},
   "outputs": [],
   "source": [
    "w = UnitsWindow(parent=None)"
   ]
  },
  {
   "cell_type": "code",
   "execution_count": 9,
   "id": "7e0f08c8",
   "metadata": {},
   "outputs": [],
   "source": [
    "w.show()"
   ]
  },
  {
   "cell_type": "code",
   "execution_count": 11,
   "id": "af03045c",
   "metadata": {},
   "outputs": [
    {
     "ename": "TypeError",
     "evalue": "Data provided must be a DataHandler instance",
     "output_type": "error",
     "traceback": [
      "\u001b[0;31m---------------------------------------------------------------------------\u001b[0m",
      "\u001b[0;31mTypeError\u001b[0m                                 Traceback (most recent call last)",
      "Cell \u001b[0;32mIn[11], line 1\u001b[0m\n\u001b[0;32m----> 1\u001b[0m \u001b[43mw\u001b[49m\u001b[38;5;241;43m.\u001b[39;49m\u001b[43mload_data\u001b[49m\u001b[43m(\u001b[49m\u001b[43mdata\u001b[49m\u001b[38;5;241;43m=\u001b[39;49m\u001b[38;5;28;43;01mNone\u001b[39;49;00m\u001b[43m)\u001b[49m\n",
      "File \u001b[0;32m~/Code_projects/zHunter/src/zhunter/units.py:33\u001b[0m, in \u001b[0;36mUnitsWindow.load_data\u001b[0;34m(self, data)\u001b[0m\n\u001b[1;32m     25\u001b[0m \u001b[38;5;250m\u001b[39m\u001b[38;5;124;03m\"\"\"Load a DataHandler instance\u001b[39;00m\n\u001b[1;32m     26\u001b[0m \n\u001b[1;32m     27\u001b[0m \u001b[38;5;124;03mParameters\u001b[39;00m\n\u001b[0;32m   (...)\u001b[0m\n\u001b[1;32m     30\u001b[0m \u001b[38;5;124;03m    DataHandler instance containing the data\u001b[39;00m\n\u001b[1;32m     31\u001b[0m \u001b[38;5;124;03m\"\"\"\u001b[39;00m\n\u001b[1;32m     32\u001b[0m \u001b[38;5;28;01mif\u001b[39;00m \u001b[38;5;129;01mnot\u001b[39;00m \u001b[38;5;28misinstance\u001b[39m(data, DataHandler):\n\u001b[0;32m---> 33\u001b[0m     \u001b[38;5;28;01mraise\u001b[39;00m \u001b[38;5;167;01mTypeError\u001b[39;00m(\u001b[38;5;124m\"\u001b[39m\u001b[38;5;124mData provided must be a DataHandler instance\u001b[39m\u001b[38;5;124m\"\u001b[39m)\n\u001b[1;32m     35\u001b[0m \u001b[38;5;28mself\u001b[39m\u001b[38;5;241m.\u001b[39mdata \u001b[38;5;241m=\u001b[39m data\n\u001b[1;32m     36\u001b[0m \u001b[38;5;28mself\u001b[39m\u001b[38;5;241m.\u001b[39mdata\u001b[38;5;241m.\u001b[39msigUnitsUpdated\u001b[38;5;241m.\u001b[39mconnect(\u001b[38;5;28mself\u001b[39m\u001b[38;5;241m.\u001b[39mrefresh)\n",
      "\u001b[0;31mTypeError\u001b[0m: Data provided must be a DataHandler instance"
     ]
    }
   ],
   "source": [
    "w.load_data(data=None)"
   ]
  },
  {
   "cell_type": "code",
   "execution_count": null,
   "id": "fd8e25c5",
   "metadata": {},
   "outputs": [],
   "source": []
  },
  {
   "cell_type": "code",
   "execution_count": null,
   "id": "8730c78b",
   "metadata": {},
   "outputs": [],
   "source": []
  },
  {
   "cell_type": "code",
   "execution_count": 24,
   "id": "3af18f02",
   "metadata": {},
   "outputs": [
    {
     "name": "stdout",
     "output_type": "stream",
     "text": [
      "activated [PyQt6.QtWidgets.QComboBox]\n",
      "currentIndexChanged [PyQt6.QtWidgets.QComboBox]\n",
      "currentTextChanged [PyQt6.QtWidgets.QComboBox]\n",
      "editTextChanged [PyQt6.QtWidgets.QComboBox]\n",
      "highlighted [PyQt6.QtWidgets.QComboBox]\n",
      "textActivated [PyQt6.QtWidgets.QComboBox]\n",
      "textHighlighted [PyQt6.QtWidgets.QComboBox]\n",
      "customContextMenuRequested [PyQt6.QtWidgets.QWidget]\n",
      "windowIconChanged [PyQt6.QtWidgets.QWidget]\n",
      "windowIconTextChanged [PyQt6.QtWidgets.QWidget]\n",
      "windowTitleChanged [PyQt6.QtWidgets.QWidget]\n",
      "destroyed [PyQt6.QtCore.QObject]\n",
      "objectNameChanged [PyQt6.QtCore.QObject]\n"
     ]
    }
   ],
   "source": [
    "get_signals(w.cbb_axes)"
   ]
  },
  {
   "cell_type": "code",
   "execution_count": null,
   "id": "89538a43",
   "metadata": {},
   "outputs": [],
   "source": []
  }
 ],
 "metadata": {
  "kernelspec": {
   "display_name": "Python 3 (ipykernel)",
   "language": "python",
   "name": "python3"
  },
  "language_info": {
   "codemirror_mode": {
    "name": "ipython",
    "version": 3
   },
   "file_extension": ".py",
   "mimetype": "text/x-python",
   "name": "python",
   "nbconvert_exporter": "python",
   "pygments_lexer": "ipython3",
   "version": "3.9.16"
  }
 },
 "nbformat": 4,
 "nbformat_minor": 5
}
