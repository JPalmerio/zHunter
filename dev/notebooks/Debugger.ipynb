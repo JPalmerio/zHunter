{
 "cells": [
  {
   "cell_type": "code",
   "execution_count": 1,
   "id": "5bceae18",
   "metadata": {},
   "outputs": [],
   "source": [
    "%gui qt6\n",
    "\n",
    "# Qt6 stuff\n",
    "from PyQt6.QtWidgets import QApplication\n",
    "from PyQt6 import QtWidgets\n",
    "from PyQt6 import QtGui\n",
    "from PyQt6 import QtCore\n",
    "from PyQt6.QtCore import pyqtSignal\n",
    "\n",
    "# Plotting stuff\n",
    "import pyqtgraph as pg\n",
    "import matplotlib.pyplot as plt\n",
    "import cmasher as cmr\n",
    "\n",
    "# Science stuff\n",
    "import numpy as np\n",
    "import pandas as pd\n",
    "from spectres import spectres\n",
    "\n",
    "# Astropy stuff\n",
    "from astropy.io import fits\n",
    "from astropy.table import Table\n",
    "import astropy.units as u\n",
    "from astropy.units.quantity import Quantity\n",
    "from astropy.io.ascii import read as ascii_read\n",
    "\n",
    "\n",
    "# General stuff\n",
    "import logging\n",
    "import sys\n",
    "from pathlib import Path\n",
    "from itertools import cycle"
   ]
  },
  {
   "cell_type": "code",
   "execution_count": 2,
   "id": "f2c88eeb",
   "metadata": {},
   "outputs": [],
   "source": [
    "# zHunter stuff\n",
    "from zhunter import DIRS\n",
    "from zhunter import io\n",
    "from zhunter.misc import set_up_linked_vb, get_vb_containing, convert_to_bins\n",
    "from zhunter.colors import get_gradient\n",
    "from zhunter.spectroscopic_system import SpecSystemModel, SpecSystem\n",
    "from zhunter.MainGraphicsWidget import MainGraphicsWidget\n",
    "from zhunter.data_handler import DataHandler"
   ]
  },
  {
   "cell_type": "code",
   "execution_count": 3,
   "id": "c94a6479",
   "metadata": {},
   "outputs": [],
   "source": [
    "# astropalmerio stuff\n",
    "import astropalmerio.io as io\n",
    "import astropalmerio.spectra as sp\n",
    "import astropalmerio.galaxies as gal\n",
    "import astropalmerio.mc as mc\n",
    "from astropalmerio.spectra import ergscm2AA\n",
    "from astropalmerio.spectra import EmissionLine\n",
    "from specutils import Spectrum1D"
   ]
  },
  {
   "cell_type": "code",
   "execution_count": 4,
   "id": "ab5bec6d",
   "metadata": {},
   "outputs": [],
   "source": [
    "from zhunter.colors import COLORS\n",
    "color_style = 'kraken9'\n",
    "colors = COLORS[color_style]"
   ]
  },
  {
   "cell_type": "code",
   "execution_count": 5,
   "id": "eb39bb33",
   "metadata": {},
   "outputs": [],
   "source": [
    "log = logging.getLogger(__name__)\n",
    "logging.basicConfig(stream=sys.stdout, level=logging.DEBUG,\n",
    "                    format='%(asctime)s %(levelname)s [%(name)s] %(message)s')\n",
    "logging.getLogger(\"matplotlib\").setLevel(logging.WARNING)\n",
    "logging.getLogger(\"PIL\").setLevel(logging.WARNING)"
   ]
  },
  {
   "cell_type": "code",
   "execution_count": 6,
   "id": "4f8543e9",
   "metadata": {},
   "outputs": [],
   "source": [
    "# start qt event loop\n",
    "_instance = QApplication.instance()\n",
    "if not _instance:\n",
    "    _instance = QApplication([])\n",
    "app = _instance"
   ]
  },
  {
   "cell_type": "code",
   "execution_count": 19,
   "id": "a59a8ea2",
   "metadata": {},
   "outputs": [],
   "source": [
    "win = pg.GraphicsLayoutWidget(show=True)\n",
    "# To suppress qt.pointer.dispatch warning\n",
    "win.viewport().setAttribute(\n",
    "            QtCore.Qt.WidgetAttribute.WA_AcceptTouchEvents,\n",
    "            False,\n",
    "        )\n",
    "\n",
    "\n",
    "ax = win.addPlot(col=0)\n",
    "side_vb = win.addViewBox(col=1)\n",
    "side_vb.setYLink(ax.vb)\n"
   ]
  },
  {
   "cell_type": "code",
   "execution_count": 21,
   "id": "dabd7124",
   "metadata": {},
   "outputs": [
    {
     "name": "stdout",
     "output_type": "stream",
     "text": [
      "2023-03-22 10:58:29,261 DEBUG [zhunter.misc] Flux and uncertainty need to be rescaled (exponent: -1), rescaling them.\n",
      "2023-03-22 10:58:29,265 DEBUG [zhunter.misc] Flux and uncertainty need to be rescaled (exponent: -1), rescaling them.\n"
     ]
    }
   ],
   "source": [
    "# The fake data\n",
    "N_data = 100\n",
    "N_spat = 40\n",
    "wvlg = np.linspace(300, 900, N_data)\n",
    "spat = np.linspace(-10, 5, N_spat)\n",
    "flux = np.ones((wvlg.shape[0], spat.shape[0])) * np.exp(-(spat[int(N_spat/2)]-spat)**2/0.1)\n",
    "# add noise\n",
    "flux += np.random.normal(0, 0.1, size=(wvlg.shape[0], spat.shape[0]))\n",
    "# add an emission line\n",
    "flux[:,int(N_spat/2)] += sp.gaussian_fct(wvlg, mean=656.28, stddev=0.5, amplitude=3)\n",
    "flux = flux.T\n",
    "unc = flux*0.1\n",
    "wvlg_tell = wvlg\n",
    "wvlg_sky_bkg = wvlg\n",
    "tellurics = 1 - np.exp(-(wvlg-600)**2/(30)**2)\n",
    "sky_bkg = np.exp(-(wvlg-800)**2/(10)**2)\n",
    "\n",
    "data = DataHandler()\n",
    "data.load_2D(wvlg*u.nm, spat*u.arcsec, flux*ergscm2AA, unc*ergscm2AA)\n",
    "data.load_1D(wvlg*u.nm, np.sum(flux[17:23], axis=0)*ergscm2AA, np.sqrt(unc[17:23]**2).sum(axis=0)*ergscm2AA)\n"
   ]
  },
  {
   "cell_type": "code",
   "execution_count": 22,
   "id": "70949fe6",
   "metadata": {},
   "outputs": [],
   "source": [
    "spec_2D = pg.ImageItem()\n",
    "spec_2D.setImage(\n",
    "            data[\"flux_2D_disp\"].T.value,\n",
    "            levels=(data[\"q025_2D\"].value, data[\"q975_2D\"].value),\n",
    "        )\n",
    "ax.addItem(spec_2D)"
   ]
  },
  {
   "cell_type": "code",
   "execution_count": 23,
   "id": "3c20d69a",
   "metadata": {},
   "outputs": [],
   "source": [
    "rect = QtCore.QRectF(\n",
    "            data['wvlg_min'].value,      # lower edge of the first wvlg bin\n",
    "            data['spat_min'].value,      # lower edge of the first spatial bin\n",
    "            data['wvlg_span'].value,     # x-span of the rectangle\n",
    "            data['spat_span'].value,  # y-span of the rectangle\n",
    "        )\n",
    "\n",
    "spec_2D.setRect(rect)"
   ]
  },
  {
   "cell_type": "code",
   "execution_count": 24,
   "id": "dac09747",
   "metadata": {},
   "outputs": [],
   "source": [
    "spec = pg.PlotCurveItem(\n",
    "            np.zeros(2),\n",
    "            np.zeros(1),\n",
    "            stepMode=\"center\",\n",
    "    rotation=-90\n",
    "        )"
   ]
  },
  {
   "cell_type": "code",
   "execution_count": 25,
   "id": "c1223b8c",
   "metadata": {},
   "outputs": [],
   "source": [
    "y_dist = np.median(data[\"flux_2D_disp\"], axis=1)"
   ]
  },
  {
   "cell_type": "code",
   "execution_count": 28,
   "id": "31e1898f",
   "metadata": {},
   "outputs": [],
   "source": [
    "spec.setData(-data[\"spat_bins_disp\"].value, y_dist.value)\n",
    "side_vb.addItem(spec)"
   ]
  },
  {
   "cell_type": "code",
   "execution_count": 27,
   "id": "6d1fd96f",
   "metadata": {},
   "outputs": [],
   "source": [
    "spec.setRotation(-90)"
   ]
  },
  {
   "cell_type": "code",
   "execution_count": 15,
   "id": "279b9e4d",
   "metadata": {},
   "outputs": [],
   "source": [
    "ax.hideAxis('bottom')"
   ]
  },
  {
   "cell_type": "code",
   "execution_count": 7,
   "id": "51fbc49a",
   "metadata": {},
   "outputs": [
    {
     "data": {
      "text/plain": [
       "<PyQt6.QtWidgets.QComboBox at 0x18ac6f310>"
      ]
     },
     "execution_count": 7,
     "metadata": {},
     "output_type": "execute_result"
    }
   ],
   "source": [
    "cbb = QtWidgets.QComboBox()\n",
    "cbb"
   ]
  },
  {
   "cell_type": "code",
   "execution_count": 8,
   "id": "67c7e5c0",
   "metadata": {},
   "outputs": [],
   "source": [
    "cbb.show()"
   ]
  },
  {
   "cell_type": "code",
   "execution_count": 12,
   "id": "8036d5d1",
   "metadata": {},
   "outputs": [],
   "source": [
    "cbb.addItems(['1', '2', 'test'])"
   ]
  },
  {
   "cell_type": "code",
   "execution_count": 22,
   "id": "655495e0",
   "metadata": {},
   "outputs": [
    {
     "data": {
      "text/plain": [
       "100.72917826215429"
      ]
     },
     "execution_count": 22,
     "metadata": {},
     "output_type": "execute_result"
    }
   ],
   "source": [
    "np.random.normal(100)"
   ]
  },
  {
   "cell_type": "code",
   "execution_count": 23,
   "id": "4c719bba",
   "metadata": {},
   "outputs": [
    {
     "data": {
      "text/plain": [
       "(array([0.  , 0.  , 0.  , 0.  , 0.  , 0.  , 0.  , 0.  , 0.  , 0.  , 0.  ,\n",
       "        0.  , 0.  , 0.  , 0.  , 0.  , 0.  , 0.  , 0.  , 0.  , 0.  , 0.  ,\n",
       "        0.  , 0.  , 0.  , 0.  , 0.  , 0.  , 0.  , 0.04, 0.04, 0.04, 0.04,\n",
       "        0.08, 0.12, 0.2 , 0.12, 0.44, 0.44, 0.2 , 0.4 , 0.44, 0.48, 0.44,\n",
       "        0.12, 0.24, 0.08, 0.  , 0.  , 0.  , 0.04, 0.  , 0.  , 0.  , 0.  ,\n",
       "        0.  , 0.  , 0.  , 0.  , 0.  , 0.  , 0.  , 0.  , 0.  , 0.  , 0.  ,\n",
       "        0.  , 0.  , 0.  , 0.  , 0.  , 0.  , 0.  , 0.  , 0.  , 0.  , 0.  ,\n",
       "        0.  , 0.  , 0.  ]),\n",
       " array([-10.  ,  -9.75,  -9.5 ,  -9.25,  -9.  ,  -8.75,  -8.5 ,  -8.25,\n",
       "         -8.  ,  -7.75,  -7.5 ,  -7.25,  -7.  ,  -6.75,  -6.5 ,  -6.25,\n",
       "         -6.  ,  -5.75,  -5.5 ,  -5.25,  -5.  ,  -4.75,  -4.5 ,  -4.25,\n",
       "         -4.  ,  -3.75,  -3.5 ,  -3.25,  -3.  ,  -2.75,  -2.5 ,  -2.25,\n",
       "         -2.  ,  -1.75,  -1.5 ,  -1.25,  -1.  ,  -0.75,  -0.5 ,  -0.25,\n",
       "          0.  ,   0.25,   0.5 ,   0.75,   1.  ,   1.25,   1.5 ,   1.75,\n",
       "          2.  ,   2.25,   2.5 ,   2.75,   3.  ,   3.25,   3.5 ,   3.75,\n",
       "          4.  ,   4.25,   4.5 ,   4.75,   5.  ,   5.25,   5.5 ,   5.75,\n",
       "          6.  ,   6.25,   6.5 ,   6.75,   7.  ,   7.25,   7.5 ,   7.75,\n",
       "          8.  ,   8.25,   8.5 ,   8.75,   9.  ,   9.25,   9.5 ,   9.75,\n",
       "         10.  ]))"
      ]
     },
     "execution_count": 23,
     "metadata": {},
     "output_type": "execute_result"
    }
   ],
   "source": [
    "bins = np.linspace(-10, 10, int(20/0.25)+1)\n",
    "x = np.histogram(np.random.normal(size=100), bins, density=True)\n",
    "x"
   ]
  },
  {
   "cell_type": "code",
   "execution_count": 37,
   "id": "1fbce4d6",
   "metadata": {},
   "outputs": [],
   "source": [
    "zz = pg.InfiniteLine(2)"
   ]
  },
  {
   "cell_type": "code",
   "execution_count": 25,
   "id": "71b70127",
   "metadata": {},
   "outputs": [
    {
     "name": "stdout",
     "output_type": "stream",
     "text": [
      "2023-03-27 15:56:02,241 WARNING [astropy] UnitsWarning: 'erg/s/Hz' contains multiple slashes, which is discouraged by the FITS standard\n",
      "Lnu : 8.277722991913292e+27 erg / (Hz s)\n",
      "SFR :  1.076103988948728\n",
      "2023-03-27 15:56:02,244 INFO [astropalmerio.galaxies.properties] Using Planck 2018 cosmology from astropy : FlatLambdaCDM(name=\"Planck18\", H0=67.66 km / (Mpc s), Om0=0.30966, Tcmb0=2.7255 K, Neff=3.046, m_nu=[0.   0.   0.06] eV, Ob0=0.04897)\n"
     ]
    },
    {
     "name": "stderr",
     "output_type": "stream",
     "text": [
      "WARNING: UnitsWarning: 'erg/s/Hz' contains multiple slashes, which is discouraged by the FITS standard [astropy.units.format.generic]\n"
     ]
    },
    {
     "data": {
      "text/plain": [
       "1.113245130640815"
      ]
     },
     "execution_count": 25,
     "metadata": {},
     "output_type": "execute_result"
    }
   ],
   "source": [
    "import numpy as np\n",
    "import astropy.units as u\n",
    "from astropalmerio.galaxies import star_formation_rate\n",
    "M1600 = -18.2\n",
    "f_0 = 3.63078*10**9 * u.uJy\n",
    "L_nu = 4*np.pi * f_0 * (10 * u.parsec)**2  * 10**(-0.4*M1600)\n",
    "print(\"Lnu :\", L_nu.to(u.Unit('erg/s/Hz')))\n",
    "SFR = 1.3 * 10**(-28) * L_nu.to(u.Unit('erg/s/Hz'))\n",
    "print(\"SFR : \", SFR.value)\n",
    "star_formation_rate(2.3e-18,z=3.3467, normalization='Chabrier')"
   ]
  },
  {
   "cell_type": "code",
   "execution_count": 41,
   "id": "6c904d4c",
   "metadata": {},
   "outputs": [],
   "source": [
    "def aa(**args):\n",
    "    mean_guess = 10\n",
    "    means = args.get(\"mean\", mean_guess)\n",
    "    print(f\"got {means}\")\n",
    "    print(\"also\", *args)"
   ]
  },
  {
   "cell_type": "code",
   "execution_count": 42,
   "id": "954ee72f",
   "metadata": {},
   "outputs": [
    {
     "name": "stdout",
     "output_type": "stream",
     "text": [
      "got 2\n",
      "also mean\n"
     ]
    }
   ],
   "source": [
    "args = {}\n",
    "if zz.getPos()[0] != 0:\n",
    "    args['mean'] = zz.getPos()[0]\n",
    "    aa(**args)\n"
   ]
  },
  {
   "cell_type": "code",
   "execution_count": 56,
   "id": "d555edf7",
   "metadata": {},
   "outputs": [],
   "source": [
    "x = {\n",
    "    'test':3,\n",
    "    'ok_fit':2,\n",
    "    'blo_fit':'haha',\n",
    "    'zio_fit':9,\n",
    "}\n",
    "\n",
    "for k in list(x.keys()):\n",
    "    if '_fit' in k:\n",
    "        x.pop(k)"
   ]
  },
  {
   "cell_type": "code",
   "execution_count": 57,
   "id": "fe6f8d3d",
   "metadata": {},
   "outputs": [
    {
     "data": {
      "text/plain": [
       "{'test': 3}"
      ]
     },
     "execution_count": 57,
     "metadata": {},
     "output_type": "execute_result"
    }
   ],
   "source": [
    "x"
   ]
  },
  {
   "cell_type": "code",
   "execution_count": 22,
   "id": "a31564e5",
   "metadata": {
    "scrolled": true
   },
   "outputs": [
    {
     "data": {
      "text/latex": [
       "$0.25641026 \\; \\mathrm{{}^{\\prime\\prime}}$"
      ],
      "text/plain": [
       "<Quantity 0.25641026 arcsec>"
      ]
     },
     "execution_count": 22,
     "metadata": {},
     "output_type": "execute_result"
    }
   ],
   "source": [
    "dspat_1D = data['spat_1D_disp'][1]-data['spat_1D_disp'][0]\n",
    "dspat_1D"
   ]
  },
  {
   "cell_type": "code",
   "execution_count": 9,
   "id": "4317f56e",
   "metadata": {},
   "outputs": [],
   "source": [
    "brush = pg.mkBrush(colors[\"continuum\"]+'30')\n",
    "hoverbrush = pg.mkBrush(colors[\"continuum\"]+'60')\n",
    "cr.setBrush(brush)\n",
    "cr.setHoverBrush(hoverbrush)"
   ]
  },
  {
   "cell_type": "code",
   "execution_count": null,
   "id": "7310c799",
   "metadata": {},
   "outputs": [],
   "source": []
  },
  {
   "cell_type": "code",
   "execution_count": 10,
   "id": "9dd3027a",
   "metadata": {},
   "outputs": [
    {
     "name": "stderr",
     "output_type": "stream",
     "text": [
      "qt.pointer.dispatch: skipping QEventPoint(id=1 ts=0 pos=0,0 scn=589.975,393.389 gbl=589.975,393.389 Released ellipse=(1x1 ∡ 0) vel=0,0 press=-589.975,-393.389 last=-589.975,-393.389 Δ 589.975,393.389) : no target window\n"
     ]
    }
   ],
   "source": [
    "li = pg.LinearRegionItem()"
   ]
  },
  {
   "cell_type": "code",
   "execution_count": 97,
   "id": "b3e44f76",
   "metadata": {},
   "outputs": [
    {
     "ename": "ValueError",
     "evalue": "list.remove(x): x not in list",
     "output_type": "error",
     "traceback": [
      "\u001b[0;31m---------------------------------------------------------------------------\u001b[0m",
      "\u001b[0;31mValueError\u001b[0m                                Traceback (most recent call last)",
      "Cell \u001b[0;32mIn[97], line 1\u001b[0m\n\u001b[0;32m----> 1\u001b[0m \u001b[43mx\u001b[49m\u001b[38;5;241;43m.\u001b[39;49m\u001b[43mremove\u001b[49m\u001b[43m(\u001b[49m\u001b[38;5;124;43m'\u001b[39;49m\u001b[38;5;124;43m2\u001b[39;49m\u001b[38;5;124;43m'\u001b[39;49m\u001b[43m)\u001b[49m\n",
      "\u001b[0;31mValueError\u001b[0m: list.remove(x): x not in list"
     ]
    }
   ],
   "source": [
    "li."
   ]
  },
  {
   "cell_type": "code",
   "execution_count": 77,
   "id": "ecae0a9a",
   "metadata": {},
   "outputs": [],
   "source": []
  },
  {
   "cell_type": "code",
   "execution_count": 78,
   "id": "05b7cf78",
   "metadata": {},
   "outputs": [
    {
     "data": {
      "text/plain": [
       "['1', '2', '3']"
      ]
     },
     "execution_count": 78,
     "metadata": {},
     "output_type": "execute_result"
    }
   ],
   "source": [
    "x2"
   ]
  },
  {
   "cell_type": "code",
   "execution_count": null,
   "id": "39f69b80",
   "metadata": {},
   "outputs": [],
   "source": []
  }
 ],
 "metadata": {
  "kernelspec": {
   "display_name": "Python 3 (ipykernel)",
   "language": "python",
   "name": "python3"
  },
  "language_info": {
   "codemirror_mode": {
    "name": "ipython",
    "version": 3
   },
   "file_extension": ".py",
   "mimetype": "text/x-python",
   "name": "python",
   "nbconvert_exporter": "python",
   "pygments_lexer": "ipython3",
   "version": "3.9.16"
  }
 },
 "nbformat": 4,
 "nbformat_minor": 5
}
