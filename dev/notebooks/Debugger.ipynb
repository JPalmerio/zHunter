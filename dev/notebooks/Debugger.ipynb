{
 "cells": [
  {
   "cell_type": "code",
   "execution_count": 2,
   "id": "5bceae18",
   "metadata": {},
   "outputs": [],
   "source": [
    "%gui qt6\n",
    "\n",
    "# Qt6 stuff\n",
    "from PyQt6.QtWidgets import QApplication\n",
    "from PyQt6 import QtWidgets\n",
    "from PyQt6 import QtGui\n",
    "from PyQt6 import QtCore\n",
    "from PyQt6.QtCore import pyqtSignal\n",
    "\n",
    "# Plotting stuff\n",
    "import pyqtgraph as pg\n",
    "import matplotlib.pyplot as plt\n",
    "import cmasher as cmr\n",
    "\n",
    "# Science stuff\n",
    "import numpy as np\n",
    "import pandas as pd\n",
    "from spectres import spectres\n",
    "\n",
    "# Astropy stuff\n",
    "from astropy.io import fits\n",
    "from astropy.table import Table\n",
    "import astropy.units as u\n",
    "from astropy.units.quantity import Quantity\n",
    "from astropy.io.ascii import read as ascii_read\n",
    "\n",
    "# zHunter stuff\n",
    "from zhunter import DIRS\n",
    "from zhunter import io\n",
    "from zhunter.misc import set_up_linked_vb\n",
    "from zhunter.colors import get_gradient\n",
    "from zhunter.spectroscopic_system import SpecSystemModel, SpecSystem\n",
    "\n",
    "# General stuff\n",
    "import logging\n",
    "import sys\n",
    "from pathlib import Path\n",
    "from itertools import cycle"
   ]
  },
  {
   "cell_type": "code",
   "execution_count": 3,
   "id": "711848cf",
   "metadata": {},
   "outputs": [],
   "source": [
    "log = logging.getLogger(__name__)\n",
    "logging.basicConfig(stream=sys.stdout, level=logging.DEBUG,\n",
    "                    format='%(asctime)s %(levelname)s [%(name)s] %(message)s')\n",
    "logging.getLogger(\"matplotlib\").setLevel(logging.WARNING)\n",
    "logging.getLogger(\"PIL\").setLevel(logging.WARNING)"
   ]
  },
  {
   "cell_type": "code",
   "execution_count": 4,
   "id": "088afde0",
   "metadata": {},
   "outputs": [],
   "source": [
    "# start qt event loop\n",
    "_instance = QApplication.instance()\n",
    "if not _instance:\n",
    "    _instance = QApplication([])\n",
    "app = _instance"
   ]
  },
  {
   "cell_type": "code",
   "execution_count": 5,
   "id": "f61442cf",
   "metadata": {},
   "outputs": [],
   "source": [
    "from zhunter.colors import COLORS\n",
    "color_style = 'kraken9'\n",
    "colors = COLORS[color_style]"
   ]
  },
  {
   "cell_type": "code",
   "execution_count": 24,
   "id": "8d944baa",
   "metadata": {},
   "outputs": [
    {
     "name": "stdout",
     "output_type": "stream",
     "text": [
      "2023-03-16 17:48:43,155 DEBUG [__main__] keyPressEvent! Key: E, Mouse position: [302,242]\n"
     ]
    },
    {
     "name": "stderr",
     "output_type": "stream",
     "text": [
      "Traceback (most recent call last):\n",
      "  File \"/var/folders/r1/qchx86rn3tx643ytrjxf6pmm0000gn/T/ipykernel_17050/4241388917.py\", line 122, in keyPressEvent\n",
      "    for ax in self.axes:\n",
      "AttributeError: 'MainPlotWidget' object has no attribute 'axes'\n"
     ]
    },
    {
     "name": "stdout",
     "output_type": "stream",
     "text": [
      "2023-03-16 17:48:44,360 DEBUG [__main__] keyPressEvent! Key: E, Mouse position: [343,145]\n"
     ]
    },
    {
     "name": "stderr",
     "output_type": "stream",
     "text": [
      "Traceback (most recent call last):\n",
      "  File \"/var/folders/r1/qchx86rn3tx643ytrjxf6pmm0000gn/T/ipykernel_17050/4241388917.py\", line 122, in keyPressEvent\n",
      "    for ax in self.axes:\n",
      "AttributeError: 'MainPlotWidget' object has no attribute 'axes'\n"
     ]
    },
    {
     "name": "stdout",
     "output_type": "stream",
     "text": [
      "2023-03-16 17:48:44,787 DEBUG [__main__] keyPressEvent! Key: Q, Mouse position: [282,137]\n"
     ]
    },
    {
     "name": "stderr",
     "output_type": "stream",
     "text": [
      "Traceback (most recent call last):\n",
      "  File \"/var/folders/r1/qchx86rn3tx643ytrjxf6pmm0000gn/T/ipykernel_17050/4241388917.py\", line 122, in keyPressEvent\n",
      "    for ax in self.axes:\n",
      "AttributeError: 'MainPlotWidget' object has no attribute 'axes'\n"
     ]
    },
    {
     "name": "stdout",
     "output_type": "stream",
     "text": [
      "2023-03-16 17:48:45,114 DEBUG [__main__] keyPressEvent! Key: E, Mouse position: [190,382]\n"
     ]
    },
    {
     "name": "stderr",
     "output_type": "stream",
     "text": [
      "Traceback (most recent call last):\n",
      "  File \"/var/folders/r1/qchx86rn3tx643ytrjxf6pmm0000gn/T/ipykernel_17050/4241388917.py\", line 122, in keyPressEvent\n",
      "    for ax in self.axes:\n",
      "AttributeError: 'MainPlotWidget' object has no attribute 'axes'\n"
     ]
    }
   ],
   "source": [
    "# from pyqtgraph.Qt import QtCore\n",
    "from collections import defaultdict\n",
    "\n",
    "# Get key mappings from Qt namespace\n",
    "qt_keys = (\n",
    "    (getattr(QtCore.Qt.Key, attr), attr[4:])\n",
    "    for attr in dir(QtCore.Qt.Key)\n",
    "    if attr.startswith(\"Key_\")\n",
    ")\n",
    "keys_mapping = defaultdict(lambda: \"unknown\", qt_keys)\n",
    " \n",
    "    \n",
    "# Get event mappings from Qt namespace\n",
    "qt_events = (\n",
    "    (getattr(QtCore.QEvent.Type, event).name, getattr(QtCore.QEvent.Type, event).value)\n",
    "    for event in dir(QtCore.QEvent.Type)\n",
    "    if not event.startswith(\"_\")\n",
    ")\n",
    "events_mapping = defaultdict(lambda: \"unknown\", qt_events)\n",
    " "
   ]
  },
  {
   "cell_type": "code",
   "execution_count": null,
   "id": "4224cb19",
   "metadata": {},
   "outputs": [],
   "source": []
  },
  {
   "cell_type": "code",
   "execution_count": 33,
   "id": "02f52561",
   "metadata": {},
   "outputs": [],
   "source": [
    "class MainPlotWidget(pg.GraphicsLayoutWidget):\n",
    "    \"\"\"\n",
    "    Main Plot class which subclasses `GraphicsLayoutWidget` and\n",
    "    installs handling of key presses.\n",
    "    \"\"\"\n",
    "\n",
    "    def __init__(self, *args, **kwds):\n",
    "        super().__init__(*args, **kwds)\n",
    "        self.mousePoint = QtCore.QPointF()\n",
    "        # To suppress qt.dispatch warning\n",
    "        self.viewport().setAttribute(\n",
    "            QtCore.Qt.WidgetAttribute.WA_AcceptTouchEvents,\n",
    "            False,\n",
    "        )\n",
    "        # Connect scene mouse moved to own mouse point\n",
    "        # to keep track of mouse position at all times\n",
    "        # (used for knowing mouse position during keyPressEvents)\n",
    "        self.scene().sigMouseMoved.connect(self.update_mouse_pos)\n",
    "\n",
    "    def update_mouse_pos(self, pos):\n",
    "        self.mousePoint = self.mapFromScene(pos)\n",
    "\n",
    "    def eventFilter(self, widget, event):\n",
    "        if event.isExit():\n",
    "            print(event)\n",
    "        return QtWidgets.QWidget.eventFilter(self, widget, event)\n"
   ]
  },
  {
   "cell_type": "code",
   "execution_count": 34,
   "id": "3ff8d751",
   "metadata": {},
   "outputs": [
    {
     "name": "stderr",
     "output_type": "stream",
     "text": [
      "Traceback (most recent call last):\n",
      "  File \"/var/folders/r1/qchx86rn3tx643ytrjxf6pmm0000gn/T/ipykernel_17050/826727759.py\", line 24, in eventFilter\n",
      "    if event.isExit():\n",
      "AttributeError: 'QEvent' object has no attribute 'isExit'\n",
      "Traceback (most recent call last):\n",
      "  File \"/var/folders/r1/qchx86rn3tx643ytrjxf6pmm0000gn/T/ipykernel_17050/826727759.py\", line 24, in eventFilter\n",
      "    if event.isExit():\n",
      "AttributeError: 'QEvent' object has no attribute 'isExit'\n"
     ]
    }
   ],
   "source": [
    "win = MainPlotWidget(show=True)"
   ]
  },
  {
   "cell_type": "code",
   "execution_count": 30,
   "id": "37210c90",
   "metadata": {},
   "outputs": [
    {
     "name": "stdout",
     "output_type": "stream",
     "text": [
      "<PyQt6.QtCore.QEvent object at 0x18772cdc0>\n",
      "<PyQt6.QtCore.QEvent object at 0x187945f70>\n",
      "<PyQt6.QtGui.QInputMethodQueryEvent object at 0x187945f70>\n",
      "<PyQt6.QtGui.QFocusEvent object at 0x187945f70>\n",
      "<PyQt6.QtGui.QInputMethodQueryEvent object at 0x187945f70>\n",
      "<PyQt6.QtCore.QEvent object at 0x187945f70>\n",
      "<PyQt6.QtCore.QEvent object at 0x187945f70>\n",
      "<PyQt6.QtCore.QEvent object at 0x187945f70>\n",
      "<PyQt6.QtCore.QEvent object at 0x187945f70>\n",
      "<PyQt6.QtCore.QEvent object at 0x187945f70>\n",
      "<PyQt6.QtCore.QEvent object at 0x187945f70>\n",
      "<PyQt6.QtCore.QEvent object at 0x187945f70>\n",
      "<PyQt6.QtCore.QEvent object at 0x187945f70>\n",
      "<PyQt6.QtCore.QEvent object at 0x187945f70>\n",
      "<PyQt6.QtCore.QEvent object at 0x18772cdc0>\n",
      "<PyQt6.QtCore.QEvent object at 0x18772cdc0>\n",
      "<PyQt6.QtGui.QMoveEvent object at 0x18772cdc0>\n",
      "<PyQt6.QtCore.QEvent object at 0x18772cdc0>\n",
      "<PyQt6.QtCore.QEvent object at 0x18772cdc0>\n",
      "<PyQt6.QtCore.QEvent object at 0x18772cdc0>\n",
      "<PyQt6.QtCore.QEvent object at 0x18772cdc0>\n",
      "<PyQt6.QtCore.QEvent object at 0x18772cdc0>\n",
      "<PyQt6.QtCore.QEvent object at 0x18772cdc0>\n",
      "<PyQt6.QtCore.QEvent object at 0x18772cdc0>\n",
      "<PyQt6.QtGui.QMoveEvent object at 0x18772cdc0>\n",
      "<PyQt6.QtCore.QEvent object at 0x18772cdc0>\n",
      "<PyQt6.QtCore.QEvent object at 0x18772cdc0>\n",
      "<PyQt6.QtCore.QEvent object at 0x18772cdc0>\n",
      "<PyQt6.QtCore.QEvent object at 0x18772cdc0>\n",
      "<PyQt6.QtCore.QEvent object at 0x187945f70>\n",
      "<PyQt6.QtCore.QEvent object at 0x187945f70>\n",
      "<PyQt6.QtCore.QEvent object at 0x187945f70>\n",
      "<PyQt6.QtGui.QMoveEvent object at 0x187945f70>\n",
      "<PyQt6.QtCore.QEvent object at 0x187945f70>\n",
      "<PyQt6.QtCore.QEvent object at 0x187945f70>\n",
      "<PyQt6.QtCore.QEvent object at 0x187945f70>\n",
      "<PyQt6.QtCore.QEvent object at 0x187945f70>\n",
      "<PyQt6.QtCore.QEvent object at 0x187945f70>\n",
      "<PyQt6.QtCore.QEvent object at 0x187945f70>\n",
      "<PyQt6.QtGui.QMoveEvent object at 0x187945f70>\n",
      "<PyQt6.QtCore.QEvent object at 0x18772cdc0>\n",
      "<PyQt6.QtCore.QEvent object at 0x18772cdc0>\n",
      "<PyQt6.QtCore.QEvent object at 0x18772cdc0>\n",
      "<PyQt6.QtCore.QEvent object at 0x18772cdc0>\n",
      "<PyQt6.QtGui.QMoveEvent object at 0x18772cdc0>\n",
      "<PyQt6.QtCore.QEvent object at 0x18772cdc0>\n",
      "<PyQt6.QtCore.QEvent object at 0x18772cdc0>\n",
      "<PyQt6.QtCore.QEvent object at 0x18772cdc0>\n",
      "<PyQt6.QtCore.QEvent object at 0x18772cdc0>\n",
      "<PyQt6.QtCore.QEvent object at 0x18772cdc0>\n",
      "<PyQt6.QtCore.QEvent object at 0x187945f70>\n",
      "<PyQt6.QtCore.QEvent object at 0x187945f70>\n",
      "<PyQt6.QtCore.QEvent object at 0x187945f70>\n",
      "<PyQt6.QtCore.QEvent object at 0x187945f70>\n",
      "<PyQt6.QtCore.QEvent object at 0x187945f70>\n",
      "<PyQt6.QtCore.QEvent object at 0x187945f70>\n",
      "<PyQt6.QtCore.QEvent object at 0x187945f70>\n",
      "<PyQt6.QtCore.QEvent object at 0x187945f70>\n",
      "<PyQt6.QtCore.QEvent object at 0x187945f70>\n",
      "<PyQt6.QtCore.QEvent object at 0x187945f70>\n",
      "<PyQt6.QtCore.QEvent object at 0x187945f70>\n",
      "<PyQt6.QtCore.QEvent object at 0x187945f70>\n",
      "<PyQt6.QtCore.QEvent object at 0x187945f70>\n",
      "<PyQt6.QtCore.QEvent object at 0x187945f70>\n",
      "<PyQt6.QtCore.QEvent object at 0x187945f70>\n",
      "<PyQt6.QtCore.QEvent object at 0x187945f70>\n",
      "<PyQt6.QtGui.QEnterEvent object at 0x18772cdc0>\n",
      "<PyQt6.QtCore.QEvent object at 0x187945f70>\n",
      "<PyQt6.QtGui.QEnterEvent object at 0x18772cdc0>\n",
      "<PyQt6.QtCore.QEvent object at 0x18782adc0>\n",
      "<PyQt6.QtCore.QEvent object at 0x187945f70>\n",
      "<PyQt6.QtCore.QEvent object at 0x187945f70>\n",
      "<PyQt6.QtCore.QEvent object at 0x18782adc0>\n",
      "<PyQt6.QtCore.QEvent object at 0x18782adc0>\n",
      "<PyQt6.QtCore.QEvent object at 0x18782adc0>\n",
      "<PyQt6.QtCore.QEvent object at 0x18782adc0>\n",
      "<PyQt6.QtCore.QEvent object at 0x18782adc0>\n",
      "<PyQt6.QtCore.QEvent object at 0x18782adc0>\n",
      "<PyQt6.QtCore.QEvent object at 0x18782adc0>\n",
      "<PyQt6.QtCore.QEvent object at 0x18782adc0>\n",
      "<PyQt6.QtCore.QEvent object at 0x18782adc0>\n",
      "<PyQt6.QtCore.QEvent object at 0x18782adc0>\n",
      "<PyQt6.QtCore.QEvent object at 0x18782adc0>\n",
      "<PyQt6.QtCore.QEvent object at 0x18782adc0>\n",
      "<PyQt6.QtCore.QEvent object at 0x18782adc0>\n",
      "<PyQt6.QtCore.QEvent object at 0x18782adc0>\n",
      "<PyQt6.QtCore.QEvent object at 0x18782adc0>\n",
      "<PyQt6.QtCore.QEvent object at 0x18782adc0>\n",
      "<PyQt6.QtCore.QEvent object at 0x18782adc0>\n",
      "<PyQt6.QtCore.QEvent object at 0x18782adc0>\n",
      "<PyQt6.QtCore.QEvent object at 0x18782adc0>\n",
      "<PyQt6.QtCore.QEvent object at 0x18782adc0>\n",
      "<PyQt6.QtCore.QEvent object at 0x18782adc0>\n",
      "<PyQt6.QtCore.QEvent object at 0x18772cdc0>\n",
      "<PyQt6.QtCore.QEvent object at 0x187945f70>\n",
      "<PyQt6.QtCore.QEvent object at 0x187945f70>\n",
      "<PyQt6.QtCore.QEvent object at 0x187945f70>\n",
      "<PyQt6.QtCore.QEvent object at 0x18782adc0>\n",
      "<PyQt6.QtCore.QEvent object at 0x18782adc0>\n",
      "<PyQt6.QtCore.QEvent object at 0x18772cdc0>\n",
      "<PyQt6.QtCore.QEvent object at 0x18772cdc0>\n",
      "<PyQt6.QtCore.QEvent object at 0x18772cdc0>\n",
      "<PyQt6.QtCore.QEvent object at 0x18772cdc0>\n",
      "<PyQt6.QtCore.QEvent object at 0x18772cdc0>\n",
      "<PyQt6.QtCore.QEvent object at 0x18772cdc0>\n",
      "<PyQt6.QtCore.QEvent object at 0x18772cdc0>\n",
      "<PyQt6.QtCore.QEvent object at 0x18772cdc0>\n",
      "<PyQt6.QtCore.QEvent object at 0x187945f70>\n",
      "<PyQt6.QtCore.QEvent object at 0x18782adc0>\n",
      "<PyQt6.QtCore.QEvent object at 0x18782adc0>\n",
      "<PyQt6.QtGui.QCloseEvent object at 0x18782adc0>\n",
      "<PyQt6.QtCore.QEvent object at 0x18782adc0>\n",
      "<PyQt6.QtCore.QEvent object at 0x18782adc0>\n",
      "<PyQt6.QtCore.QEvent object at 0x18782adc0>\n",
      "<PyQt6.QtGui.QFocusEvent object at 0x18782adc0>\n",
      "<PyQt6.QtGui.QHideEvent object at 0x18782adc0>\n",
      "<PyQt6.QtCore.QEvent object at 0x18782adc0>\n",
      "<PyQt6.QtCore.QEvent object at 0x18782adc0>\n",
      "<PyQt6.QtGui.QPlatformSurfaceEvent object at 0x18782adc0>\n",
      "<PyQt6.QtCore.QEvent object at 0x18782adc0>\n",
      "<PyQt6.QtCore.QEvent object at 0x18782adc0>\n",
      "<PyQt6.QtGui.QEnterEvent object at 0x18782adc0>\n"
     ]
    }
   ],
   "source": [
    "win.installEventFilter(win)"
   ]
  },
  {
   "cell_type": "code",
   "execution_count": 8,
   "id": "f4d1f0e6",
   "metadata": {},
   "outputs": [],
   "source": [
    "def ev_catcher(*args):\n",
    "    print(\"Got signal !\")\n",
    "    print(args)"
   ]
  },
  {
   "cell_type": "code",
   "execution_count": 35,
   "id": "32268d0d",
   "metadata": {},
   "outputs": [
    {
     "data": {
      "text/plain": [
       "<Type.KeyPress: 6>"
      ]
     },
     "execution_count": 35,
     "metadata": {},
     "output_type": "execute_result"
    }
   ],
   "source": [
    "ev = getattr(QtCore.QEvent.Type, 'KeyPress')\n",
    "ev"
   ]
  },
  {
   "cell_type": "code",
   "execution_count": 36,
   "id": "54463f90",
   "metadata": {
    "scrolled": true
   },
   "outputs": [
    {
     "data": {
      "text/plain": [
       "defaultdict(<function __main__.<lambda>()>,\n",
       "            {'ActionAdded': 114,\n",
       "             'ActionChanged': 113,\n",
       "             'ActionRemoved': 115,\n",
       "             'ActivationChange': 99,\n",
       "             'ApplicationActivate': 121,\n",
       "             'ApplicationDeactivate': 122,\n",
       "             'ApplicationFontChange': 36,\n",
       "             'ApplicationLayoutDirectionChange': 37,\n",
       "             'ApplicationPaletteChange': 38,\n",
       "             'ApplicationStateChange': 214,\n",
       "             'ApplicationWindowIconChange': 35,\n",
       "             'ChildAdded': 68,\n",
       "             'ChildPolished': 69,\n",
       "             'ChildRemoved': 71,\n",
       "             'Clipboard': 40,\n",
       "             'Close': 19,\n",
       "             'CloseSoftwareInputPanel': 200,\n",
       "             'ContentsRectChange': 178,\n",
       "             'ContextMenu': 82,\n",
       "             'CursorChange': 183,\n",
       "             'DeferredDelete': 52,\n",
       "             'DragEnter': 60,\n",
       "             'DragLeave': 62,\n",
       "             'DragMove': 61,\n",
       "             'Drop': 63,\n",
       "             'DynamicPropertyChange': 170,\n",
       "             'EnabledChange': 98,\n",
       "             'Enter': 10,\n",
       "             'EnterWhatsThisMode': 124,\n",
       "             'Expose': 206,\n",
       "             'FileOpen': 116,\n",
       "             'FocusAboutToChange': 23,\n",
       "             'FocusIn': 8,\n",
       "             'FocusOut': 9,\n",
       "             'FontChange': 97,\n",
       "             'Gesture': 198,\n",
       "             'GestureOverride': 202,\n",
       "             'GrabKeyboard': 188,\n",
       "             'GrabMouse': 186,\n",
       "             'GraphicsSceneContextMenu': 159,\n",
       "             'GraphicsSceneDragEnter': 164,\n",
       "             'GraphicsSceneDragLeave': 166,\n",
       "             'GraphicsSceneDragMove': 165,\n",
       "             'GraphicsSceneDrop': 167,\n",
       "             'GraphicsSceneHelp': 163,\n",
       "             'GraphicsSceneHoverEnter': 160,\n",
       "             'GraphicsSceneHoverLeave': 162,\n",
       "             'GraphicsSceneHoverMove': 161,\n",
       "             'GraphicsSceneLeave': 220,\n",
       "             'GraphicsSceneMouseDoubleClick': 158,\n",
       "             'GraphicsSceneMouseMove': 155,\n",
       "             'GraphicsSceneMousePress': 156,\n",
       "             'GraphicsSceneMouseRelease': 157,\n",
       "             'GraphicsSceneMove': 182,\n",
       "             'GraphicsSceneResize': 181,\n",
       "             'GraphicsSceneWheel': 168,\n",
       "             'Hide': 18,\n",
       "             'HideToParent': 27,\n",
       "             'HoverEnter': 127,\n",
       "             'HoverLeave': 128,\n",
       "             'HoverMove': 129,\n",
       "             'IconDrag': 96,\n",
       "             'IconTextChange': 101,\n",
       "             'InputMethod': 83,\n",
       "             'InputMethodQuery': 207,\n",
       "             'KeyPress': 6,\n",
       "             'KeyRelease': 7,\n",
       "             'KeyboardLayoutChange': 169,\n",
       "             'LanguageChange': 89,\n",
       "             'LayoutDirectionChange': 90,\n",
       "             'LayoutRequest': 76,\n",
       "             'Leave': 11,\n",
       "             'LeaveWhatsThisMode': 125,\n",
       "             'LocaleChange': 88,\n",
       "             'MacSizeChange': 177,\n",
       "             'MaxUser': 65535,\n",
       "             'MetaCall': 43,\n",
       "             'ModifiedChange': 102,\n",
       "             'MouseButtonDblClick': 4,\n",
       "             'MouseButtonPress': 2,\n",
       "             'MouseButtonRelease': 3,\n",
       "             'MouseMove': 5,\n",
       "             'MouseTrackingChange': 109,\n",
       "             'Move': 13,\n",
       "             'NonClientAreaMouseButtonDblClick': 176,\n",
       "             'NonClientAreaMouseButtonPress': 174,\n",
       "             'NonClientAreaMouseButtonRelease': 175,\n",
       "             'NonClientAreaMouseMove': 173,\n",
       "             'None_': 0,\n",
       "             'OkRequest': 94,\n",
       "             'OrientationChange': 208,\n",
       "             'Paint': 12,\n",
       "             'PaletteChange': 39,\n",
       "             'ParentAboutToChange': 131,\n",
       "             'ParentChange': 21,\n",
       "             'PlatformPanel': 212,\n",
       "             'PlatformSurface': 217,\n",
       "             'Polish': 75,\n",
       "             'PolishRequest': 74,\n",
       "             'QueryWhatsThis': 123,\n",
       "             'ReadOnlyChange': 106,\n",
       "             'RequestSoftwareInputPanel': 199,\n",
       "             'Resize': 14,\n",
       "             'Scroll': 205,\n",
       "             'ScrollPrepare': 204,\n",
       "             'Shortcut': 117,\n",
       "             'ShortcutOverride': 51,\n",
       "             'Show': 17,\n",
       "             'ShowToParent': 26,\n",
       "             'SockAct': 50,\n",
       "             'StateMachineSignal': 192,\n",
       "             'StateMachineWrapped': 193,\n",
       "             'StatusTip': 112,\n",
       "             'StyleChange': 100,\n",
       "             'TabletEnterProximity': 171,\n",
       "             'TabletLeaveProximity': 172,\n",
       "             'TabletMove': 87,\n",
       "             'TabletPress': 92,\n",
       "             'TabletRelease': 93,\n",
       "             'TabletTrackingChange': 219,\n",
       "             'ThreadChange': 22,\n",
       "             'Timer': 1,\n",
       "             'ToolBarChange': 120,\n",
       "             'ToolTip': 110,\n",
       "             'ToolTipChange': 184,\n",
       "             'TouchBegin': 194,\n",
       "             'TouchCancel': 209,\n",
       "             'TouchEnd': 196,\n",
       "             'TouchUpdate': 195,\n",
       "             'UngrabKeyboard': 189,\n",
       "             'UngrabMouse': 187,\n",
       "             'UpdateLater': 78,\n",
       "             'UpdateRequest': 77,\n",
       "             'User': 1000,\n",
       "             'WhatsThis': 111,\n",
       "             'WhatsThisClicked': 118,\n",
       "             'Wheel': 31,\n",
       "             'WinEventAct': 132,\n",
       "             'WinIdChange': 203,\n",
       "             'WindowActivate': 24,\n",
       "             'WindowBlocked': 103,\n",
       "             'WindowDeactivate': 25,\n",
       "             'WindowIconChange': 34,\n",
       "             'WindowStateChange': 105,\n",
       "             'WindowTitleChange': 33,\n",
       "             'WindowUnblocked': 104,\n",
       "             'ZOrderChange': 126})"
      ]
     },
     "execution_count": 36,
     "metadata": {},
     "output_type": "execute_result"
    }
   ],
   "source": [
    "events_mapping"
   ]
  },
  {
   "cell_type": "code",
   "execution_count": 37,
   "id": "1da63485",
   "metadata": {},
   "outputs": [],
   "source": [
    "sb = QtWidgets.QStatusBar()"
   ]
  },
  {
   "cell_type": "code",
   "execution_count": null,
   "id": "869e2b87",
   "metadata": {},
   "outputs": [],
   "source": [
    "sb.clearMessage"
   ]
  },
  {
   "cell_type": "code",
   "execution_count": 31,
   "id": "3d7e1b1f",
   "metadata": {},
   "outputs": [],
   "source": [
    "scene = win.scene()"
   ]
  },
  {
   "cell_type": "code",
   "execution_count": 33,
   "id": "b53eb1b5",
   "metadata": {
    "scrolled": true
   },
   "outputs": [
    {
     "data": {
      "text/plain": [
       "<PyQt6.QtCore.QMetaObject.Connection at 0x1837e8c80>"
      ]
     },
     "execution_count": 33,
     "metadata": {},
     "output_type": "execute_result"
    },
    {
     "name": "stdout",
     "output_type": "stream",
     "text": [
      "Got signal !\n",
      "(PyQt6.QtCore.QPointF(289.0, 233.0),)\n",
      "Got signal !\n",
      "(PyQt6.QtCore.QPointF(289.0, 233.0),)\n",
      "Got signal !\n",
      "(PyQt6.QtCore.QPointF(289.0, 230.0),)\n",
      "Got signal !\n",
      "(PyQt6.QtCore.QPointF(292.0, 225.0),)\n",
      "Got signal !\n",
      "(PyQt6.QtCore.QPointF(292.0, 223.0),)\n",
      "Got signal !\n",
      "(PyQt6.QtCore.QPointF(293.0, 220.0),)\n",
      "Got signal !\n",
      "(PyQt6.QtCore.QPointF(294.0, 216.0),)\n",
      "Got signal !\n",
      "(PyQt6.QtCore.QPointF(294.0, 214.0),)\n",
      "Got signal !\n",
      "(PyQt6.QtCore.QPointF(294.0, 212.0),)\n",
      "Got signal !\n",
      "(PyQt6.QtCore.QPointF(294.0, 212.0),)\n",
      "Got signal !\n",
      "(PyQt6.QtCore.QPointF(294.0, 211.0),)\n",
      "Got signal !\n",
      "(PyQt6.QtCore.QPointF(294.0, 211.0),)\n",
      "Got signal !\n",
      "(PyQt6.QtCore.QPointF(292.0, 210.0),)\n",
      "Got signal !\n",
      "(PyQt6.QtCore.QPointF(289.0, 208.0),)\n",
      "Got signal !\n",
      "(PyQt6.QtCore.QPointF(286.0, 205.0),)\n",
      "Got signal !\n",
      "(PyQt6.QtCore.QPointF(282.0, 204.0),)\n",
      "Got signal !\n",
      "(PyQt6.QtCore.QPointF(276.0, 201.0),)\n",
      "Got signal !\n",
      "(PyQt6.QtCore.QPointF(271.0, 198.0),)\n",
      "Got signal !\n",
      "(PyQt6.QtCore.QPointF(262.0, 196.0),)\n",
      "Got signal !\n",
      "(PyQt6.QtCore.QPointF(257.0, 195.0),)\n",
      "Got signal !\n",
      "(PyQt6.QtCore.QPointF(250.0, 195.0),)\n",
      "Got signal !\n",
      "(PyQt6.QtCore.QPointF(243.0, 195.0),)\n",
      "Got signal !\n",
      "(PyQt6.QtCore.QPointF(237.0, 195.0),)\n",
      "Got signal !\n",
      "(PyQt6.QtCore.QPointF(231.0, 195.0),)\n",
      "Got signal !\n",
      "(PyQt6.QtCore.QPointF(226.0, 195.0),)\n",
      "Got signal !\n",
      "(PyQt6.QtCore.QPointF(219.0, 196.0),)\n",
      "Got signal !\n",
      "(PyQt6.QtCore.QPointF(212.0, 199.0),)\n",
      "Got signal !\n",
      "(PyQt6.QtCore.QPointF(207.0, 201.0),)\n",
      "Got signal !\n",
      "(PyQt6.QtCore.QPointF(202.0, 204.0),)\n",
      "Got signal !\n",
      "(PyQt6.QtCore.QPointF(196.0, 208.0),)\n",
      "Got signal !\n",
      "(PyQt6.QtCore.QPointF(190.0, 213.0),)\n",
      "Got signal !\n",
      "(PyQt6.QtCore.QPointF(187.0, 217.0),)\n",
      "Got signal !\n",
      "(PyQt6.QtCore.QPointF(181.0, 223.0),)\n",
      "Got signal !\n",
      "(PyQt6.QtCore.QPointF(176.0, 229.0),)\n",
      "Got signal !\n",
      "(PyQt6.QtCore.QPointF(172.0, 236.0),)\n",
      "Got signal !\n",
      "(PyQt6.QtCore.QPointF(166.0, 245.0),)\n",
      "Got signal !\n",
      "(PyQt6.QtCore.QPointF(162.0, 251.0),)\n",
      "Got signal !\n",
      "(PyQt6.QtCore.QPointF(158.0, 259.0),)\n",
      "Got signal !\n",
      "(PyQt6.QtCore.QPointF(154.0, 266.0),)\n",
      "Got signal !\n",
      "(PyQt6.QtCore.QPointF(150.0, 274.0),)\n",
      "Got signal !\n",
      "(PyQt6.QtCore.QPointF(148.0, 281.0),)\n",
      "Got signal !\n",
      "(PyQt6.QtCore.QPointF(146.0, 286.0),)\n",
      "Got signal !\n",
      "(PyQt6.QtCore.QPointF(146.0, 292.0),)\n",
      "Got signal !\n",
      "(PyQt6.QtCore.QPointF(146.0, 295.0),)\n",
      "Got signal !\n",
      "(PyQt6.QtCore.QPointF(146.0, 297.0),)\n",
      "Got signal !\n",
      "(PyQt6.QtCore.QPointF(146.0, 299.0),)\n",
      "Got signal !\n",
      "(PyQt6.QtCore.QPointF(147.0, 300.0),)\n",
      "Got signal !\n",
      "(PyQt6.QtCore.QPointF(149.0, 302.0),)\n",
      "Got signal !\n",
      "(PyQt6.QtCore.QPointF(152.0, 303.0),)\n",
      "Got signal !\n",
      "(PyQt6.QtCore.QPointF(156.0, 305.0),)\n",
      "Got signal !\n",
      "(PyQt6.QtCore.QPointF(159.0, 307.0),)\n",
      "Got signal !\n",
      "(PyQt6.QtCore.QPointF(162.0, 309.0),)\n",
      "Got signal !\n",
      "(PyQt6.QtCore.QPointF(165.0, 311.0),)\n",
      "Got signal !\n",
      "(PyQt6.QtCore.QPointF(167.0, 312.0),)\n",
      "Got signal !\n",
      "(PyQt6.QtCore.QPointF(169.0, 313.0),)\n",
      "Got signal !\n",
      "(PyQt6.QtCore.QPointF(169.0, 313.0),)\n",
      "Got signal !\n",
      "(PyQt6.QtCore.QPointF(170.0, 314.0),)\n",
      "Got signal !\n",
      "(PyQt6.QtCore.QPointF(170.0, 314.0),)\n",
      "Got signal !\n",
      "(PyQt6.QtCore.QPointF(169.0, 315.0),)\n",
      "Got signal !\n",
      "(PyQt6.QtCore.QPointF(142.0, 328.0),)\n",
      "Got signal !\n",
      "(PyQt6.QtCore.QPointF(83.0, 362.0),)\n"
     ]
    }
   ],
   "source": [
    "scene.sigMouseMoved.connect(ev_catcher)"
   ]
  },
  {
   "cell_type": "code",
   "execution_count": 46,
   "id": "9f4538bd",
   "metadata": {},
   "outputs": [
    {
     "data": {
      "text/plain": [
       "<PyQt6.QtCore.QMetaObject.Connection at 0x186a2f580>"
      ]
     },
     "execution_count": 46,
     "metadata": {},
     "output_type": "execute_result"
    },
    {
     "name": "stdout",
     "output_type": "stream",
     "text": [
      "Got signal !\n",
      "(<MouseClickEvent (117.312,69) button=MouseButton.LeftButton>,)\n",
      "Got signal !\n",
      "(<MouseClickEvent (126.312,115) button=MouseButton.RightButton>,)\n",
      "Got signal !\n",
      "(<MouseClickEvent (130.526,122) button=MouseButton.LeftButton>,)\n",
      "Got signal !\n",
      "(<MouseClickEvent (193.312,87) button=MouseButton.LeftButton>,)\n",
      "Got signal !\n",
      "(<MouseClickEvent (13,18) button=MouseButton.LeftButton>,)\n",
      "Got signal !\n",
      "(<MouseClickEvent (619,466) button=MouseButton.LeftButton>,)\n"
     ]
    }
   ],
   "source": [
    "scene.sigMouseClicked.connect(ev_catcher)"
   ]
  },
  {
   "cell_type": "code",
   "execution_count": null,
   "id": "e7bf4448",
   "metadata": {},
   "outputs": [],
   "source": []
  }
 ],
 "metadata": {
  "kernelspec": {
   "display_name": "Python 3 (ipykernel)",
   "language": "python",
   "name": "python3"
  },
  "language_info": {
   "codemirror_mode": {
    "name": "ipython",
    "version": 3
   },
   "file_extension": ".py",
   "mimetype": "text/x-python",
   "name": "python",
   "nbconvert_exporter": "python",
   "pygments_lexer": "ipython3",
   "version": "3.9.16"
  }
 },
 "nbformat": 4,
 "nbformat_minor": 5
}
